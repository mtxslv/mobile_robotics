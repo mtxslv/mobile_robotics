{
 "cells": [
  {
   "cell_type": "code",
   "execution_count": 1,
   "metadata": {},
   "outputs": [
    {
     "name": "stdout",
     "output_type": "stream",
     "text": [
      "za warudo\n"
     ]
    }
   ],
   "source": [
    "print('za warudo')"
   ]
  },
  {
   "cell_type": "code",
   "execution_count": 2,
   "metadata": {},
   "outputs": [],
   "source": [
    "import sim"
   ]
  },
  {
   "cell_type": "code",
   "execution_count": 3,
   "metadata": {},
   "outputs": [],
   "source": [
    "sim.simxFinish(-1) # just in case, close all opened connections\n",
    "clientID=sim.simxStart('127.0.0.1',19999,True,True,5000,5) # Connect to CoppeliaSim\n"
   ]
  },
  {
   "cell_type": "code",
   "execution_count": 4,
   "metadata": {},
   "outputs": [
    {
     "name": "stdout",
     "output_type": "stream",
     "text": [
      "0\n"
     ]
    }
   ],
   "source": [
    "print(clientID)"
   ]
  },
  {
   "cell_type": "code",
   "execution_count": 5,
   "metadata": {},
   "outputs": [],
   "source": [
    "error_code_left_motor, left_motor_handle =  sim.simxGetObjectHandle(clientID= clientID, \n",
    "                                                                            objectName=\"./leftMotor\",\n",
    "                                                                            operationMode=sim.simx_opmode_blocking)"
   ]
  },
  {
   "cell_type": "code",
   "execution_count": 6,
   "metadata": {},
   "outputs": [],
   "source": [
    "error_code_right_motor, right_motor_handle =  sim.simxGetObjectHandle(clientID= clientID, \n",
    "                                                                            objectName=\"./rightMotor\",\n",
    "                                                                            operationMode=sim.simx_opmode_blocking)                                                                            \n"
   ]
  },
  {
   "cell_type": "code",
   "execution_count": 7,
   "metadata": {},
   "outputs": [],
   "source": [
    "error_code_caster_handle, caster_handle  =  sim.simxGetObjectHandle(clientID= clientID, \n",
    "                                                                            objectName=\"./PioneerP3DX/caster_freeJoint\",\n",
    "                                                                            operationMode=sim.simx_opmode_blocking)                                                                            \n"
   ]
  },
  {
   "cell_type": "code",
   "execution_count": 12,
   "metadata": {},
   "outputs": [
    {
     "data": {
      "text/plain": [
       "1"
      ]
     },
     "execution_count": 12,
     "metadata": {},
     "output_type": "execute_result"
    }
   ],
   "source": [
    "sim.simxSetJointTargetVelocity(clientID=clientID,jointHandle=left_motor_handle,\n",
    "                                targetVelocity=1,operationMode=sim.simx_opmode_streaming)"
   ]
  }
 ],
 "metadata": {
  "interpreter": {
   "hash": "06cb3b751f7e15a6f30ad54cb36c69467f5ed7dd559b12f0f90598c0f8af61e8"
  },
  "kernelspec": {
   "display_name": "Python 3.10.2 64-bit ('3.10.2')",
   "language": "python",
   "name": "python3"
  },
  "language_info": {
   "codemirror_mode": {
    "name": "ipython",
    "version": 3
   },
   "file_extension": ".py",
   "mimetype": "text/x-python",
   "name": "python",
   "nbconvert_exporter": "python",
   "pygments_lexer": "ipython3",
   "version": "3.10.2"
  },
  "orig_nbformat": 4
 },
 "nbformat": 4,
 "nbformat_minor": 2
}
