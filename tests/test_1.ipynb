{
 "cells": [
  {
   "cell_type": "code",
   "execution_count": 69,
   "metadata": {},
   "outputs": [],
   "source": [
    "this_file_name = 'test_1.ipynb'\n",
    "import sys\n",
    "import os\n",
    "sys.path.insert(0, os.path.abspath(\n",
    "    os.path.join(os.path.dirname(this_file_name), '../src/') ))\n",
    "from utils import *"
   ]
  },
  {
   "cell_type": "code",
   "execution_count": 70,
   "metadata": {},
   "outputs": [
    {
     "name": "stdout",
     "output_type": "stream",
     "text": [
      "Connected to remote API server\n",
      "Number of objects in the scene:  57\n"
     ]
    }
   ],
   "source": [
    "clientID = connect_2_sim()\n",
    "test_connection(clientID)"
   ]
  },
  {
   "cell_type": "code",
   "execution_count": 71,
   "metadata": {},
   "outputs": [
    {
     "name": "stdout",
     "output_type": "stream",
     "text": [
      "motor handles successfully retrieved!\n"
     ]
    }
   ],
   "source": [
    "left_motor_handle, right_motor_handle = get_pioneer3DX_motor_handles_(clientID)"
   ]
  },
  {
   "cell_type": "code",
   "execution_count": 72,
   "metadata": {},
   "outputs": [
    {
     "name": "stdout",
     "output_type": "stream",
     "text": [
      "return_value_left_motor_control == 0 and return_value_right_motor_control == 0\n",
      "return_value_left_motor_control == 0 and return_value_right_motor_control == 0\n"
     ]
    }
   ],
   "source": [
    "return_value_left_motor_control, return_value_right_motor_control = robot_run(\n",
    "    clientID, left_motor_handle, right_motor_handle, 1, 1)\n",
    "print(\n",
    "    f'return_value_left_motor_control == {return_value_left_motor_control} and return_value_right_motor_control == {return_value_right_motor_control}')\n",
    "time.sleep(5)\n",
    "return_value_left_motor_control, return_value_right_motor_control = robot_run(\n",
    "    clientID, left_motor_handle, right_motor_handle, -1, -1)\n",
    "print(\n",
    "    f'return_value_left_motor_control == {return_value_left_motor_control} and return_value_right_motor_control == {return_value_right_motor_control}')\n",
    "time.sleep(5)"
   ]
  },
  {
   "cell_type": "code",
   "execution_count": 73,
   "metadata": {},
   "outputs": [
    {
     "name": "stdout",
     "output_type": "stream",
     "text": [
      "return_value_left_motor_control == 0 and return_value_right_motor_control == 0\n"
     ]
    }
   ],
   "source": [
    "\n",
    "return_value_left_motor_control, return_value_right_motor_control = robot_run(\n",
    "    clientID, left_motor_handle, right_motor_handle, 0, 0)\n",
    "print(\n",
    "    f'return_value_left_motor_control == {return_value_left_motor_control} and return_value_right_motor_control == {return_value_right_motor_control}')\n"
   ]
  },
  {
   "cell_type": "code",
   "execution_count": 74,
   "metadata": {},
   "outputs": [],
   "source": [
    "return_value_left_motor_control, return_value_right_motor_control = robot_run(\n",
    "    clientID, left_motor_handle, right_motor_handle, -1, 1)"
   ]
  }
 ],
 "metadata": {
  "interpreter": {
   "hash": "06cb3b751f7e15a6f30ad54cb36c69467f5ed7dd559b12f0f90598c0f8af61e8"
  },
  "kernelspec": {
   "display_name": "Python 3.10.2 64-bit ('3.10.2')",
   "language": "python",
   "name": "python3"
  },
  "language_info": {
   "codemirror_mode": {
    "name": "ipython",
    "version": 3
   },
   "file_extension": ".py",
   "mimetype": "text/x-python",
   "name": "python",
   "nbconvert_exporter": "python",
   "pygments_lexer": "ipython3",
   "version": "3.8.10"
  },
  "orig_nbformat": 4
 },
 "nbformat": 4,
 "nbformat_minor": 2
}
