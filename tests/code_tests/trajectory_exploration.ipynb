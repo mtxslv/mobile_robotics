{
 "cells": [
  {
   "cell_type": "code",
   "execution_count": 1,
   "metadata": {},
   "outputs": [],
   "source": [
    "this_file_name = 'trajectory_exploration.ipynb'\n",
    "import sys\n",
    "import os\n",
    "sys.path.insert(0, os.path.abspath(\n",
    "    os.path.join(os.path.dirname(this_file_name), '../../src/') ))\n",
    "from utils import *\n",
    "from trajectory import CubicPolynomials\n",
    "\n",
    "import math\n",
    "import numpy as np"
   ]
  },
  {
   "cell_type": "code",
   "execution_count": 2,
   "metadata": {},
   "outputs": [
    {
     "name": "stdout",
     "output_type": "stream",
     "text": [
      "both provided points near singularity\n",
      "x(lmb) = 1 + 0*lmb + 0*lmb² + 0*lmb³\n",
      "y(lmb) = 2 + 0*lmb + 0*lmb² + 0*lmb³\n"
     ]
    }
   ],
   "source": [
    "c_p_1st_option = CubicPolynomials([1,2,math.pi/2],[1,2,math.pi/2])"
   ]
  },
  {
   "cell_type": "code",
   "execution_count": 3,
   "metadata": {},
   "outputs": [
    {
     "data": {
      "text/plain": [
       "[1, 2, 1.5707963267948966]"
      ]
     },
     "execution_count": 3,
     "metadata": {},
     "output_type": "execute_result"
    }
   ],
   "source": [
    "c_p_1st_option.get_point(1)"
   ]
  },
  {
   "cell_type": "code",
   "execution_count": 4,
   "metadata": {},
   "outputs": [
    {
     "name": "stdout",
     "output_type": "stream",
     "text": [
      "initial point near singularity\n",
      "x(lmb) = 1 + 0*lmb + 0.0*lmb² + 0.0*lmb³\n",
      "y(lmb) = 2 + 0.0*lmb + -0.0*lmb² + 0*lmb³\n"
     ]
    }
   ],
   "source": [
    "c_p_2nd_option = CubicPolynomials([1,2,math.pi/2],[1,2,math.pi])"
   ]
  },
  {
   "cell_type": "code",
   "execution_count": 5,
   "metadata": {},
   "outputs": [
    {
     "name": "stdout",
     "output_type": "stream",
     "text": [
      "final point near singularity\n",
      "x(lmb) = 1 + 0.0*lmb + 0.0*lmb² + 0.0*lmb³\n",
      "y(lmb) = 2 + -0.0*lmb + 0*lmb² + 0.0*lmb³\n"
     ]
    }
   ],
   "source": [
    "c_p_3rd_option = CubicPolynomials([1,2,math.pi],[1,2,math.pi/2])"
   ]
  },
  {
   "cell_type": "code",
   "execution_count": 6,
   "metadata": {},
   "outputs": [
    {
     "name": "stdout",
     "output_type": "stream",
     "text": [
      "no point near singularity\n",
      "x(lmb) = 1 + 0*lmb + 0*lmb² + 0*lmb³\n",
      "y(lmb) = 2 + -0.0*lmb + 0.0*lmb² + 0.0*lmb³\n"
     ]
    }
   ],
   "source": [
    "c_p_4th_option = CubicPolynomials([1,2,3],[1,2,3])"
   ]
  },
  {
   "cell_type": "code",
   "execution_count": 7,
   "metadata": {},
   "outputs": [
    {
     "data": {
      "text/plain": [
       "array([0.        , 0.11111111, 0.22222222, 0.33333333, 0.44444444,\n",
       "       0.55555556, 0.66666667, 0.77777778, 0.88888889, 1.        ])"
      ]
     },
     "execution_count": 7,
     "metadata": {},
     "output_type": "execute_result"
    }
   ],
   "source": [
    "lambdas = np.linspace(0,1,10)\n",
    "lambdas"
   ]
  },
  {
   "cell_type": "code",
   "execution_count": 12,
   "metadata": {},
   "outputs": [],
   "source": [
    "points = []\n",
    "for lmb in lambdas:\n",
    "    #print(lmb)\n",
    "    a = c_p_1st_option.get_point(lmb)\n",
    "    a.insert(0,lmb)\n",
    "    points.append(a)"
   ]
  },
  {
   "cell_type": "code",
   "execution_count": 13,
   "metadata": {},
   "outputs": [
    {
     "data": {
      "text/plain": [
       "[[0.0, 1.0, 2.0, 1.5707963267948966],\n",
       " [0.1111111111111111, 1.0, 2.0, 1.5707963267948966],\n",
       " [0.2222222222222222, 1.0, 2.0, 1.5707963267948966],\n",
       " [0.3333333333333333, 1.0, 2.0, 1.5707963267948966],\n",
       " [0.4444444444444444, 1.0, 2.0, 1.5707963267948966],\n",
       " [0.5555555555555556, 1.0, 2.0, 1.5707963267948966],\n",
       " [0.6666666666666666, 1.0, 2.0, 1.5707963267948966],\n",
       " [0.7777777777777777, 1.0, 2.0, 1.5707963267948966],\n",
       " [0.8888888888888888, 1.0, 2.0, 1.5707963267948966],\n",
       " [1.0, 1.0, 2.0, 1.5707963267948966]]"
      ]
     },
     "execution_count": 13,
     "metadata": {},
     "output_type": "execute_result"
    }
   ],
   "source": [
    "points"
   ]
  },
  {
   "cell_type": "code",
   "execution_count": 15,
   "metadata": {},
   "outputs": [],
   "source": [
    "x = np.array(points)"
   ]
  },
  {
   "cell_type": "code",
   "execution_count": 19,
   "metadata": {},
   "outputs": [
    {
     "data": {
      "text/plain": [
       "1.5707963267948966"
      ]
     },
     "execution_count": 19,
     "metadata": {},
     "output_type": "execute_result"
    }
   ],
   "source": [
    "x[5][3]"
   ]
  }
 ],
 "metadata": {
  "interpreter": {
   "hash": "31f2aee4e71d21fbe5cf8b01ff0e069b9275f58929596ceb00d14d90e3e16cd6"
  },
  "kernelspec": {
   "display_name": "Python 3.8.10 64-bit",
   "language": "python",
   "name": "python3"
  },
  "language_info": {
   "codemirror_mode": {
    "name": "ipython",
    "version": 3
   },
   "file_extension": ".py",
   "mimetype": "text/x-python",
   "name": "python",
   "nbconvert_exporter": "python",
   "pygments_lexer": "ipython3",
   "version": "3.8.10"
  },
  "orig_nbformat": 4
 },
 "nbformat": 4,
 "nbformat_minor": 2
}
