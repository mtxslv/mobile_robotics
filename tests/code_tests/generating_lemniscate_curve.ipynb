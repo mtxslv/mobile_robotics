{
 "cells": [
  {
   "cell_type": "code",
   "execution_count": 1,
   "metadata": {},
   "outputs": [],
   "source": [
    "this_file_name = 'generating_lemniscate_curve.ipynb'\n",
    "import sys\n",
    "import os\n",
    "sys.path.insert(0, os.path.abspath(\n",
    "    os.path.join(os.path.dirname(this_file_name), '../../src/') ))\n",
    "from utils import *\n",
    "from lemniscate import *\n",
    "# from trajectory import CubicPolynomials\n",
    "import matplotlib.pyplot as plt\n",
    "import math\n",
    "import numpy as np"
   ]
  },
  {
   "cell_type": "markdown",
   "metadata": {},
   "source": [
    "# Plotting Lemniscate points"
   ]
  },
  {
   "cell_type": "code",
   "execution_count": 11,
   "metadata": {},
   "outputs": [],
   "source": [
    "def plotting_lemniscate(r_x=2, r_y=2, number_of_points=20):\n",
    "    # generating lemniscate curve and its derivative\n",
    "    lem = Lemniscate(r_x,r_y)\n",
    "    lem_position, lem_velocity, lem_acceleration, lem_orientation = lem.get_curve_points(number_of_points)\n",
    "\n",
    "    # visualizing...\n",
    "    x_coordinate = np.cos(lem_orientation[:]) # projecting on X using cossine\n",
    "    y_coordinate = np.sin(lem_orientation[:]) # projecting on Y using sine\n",
    "\n",
    "    #plotting\n",
    "    plt.quiver(lem_position[:,0], lem_position[:,1],x_coordinate,y_coordinate)"
   ]
  },
  {
   "cell_type": "markdown",
   "metadata": {},
   "source": [
    "# Testing the Lemniscate Class"
   ]
  },
  {
   "cell_type": "markdown",
   "metadata": {},
   "source": [
    "## Bad Instances"
   ]
  },
  {
   "cell_type": "code",
   "execution_count": 3,
   "metadata": {},
   "outputs": [
    {
     "ename": "ValueError",
     "evalue": "a_x must be greater than 0 and less than 2.5",
     "output_type": "error",
     "traceback": [
      "\u001b[0;31m---------------------------------------------------------------------------\u001b[0m",
      "\u001b[0;31mValueError\u001b[0m                                Traceback (most recent call last)",
      "\u001b[1;32m/home/mateus/Área de Trabalho/mobile_robotics/tests/code_tests/generating_lemniscate_curve.ipynb Cell 6'\u001b[0m in \u001b[0;36m<cell line: 1>\u001b[0;34m()\u001b[0m\n\u001b[0;32m----> <a href='vscode-notebook-cell:/home/mateus/%C3%81rea%20de%20Trabalho/mobile_robotics/tests/code_tests/generating_lemniscate_curve.ipynb#ch0000005?line=0'>1</a>\u001b[0m lem1 \u001b[39m=\u001b[39m Lemniscate(\u001b[39m-\u001b[39;49m\u001b[39m0.1\u001b[39;49m,\u001b[39m2\u001b[39;49m)\n",
      "File \u001b[0;32m~/Área de Trabalho/mobile_robotics/src/lemniscate.py:21\u001b[0m, in \u001b[0;36mLemniscate.__init__\u001b[0;34m(self, a_x, a_y)\u001b[0m\n\u001b[1;32m     <a href='file:///home/mateus/%C3%81rea%20de%20Trabalho/mobile_robotics/src/lemniscate.py?line=18'>19</a>\u001b[0m     \u001b[39mself\u001b[39m\u001b[39m.\u001b[39ma_x \u001b[39m=\u001b[39m a_x\n\u001b[1;32m     <a href='file:///home/mateus/%C3%81rea%20de%20Trabalho/mobile_robotics/src/lemniscate.py?line=19'>20</a>\u001b[0m \u001b[39melse\u001b[39;00m:\n\u001b[0;32m---> <a href='file:///home/mateus/%C3%81rea%20de%20Trabalho/mobile_robotics/src/lemniscate.py?line=20'>21</a>\u001b[0m     \u001b[39mraise\u001b[39;00m \u001b[39mValueError\u001b[39;00m(\u001b[39m'\u001b[39m\u001b[39ma_x must be greater than 0 and less than 2.5\u001b[39m\u001b[39m'\u001b[39m)\n\u001b[1;32m     <a href='file:///home/mateus/%C3%81rea%20de%20Trabalho/mobile_robotics/src/lemniscate.py?line=21'>22</a>\u001b[0m \u001b[39mif\u001b[39;00m a_y \u001b[39m>\u001b[39m \u001b[39m0\u001b[39m \u001b[39mand\u001b[39;00m a_y \u001b[39m<\u001b[39m\u001b[39m=\u001b[39m \u001b[39m2.5\u001b[39m:\n\u001b[1;32m     <a href='file:///home/mateus/%C3%81rea%20de%20Trabalho/mobile_robotics/src/lemniscate.py?line=22'>23</a>\u001b[0m     \u001b[39mself\u001b[39m\u001b[39m.\u001b[39ma_y \u001b[39m=\u001b[39m a_y\n",
      "\u001b[0;31mValueError\u001b[0m: a_x must be greater than 0 and less than 2.5"
     ]
    }
   ],
   "source": [
    "lem1 = Lemniscate(-0.1,2)"
   ]
  },
  {
   "cell_type": "code",
   "execution_count": null,
   "metadata": {},
   "outputs": [
    {
     "ename": "ValueError",
     "evalue": "r_x must be greater than 0 and less than 2.5",
     "output_type": "error",
     "traceback": [
      "\u001b[0;31m---------------------------------------------------------------------------\u001b[0m",
      "\u001b[0;31mValueError\u001b[0m                                Traceback (most recent call last)",
      "\u001b[1;32m/home/mateus/Área de Trabalho/mobile_robotics/tests/code_tests/generating_lemniscate_curve.ipynb Cell 7'\u001b[0m in \u001b[0;36m<cell line: 1>\u001b[0;34m()\u001b[0m\n\u001b[0;32m----> <a href='vscode-notebook-cell:/home/mateus/%C3%81rea%20de%20Trabalho/mobile_robotics/tests/code_tests/generating_lemniscate_curve.ipynb#ch0000020?line=0'>1</a>\u001b[0m lem2 \u001b[39m=\u001b[39m Lemniscate(\u001b[39m2.6\u001b[39;49m,\u001b[39m2\u001b[39;49m)\n",
      "File \u001b[0;32m~/Área de Trabalho/mobile_robotics/src/lemniscate.py:21\u001b[0m, in \u001b[0;36mLemniscate.__init__\u001b[0;34m(self, a_x, a_y)\u001b[0m\n\u001b[1;32m     <a href='file:///home/mateus/%C3%81rea%20de%20Trabalho/mobile_robotics/src/lemniscate.py?line=18'>19</a>\u001b[0m     \u001b[39mself\u001b[39m\u001b[39m.\u001b[39ma_x \u001b[39m=\u001b[39m a_x\n\u001b[1;32m     <a href='file:///home/mateus/%C3%81rea%20de%20Trabalho/mobile_robotics/src/lemniscate.py?line=19'>20</a>\u001b[0m \u001b[39melse\u001b[39;00m:\n\u001b[0;32m---> <a href='file:///home/mateus/%C3%81rea%20de%20Trabalho/mobile_robotics/src/lemniscate.py?line=20'>21</a>\u001b[0m     \u001b[39mraise\u001b[39;00m \u001b[39mValueError\u001b[39;00m(\u001b[39m'\u001b[39m\u001b[39mr_x must be greater than 0 and less than 2.5\u001b[39m\u001b[39m'\u001b[39m)\n\u001b[1;32m     <a href='file:///home/mateus/%C3%81rea%20de%20Trabalho/mobile_robotics/src/lemniscate.py?line=21'>22</a>\u001b[0m \u001b[39mif\u001b[39;00m a_y \u001b[39m>\u001b[39m \u001b[39m0\u001b[39m \u001b[39mand\u001b[39;00m a_y \u001b[39m<\u001b[39m\u001b[39m=\u001b[39m \u001b[39m2.5\u001b[39m:\n\u001b[1;32m     <a href='file:///home/mateus/%C3%81rea%20de%20Trabalho/mobile_robotics/src/lemniscate.py?line=22'>23</a>\u001b[0m     \u001b[39mself\u001b[39m\u001b[39m.\u001b[39ma_y \u001b[39m=\u001b[39m a_y\n",
      "\u001b[0;31mValueError\u001b[0m: r_x must be greater than 0 and less than 2.5"
     ]
    }
   ],
   "source": [
    "lem2 = Lemniscate(2.6,2)"
   ]
  },
  {
   "cell_type": "code",
   "execution_count": null,
   "metadata": {},
   "outputs": [
    {
     "ename": "ValueError",
     "evalue": "r_y must be greater than 0 and less than 2.5",
     "output_type": "error",
     "traceback": [
      "\u001b[0;31m---------------------------------------------------------------------------\u001b[0m",
      "\u001b[0;31mValueError\u001b[0m                                Traceback (most recent call last)",
      "\u001b[1;32m/home/mateus/Área de Trabalho/mobile_robotics/tests/code_tests/generating_lemniscate_curve.ipynb Cell 8'\u001b[0m in \u001b[0;36m<cell line: 1>\u001b[0;34m()\u001b[0m\n\u001b[0;32m----> <a href='vscode-notebook-cell:/home/mateus/%C3%81rea%20de%20Trabalho/mobile_robotics/tests/code_tests/generating_lemniscate_curve.ipynb#ch0000021?line=0'>1</a>\u001b[0m lem3 \u001b[39m=\u001b[39m Lemniscate(\u001b[39m2\u001b[39;49m,\u001b[39m-\u001b[39;49m\u001b[39m0.1\u001b[39;49m)\n",
      "File \u001b[0;32m~/Área de Trabalho/mobile_robotics/src/lemniscate.py:25\u001b[0m, in \u001b[0;36mLemniscate.__init__\u001b[0;34m(self, a_x, a_y)\u001b[0m\n\u001b[1;32m     <a href='file:///home/mateus/%C3%81rea%20de%20Trabalho/mobile_robotics/src/lemniscate.py?line=22'>23</a>\u001b[0m     \u001b[39mself\u001b[39m\u001b[39m.\u001b[39ma_y \u001b[39m=\u001b[39m a_y\n\u001b[1;32m     <a href='file:///home/mateus/%C3%81rea%20de%20Trabalho/mobile_robotics/src/lemniscate.py?line=23'>24</a>\u001b[0m \u001b[39melse\u001b[39;00m:\n\u001b[0;32m---> <a href='file:///home/mateus/%C3%81rea%20de%20Trabalho/mobile_robotics/src/lemniscate.py?line=24'>25</a>\u001b[0m     \u001b[39mraise\u001b[39;00m \u001b[39mValueError\u001b[39;00m(\u001b[39m'\u001b[39m\u001b[39mr_y must be greater than 0 and less than 2.5\u001b[39m\u001b[39m'\u001b[39m)\n",
      "\u001b[0;31mValueError\u001b[0m: r_y must be greater than 0 and less than 2.5"
     ]
    }
   ],
   "source": [
    "lem3 = Lemniscate(2,-0.1)"
   ]
  },
  {
   "cell_type": "code",
   "execution_count": null,
   "metadata": {},
   "outputs": [
    {
     "ename": "ValueError",
     "evalue": "r_y must be greater than 0 and less than 2.5",
     "output_type": "error",
     "traceback": [
      "\u001b[0;31m---------------------------------------------------------------------------\u001b[0m",
      "\u001b[0;31mValueError\u001b[0m                                Traceback (most recent call last)",
      "\u001b[1;32m/home/mateus/Área de Trabalho/mobile_robotics/tests/code_tests/generating_lemniscate_curve.ipynb Cell 9'\u001b[0m in \u001b[0;36m<cell line: 1>\u001b[0;34m()\u001b[0m\n\u001b[0;32m----> <a href='vscode-notebook-cell:/home/mateus/%C3%81rea%20de%20Trabalho/mobile_robotics/tests/code_tests/generating_lemniscate_curve.ipynb#ch0000022?line=0'>1</a>\u001b[0m lem4 \u001b[39m=\u001b[39m Lemniscate(\u001b[39m2\u001b[39;49m,\u001b[39m2.6\u001b[39;49m)\n",
      "File \u001b[0;32m~/Área de Trabalho/mobile_robotics/src/lemniscate.py:25\u001b[0m, in \u001b[0;36mLemniscate.__init__\u001b[0;34m(self, a_x, a_y)\u001b[0m\n\u001b[1;32m     <a href='file:///home/mateus/%C3%81rea%20de%20Trabalho/mobile_robotics/src/lemniscate.py?line=22'>23</a>\u001b[0m     \u001b[39mself\u001b[39m\u001b[39m.\u001b[39ma_y \u001b[39m=\u001b[39m a_y\n\u001b[1;32m     <a href='file:///home/mateus/%C3%81rea%20de%20Trabalho/mobile_robotics/src/lemniscate.py?line=23'>24</a>\u001b[0m \u001b[39melse\u001b[39;00m:\n\u001b[0;32m---> <a href='file:///home/mateus/%C3%81rea%20de%20Trabalho/mobile_robotics/src/lemniscate.py?line=24'>25</a>\u001b[0m     \u001b[39mraise\u001b[39;00m \u001b[39mValueError\u001b[39;00m(\u001b[39m'\u001b[39m\u001b[39mr_y must be greater than 0 and less than 2.5\u001b[39m\u001b[39m'\u001b[39m)\n",
      "\u001b[0;31mValueError\u001b[0m: r_y must be greater than 0 and less than 2.5"
     ]
    }
   ],
   "source": [
    "lem4 = Lemniscate(2,2.6)"
   ]
  },
  {
   "cell_type": "markdown",
   "metadata": {},
   "source": [
    "## Plotting some curves"
   ]
  },
  {
   "cell_type": "code",
   "execution_count": 12,
   "metadata": {},
   "outputs": [
    {
     "data": {
      "image/png": "[encoded data removed]",
      "text/plain": [
       "<Figure size 432x288 with 1 Axes>"
      ]
     },
     "metadata": {
      "needs_background": "light"
     },
     "output_type": "display_data"
    }
   ],
   "source": [
    "plotting_lemniscate()"
   ]
  },
  {
   "cell_type": "markdown",
   "metadata": {},
   "source": [
    "## Sending it to Sim (1st Project 2nd Goal Scene)"
   ]
  },
  {
   "cell_type": "code",
   "execution_count": 3,
   "metadata": {},
   "outputs": [
    {
     "name": "stdout",
     "output_type": "stream",
     "text": [
      "Connected to remote API server\n",
      "Number of objects in the scene:  56\n"
     ]
    }
   ],
   "source": [
    "# Conectar no Vrep\n",
    "clientID = connect_2_sim()\n",
    "test_connection(clientID)"
   ]
  },
  {
   "cell_type": "code",
   "execution_count": 4,
   "metadata": {},
   "outputs": [
    {
     "data": {
      "text/plain": [
       "array([ 0.56905517,  1.0910698 , -2.09032593])"
      ]
     },
     "execution_count": 4,
     "metadata": {},
     "output_type": "execute_result"
    }
   ],
   "source": [
    "list_of_points = []\n",
    "for index in range(0,49):\n",
    "    point = lemniscate[index,:].tolist()\n",
    "    point.append(lemniscate_orientation[index])\n",
    "    list_of_points.append(point)\n",
    "points = np.array(list_of_points)\n",
    "points[10,:]"
   ]
  },
  {
   "cell_type": "code",
   "execution_count": 5,
   "metadata": {},
   "outputs": [
    {
     "data": {
      "text/plain": [
       "[<matplotlib.lines.Line2D at 0x7f0caeba03a0>]"
      ]
     },
     "execution_count": 5,
     "metadata": {},
     "output_type": "execute_result"
    },
    {
     "data": {
      "image/png": "[encoded data removed]",
      "text/plain": [
       "<Figure size 432x288 with 1 Axes>"
      ]
     },
     "metadata": {
      "needs_background": "light"
     },
     "output_type": "display_data"
    }
   ],
   "source": [
    "plt.plot(points[:,0],points[:,1])"
   ]
  },
  {
   "cell_type": "code",
   "execution_count": 6,
   "metadata": {},
   "outputs": [
    {
     "name": "stdout",
     "output_type": "stream",
     "text": [
      "[0.         1.57079633]\n",
      "[0.50730917 1.63680071]\n",
      "[0.9814351  1.71533908]\n",
      "[1.3913651  1.82628892]\n",
      "[1.71028553 2.01286233]\n",
      "[1.91733571 2.38108329]\n",
      "[1.99897243 3.04970786]\n",
      "[ 1.94985582 -2.62410556]\n",
      "[ 1.77319861 -2.31693086]\n",
      "[ 1.48055599 -2.1680154 ]\n",
      "[ 1.0910698  -2.09032593]\n",
      "[ 0.63021644 -2.05038355]\n",
      "[ 0.12814044 -2.03506134]\n",
      "[-0.38231726 -2.0400599 ]\n",
      "[-0.86776748 -2.06673767]\n",
      "[-1.29645679 -2.12307222]\n",
      "[-1.64034451 -2.23000728]\n",
      "[-1.87693684 -2.44165788]\n",
      "[-1.99075823 -2.88776398]\n",
      "[-1.97436357  2.68402845]\n",
      "[-1.82882525  2.16376266]\n",
      "[-1.56366296  1.90564169]\n",
      "[-1.19622106  1.76491595]\n",
      "[-0.75053401  1.67354849]\n",
      "[-0.25575432  1.6030854 ]\n",
      "[0.25575432 1.53850726]\n",
      "[0.75053401 1.46804416]\n",
      "[1.19622106 1.3766767 ]\n",
      "[1.56366296 1.23595097]\n",
      "[1.82882525 0.97782999]\n",
      "[1.97436357 0.4575642 ]\n",
      "[ 1.99075823 -0.25382867]\n",
      "[ 1.87693684 -0.69993477]\n",
      "[ 1.64034451 -0.91158537]\n",
      "[ 1.29645679 -1.01852043]\n",
      "[ 0.86776748 -1.07485498]\n",
      "[ 0.38231726 -1.10153275]\n",
      "[-0.12814044 -1.10653131]\n",
      "[-0.63021644 -1.09120911]\n",
      "[-1.0910698  -1.05126672]\n",
      "[-1.48055599 -0.97357725]\n",
      "[-1.77319861 -0.82466179]\n",
      "[-1.94985582 -0.5174871 ]\n",
      "[-1.99897243  0.0918848 ]\n",
      "[-1.91733571  0.76050936]\n",
      "[-1.71028553  1.12873032]\n",
      "[-1.3913651   1.31530373]\n",
      "[-0.9814351   1.42625357]\n",
      "[-0.50730917  1.50479194]\n"
     ]
    }
   ],
   "source": [
    "# Enviar pontos do Caminho Gerado\n",
    "send_points_to_sim([p[1:3] for p in points], clientID=clientID)"
   ]
  },
  {
   "cell_type": "markdown",
   "metadata": {},
   "source": [
    "# Generating curves between each pair of points"
   ]
  }
 ],
 "metadata": {
  "interpreter": {
   "hash": "31f2aee4e71d21fbe5cf8b01ff0e069b9275f58929596ceb00d14d90e3e16cd6"
  },
  "kernelspec": {
   "display_name": "Python 3.8.10 64-bit",
   "language": "python",
   "name": "python3"
  },
  "language_info": {
   "codemirror_mode": {
    "name": "ipython",
    "version": 3
   },
   "file_extension": ".py",
   "mimetype": "text/x-python",
   "name": "python",
   "nbconvert_exporter": "python",
   "pygments_lexer": "ipython3",
   "version": "3.8.10"
  },
  "orig_nbformat": 4
 },
 "nbformat": 4,
 "nbformat_minor": 2
}
