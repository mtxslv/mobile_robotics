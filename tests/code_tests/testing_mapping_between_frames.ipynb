{
 "cells": [
  {
   "cell_type": "code",
   "execution_count": 2,
   "metadata": {},
   "outputs": [],
   "source": [
    "this_file_name = 'testing_mapping_between_frames.ipynb'\n",
    "import sys\n",
    "import os\n",
    "sys.path.insert(0, os.path.abspath(\n",
    "    os.path.join(os.path.dirname(this_file_name), '../../src/') ))\n",
    "\n",
    "from configuration_space_mapping import *\n",
    "from utils import *"
   ]
  },
  {
   "cell_type": "markdown",
   "metadata": {},
   "source": [
    "## How to map the vertices to global reference frame?\n"
   ]
  },
  {
   "cell_type": "markdown",
   "metadata": {},
   "source": [
    "### First, rotation matrix\n",
    "Well, we have the euler angles, right? [We can create a rotation matrix using them](http://eecs.qmul.ac.uk/~gslabaugh/publications/euler.pdf). Consider the angles $\\phi$ (rotation around Z) , $\\theta$ (rotation around Y) and $\\psi$ (rotation around X). The rotation matrix is given by:\n",
    "\n",
    "$$\n",
    "R = R_z(\\phi) R_y(\\theta) R_x(\\psi) = \n",
    "\\begin{bmatrix}\n",
    "cos \\theta cos \\phi & sin \\psi sin \\theta cos \\phi - cos \\psi sin \\phi & cos \\psi sin \\theta cos \\phi + sin \\psi sin \\phi \\\\\n",
    "cos \\theta sin \\phi & sin \\psi sin \\theta sin \\phi + cos \\psi cos \\phi & cos \\psi sin \\theta sin \\phi - sin \\psi cos \\phi \\\\\n",
    "-sin \\theta & sin \\psi cos \\theta & cos \\psi cos \\theta \\\\\n",
    "\\end{bmatrix}.\n",
    "$$\n",
    "\n",
    "This means that, if we get a 3D point $\\vec{x}$ and multiply by $R$, we get the same effect of rotating $\\vec{x}$ $\\phi$ around Z, $\\theta$ around Y and $\\psi$ around X. In order to get the point back to the original frame, we take the inverse of R."
   ]
  },
  {
   "cell_type": "code",
   "execution_count": 3,
   "metadata": {},
   "outputs": [
    {
     "name": "stdout",
     "output_type": "stream",
     "text": [
      "[[ 0. -1.  0.]\n",
      " [ 1.  0.  0.]\n",
      " [-0.  0.  1.]]\n"
     ]
    },
    {
     "data": {
      "text/plain": [
       "array([0., 1., 0.])"
      ]
     },
     "execution_count": 3,
     "metadata": {},
     "output_type": "execute_result"
    }
   ],
   "source": [
    "import numpy as np\n",
    "# testing the forward transform: vector = [1, 0, 0] and a rotation of 90º around Z axis\n",
    "mat = np.round( rotation_matrix_from_euler_angles(3.14/2,0,0, False), 2 )\n",
    "print(mat)\n",
    "vector = np.array([1,0,0])\n",
    "np.matmul(mat,vector) # vector goes to [0, 1, 0]"
   ]
  },
  {
   "cell_type": "code",
   "execution_count": 4,
   "metadata": {},
   "outputs": [
    {
     "name": "stdout",
     "output_type": "stream",
     "text": [
      "[[ 0.  1.  0.]\n",
      " [-1.  0. -0.]\n",
      " [ 0.  0.  1.]]\n"
     ]
    },
    {
     "data": {
      "text/plain": [
       "array([1., 0., 0.])"
      ]
     },
     "execution_count": 4,
     "metadata": {},
     "output_type": "execute_result"
    }
   ],
   "source": [
    "# testing the inverse: the vector is at [0, 1, 0], and we know there happened a Z axis 90º rotation. Where was the vector?\n",
    "mat = np.round( rotation_matrix_from_euler_angles(3.14/2,0,0, True), 2 )\n",
    "print(mat)\n",
    "vector = np.array([0,1,0])\n",
    "np.matmul(mat,vector) # obviously the vector was at [1, 0, 0]"
   ]
  },
  {
   "cell_type": "code",
   "execution_count": 5,
   "metadata": {},
   "outputs": [
    {
     "name": "stdout",
     "output_type": "stream",
     "text": [
      "[[ 0.  1.  0.]\n",
      " [-1.  0. -0.]\n",
      " [-0.  0.  1.]]\n"
     ]
    },
    {
     "data": {
      "text/plain": [
       "array([[ 0.],\n",
       "       [-1.],\n",
       "       [ 0.]])"
      ]
     },
     "execution_count": 5,
     "metadata": {},
     "output_type": "execute_result"
    }
   ],
   "source": [
    "# Ok, now a more case-specific test. Consider we have two reference frames, a global one and the robot's. \n",
    "# The only difference is that the robot's reference frame is rotated -90º around the Z axis. If a point on \n",
    "# robot's reference frame is equal to [1, 0, 0], where does it lie on the global reference frame?\n",
    "# Naturally, we would say it lies on [0, -1, 0]. Which transformation should we use? Actually, the forward one.\n",
    " \n",
    "mat = np.round( rotation_matrix_from_euler_angles(-3.14/2,0,0, False), 2 )\n",
    "print(mat)\n",
    "vector = np.array([[1],[0],[0]])\n",
    "np.matmul(mat,vector) # see?"
   ]
  },
  {
   "cell_type": "markdown",
   "metadata": {},
   "source": [
    "### Second: we just need to add the robot's frame origin position "
   ]
  },
  {
   "cell_type": "code",
   "execution_count": 6,
   "metadata": {},
   "outputs": [],
   "source": [
    "# Let's test how we can get a given point (originally in robot's frame) to global frame. Suppose we have\n",
    "# a robot's frame whose origin's coordinates are [0,10,0] (in global reference frame). Suppose a 180º \n",
    "# rotation (around Z axis) happened. There is a bounding box vertice at [1,1,0] (robot's frame). Where\n",
    "# is such vertice in global frame?\n",
    "# After the proper calculations we deduce it lies on [-1, 9, 0]."
   ]
  },
  {
   "cell_type": "code",
   "execution_count": 7,
   "metadata": {},
   "outputs": [
    {
     "data": {
      "text/plain": [
       "array([[-1.],\n",
       "       [ 9.],\n",
       "       [ 0.]])"
      ]
     },
     "execution_count": 7,
     "metadata": {},
     "output_type": "execute_result"
    }
   ],
   "source": [
    "vector = np.array([[1],[1],[0]])\n",
    "frame_origin = np.array([[0],[10],[0]])\n",
    "euler_a = [3.14,0,0]\n",
    "np.round(get_global_position(vector,euler_a,frame_origin),2) # see?"
   ]
  }
 ],
 "metadata": {
  "interpreter": {
   "hash": "31f2aee4e71d21fbe5cf8b01ff0e069b9275f58929596ceb00d14d90e3e16cd6"
  },
  "kernelspec": {
   "display_name": "Python 3.8.10 64-bit",
   "language": "python",
   "name": "python3"
  },
  "language_info": {
   "codemirror_mode": {
    "name": "ipython",
    "version": 3
   },
   "file_extension": ".py",
   "mimetype": "text/x-python",
   "name": "python",
   "nbconvert_exporter": "python",
   "pygments_lexer": "ipython3",
   "version": "3.8.10"
  },
  "orig_nbformat": 4
 },
 "nbformat": 4,
 "nbformat_minor": 2
}
