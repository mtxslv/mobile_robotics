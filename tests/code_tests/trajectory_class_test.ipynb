{
 "cells": [
  {
   "cell_type": "code",
   "execution_count": 1,
   "metadata": {},
   "outputs": [],
   "source": [
    "this_file_name = 'trajectory_exploration.ipynb'\n",
    "import sys\n",
    "import os\n",
    "sys.path.insert(0, os.path.abspath(\n",
    "    os.path.join(os.path.dirname(this_file_name), '../../src/') ))\n",
    "from utils import *\n",
    "from trajectory import CubicPolynomials\n",
    "import matplotlib.pyplot as plt\n",
    "import math\n",
    "import numpy as np"
   ]
  },
  {
   "cell_type": "markdown",
   "metadata": {},
   "source": [
    "# Testing the Class instancing"
   ]
  },
  {
   "cell_type": "code",
   "execution_count": 2,
   "metadata": {},
   "outputs": [
    {
     "name": "stdout",
     "output_type": "stream",
     "text": [
      "both provided points near singularity\n",
      "x(lmb) = 1 + 0*lmb + 0*lmb² + 0*lmb³\n",
      "y(lmb) = 2 + 0*lmb + 0*lmb² + 0*lmb³\n",
      "theta(lmb) = atan( (0 + 0*lmb + 0*lmb²) / (0 + 0*lmb + 0*lmb²) )\n"
     ]
    }
   ],
   "source": [
    "c_p_1st_option = CubicPolynomials([1,2,math.pi/2],[1,2,math.pi/2])"
   ]
  },
  {
   "cell_type": "code",
   "execution_count": 3,
   "metadata": {},
   "outputs": [
    {
     "name": "stdout",
     "output_type": "stream",
     "text": [
      "initial point near singularity\n",
      "x(lmb) = 1 + 0*lmb + 0.0*lmb² + 0.0*lmb³\n",
      "y(lmb) = 2 + 0.0*lmb + -0.0*lmb² + 0*lmb³\n",
      "theta(lmb) = atan( (0.0 + -0.0*lmb + 0*lmb²) / (0 + 0.0*lmb + 0.0*lmb²) )\n"
     ]
    }
   ],
   "source": [
    "c_p_2nd_option = CubicPolynomials([1,2,math.pi/2],[1,2,math.pi])"
   ]
  },
  {
   "cell_type": "code",
   "execution_count": 4,
   "metadata": {},
   "outputs": [
    {
     "name": "stdout",
     "output_type": "stream",
     "text": [
      "final point near singularity\n",
      "x(lmb) = 1 + 0.0*lmb + 0.0*lmb² + 0.0*lmb³\n",
      "y(lmb) = 2 + -0.0*lmb + 0*lmb² + 0.0*lmb³\n",
      "theta(lmb) = atan( (-0.0 + 0*lmb + 0.0*lmb²) / (0.0 + 0.0*lmb + 0.0*lmb²) )\n"
     ]
    }
   ],
   "source": [
    "c_p_3rd_option = CubicPolynomials([1,2,math.pi],[1,2,math.pi/2])"
   ]
  },
  {
   "cell_type": "code",
   "execution_count": 5,
   "metadata": {},
   "outputs": [
    {
     "name": "stdout",
     "output_type": "stream",
     "text": [
      "no point near singularity\n",
      "x(lmb) = 1 + 0*lmb + 0*lmb² + 0*lmb³\n",
      "y(lmb) = 2 + -0.0*lmb + 0.0*lmb² + 0.0*lmb³\n",
      "theta(lmb) = atan( (-0.0 + 0.0*lmb + 0.0*lmb²) / (0 + 0*lmb + 0*lmb²) )\n"
     ]
    }
   ],
   "source": [
    "c_p_4th_option = CubicPolynomials([1,2,3],[1,2,3])"
   ]
  },
  {
   "cell_type": "markdown",
   "metadata": {},
   "source": [
    "# Testing the get_point Method"
   ]
  },
  {
   "cell_type": "code",
   "execution_count": 6,
   "metadata": {},
   "outputs": [
    {
     "data": {
      "text/plain": [
       "[1, 2, 1.5707963267948966]"
      ]
     },
     "execution_count": 6,
     "metadata": {},
     "output_type": "execute_result"
    }
   ],
   "source": [
    "c_p_1st_option.get_point(1)"
   ]
  },
  {
   "cell_type": "markdown",
   "metadata": {},
   "source": [
    "# Testing some ideas for get_curve_points method"
   ]
  },
  {
   "cell_type": "code",
   "execution_count": 7,
   "metadata": {},
   "outputs": [
    {
     "data": {
      "text/plain": [
       "array([0.        , 0.11111111, 0.22222222, 0.33333333, 0.44444444,\n",
       "       0.55555556, 0.66666667, 0.77777778, 0.88888889, 1.        ])"
      ]
     },
     "execution_count": 7,
     "metadata": {},
     "output_type": "execute_result"
    }
   ],
   "source": [
    "lambdas = np.linspace(0,1,10)\n",
    "lambdas"
   ]
  },
  {
   "cell_type": "code",
   "execution_count": 8,
   "metadata": {},
   "outputs": [],
   "source": [
    "points = []\n",
    "for lmb in lambdas:\n",
    "    #print(lmb)\n",
    "    a = c_p_1st_option.get_point(lmb)\n",
    "    a.insert(0,lmb)\n",
    "    points.append(a)"
   ]
  },
  {
   "cell_type": "code",
   "execution_count": 9,
   "metadata": {},
   "outputs": [
    {
     "data": {
      "text/plain": [
       "[[0.0, 1.0, 2.0, 1.5707963267948966],\n",
       " [0.1111111111111111, 1.0, 2.0, 1.5707963267948966],\n",
       " [0.2222222222222222, 1.0, 2.0, 1.5707963267948966],\n",
       " [0.3333333333333333, 1.0, 2.0, 1.5707963267948966],\n",
       " [0.4444444444444444, 1.0, 2.0, 1.5707963267948966],\n",
       " [0.5555555555555556, 1.0, 2.0, 1.5707963267948966],\n",
       " [0.6666666666666666, 1.0, 2.0, 1.5707963267948966],\n",
       " [0.7777777777777777, 1.0, 2.0, 1.5707963267948966],\n",
       " [0.8888888888888888, 1.0, 2.0, 1.5707963267948966],\n",
       " [1.0, 1.0, 2.0, 1.5707963267948966]]"
      ]
     },
     "execution_count": 9,
     "metadata": {},
     "output_type": "execute_result"
    }
   ],
   "source": [
    "points"
   ]
  },
  {
   "cell_type": "code",
   "execution_count": 10,
   "metadata": {},
   "outputs": [],
   "source": [
    "x = np.array(points)"
   ]
  },
  {
   "cell_type": "code",
   "execution_count": 11,
   "metadata": {},
   "outputs": [
    {
     "data": {
      "text/plain": [
       "1.5707963267948966"
      ]
     },
     "execution_count": 11,
     "metadata": {},
     "output_type": "execute_result"
    }
   ],
   "source": [
    "x[5][3]"
   ]
  },
  {
   "cell_type": "markdown",
   "metadata": {},
   "source": [
    "# Testing the class itself"
   ]
  },
  {
   "cell_type": "code",
   "execution_count": 12,
   "metadata": {},
   "outputs": [],
   "source": [
    "def testing(config_i, config_f):\n",
    "    initial_config = config_i\n",
    "    final_config = config_f\n",
    "    example_curve = CubicPolynomials(initial_config=initial_config, final_config=final_config)\n",
    "\n",
    "    points = example_curve.get_curve_points()\n",
    "\n",
    "    x_coordinate = np.cos(points[:,3]) # projecting on X using cossine\n",
    "    y_coordinate = np.sin(points[:,3]) # projecting on Y using sine\n",
    "    plt.quiver(points[:,1], points[:,2],x_coordinate,y_coordinate)"
   ]
  },
  {
   "cell_type": "markdown",
   "metadata": {},
   "source": [
    "## Both points near singularity"
   ]
  },
  {
   "cell_type": "markdown",
   "metadata": {},
   "source": [
    "### Left to Right"
   ]
  },
  {
   "cell_type": "code",
   "execution_count": 13,
   "metadata": {},
   "outputs": [
    {
     "name": "stdout",
     "output_type": "stream",
     "text": [
      "both provided points near singularity\n",
      "x(lmb) = -10 + 0*lmb + 60*lmb² + -40*lmb³\n",
      "y(lmb) = 0 + 10*lmb + 0*lmb² + 0*lmb³\n",
      "theta(lmb) = atan( (10 + 0*lmb + 0*lmb²) / (0 + 120*lmb + -120*lmb²) )\n"
     ]
    },
    {
     "data": {
      "image/png": "[encoded data removed]",
      "text/plain": [
       "<Figure size 432x288 with 1 Axes>"
      ]
     },
     "metadata": {
      "needs_background": "light"
     },
     "output_type": "display_data"
    }
   ],
   "source": [
    "initial_config = [-10,0,math.pi/2]\n",
    "final_config = [10,10,math.pi/2]\n",
    "testing(initial_config, final_config)"
   ]
  },
  {
   "cell_type": "markdown",
   "metadata": {},
   "source": [
    "### Right to Left"
   ]
  },
  {
   "cell_type": "code",
   "execution_count": 14,
   "metadata": {},
   "outputs": [
    {
     "name": "stdout",
     "output_type": "stream",
     "text": [
      "both provided points near singularity\n",
      "x(lmb) = 10 + 0*lmb + -60*lmb² + 40*lmb³\n",
      "y(lmb) = 0 + 10*lmb + 0*lmb² + 0*lmb³\n",
      "theta(lmb) = atan( (10 + 0*lmb + 0*lmb²) / (0 + -120*lmb + 120*lmb²) )\n"
     ]
    },
    {
     "data": {
      "image/png": "[encoded data removed]",
      "text/plain": [
       "<Figure size 432x288 with 1 Axes>"
      ]
     },
     "metadata": {
      "needs_background": "light"
     },
     "output_type": "display_data"
    }
   ],
   "source": [
    "initial_config = [10,0,math.pi/2]\n",
    "final_config = [-10,10,math.pi/2]\n",
    "testing(initial_config, final_config)"
   ]
  },
  {
   "cell_type": "markdown",
   "metadata": {},
   "source": [
    "## Initial point near singularity"
   ]
  },
  {
   "cell_type": "markdown",
   "metadata": {},
   "source": [
    "### Left to Right"
   ]
  },
  {
   "cell_type": "code",
   "execution_count": 15,
   "metadata": {},
   "outputs": [
    {
     "name": "stdout",
     "output_type": "stream",
     "text": [
      "initial point near singularity\n",
      "x(lmb) = -10 + 0*lmb + 30.0*lmb² + -10.0*lmb³\n",
      "y(lmb) = 0 + 20.000000000000004*lmb + -10.000000000000004*lmb² + 0*lmb³\n",
      "theta(lmb) = atan( (20.000000000000004 + -20.000000000000007*lmb + 0*lmb²) / (0 + 60.0*lmb + -30.0*lmb²) )\n"
     ]
    },
    {
     "data": {
      "image/png": "[encoded data removed]",
      "text/plain": [
       "<Figure size 432x288 with 1 Axes>"
      ]
     },
     "metadata": {
      "needs_background": "light"
     },
     "output_type": "display_data"
    }
   ],
   "source": [
    "initial_config = [-10,0,math.pi/2]\n",
    "final_config = [10,10,math.pi]\n",
    "testing(initial_config, final_config)"
   ]
  },
  {
   "cell_type": "markdown",
   "metadata": {},
   "source": [
    "## Right to Left"
   ]
  },
  {
   "cell_type": "code",
   "execution_count": 16,
   "metadata": {},
   "outputs": [
    {
     "name": "stdout",
     "output_type": "stream",
     "text": [
      "initial point near singularity\n",
      "x(lmb) = 10 + 0*lmb + -30.0*lmb² + 10.0*lmb³\n",
      "y(lmb) = 0 + 19.999999999999996*lmb + -9.999999999999996*lmb² + 0*lmb³\n",
      "theta(lmb) = atan( (19.999999999999996 + -19.999999999999993*lmb + 0*lmb²) / (0 + -60.0*lmb + 30.0*lmb²) )\n"
     ]
    },
    {
     "data": {
      "image/png": "[encoded data removed]",
      "text/plain": [
       "<Figure size 432x288 with 1 Axes>"
      ]
     },
     "metadata": {
      "needs_background": "light"
     },
     "output_type": "display_data"
    }
   ],
   "source": [
    "initial_config = [10,0,math.pi/2]\n",
    "final_config = [-10,10,math.pi]\n",
    "testing(initial_config, final_config)"
   ]
  },
  {
   "cell_type": "markdown",
   "metadata": {},
   "source": [
    "## Final point near singularity"
   ]
  },
  {
   "cell_type": "markdown",
   "metadata": {},
   "source": [
    "### Left to Right"
   ]
  },
  {
   "cell_type": "code",
   "execution_count": 17,
   "metadata": {},
   "outputs": [
    {
     "name": "stdout",
     "output_type": "stream",
     "text": [
      "final point near singularity\n",
      "x(lmb) = -10 + 30.0*lmb + 0.0*lmb² + -10.0*lmb³\n",
      "y(lmb) = 0 + 0.0*lmb + 0*lmb² + 10.0*lmb³\n",
      "theta(lmb) = atan( (0.0 + 0*lmb + 30.0*lmb²) / (30.0 + 0.0*lmb + -30.0*lmb²) )\n"
     ]
    },
    {
     "data": {
      "image/png": "[encoded data removed]",
      "text/plain": [
       "<Figure size 432x288 with 1 Axes>"
      ]
     },
     "metadata": {
      "needs_background": "light"
     },
     "output_type": "display_data"
    }
   ],
   "source": [
    "initial_config = [-10,0,0]\n",
    "final_config = [10,10,math.pi/2]\n",
    "testing(initial_config, final_config)"
   ]
  },
  {
   "cell_type": "markdown",
   "metadata": {},
   "source": [
    "### Right to Left"
   ]
  },
  {
   "cell_type": "code",
   "execution_count": 18,
   "metadata": {},
   "outputs": [
    {
     "name": "stdout",
     "output_type": "stream",
     "text": [
      "final point near singularity\n",
      "x(lmb) = 10 + -30.0*lmb + 0.0*lmb² + 10.0*lmb³\n",
      "y(lmb) = 0 + 3.67394039744206e-15*lmb + 0*lmb² + 9.999999999999996*lmb³\n",
      "theta(lmb) = atan( (3.67394039744206e-15 + 0*lmb + 29.99999999999999*lmb²) / (-30.0 + 0.0*lmb + 30.0*lmb²) )\n"
     ]
    },
    {
     "data": {
      "image/png": "[encoded data removed]",
      "text/plain": [
       "<Figure size 432x288 with 1 Axes>"
      ]
     },
     "metadata": {
      "needs_background": "light"
     },
     "output_type": "display_data"
    }
   ],
   "source": [
    "initial_config = [10,0,math.pi]\n",
    "final_config = [-10,10,math.pi/2]\n",
    "testing(initial_config, final_config)"
   ]
  },
  {
   "cell_type": "markdown",
   "metadata": {},
   "source": [
    "## No point near singularity"
   ]
  },
  {
   "cell_type": "markdown",
   "metadata": {},
   "source": [
    "### Left to Right"
   ]
  },
  {
   "cell_type": "code",
   "execution_count": 19,
   "metadata": {},
   "outputs": [
    {
     "name": "stdout",
     "output_type": "stream",
     "text": [
      "no point near singularity\n",
      "x(lmb) = -10 + 20*lmb + 0*lmb² + 0*lmb³\n",
      "y(lmb) = 0 + 19.999999999999996*lmb + -9.999999999999993*lmb² + -3.552713678800501e-15*lmb³\n",
      "theta(lmb) = atan( (19.999999999999996 + -19.999999999999986*lmb + -1.0658141036401503e-14*lmb²) / (20 + 0*lmb + 0*lmb²) )\n"
     ]
    },
    {
     "data": {
      "image/png": "[encoded data removed]",
      "text/plain": [
       "<Figure size 432x288 with 1 Axes>"
      ]
     },
     "metadata": {
      "needs_background": "light"
     },
     "output_type": "display_data"
    }
   ],
   "source": [
    "# Pablo's example\n",
    "initial_config = [-10,0,math.pi/4]\n",
    "final_config = [10,10,0]\n",
    "testing(initial_config, final_config)"
   ]
  },
  {
   "cell_type": "markdown",
   "metadata": {},
   "source": [
    "### Right to Left"
   ]
  },
  {
   "cell_type": "code",
   "execution_count": 20,
   "metadata": {},
   "outputs": [
    {
     "name": "stdout",
     "output_type": "stream",
     "text": [
      "no point near singularity\n",
      "x(lmb) = 10 + -20*lmb + 0*lmb² + 0*lmb³\n",
      "y(lmb) = 0 + 20.000000000000004*lmb + -10.000000000000007*lmb² + 7.105427357601002e-15*lmb³\n",
      "theta(lmb) = atan( (20.000000000000004 + -20.000000000000014*lmb + 2.1316282072803006e-14*lmb²) / (-20 + 0*lmb + 0*lmb²) )\n"
     ]
    },
    {
     "data": {
      "image/png": "[encoded data removed]",
      "text/plain": [
       "<Figure size 432x288 with 1 Axes>"
      ]
     },
     "metadata": {
      "needs_background": "light"
     },
     "output_type": "display_data"
    }
   ],
   "source": [
    "initial_config = [10,0,3*math.pi/4]\n",
    "final_config = [-10,10,math.pi]\n",
    "testing(initial_config, final_config)"
   ]
  },
  {
   "cell_type": "markdown",
   "metadata": {},
   "source": [
    "# Another class test with Singularities "
   ]
  },
  {
   "cell_type": "markdown",
   "metadata": {},
   "source": [
    "## The curve goes from the top left to the bottom right"
   ]
  },
  {
   "cell_type": "code",
   "execution_count": 21,
   "metadata": {},
   "outputs": [
    {
     "name": "stdout",
     "output_type": "stream",
     "text": [
      "no point near singularity\n",
      "x(lmb) = -10 + 20*lmb + 0*lmb² + 0*lmb³\n",
      "y(lmb) = 10 + -3.266247870639074e+17*lmb + 6.532495741278148e+17*lmb² + -3.266247870639073e+17*lmb³\n",
      "theta(lmb) = atan( (-3.266247870639074e+17 + 1.3064991482556296e+18*lmb + -9.79874361191722e+17*lmb²) / (20 + 0*lmb + 0*lmb²) )\n"
     ]
    },
    {
     "data": {
      "image/png": "[encoded data removed]",
      "text/plain": [
       "<Figure size 432x288 with 1 Axes>"
      ]
     },
     "metadata": {
      "needs_background": "light"
     },
     "output_type": "display_data"
    }
   ],
   "source": [
    "initial_config = [-10,10,-math.pi/2]\n",
    "final_config = [10,-10,-math.pi]\n",
    "testing(initial_config, final_config)"
   ]
  },
  {
   "cell_type": "markdown",
   "metadata": {},
   "source": [
    "## The curve goes from the top right to bottom left"
   ]
  },
  {
   "cell_type": "code",
   "execution_count": 22,
   "metadata": {},
   "outputs": [
    {
     "name": "stdout",
     "output_type": "stream",
     "text": [
      "no point near singularity\n",
      "x(lmb) = 10 + -20*lmb + 0*lmb² + 0*lmb³\n",
      "y(lmb) = 10 + 3.266247870639074e+17*lmb + -6.532495741278148e+17*lmb² + 3.2662478706390746e+17*lmb³\n",
      "theta(lmb) = atan( (3.266247870639074e+17 + -1.3064991482556296e+18*lmb + 9.798743611917224e+17*lmb²) / (-20 + 0*lmb + 0*lmb²) )\n"
     ]
    },
    {
     "data": {
      "image/png": "[encoded data removed]",
      "text/plain": [
       "<Figure size 432x288 with 1 Axes>"
      ]
     },
     "metadata": {
      "needs_background": "light"
     },
     "output_type": "display_data"
    }
   ],
   "source": [
    "initial_config = [10,10,-math.pi/2]\n",
    "final_config = [-10,-10,-math.pi]\n",
    "testing(initial_config, final_config)"
   ]
  },
  {
   "cell_type": "markdown",
   "metadata": {},
   "source": [
    "# More tests without singularities"
   ]
  },
  {
   "cell_type": "markdown",
   "metadata": {},
   "source": [
    "## The curve goes from the bottom left to the top right"
   ]
  },
  {
   "cell_type": "code",
   "execution_count": 23,
   "metadata": {},
   "outputs": [
    {
     "name": "stdout",
     "output_type": "stream",
     "text": [
      "no point near singularity\n",
      "x(lmb) = -10 + 20*lmb + 0*lmb² + 0*lmb³\n",
      "y(lmb) = -10 + 0.0*lmb + 60.0*lmb² + -40.0*lmb³\n",
      "theta(lmb) = atan( (0.0 + 120.0*lmb + -120.0*lmb²) / (20 + 0*lmb + 0*lmb²) )\n"
     ]
    },
    {
     "data": {
      "image/png": "[encoded data removed]",
      "text/plain": [
       "<Figure size 432x288 with 1 Axes>"
      ]
     },
     "metadata": {
      "needs_background": "light"
     },
     "output_type": "display_data"
    }
   ],
   "source": [
    "initial_config = [-10,-10,0]\n",
    "final_config = [10,10,0]\n",
    "testing(initial_config, final_config)"
   ]
  },
  {
   "cell_type": "markdown",
   "metadata": {},
   "source": [
    "## The curve goes from the top left to the bottom right"
   ]
  },
  {
   "cell_type": "code",
   "execution_count": 24,
   "metadata": {},
   "outputs": [
    {
     "name": "stdout",
     "output_type": "stream",
     "text": [
      "no point near singularity\n",
      "x(lmb) = -10 + 20*lmb + 0*lmb² + 0*lmb³\n",
      "y(lmb) = 10 + 0.0*lmb + -60.0*lmb² + 40.0*lmb³\n",
      "theta(lmb) = atan( (0.0 + -120.0*lmb + 120.0*lmb²) / (20 + 0*lmb + 0*lmb²) )\n"
     ]
    },
    {
     "data": {
      "image/png": "[encoded data removed]",
      "text/plain": [
       "<Figure size 432x288 with 1 Axes>"
      ]
     },
     "metadata": {
      "needs_background": "light"
     },
     "output_type": "display_data"
    }
   ],
   "source": [
    "initial_config = [-10,10,0]\n",
    "final_config = [10,-10,0]\n",
    "testing(initial_config, final_config)"
   ]
  },
  {
   "cell_type": "markdown",
   "metadata": {},
   "source": [
    "## The curve goes from the top right to bottom left"
   ]
  },
  {
   "cell_type": "code",
   "execution_count": 25,
   "metadata": {},
   "outputs": [
    {
     "name": "stdout",
     "output_type": "stream",
     "text": [
      "no point near singularity\n",
      "x(lmb) = 10 + -20*lmb + 0*lmb² + 0*lmb³\n",
      "y(lmb) = 10 + -0.0*lmb + -60.0*lmb² + 40.0*lmb³\n",
      "theta(lmb) = atan( (-0.0 + -120.0*lmb + 120.0*lmb²) / (-20 + 0*lmb + 0*lmb²) )\n"
     ]
    },
    {
     "data": {
      "image/png": "[encoded data removed]",
      "text/plain": [
       "<Figure size 432x288 with 1 Axes>"
      ]
     },
     "metadata": {
      "needs_background": "light"
     },
     "output_type": "display_data"
    }
   ],
   "source": [
    "initial_config = [10,10,0]\n",
    "final_config = [-10,-10,0]\n",
    "testing(initial_config, final_config)"
   ]
  },
  {
   "cell_type": "markdown",
   "metadata": {},
   "source": [
    "## The curve goes from the bottom right to top left"
   ]
  },
  {
   "cell_type": "code",
   "execution_count": 26,
   "metadata": {},
   "outputs": [
    {
     "name": "stdout",
     "output_type": "stream",
     "text": [
      "no point near singularity\n",
      "x(lmb) = 10 + -20*lmb + 0*lmb² + 0*lmb³\n",
      "y(lmb) = -10 + -0.0*lmb + 60.0*lmb² + -40.0*lmb³\n",
      "theta(lmb) = atan( (-0.0 + 120.0*lmb + -120.0*lmb²) / (-20 + 0*lmb + 0*lmb²) )\n"
     ]
    },
    {
     "data": {
      "image/png": "[encoded data removed]",
      "text/plain": [
       "<Figure size 432x288 with 1 Axes>"
      ]
     },
     "metadata": {
      "needs_background": "light"
     },
     "output_type": "display_data"
    }
   ],
   "source": [
    "initial_config = [10,-10,0]\n",
    "final_config = [-10,10,0]\n",
    "testing(initial_config, final_config)"
   ]
  }
 ],
 "metadata": {
  "interpreter": {
   "hash": "31f2aee4e71d21fbe5cf8b01ff0e069b9275f58929596ceb00d14d90e3e16cd6"
  },
  "kernelspec": {
   "display_name": "Python 3.8.10 64-bit",
   "language": "python",
   "name": "python3"
  },
  "language_info": {
   "codemirror_mode": {
    "name": "ipython",
    "version": 3
   },
   "file_extension": ".py",
   "mimetype": "text/x-python",
   "name": "python",
   "nbconvert_exporter": "python",
   "pygments_lexer": "ipython3",
   "version": "3.8.10"
  },
  "orig_nbformat": 4
 },
 "nbformat": 4,
 "nbformat_minor": 2
}
