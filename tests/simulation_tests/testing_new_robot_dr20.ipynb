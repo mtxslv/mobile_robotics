{
 "cells": [
  {
   "cell_type": "code",
   "execution_count": 1,
   "metadata": {},
   "outputs": [],
   "source": [
    "this_file_name = 'testing_new_robot_dr20.ipynb'\n",
    "import sys\n",
    "import os\n",
    "sys.path.insert(0, os.path.abspath(\n",
    "    os.path.join(os.path.dirname(this_file_name), '../../src/') ))\n",
    "from utils import *\n",
    "import time"
   ]
  },
  {
   "cell_type": "code",
   "execution_count": 2,
   "metadata": {},
   "outputs": [],
   "source": [
    "from utils import * "
   ]
  },
  {
   "cell_type": "code",
   "execution_count": 3,
   "metadata": {},
   "outputs": [
    {
     "name": "stdout",
     "output_type": "stream",
     "text": [
      "Connected to remote API server\n",
      "Number of objects in the scene:  36\n"
     ]
    }
   ],
   "source": [
    "client_id = connect_2_sim()\n",
    "test_connection(client_id)"
   ]
  },
  {
   "cell_type": "code",
   "execution_count": 4,
   "metadata": {},
   "outputs": [],
   "source": [
    "error_dr20, handle_dr20 = sim.simxGetObjectHandle(clientID=client_id,\n",
    "                                                  objectName='dr20',\n",
    "                                                  operationMode=sim.simx_opmode_blocking)"
   ]
  },
  {
   "cell_type": "markdown",
   "metadata": {},
   "source": [
    "# How to get the bounding box corners\n",
    "\n",
    "There is a method to get the bounding box corners. It was adress in two Coppelia's topics:\n",
    "- [question by  alex270295](https://forum.coppeliarobotics.com/viewtopic.php?t=4717)\n",
    "- [question by Tiriar](https://forum.coppeliarobotics.com/viewtopic.php?f=9&t=5109) \n",
    "\n",
    "Basically, the method `sim.simxGetObjectFloatParameter(...)` is able to retrieve several floating parameters ([this list of such parameters can be found here](https://www.coppeliarobotics.com/helpFiles/en/objectParameterIDs.htm)). The method's docs can be read right [here](https://www.coppeliarobotics.com/helpFiles/en/remoteApiFunctionsPython.htm#simxGetObjectFloatParameter).\n"
   ]
  },
  {
   "cell_type": "code",
   "execution_count": 5,
   "metadata": {},
   "outputs": [
    {
     "name": "stdout",
     "output_type": "stream",
     "text": [
      "motor handles successfully retrieved!\n"
     ]
    }
   ],
   "source": [
    "left_motor_handle,right_motor_handle = get_robot_motor_handles_(client_id, './leftWheelJoint_','./rightWheelJoint_') \n",
    "# now we just need to pass the motor handler "
   ]
  },
  {
   "cell_type": "code",
   "execution_count": 19,
   "metadata": {},
   "outputs": [
    {
     "data": {
      "text/plain": [
       "-89.30989967030324"
      ]
     },
     "execution_count": 19,
     "metadata": {},
     "output_type": "execute_result"
    }
   ],
   "source": [
    "position_vector, angle_vector = get_configuration(client_id,handle_dr20)\n",
    "180*angle_vector[2]/3.14 # rad to angle"
   ]
  },
  {
   "cell_type": "code",
   "execution_count": 7,
   "metadata": {},
   "outputs": [],
   "source": [
    "min_x, min_y, min_z, max_x, max_y, max_z = get_bounding_box_corners_positions(client_id,handle_dr20)"
   ]
  },
  {
   "cell_type": "code",
   "execution_count": 25,
   "metadata": {},
   "outputs": [
    {
     "name": "stdout",
     "output_type": "stream",
     "text": [
      "MIN = (-0.11, -0.15, -0.17) | MAX = (0.12, 0, 0.13)\n",
      "MIN = (-0.11, -0.15, -0.17) | MAX = (0.12, 0, 0.13)\n",
      "MIN = (-0.11, -0.15, -0.17) | MAX = (0.12, 0, 0.13)\n",
      "MIN = (-0.11, -0.15, -0.17) | MAX = (0.12, 0, 0.13)\n",
      "MIN = (-0.11, -0.15, -0.17) | MAX = (0.12, 0, 0.13)\n"
     ]
    }
   ],
   "source": [
    "\n",
    "robot_run(clientID=client_id,\n",
    "          left_motor_handle=left_motor_handle,\n",
    "          right_motor_handle=right_motor_handle,\n",
    "          left_target_velocity=-1,\n",
    "          right_target_velocity=1)\n",
    "\n",
    "for it in range(0,5):\n",
    "    time.sleep(1)\n",
    "    min_x, min_y, min_z, max_x, max_y, max_z = get_bounding_box_corners_positions(client_id,handle_dr20)\n",
    "    print(f'MIN = {round(min_x,2), round(min_y,2), round(min_z,2)} | MAX = {round(max_x,2), round(max_y), round(max_z,2)}')"
   ]
  }
 ],
 "metadata": {
  "interpreter": {
   "hash": "31f2aee4e71d21fbe5cf8b01ff0e069b9275f58929596ceb00d14d90e3e16cd6"
  },
  "kernelspec": {
   "display_name": "Python 3.8.10 64-bit",
   "language": "python",
   "name": "python3"
  },
  "language_info": {
   "codemirror_mode": {
    "name": "ipython",
    "version": 3
   },
   "file_extension": ".py",
   "mimetype": "text/x-python",
   "name": "python",
   "nbconvert_exporter": "python",
   "pygments_lexer": "ipython3",
   "version": "3.8.10"
  },
  "orig_nbformat": 4
 },
 "nbformat": 4,
 "nbformat_minor": 2
}
