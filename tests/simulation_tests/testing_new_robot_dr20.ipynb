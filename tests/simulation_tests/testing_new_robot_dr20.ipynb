{
 "cells": [
  {
   "cell_type": "code",
   "execution_count": 8,
   "metadata": {},
   "outputs": [],
   "source": [
    "this_file_name = 'testing_new_robot_dr20.ipynb'\n",
    "import sys\n",
    "import os\n",
    "sys.path.insert(0, os.path.abspath(\n",
    "    os.path.join(os.path.dirname(this_file_name), '../../src/') ))\n",
    "from utils import *"
   ]
  },
  {
   "cell_type": "code",
   "execution_count": 9,
   "metadata": {},
   "outputs": [],
   "source": [
    "from utils import * "
   ]
  },
  {
   "cell_type": "code",
   "execution_count": 10,
   "metadata": {},
   "outputs": [
    {
     "name": "stdout",
     "output_type": "stream",
     "text": [
      "Connected to remote API server\n",
      "Number of objects in the scene:  36\n"
     ]
    }
   ],
   "source": [
    "client_id = connect_2_sim()\n",
    "test_connection(client_id)"
   ]
  },
  {
   "cell_type": "code",
   "execution_count": 14,
   "metadata": {},
   "outputs": [
    {
     "name": "stdout",
     "output_type": "stream",
     "text": [
      "motor handles successfully retrieved!\n"
     ]
    }
   ],
   "source": [
    "left_motor_handle,right_motor_handle = get_robot_motor_handles_(client_id, './leftWheelJoint_','./rightWheelJoint_') \n",
    "# now we just need to pass the motor handler "
   ]
  },
  {
   "cell_type": "code",
   "execution_count": 17,
   "metadata": {},
   "outputs": [
    {
     "data": {
      "text/plain": [
       "(0, 0)"
      ]
     },
     "execution_count": 17,
     "metadata": {},
     "output_type": "execute_result"
    }
   ],
   "source": [
    "robot_run(clientID=client_id,\n",
    "          left_motor_handle=left_motor_handle,\n",
    "          right_motor_handle=right_motor_handle,\n",
    "          left_target_velocity=-1,\n",
    "          right_target_velocity=1)"
   ]
  }
 ],
 "metadata": {
  "interpreter": {
   "hash": "31f2aee4e71d21fbe5cf8b01ff0e069b9275f58929596ceb00d14d90e3e16cd6"
  },
  "kernelspec": {
   "display_name": "Python 3.8.10 64-bit",
   "language": "python",
   "name": "python3"
  },
  "language_info": {
   "codemirror_mode": {
    "name": "ipython",
    "version": 3
   },
   "file_extension": ".py",
   "mimetype": "text/x-python",
   "name": "python",
   "nbconvert_exporter": "python",
   "pygments_lexer": "ipython3",
   "version": "3.8.10"
  },
  "orig_nbformat": 4
 },
 "nbformat": 4,
 "nbformat_minor": 2
}
