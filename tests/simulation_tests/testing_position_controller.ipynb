{
 "cells": [
  {
   "cell_type": "code",
   "execution_count": 17,
   "metadata": {},
   "outputs": [],
   "source": [
    "this_file_name = 'testing_position_controller.ipynb'\n",
    "import sys\n",
    "import os\n",
    "sys.path.insert(0, os.path.abspath(\n",
    "    os.path.join(os.path.dirname(this_file_name), '../../src/') ))\n",
    "from utils import *\n",
    "import numpy as np\n",
    "from controllers import *"
   ]
  },
  {
   "cell_type": "markdown",
   "metadata": {},
   "source": [
    "# Connecting to the Simulator"
   ]
  },
  {
   "cell_type": "code",
   "execution_count": 18,
   "metadata": {},
   "outputs": [
    {
     "name": "stdout",
     "output_type": "stream",
     "text": [
      "Connected to remote API server\n",
      "Number of objects in the scene:  57\n"
     ]
    }
   ],
   "source": [
    "clientID = connect_2_sim()\n",
    "test_connection(clientID)"
   ]
  },
  {
   "cell_type": "markdown",
   "metadata": {},
   "source": [
    "## Getting robot handle"
   ]
  },
  {
   "cell_type": "code",
   "execution_count": 19,
   "metadata": {},
   "outputs": [
    {
     "name": "stdout",
     "output_type": "stream",
     "text": [
      "PioneerP3DX handler successfully retrieved!\n"
     ]
    }
   ],
   "source": [
    "p3dx_handle = get_pioneer3DX_handle(clientID)"
   ]
  },
  {
   "cell_type": "code",
   "execution_count": 20,
   "metadata": {},
   "outputs": [
    {
     "data": {
      "text/plain": [
       "[-0.19962504506111145, -0.4518885612487793]"
      ]
     },
     "execution_count": 20,
     "metadata": {},
     "output_type": "execute_result"
    }
   ],
   "source": [
    "p3dx_position = sim.simxGetObjectPosition(clientID,p3dx_handle,-1,sim.simx_opmode_blocking)\n",
    "p3dx_position[1][0:2]"
   ]
  },
  {
   "cell_type": "code",
   "execution_count": 21,
   "metadata": {},
   "outputs": [
    {
     "data": {
      "text/plain": [
       "[-0.19962504506111145, -0.4518885612487793, 0.13863599300384521]"
      ]
     },
     "execution_count": 21,
     "metadata": {},
     "output_type": "execute_result"
    }
   ],
   "source": [
    "p3dx_position[1]"
   ]
  },
  {
   "cell_type": "code",
   "execution_count": 22,
   "metadata": {},
   "outputs": [
    {
     "data": {
      "text/plain": [
       "3.138993501663208"
      ]
     },
     "execution_count": 22,
     "metadata": {},
     "output_type": "execute_result"
    }
   ],
   "source": [
    "p3dx_orientation = sim.simxGetObjectOrientation(clientID,p3dx_handle,-1,sim.simx_opmode_blocking)\n",
    "p3dx_orientation[1][2]"
   ]
  },
  {
   "cell_type": "code",
   "execution_count": 23,
   "metadata": {},
   "outputs": [
    {
     "data": {
      "text/plain": [
       "array([-0.19962505, -0.45188856,  3.1389935 ])"
      ]
     },
     "execution_count": 23,
     "metadata": {},
     "output_type": "execute_result"
    }
   ],
   "source": [
    "p3dx_initial_config = np.concatenate((p3dx_position[1][0:2], [p3dx_orientation[1][2]])) # x,y,theta\n",
    "p3dx_initial_config"
   ]
  },
  {
   "cell_type": "markdown",
   "metadata": {},
   "source": [
    "# Creating the Position Controller\n",
    "\n",
    "## Assumptions\n",
    "In order to create the position controller, let's assume we want to go from an actual point to a given one. The \"actual point\" is the one the robot is currently sitting on. This way of testing is useful for creating the class itself without having to worry how to find the nearest curve point.  \n",
    "\n",
    "I think I might have come up with an way of creating the position controller, considering the idea of going from a point to another one (no curve's nearest point calculation involved). To do so, consider the robot is found in a current configuration $[x_{current}, y_{current}, \\theta_{current}]^T$ and we want to send it to another config: $[x_{goal}, y_{goal}, \\theta_{goal}]^T$.\n",
    "\n",
    "## First Computations\n",
    "First of all, it is necessary to calculate the position and angle difference:\n",
    "* $\\Delta x = x_{goal} - x_{current}$\n",
    "* $\\Delta y = y_{goal} - y_{current}$\n",
    "* $\\Delta L^* = \\sqrt(\\Delta x² + \\Delta y²)$\n",
    "* $\\Delta \\theta = \\theta_{goal} - \\theta_{current}$\n",
    "* $\\Delta L = cos(\\Delta \\theta) \\Delta L^* $\n",
    "\n",
    "## Virtual variables Control\n",
    "Through PID, we can control u_omega and u_v, such that:\n",
    "* $\\Delta \\theta$ -> [PID] -> $u_{\\omega}$ -> [ROBOT] -> $\\theta$\n",
    "* $\\Delta L$ -> [PID] -> $u_v$ -> [ROBOT] -> x,y\n",
    "\n",
    "## Coupling/Decoupling Matrix\n",
    "Naturally, we cannot input $u_{\\omega}$ and $u_v$ directly to the robot. How do we do, then? We map them using the decoupling matrix:\n",
    "\n",
    "$$\n",
    "\\begin{bmatrix} v \\\\ \\omega \\end{bmatrix} = \n",
    "\\begin{bmatrix} r_r/2 & r_l/2 \\\\ r_r/b & -r_l/b \\end{bmatrix} \n",
    "\\begin{bmatrix} \\omega_d \\\\ \\omega_e \\end{bmatrix}\n",
    "$$\n",
    "\n",
    "## Control Loop Explained\n",
    "In general, we have:\n",
    "* x*,y* -> [POSITION CONTROLLER] -> $\\omega_r , \\omega_l$ ->[ROBOT] -> $x,y, \\theta$\n",
    "\n",
    "Where:\n",
    "* x*,y* -> [POSITION CONTROLLER] -> $\\omega_r , \\omega_l$  = x*,y* -> [ -> [variable reference computation] -> $\\Delta L, \\Delta \\theta$ -> [decoupled controller] -> ] -> $\\omega_r , \\omega_l$  \n",
    "\n",
    "The **decoupled controller** has a PID control for each input variable (as shown above on _Virtual Variables Control_). The variables resulting from the PID control are re-coupled using the matrix shown.\n",
    "\n",
    "## A tip on fine-tuning\n",
    "Another detail regards the PID controls. There is a PID control for each variable ( $u_{\\omega}$ and $u_v$). They need to be fine-tuned. It is recommended to fine-tune the $u_{\\omega}$ PID before $u_v$ PID, so the resulting curve will be smoother.\n",
    "\n",
    "## A tip on P3DX decoupling matrix\n",
    "\n",
    "According to (what looks like) [P3DX's official documentation](https://www.generationrobots.com/media/Pioneer3DX-P3DX-RevA.pdf), the wheel's radius equals 97.5 millimeters, while the distance between the wheels is 381 millimeters. Thus, numerically, the matrix equals:\n",
    "\n",
    "$$\n",
    "\\begin{bmatrix} v \\\\ \\omega \\end{bmatrix} = \n",
    "\\begin{bmatrix} 48.75 & 48.75 \\\\ 0.255905512 & -0.255905512 \\end{bmatrix} \n",
    "\\begin{bmatrix} \\omega_d \\\\ \\omega_e \\end{bmatrix}\n",
    "$$\n",
    "\n",
    "What leads to...\n",
    "\n",
    "$$\n",
    "\\begin{bmatrix} \\omega_d \\\\ \\omega_e \\end{bmatrix} = \n",
    "\\begin{bmatrix} 0.010 & 1.954 \\\\ 0.010 & -1.954 \\end{bmatrix} \n",
    "\\begin{bmatrix} v \\\\ \\omega \\end{bmatrix} \n",
    "$$"
   ]
  },
  {
   "cell_type": "markdown",
   "metadata": {},
   "source": [
    "# Simulating Position Controller"
   ]
  },
  {
   "cell_type": "code",
   "execution_count": 24,
   "metadata": {},
   "outputs": [],
   "source": [
    "delL_params = np.array([0.9,0.01,0])\n",
    "delTh_params = np.array([1,0.1,0])\n",
    "uncoupling_m = np.array([[0.01,1.954],[0.01,-1.954]])"
   ]
  },
  {
   "cell_type": "code",
   "execution_count": 25,
   "metadata": {},
   "outputs": [],
   "source": [
    "position_controller = UncoupledController(delL_controller_params=delL_params,\n",
    "                                          delTH_controller_params=delTh_params,\n",
    "                                          uncoupling_matrix=uncoupling_m)"
   ]
  },
  {
   "cell_type": "code",
   "execution_count": 26,
   "metadata": {},
   "outputs": [],
   "source": [
    "goal_position = np.array([1,1,1.57])"
   ]
  },
  {
   "cell_type": "code",
   "execution_count": 27,
   "metadata": {},
   "outputs": [
    {
     "data": {
      "text/plain": [
       "array([ 1.19962505,  1.45188856, -1.5689935 ])"
      ]
     },
     "execution_count": 27,
     "metadata": {},
     "output_type": "execute_result"
    }
   ],
   "source": [
    "goal_position - p3dx_initial_config"
   ]
  }
 ],
 "metadata": {
  "interpreter": {
   "hash": "31f2aee4e71d21fbe5cf8b01ff0e069b9275f58929596ceb00d14d90e3e16cd6"
  },
  "kernelspec": {
   "display_name": "Python 3.8.10 64-bit",
   "language": "python",
   "name": "python3"
  },
  "language_info": {
   "codemirror_mode": {
    "name": "ipython",
    "version": 3
   },
   "file_extension": ".py",
   "mimetype": "text/x-python",
   "name": "python",
   "nbconvert_exporter": "python",
   "pygments_lexer": "ipython3",
   "version": "3.8.10"
  },
  "orig_nbformat": 4
 },
 "nbformat": 4,
 "nbformat_minor": 2
}
