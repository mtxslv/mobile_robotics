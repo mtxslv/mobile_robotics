{
 "cells": [
  {
   "cell_type": "code",
   "execution_count": 39,
   "metadata": {},
   "outputs": [],
   "source": [
    "this_file_name = 'sketching_configuration_mapping.ipynb'\n",
    "import sys\n",
    "import os\n",
    "sys.path.insert(0, os.path.abspath(\n",
    "    os.path.join(os.path.dirname(this_file_name), '../../src/') ))\n",
    "\n",
    "from configuration_space_mapping import *\n",
    "from utils import *"
   ]
  },
  {
   "cell_type": "markdown",
   "metadata": {},
   "source": [
    "# The idea\n",
    "\n",
    "First, retrieve all scene objects' configuration and position. "
   ]
  },
  {
   "cell_type": "code",
   "execution_count": 40,
   "metadata": {},
   "outputs": [
    {
     "name": "stdout",
     "output_type": "stream",
     "text": [
      "Connected to remote API server\n",
      "Number of objects in the scene:  42\n"
     ]
    }
   ],
   "source": [
    "client_id = connect_2_sim()\n",
    "test_connection(client_id)"
   ]
  },
  {
   "cell_type": "code",
   "execution_count": 41,
   "metadata": {},
   "outputs": [],
   "source": [
    "scene_objects = ['Cuboid_0','Cuboid_1','Cuboid_2',\n",
    "                 'Cuboid_3','Cuboid_4','dr20']"
   ]
  },
  {
   "cell_type": "code",
   "execution_count": 42,
   "metadata": {},
   "outputs": [],
   "source": [
    "listazinha = get_scene_objects_info(client_id, scene_objects)"
   ]
  },
  {
   "cell_type": "code",
   "execution_count": 43,
   "metadata": {},
   "outputs": [
    {
     "name": "stdout",
     "output_type": "stream",
     "text": [
      "[-1.72, 0.25, 0.25]\n",
      "[-0.35, 1.5, 0.5]\n",
      "[-1.52, -1.22, 0.5]\n",
      "[-0.15, -0.1, 0.25]\n",
      "[1.4, -0.15, 0.5]\n",
      "[-2.02, 1.73, 0.15]\n"
     ]
    }
   ],
   "source": [
    "for element in listazinha:\n",
    "    a = round(element['object_position'][0],2)\n",
    "    b = round(element['object_position'][1],2)\n",
    "    c = round(element['object_position'][2],2)\n",
    "    print([a,b,c])"
   ]
  },
  {
   "cell_type": "code",
   "execution_count": 44,
   "metadata": {},
   "outputs": [],
   "source": [
    "info_list, robot_information = split_robot_from_info_list(listazinha,'dr20')"
   ]
  },
  {
   "cell_type": "code",
   "execution_count": 45,
   "metadata": {},
   "outputs": [
    {
     "name": "stdout",
     "output_type": "stream",
     "text": [
      "Cuboid_0\n",
      "Cuboid_1\n",
      "Cuboid_2\n",
      "Cuboid_3\n",
      "Cuboid_4\n"
     ]
    }
   ],
   "source": [
    "for element in info_list:\n",
    "    print(element['object_name'])"
   ]
  },
  {
   "cell_type": "markdown",
   "metadata": {},
   "source": [
    "we know there are 4 horizontal normal vectors. Two of them point to X and Y. The other two point to -X and -Y. \n",
    "\n",
    "How to know where X is pointing? Well, it is given by the Z Euler vector. \n",
    "\n",
    "Where does Y point to? to X+90º. And what about -X and -Y? We just need to add 180º to X and Y.\n",
    "\n",
    "# Creating Configuration Map\n",
    "\n",
    "1. Step\n",
    "To orient the robot so its euler angles will be 0,0,0.\n",
    "2. Step\n",
    "For each obstacle, do the following:\n",
    "- Get the bounding box vertices from $x_{min}, x_{max}, y_{min}, y_{max}, z_{min}, z_{max}$\n",
    "- Map bounding box vertices (in object's reference frame to global reference frame)\n",
    "- Test applicability using the normal's orientation (i think i'll need to check sine and cossine, or limit the orientation within [0,2pi] )\n",
    "- Create Configuration Vertice "
   ]
  },
  {
   "cell_type": "code",
   "execution_count": 46,
   "metadata": {},
   "outputs": [
    {
     "data": {
      "text/plain": [
       "0"
      ]
     },
     "execution_count": 46,
     "metadata": {},
     "output_type": "execute_result"
    }
   ],
   "source": [
    "handle_dr20 = get_object_handle(client_id,'dr20')\n",
    "euler_orientation = (0,0,0)\n",
    "sim.simxSetObjectOrientation(client_id,handle_dr20,-1,euler_orientation,sim.simx_opmode_blocking)"
   ]
  },
  {
   "cell_type": "code",
   "execution_count": 47,
   "metadata": {},
   "outputs": [
    {
     "data": {
      "text/plain": [
       "-0.007493937796628352"
      ]
     },
     "execution_count": 47,
     "metadata": {},
     "output_type": "execute_result"
    }
   ],
   "source": [
    "robot_pos, robot_ang = get_configuration(client_id, handle_dr20)\n",
    "180*robot_ang[2]/3.14"
   ]
  },
  {
   "cell_type": "code",
   "execution_count": 48,
   "metadata": {},
   "outputs": [
    {
     "data": {
      "text/plain": [
       "(0, 1.570796326795, 3.14159265359, 4.7123889803850005)"
      ]
     },
     "execution_count": 48,
     "metadata": {},
     "output_type": "execute_result"
    }
   ],
   "source": [
    "get_normals_orientation(0)"
   ]
  },
  {
   "cell_type": "code",
   "execution_count": 33,
   "metadata": {},
   "outputs": [
    {
     "name": "stdout",
     "output_type": "stream",
     "text": [
      "Cuboid_0: (5.470312481296908e-17, 1.570796326795, 3.14159265359, 4.7123889803850005)\n",
      "Cuboid_1: (-4.748175431334412e-19, 1.570796326795, 3.14159265359, 4.7123889803850005)\n",
      "Cuboid_2: (3.2353105017202745e-17, 1.570796326795, 3.14159265359, 4.7123889803850005)\n",
      "Cuboid_3: (2.567217400476508e-17, 1.570796326795, 3.14159265359, 4.7123889803850005)\n",
      "Cuboid_4: (-1.7059819275407946e-17, 1.570796326795, 3.14159265359, 4.7123889803850005)\n"
     ]
    }
   ],
   "source": [
    "for element in info_list:\n",
    "    normals = get_normals_orientation(element['object_orientation'][2])\n",
    "    # position_x = round\n",
    "    print(f'{element[\"object_name\"]}: {normals}')"
   ]
  },
  {
   "cell_type": "code",
   "execution_count": 50,
   "metadata": {},
   "outputs": [],
   "source": [
    "x_min, y_min, z_min, x_max, y_max, z_max = get_bounding_box_corners_positions(client_id,listazinha[0]['object_handler'],\"model\")"
   ]
  },
  {
   "cell_type": "code",
   "execution_count": null,
   "metadata": {},
   "outputs": [],
   "source": [
    "def get_bounding_box_corners_local_coordinates(client_id, object_handle, parameter_id_type='model', consider_up_layer = False):\n",
    "\n",
    "    \"\"\"This method returns the coordinates of the bounding box corners, in the local reference frame. The order starts at the top right point and goes anti-clockwise until the down right point.\n",
    "\n",
    "    Returns:\n",
    "        tuple: vectors from point 1 to point 8\n",
    "    \"\"\"\n",
    "    # the idea is to get the coordinates and return it anti-clockwise (to match mapping algorithm)\n",
    "    x_min, y_min, z_min, x_max, y_max, z_max = get_bounding_box_corners_positions(client_id,object_handle,parameter_id_type)\n",
    "\n",
    "    # down layer points\n",
    "    point_1 = np.array([x_max,y_max,z_min])\n",
    "    point_2 = np.array([x_min,y_max,z_min])\n",
    "    point_3 = np.array([x_min,y_min,z_min])\n",
    "    point_4 = np.array([x_max,y_min,z_min])\n",
    "    \n",
    "    if consider_up_layer:\n",
    "        point_5 = np.array([x_max,y_max,z_max])\n",
    "        point_6 = np.array([x_min,y_max,z_max])\n",
    "        point_7 = np.array([x_min,y_min,z_max])\n",
    "        point_8 = np.array([x_max,y_min,z_max])\n",
    "        return point_1, point_2, point_3, point_4, point_5, point_6, point_7, point_8\n",
    "    \n",
    "    else:\n",
    "        return point_1, point_2, point_3, point_4\n"
   ]
  }
 ],
 "metadata": {
  "interpreter": {
   "hash": "31f2aee4e71d21fbe5cf8b01ff0e069b9275f58929596ceb00d14d90e3e16cd6"
  },
  "kernelspec": {
   "display_name": "Python 3.8.10 64-bit",
   "language": "python",
   "name": "python3"
  },
  "language_info": {
   "codemirror_mode": {
    "name": "ipython",
    "version": 3
   },
   "file_extension": ".py",
   "mimetype": "text/x-python",
   "name": "python",
   "nbconvert_exporter": "python",
   "pygments_lexer": "ipython3",
   "version": "3.8.10"
  },
  "orig_nbformat": 4
 },
 "nbformat": 4,
 "nbformat_minor": 2
}
