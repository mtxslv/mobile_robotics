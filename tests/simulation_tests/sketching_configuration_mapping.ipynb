{
 "cells": [
  {
   "cell_type": "code",
   "execution_count": 13,
   "metadata": {},
   "outputs": [],
   "source": [
    "this_file_name = 'sketching_configuration_mapping.ipynb'\n",
    "import sys\n",
    "import os\n",
    "sys.path.insert(0, os.path.abspath(\n",
    "    os.path.join(os.path.dirname(this_file_name), '../../src/') ))\n",
    "\n",
    "from configuration_space_mapping import *\n",
    "from utils import *\n",
    "import pandas as pd\n",
    "import matplotlib.pyplot as plt"
   ]
  },
  {
   "cell_type": "markdown",
   "metadata": {},
   "source": [
    "# Some simulation codes\n",
    "\n",
    "First, retrieve all scene objects' configuration and position. "
   ]
  },
  {
   "cell_type": "code",
   "execution_count": 14,
   "metadata": {},
   "outputs": [
    {
     "name": "stdout",
     "output_type": "stream",
     "text": [
      "Connected to remote API server\n",
      "Number of objects in the scene:  42\n"
     ]
    }
   ],
   "source": [
    "client_id = connect_2_sim()\n",
    "test_connection(client_id)"
   ]
  },
  {
   "cell_type": "code",
   "execution_count": 15,
   "metadata": {},
   "outputs": [
    {
     "name": "stdout",
     "output_type": "stream",
     "text": [
      "[-1.72, 0.25, 0.25]\n",
      "[-0.35, 1.5, 0.5]\n",
      "[-1.52, -1.22, 0.5]\n",
      "[-0.15, -0.1, 0.25]\n",
      "[1.4, -0.15, 0.5]\n",
      "[-2.02, 1.73, 0.15]\n"
     ]
    }
   ],
   "source": [
    "scene_objects = ['Cuboid_0','Cuboid_1','Cuboid_2',\n",
    "                 'Cuboid_3','Cuboid_4','dr20']\n",
    "\n",
    "listazinha = get_scene_objects_info(client_id, scene_objects)\n",
    "\n",
    "for element in listazinha:\n",
    "    a = round(element['object_position'][0],2)\n",
    "    b = round(element['object_position'][1],2)\n",
    "    c = round(element['object_position'][2],2)\n",
    "    print([a,b,c])"
   ]
  },
  {
   "cell_type": "code",
   "execution_count": 16,
   "metadata": {},
   "outputs": [],
   "source": [
    "info_list, robot_information = split_robot_from_info_list(listazinha,'dr20')"
   ]
  },
  {
   "cell_type": "code",
   "execution_count": 17,
   "metadata": {},
   "outputs": [
    {
     "data": {
      "text/plain": [
       "0"
      ]
     },
     "execution_count": 17,
     "metadata": {},
     "output_type": "execute_result"
    }
   ],
   "source": [
    "# re orient the robot to test stuff\n",
    "\n",
    "handle_dr20 = get_object_handle(client_id,'dr20')\n",
    "euler_orientation = (0,0,1.57)\n",
    "sim.simxSetObjectOrientation(client_id,handle_dr20,-1,euler_orientation,sim.simx_opmode_blocking)"
   ]
  },
  {
   "cell_type": "markdown",
   "metadata": {},
   "source": [
    "# Trying to create the mapping algorithm: 2nd approach"
   ]
  },
  {
   "cell_type": "code",
   "execution_count": 18,
   "metadata": {},
   "outputs": [],
   "source": [
    "# Now that I have the objects handlers, I need to get the robot handler so I can retrieve its global coordinates and normals\n",
    "local_c_robot = get_bounding_box_corners_local_coordinates(client_id, robot_information['object_handler'])\n",
    "\n",
    "position_robot = robot_information['object_position']\n",
    "orientation_robot = robot_information['object_orientation']\n",
    "orientation_robot.reverse() # notice that the orientation vector is reversed (theta is naturally the last, but we need to have it as the first value)\n",
    "\n",
    "global_coordin_corners_robot = map_local_coordinates_to_global_coordinates(local_c_robot, orientation_robot, position_robot)\n",
    "\n",
    "normals_robot = get_normals_orientation(robot_information['object_orientation'][2])\n",
    "\n",
    "# mirroring the normal vectors\n",
    "negative_delocation = (np.pi,np.pi,np.pi,np.pi)\n",
    "normals_robot = [sum(x) for x in zip(normals_robot,negative_delocation)]\n",
    "\n",
    "temporary_normals_robot = []\n",
    "for normal_robot_element in normals_robot:\n",
    "    temporary_normals_robot.append(convert_angle_to_0_2pi_interval(normal_robot_element))\n",
    "\n",
    "normals_robot = temporary_normals_robot"
   ]
  },
  {
   "cell_type": "code",
   "execution_count": 19,
   "metadata": {},
   "outputs": [],
   "source": [
    "# I need to retrieve the global coordinates and normals of an obstacle. Let's suppose the Cuboid_0 for this test\n",
    "\n",
    "cuboid_number = 0\n",
    "\n",
    "local_c_cuboid = get_bounding_box_corners_local_coordinates(client_id, listazinha[cuboid_number]['object_handler'])\n",
    "\n",
    "orientation_cuboid = listazinha[cuboid_number]['object_orientation']\n",
    "orientation_cuboid.reverse() # notice that the orientation vector is reversed (theta is naturally the last, but we need to have it as the first value)\n",
    "position_cuboid = listazinha[cuboid_number]['object_position']\n",
    "\n",
    "global_coordinates_cuboid = map_local_coordinates_to_global_coordinates(local_c_cuboid, orientation_cuboid, position_cuboid)\n",
    "\n",
    "normals_cuboid = get_normals_orientation(listazinha[cuboid_number]['object_orientation'][2])\n",
    "\n",
    "temporary_normals_cuboid = []\n",
    "for normal_cuboid_element in normals_cuboid:\n",
    "    temporary_normals_cuboid.append(convert_angle_to_0_2pi_interval(normal_cuboid_element))\n",
    "\n",
    "normals_cuboid = temporary_normals_cuboid"
   ]
  },
  {
   "cell_type": "code",
   "execution_count": 20,
   "metadata": {},
   "outputs": [
    {
     "data": {
      "text/html": [
       "<div>\n",
       "<style scoped>\n",
       "    .dataframe tbody tr th:only-of-type {\n",
       "        vertical-align: middle;\n",
       "    }\n",
       "\n",
       "    .dataframe tbody tr th {\n",
       "        vertical-align: top;\n",
       "    }\n",
       "\n",
       "    .dataframe thead th {\n",
       "        text-align: right;\n",
       "    }\n",
       "</style>\n",
       "<table border=\"1\" class=\"dataframe\">\n",
       "  <thead>\n",
       "    <tr style=\"text-align: right;\">\n",
       "      <th></th>\n",
       "      <th>normals</th>\n",
       "      <th>normal_order</th>\n",
       "      <th>owner</th>\n",
       "    </tr>\n",
       "  </thead>\n",
       "  <tbody>\n",
       "    <tr>\n",
       "      <th>7</th>\n",
       "      <td>9.124924e-09</td>\n",
       "      <td>4</td>\n",
       "      <td>o</td>\n",
       "    </tr>\n",
       "    <tr>\n",
       "      <th>1</th>\n",
       "      <td>1.985154e-03</td>\n",
       "      <td>2</td>\n",
       "      <td>r</td>\n",
       "    </tr>\n",
       "    <tr>\n",
       "      <th>4</th>\n",
       "      <td>1.570796e+00</td>\n",
       "      <td>1</td>\n",
       "      <td>o</td>\n",
       "    </tr>\n",
       "    <tr>\n",
       "      <th>2</th>\n",
       "      <td>1.572781e+00</td>\n",
       "      <td>3</td>\n",
       "      <td>r</td>\n",
       "    </tr>\n",
       "    <tr>\n",
       "      <th>5</th>\n",
       "      <td>3.141593e+00</td>\n",
       "      <td>2</td>\n",
       "      <td>o</td>\n",
       "    </tr>\n",
       "    <tr>\n",
       "      <th>3</th>\n",
       "      <td>3.143578e+00</td>\n",
       "      <td>4</td>\n",
       "      <td>r</td>\n",
       "    </tr>\n",
       "    <tr>\n",
       "      <th>6</th>\n",
       "      <td>4.712389e+00</td>\n",
       "      <td>3</td>\n",
       "      <td>o</td>\n",
       "    </tr>\n",
       "    <tr>\n",
       "      <th>0</th>\n",
       "      <td>4.714374e+00</td>\n",
       "      <td>1</td>\n",
       "      <td>r</td>\n",
       "    </tr>\n",
       "  </tbody>\n",
       "</table>\n",
       "</div>"
      ],
      "text/plain": [
       "        normals  normal_order owner\n",
       "7  9.124924e-09             4     o\n",
       "1  1.985154e-03             2     r\n",
       "4  1.570796e+00             1     o\n",
       "2  1.572781e+00             3     r\n",
       "5  3.141593e+00             2     o\n",
       "3  3.143578e+00             4     r\n",
       "6  4.712389e+00             3     o\n",
       "0  4.714374e+00             1     r"
      ]
     },
     "execution_count": 20,
     "metadata": {},
     "output_type": "execute_result"
    }
   ],
   "source": [
    "# I need to check if a given normal is between other two, right? Then I can use a table or something to do so\n",
    "# How? On one column I gonna put the normals of the robot and of the obstacle.\n",
    "# On other column I'll indicate the owner of the normal: robot or obstacle\n",
    "# On the third column I'll indicate the normal order (first normal: right face, second one: up face, etc)\n",
    "# Now I can order the rows according to the normal order: increasing\n",
    "# Then I will scan the lines to see if a given normal lies between other two\n",
    "normal_robot_series = pd.Series(normals_robot, name='normals')\n",
    "normal_robot_name_series = pd.Series([1,2,3,4], name= 'normal_order')\n",
    "normal_cuboid_series = pd.Series(normals_cuboid, name='normals')\n",
    "normal_cuboid_name_series = pd.Series([1,2,3,4], name= 'normal_order')\n",
    "\n",
    "normals_series = pd.concat([normal_robot_series, normal_cuboid_series], ignore_index=True)\n",
    "normals_order = pd.concat([normal_robot_name_series, normal_cuboid_name_series], ignore_index=True)\n",
    "\n",
    "dframe_normals = pd.DataFrame({'normals': normals_series, 'normal_order': normals_order, 'owner':['r','r','r','r','o','o','o','o']})\n",
    "dframe_normals.sort_values(by='normals', inplace=True)\n",
    "dframe_normals"
   ]
  },
  {
   "cell_type": "code",
   "execution_count": 21,
   "metadata": {},
   "outputs": [],
   "source": [
    "# PAblo showed me my algorith was wrong. Here it goes the algorithm corrected\n",
    "vertices_list = []\n",
    "for it in range(0,dframe_normals.shape[0]-1):\n",
    "    \"\"\"\n",
    "    print(f'it = {it}')\n",
    "    print(dframe_normals.iloc[it-1:it+2,-1])\n",
    "    print(is_between(dframe_normals.iloc[it-1:it+2,-1].values))\n",
    "    print(\" \")\n",
    "    \"\"\"\n",
    "    #print(dframe_normals.iloc[it,-1])\n",
    "    #print(dframe_normals.iloc[it+1:,-1])\n",
    "    next_different = dframe_normals.iloc[it+1:,-1].ne(dframe_normals.iloc[it,-1]).idxmax() \n",
    "    current_element = dframe_normals.iloc[it,-1]\n",
    "    next_diff_element = dframe_normals.iloc[next_different,-1]\n",
    "\n",
    "    if next_diff_element != current_element:\n",
    "        if dframe_normals.iloc[it,-1] == 'r':\n",
    "            a_index = dframe_normals.iloc[it,1]\n",
    "            b_index = dframe_normals.iloc[next_different,1]\n",
    "        else:\n",
    "            a_index = dframe_normals.iloc[next_different,1]\n",
    "            b_index = dframe_normals.iloc[it,1]    \n",
    "        new_vertice = global_coordinates_cuboid[b_index-1]-global_coordin_corners_robot[a_index-1]\n",
    "        vertices_list.append(new_vertice)\n",
    "\n",
    "if dframe_normals.iloc[0,-1] != dframe_normals.iloc[-1,-1]:\n",
    "    if dframe_normals.iloc[-1,-1] == 'r':\n",
    "        a_index = dframe_normals.iloc[-1,1]\n",
    "        b_index = dframe_normals.iloc[0,1]\n",
    "    else:\n",
    "        a_index = dframe_normals.iloc[0,1]\n",
    "        b_index = dframe_normals.iloc[-1,1]    \n",
    "    new_vertice = global_coordinates_cuboid[b_index-1]-global_coordin_corners_robot[a_index-1]\n",
    "    vertices_list.append(new_vertice)\n",
    "\n",
    "        \n",
    "    #if next_different != it\n",
    "  #  print(f'it = {it}, current_element = {current_element} | next_different_index = {next_different}, next_different_element = {next_diff_element}')"
   ]
  },
  {
   "cell_type": "code",
   "execution_count": 22,
   "metadata": {},
   "outputs": [],
   "source": [
    "v_list_np = np.array(vertices_list)"
   ]
  },
  {
   "cell_type": "code",
   "execution_count": 23,
   "metadata": {},
   "outputs": [
    {
     "data": {
      "text/plain": [
       "<matplotlib.collections.PathCollection at 0x7f2319536580>"
      ]
     },
     "execution_count": 23,
     "metadata": {},
     "output_type": "execute_result"
    },
    {
     "data": {
      "image/png": "[encoded data removed]",
      "text/plain": [
       "<Figure size 432x288 with 1 Axes>"
      ]
     },
     "metadata": {
      "needs_background": "light"
     },
     "output_type": "display_data"
    }
   ],
   "source": [
    "plt.scatter(v_list_np[:,0], v_list_np[:,1])"
   ]
  },
  {
   "cell_type": "code",
   "execution_count": 24,
   "metadata": {},
   "outputs": [
    {
     "data": {
      "text/plain": [
       "<matplotlib.collections.PolyCollection at 0x7f23194b3490>"
      ]
     },
     "execution_count": 24,
     "metadata": {},
     "output_type": "execute_result"
    },
    {
     "data": {
      "image/png": "[encoded data removed]",
      "text/plain": [
       "<Figure size 432x288 with 1 Axes>"
      ]
     },
     "metadata": {
      "needs_background": "light"
     },
     "output_type": "display_data"
    }
   ],
   "source": [
    "plt.fill_betweenx(v_list_np[:,0],v_list_np[:,1])"
   ]
  },
  {
   "cell_type": "markdown",
   "metadata": {},
   "source": [
    "# Testing some random ideas and useful functions"
   ]
  },
  {
   "cell_type": "code",
   "execution_count": 5,
   "metadata": {},
   "outputs": [
    {
     "name": "stdout",
     "output_type": "stream",
     "text": [
      "Cuboid_0\n",
      "Cuboid_1\n",
      "Cuboid_2\n",
      "Cuboid_3\n",
      "Cuboid_4\n"
     ]
    }
   ],
   "source": [
    "for element in info_list:\n",
    "    print(element['object_name'])"
   ]
  },
  {
   "cell_type": "code",
   "execution_count": 7,
   "metadata": {},
   "outputs": [
    {
     "data": {
      "text/plain": [
       "(0, [0.0019730785861611366, 1.8449616618454456e-05, 1.5700498819351196])"
      ]
     },
     "execution_count": 7,
     "metadata": {},
     "output_type": "execute_result"
    }
   ],
   "source": [
    "sim.simxGetObjectOrientation(client_id, handle_dr20,-1, sim.simx_opmode_blocking) # see if orientation is ok"
   ]
  },
  {
   "cell_type": "code",
   "execution_count": 8,
   "metadata": {},
   "outputs": [
    {
     "data": {
      "text/plain": [
       "89.99863627609933"
      ]
     },
     "execution_count": 8,
     "metadata": {},
     "output_type": "execute_result"
    }
   ],
   "source": [
    "robot_pos, robot_ang = get_configuration(client_id, handle_dr20)\n",
    "180*robot_ang[2]/3.14 # robot orientation in deg"
   ]
  },
  {
   "cell_type": "code",
   "execution_count": 9,
   "metadata": {},
   "outputs": [
    {
     "data": {
      "text/plain": [
       "(0, 1.570796326795, 3.14159265359, 4.7123889803850005)"
      ]
     },
     "execution_count": 9,
     "metadata": {},
     "output_type": "execute_result"
    }
   ],
   "source": [
    "get_normals_orientation(0)"
   ]
  },
  {
   "cell_type": "code",
   "execution_count": 10,
   "metadata": {},
   "outputs": [
    {
     "name": "stdout",
     "output_type": "stream",
     "text": [
      "Cuboid_0: (8.827220187423702e-17, 1.570796326795, 3.14159265359, 4.7123889803850005)\n",
      "Cuboid_1: (6.891155126999976e-14, 1.5707963267950689, 3.141592653590069, 4.712388980385069)\n",
      "Cuboid_2: (4.027191677940969e-17, 1.570796326795, 3.14159265359, 4.7123889803850005)\n",
      "Cuboid_3: (-1.79498325272905e-17, 1.570796326795, 3.14159265359, 4.7123889803850005)\n",
      "Cuboid_4: (2.288786255621566e-17, 1.570796326795, 3.14159265359, 4.7123889803850005)\n"
     ]
    }
   ],
   "source": [
    "for element in info_list:\n",
    "    normals = get_normals_orientation(element['object_orientation'][2])\n",
    "    # position_x = round\n",
    "    print(f'{element[\"object_name\"]}: {normals}')"
   ]
  },
  {
   "cell_type": "code",
   "execution_count": 11,
   "metadata": {},
   "outputs": [],
   "source": [
    "x_min, y_min, z_min, x_max, y_max, z_max = get_bounding_box_corners_positions(client_id,listazinha[0]['object_handler'],\"model\")"
   ]
  },
  {
   "cell_type": "code",
   "execution_count": 12,
   "metadata": {},
   "outputs": [],
   "source": [
    "# in order to test the map_local_coordinates_to_global_coordinates() power to map the corners local coordinates to global values,\n",
    "# let's use the cuboid 0. It is global corners must be something like\n",
    "# [-1.5, 0.5] [-2, 0.5] [-2, 0] [-1.5, 0]\n",
    "\n",
    "cuboid_number = 0\n",
    "local_c_cuboid = get_bounding_box_corners_local_coordinates(client_id, listazinha[cuboid_number]['object_handler'])\n",
    "orientation_cuboid = listazinha[cuboid_number]['object_orientation']\n",
    "orientation_cuboid.reverse() # notice that the orientation vector is reversed (theta is naturally the last, but we need to have it as the first value)\n",
    "position_cuboid = listazinha[cuboid_number]['object_position']\n",
    "global_coordinates_cuboid = map_local_coordinates_to_global_coordinates(local_c_cuboid, orientation_cuboid, position_cuboid)"
   ]
  },
  {
   "cell_type": "markdown",
   "metadata": {},
   "source": [
    "we know there are 4 horizontal normal vectors. Two of them point to X and Y. The other two point to -X and -Y. \n",
    "\n",
    "How to know where X is pointing? Well, it is given by the Z Euler vector. \n",
    "\n",
    "Where does Y point to? to X+90º. And what about -X and -Y? We just need to add 180º to X and Y.\n",
    "\n",
    "# Creating Configuration Map\n",
    "\n",
    "1. Step\n",
    "To orient the robot so its euler angles will be 0,0,0.\n",
    "2. Step\n",
    "For each obstacle, do the following:\n",
    "- Get the bounding box vertices from $x_{min}, x_{max}, y_{min}, y_{max}, z_{min}, z_{max}$\n",
    "- Map bounding box vertices (in object's reference frame to global reference frame)\n",
    "- Test applicability using the normal's orientation (i think i'll need to check sine and cossine, or limit the orientation within [0,2pi] )\n",
    "- Create Configuration Vertice "
   ]
  },
  {
   "cell_type": "code",
   "execution_count": 63,
   "metadata": {},
   "outputs": [],
   "source": [
    "cuboid_number = 0\n",
    "orient_cuboid = info_list[cuboid_number]['object_orientation']\n",
    "n_4_obj, n_1_obj, n_2_obj, n_3_obj = get_normals_orientation(orient_cuboid[2]) \n",
    "# notice the numering of the normal vectors"
   ]
  },
  {
   "cell_type": "code",
   "execution_count": 64,
   "metadata": {},
   "outputs": [],
   "source": [
    "pi = 3.14159265359\n",
    "orient_robot = robot_information['object_orientation']\n",
    "n_4_robot, n_1_robot, n_2_robot, n_3_robot = get_normals_orientation(orient_robot[2])\n",
    "neg_n_4_robot, neg_n_1_robot, neg_n_2_robot, neg_n_3_robot = n_4_robot+pi, n_1_robot+pi, n_2_robot+pi, n_3_robot+pi"
   ]
  },
  {
   "cell_type": "code",
   "execution_count": 74,
   "metadata": {},
   "outputs": [],
   "source": [
    "local_c_robot = get_bounding_box_corners_local_coordinates(client_id, robot_information['object_handler'])\n",
    "orientation_robot = robot_information['object_orientation']\n",
    "orientation_robot.reverse() # notice that the orientation vector is reversed (theta is naturally the last, but we need to have it as the first value)\n",
    "position_robot = robot_information['object_position']\n",
    "global_coordinates_robot = map_local_coordinates_to_global_coordinates(local_c_robot, orientation_robot, position_robot)"
   ]
  },
  {
   "cell_type": "code",
   "execution_count": 76,
   "metadata": {},
   "outputs": [
    {
     "data": {
      "text/plain": [
       "[array([-1.87686982,  1.61772052, -0.0172811 ]),\n",
       " array([-1.87686957,  1.84318934, -0.0172845 ]),\n",
       " array([-2.17379736,  1.84318968, -0.01668138]),\n",
       " array([-2.17379762,  1.61772086, -0.01667798])]"
      ]
     },
     "execution_count": 76,
     "metadata": {},
     "output_type": "execute_result"
    }
   ],
   "source": [
    "global_coordinates_robot"
   ]
  },
  {
   "cell_type": "code",
   "execution_count": 75,
   "metadata": {},
   "outputs": [
    {
     "data": {
      "text/plain": [
       "[array([-1.47499979e+00,  5.00000359e-01,  5.96097668e-08]),\n",
       " array([-1.97499979e+00,  5.00000357e-01,  5.95995227e-08]),\n",
       " array([-1.97499978e+00,  3.56638395e-07,  5.95995227e-08]),\n",
       " array([-1.47499978e+00,  3.58617342e-07,  5.96097668e-08])]"
      ]
     },
     "execution_count": 75,
     "metadata": {},
     "output_type": "execute_result"
    }
   ],
   "source": [
    "global_coordinates_cuboid"
   ]
  },
  {
   "cell_type": "code",
   "execution_count": 81,
   "metadata": {},
   "outputs": [
    {
     "name": "stdout",
     "output_type": "stream",
     "text": [
      " \n",
      "colocar um vértice b1-a0\n",
      "colocar um vértice b3-a0\n",
      "colocar um vértice b4-a0\n"
     ]
    },
    {
     "ename": "IndexError",
     "evalue": "list index out of range",
     "output_type": "error",
     "traceback": [
      "\u001b[0;31m---------------------------------------------------------------------------\u001b[0m",
      "\u001b[0;31mIndexError\u001b[0m                                Traceback (most recent call last)",
      "\u001b[1;32m/home/mateus/Área de Trabalho/mobile_robotics/tests/simulation_tests/sketching_configuration_mapping.ipynb Cell 21'\u001b[0m in \u001b[0;36m<cell line: 4>\u001b[0;34m()\u001b[0m\n\u001b[1;32m     <a href='vscode-notebook-cell:/home/mateus/%C3%81rea%20de%20Trabalho/mobile_robotics/tests/simulation_tests/sketching_configuration_mapping.ipynb#ch0000019?line=12'>13</a>\u001b[0m         lista_de_vertices_de_configuracao\u001b[39m.\u001b[39mappend(global_coordinates_cuboid[\u001b[39m0\u001b[39m] \u001b[39m-\u001b[39mglobal_coordinates_robot[\u001b[39m-\u001b[39m\u001b[39m1\u001b[39m])\n\u001b[1;32m     <a href='vscode-notebook-cell:/home/mateus/%C3%81rea%20de%20Trabalho/mobile_robotics/tests/simulation_tests/sketching_configuration_mapping.ipynb#ch0000019?line=13'>14</a>\u001b[0m     \u001b[39melse\u001b[39;00m:\n\u001b[0;32m---> <a href='vscode-notebook-cell:/home/mateus/%C3%81rea%20de%20Trabalho/mobile_robotics/tests/simulation_tests/sketching_configuration_mapping.ipynb#ch0000019?line=14'>15</a>\u001b[0m         lista_de_vertices_de_configuracao\u001b[39m.\u001b[39mappend(global_coordinates_cuboid[it_int\u001b[39m+\u001b[39;49m\u001b[39m1\u001b[39;49m] \u001b[39m-\u001b[39mglobal_coordinates_robot[\u001b[39m-\u001b[39m\u001b[39m1\u001b[39m])\n\u001b[1;32m     <a href='vscode-notebook-cell:/home/mateus/%C3%81rea%20de%20Trabalho/mobile_robotics/tests/simulation_tests/sketching_configuration_mapping.ipynb#ch0000019?line=15'>16</a>\u001b[0m \u001b[39melse\u001b[39;00m:\n\u001b[1;32m     <a href='vscode-notebook-cell:/home/mateus/%C3%81rea%20de%20Trabalho/mobile_robotics/tests/simulation_tests/sketching_configuration_mapping.ipynb#ch0000019?line=16'>17</a>\u001b[0m     \u001b[39mif\u001b[39;00m it_int \u001b[39m==\u001b[39m \u001b[39m4\u001b[39m:\n",
      "\u001b[0;31mIndexError\u001b[0m: list index out of range"
     ]
    }
   ],
   "source": [
    "normals_object = [n_1_obj, n_2_obj, n_3_obj, n_4_obj, n_1_obj]\n",
    "normals_robot = [neg_n_4_robot, neg_n_1_robot, neg_n_2_robot, neg_n_3_robot, neg_n_4_robot]\n",
    "lista_de_vertices_de_configuracao = []\n",
    "for it_ext in range(0,len(normals_object)-1):\n",
    "    print(\" \")\n",
    "    for it_int in range(0,len(normals_object)-1):\n",
    "        answer_a = is_angle_between(normals_object[it_int], normals_robot[it_ext], normals_object[it_int+1])\n",
    "        answer_b = is_angle_between(normals_robot[it_int], normals_object[it_ext],normals_robot[it_int+1])\n",
    "        if answer_a or answer_b:\n",
    "            print(f'colocar um vértice b{it_int+1}-a{it_ext}')\n",
    "            if it_ext == 0:\n",
    "                if it_int == 4:\n",
    "                    lista_de_vertices_de_configuracao.append(global_coordinates_cuboid[0] -global_coordinates_robot[-1])\n",
    "                else:\n",
    "                    lista_de_vertices_de_configuracao.append(global_coordinates_cuboid[it_int+1] -global_coordinates_robot[-1])\n",
    "            else:\n",
    "                if it_int == 4:\n",
    "                    lista_de_vertices_de_configuracao.append(global_coordinates_cuboid[0] - global_coordinates_robot[it_ext-1])\n",
    "                else:\n",
    "                    lista_de_vertices_de_configuracao.append(global_coordinates_cuboid[it_int+1] - global_coordinates_robot[it_ext-1])\n",
    "        \"\"\"\n",
    "        elif answer_b:\n",
    "            print(f'colocar um vértice b{it_int+1}-a{it_ext}')\n",
    "            if it_ext == 0:\n",
    "                lista_de_vertices_de_configuracao.append(global_coordinates_cuboid[it_int+1] -global_coordinates_robot[-1])\n",
    "            else:\n",
    "                lista_de_vertices_de_configuracao.append(global_coordinates_cuboid[it_int+1] - global_coordinates_robot[it_ext-1])\n",
    "        \"\"\""
   ]
  },
  {
   "cell_type": "code",
   "execution_count": 66,
   "metadata": {},
   "outputs": [],
   "source": [
    "normals_object = ['v1_obj','v2_obj','v3_obj','v4_obj','v1_obj']\n",
    "normals_robot = ['v4_robo','v1_robo','v2_robo','v3_robo','v4_robo']\n",
    "\n",
    "for it_i in range(0,len(normals_object)-1):\n",
    "    for it_j in range(0,len(normals_object)-1):\n",
    "        pass\n",
    "        #print(f'A CONTACT: is {normals_robot[it_i]} between {normals_object[it_j]} and {normals_object[it_j+1]}?')\n",
    "        #print(f'B CONTACT: is {normals_object[it_i]} between {normals_robot[it_j]} and {normals_robot[it_j+1]}?')   \n",
    "        #print(\" \")     \n"
   ]
  },
  {
   "cell_type": "code",
   "execution_count": 67,
   "metadata": {},
   "outputs": [
    {
     "name": "stdout",
     "output_type": "stream",
     "text": [
      "A CONTACT: is v4_robo between v1_obj and v2_obj?\n",
      "B CONTACT: is v1_obj between v4_robo and v1_robo?\n",
      " \n",
      "A CONTACT: is v1_robo between v2_obj and v3_obj?\n",
      "B CONTACT: is v2_obj between v1_robo and v2_robo?\n",
      " \n",
      "A CONTACT: is v2_robo between v3_obj and v4_obj?\n",
      "B CONTACT: is v3_obj between v2_robo and v3_robo?\n",
      " \n",
      "A CONTACT: is v3_robo between v4_obj and v1_obj?\n",
      "B CONTACT: is v4_obj between v3_robo and v4_robo?\n",
      " \n"
     ]
    }
   ],
   "source": [
    "normals_object = ['v1_obj','v2_obj','v3_obj','v4_obj','v1_obj']\n",
    "normals_robot = ['v4_robo','v1_robo','v2_robo','v3_robo','v4_robo']\n",
    "for it in range(0,len(normals_object)-1):\n",
    "    print(f'A CONTACT: is {normals_robot[it]} between {normals_object[it]} and {normals_object[it+1]}?')\n",
    "    print(f'B CONTACT: is {normals_object[it]} between {normals_robot[it]} and {normals_robot[it+1]}?')\n",
    "    print(\" \")"
   ]
  },
  {
   "cell_type": "code",
   "execution_count": 68,
   "metadata": {},
   "outputs": [
    {
     "data": {
      "text/plain": [
       "False"
      ]
     },
     "execution_count": 68,
     "metadata": {},
     "output_type": "execute_result"
    }
   ],
   "source": [
    "is_angle_between(0,0,1)"
   ]
  },
  {
   "cell_type": "code",
   "execution_count": null,
   "metadata": {},
   "outputs": [],
   "source": []
  }
 ],
 "metadata": {
  "interpreter": {
   "hash": "31f2aee4e71d21fbe5cf8b01ff0e069b9275f58929596ceb00d14d90e3e16cd6"
  },
  "kernelspec": {
   "display_name": "Python 3.8.10 64-bit",
   "language": "python",
   "name": "python3"
  },
  "language_info": {
   "codemirror_mode": {
    "name": "ipython",
    "version": 3
   },
   "file_extension": ".py",
   "mimetype": "text/x-python",
   "name": "python",
   "nbconvert_exporter": "python",
   "pygments_lexer": "ipython3",
   "version": "3.8.10"
  },
  "orig_nbformat": 4
 },
 "nbformat": 4,
 "nbformat_minor": 2
}
