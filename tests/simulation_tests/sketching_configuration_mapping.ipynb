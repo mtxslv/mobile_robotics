{
 "cells": [
  {
   "cell_type": "code",
   "execution_count": 49,
   "metadata": {},
   "outputs": [],
   "source": [
    "this_file_name = 'sketching_configuration_mapping.ipynb'\n",
    "import sys\n",
    "import os\n",
    "sys.path.insert(0, os.path.abspath(\n",
    "    os.path.join(os.path.dirname(this_file_name), '../../src/') ))\n",
    "\n",
    "from configuration_space_mapping import *\n",
    "from utils import *"
   ]
  },
  {
   "cell_type": "markdown",
   "metadata": {},
   "source": [
    "# Some simulation codes\n",
    "\n",
    "First, retrieve all scene objects' configuration and position. "
   ]
  },
  {
   "cell_type": "code",
   "execution_count": 50,
   "metadata": {},
   "outputs": [
    {
     "name": "stdout",
     "output_type": "stream",
     "text": [
      "Connected to remote API server\n",
      "Number of objects in the scene:  42\n"
     ]
    }
   ],
   "source": [
    "client_id = connect_2_sim()\n",
    "test_connection(client_id)"
   ]
  },
  {
   "cell_type": "code",
   "execution_count": 51,
   "metadata": {},
   "outputs": [],
   "source": [
    "scene_objects = ['Cuboid_0','Cuboid_1','Cuboid_2',\n",
    "                 'Cuboid_3','Cuboid_4','dr20']\n",
    "\n",
    "listazinha = get_scene_objects_info(client_id, scene_objects)\n",
    "\n",
    "for element in listazinha:\n",
    "    a = round(element['object_position'][0],2)\n",
    "    b = round(element['object_position'][1],2)\n",
    "    c = round(element['object_position'][2],2)\n",
    "    print([a,b,c])"
   ]
  },
  {
   "cell_type": "markdown",
   "metadata": {},
   "source": [
    "# Testing some random ideas and useful functions"
   ]
  },
  {
   "cell_type": "code",
   "execution_count": 54,
   "metadata": {},
   "outputs": [],
   "source": [
    "info_list, robot_information = split_robot_from_info_list(listazinha,'dr20')"
   ]
  },
  {
   "cell_type": "code",
   "execution_count": 55,
   "metadata": {},
   "outputs": [
    {
     "name": "stdout",
     "output_type": "stream",
     "text": [
      "Cuboid_0\n",
      "Cuboid_1\n",
      "Cuboid_2\n",
      "Cuboid_3\n",
      "Cuboid_4\n"
     ]
    }
   ],
   "source": [
    "for element in info_list:\n",
    "    print(element['object_name'])"
   ]
  },
  {
   "cell_type": "code",
   "execution_count": 73,
   "metadata": {},
   "outputs": [
    {
     "data": {
      "text/plain": [
       "0"
      ]
     },
     "execution_count": 73,
     "metadata": {},
     "output_type": "execute_result"
    }
   ],
   "source": [
    "# re orient the robot\n",
    "\n",
    "handle_dr20 = get_object_handle(client_id,'dr20')\n",
    "euler_orientation = (0,0,1.57)\n",
    "sim.simxSetObjectOrientation(client_id,handle_dr20,-1,euler_orientation,sim.simx_opmode_blocking)"
   ]
  },
  {
   "cell_type": "code",
   "execution_count": 57,
   "metadata": {},
   "outputs": [
    {
     "data": {
      "text/plain": [
       "(0, [0.001957559259608388, 2.778682392090559e-05, 1.5699542760849])"
      ]
     },
     "execution_count": 57,
     "metadata": {},
     "output_type": "execute_result"
    }
   ],
   "source": [
    "sim.simxGetObjectOrientation(client_id, handle_dr20,-1, sim.simx_opmode_blocking) # see if orientation is ok"
   ]
  },
  {
   "cell_type": "code",
   "execution_count": 58,
   "metadata": {},
   "outputs": [
    {
     "data": {
      "text/plain": [
       "90.0030849845546"
      ]
     },
     "execution_count": 58,
     "metadata": {},
     "output_type": "execute_result"
    }
   ],
   "source": [
    "robot_pos, robot_ang = get_configuration(client_id, handle_dr20)\n",
    "180*robot_ang[2]/3.14 # robot orientation in deg"
   ]
  },
  {
   "cell_type": "code",
   "execution_count": 59,
   "metadata": {},
   "outputs": [
    {
     "data": {
      "text/plain": [
       "(0, 1.570796326795, 3.14159265359, 4.7123889803850005)"
      ]
     },
     "execution_count": 59,
     "metadata": {},
     "output_type": "execute_result"
    }
   ],
   "source": [
    "get_normals_orientation(0)"
   ]
  },
  {
   "cell_type": "code",
   "execution_count": 60,
   "metadata": {},
   "outputs": [
    {
     "name": "stdout",
     "output_type": "stream",
     "text": [
      "Cuboid_0: (4.856742659257329e-17, 1.570796326795, 3.14159265359, 4.7123889803850005)\n",
      "Cuboid_1: (-1.4431441298492125e-17, 1.570796326795, 3.14159265359, 4.7123889803850005)\n",
      "Cuboid_2: (2.8223240372909244e-17, 1.570796326795, 3.14159265359, 4.7123889803850005)\n",
      "Cuboid_3: (5.502494439336651e-17, 1.570796326795, 3.14159265359, 4.7123889803850005)\n",
      "Cuboid_4: (-1.4694823877335134e-17, 1.570796326795, 3.14159265359, 4.7123889803850005)\n"
     ]
    }
   ],
   "source": [
    "for element in info_list:\n",
    "    normals = get_normals_orientation(element['object_orientation'][2])\n",
    "    # position_x = round\n",
    "    print(f'{element[\"object_name\"]}: {normals}')"
   ]
  },
  {
   "cell_type": "code",
   "execution_count": 61,
   "metadata": {},
   "outputs": [],
   "source": [
    "x_min, y_min, z_min, x_max, y_max, z_max = get_bounding_box_corners_positions(client_id,listazinha[0]['object_handler'],\"model\")"
   ]
  },
  {
   "cell_type": "code",
   "execution_count": 71,
   "metadata": {},
   "outputs": [],
   "source": [
    "# in order to test the map_local_coordinates_to_global_coordinates() power to map the corners local coordinates to global values,\n",
    "# let's use the cuboid 0. It is global corners must be something like\n",
    "# [-1.5, 0.5] [-2, 0.5] [-2, 0] [-1.5, 0]\n",
    "\n",
    "cuboid_number = 0\n",
    "local_c_cuboid = get_bounding_box_corners_local_coordinates(client_id, listazinha[cuboid_number]['object_handler'])\n",
    "orientation_cuboid = listazinha[cuboid_number]['object_orientation']\n",
    "orientation_cuboid.reverse() # notice that the orientation vector is reversed (theta is naturally the last, but we need to have it as the first value)\n",
    "position_cuboid = listazinha[cuboid_number]['object_position']\n",
    "global_coordinates_cuboid = map_local_coordinates_to_global_coordinates(local_c_cuboid, orientation_cuboid, position_cuboid)"
   ]
  },
  {
   "cell_type": "markdown",
   "metadata": {},
   "source": [
    "we know there are 4 horizontal normal vectors. Two of them point to X and Y. The other two point to -X and -Y. \n",
    "\n",
    "How to know where X is pointing? Well, it is given by the Z Euler vector. \n",
    "\n",
    "Where does Y point to? to X+90º. And what about -X and -Y? We just need to add 180º to X and Y.\n",
    "\n",
    "# Creating Configuration Map\n",
    "\n",
    "1. Step\n",
    "To orient the robot so its euler angles will be 0,0,0.\n",
    "2. Step\n",
    "For each obstacle, do the following:\n",
    "- Get the bounding box vertices from $x_{min}, x_{max}, y_{min}, y_{max}, z_{min}, z_{max}$\n",
    "- Map bounding box vertices (in object's reference frame to global reference frame)\n",
    "- Test applicability using the normal's orientation (i think i'll need to check sine and cossine, or limit the orientation within [0,2pi] )\n",
    "- Create Configuration Vertice "
   ]
  },
  {
   "cell_type": "code",
   "execution_count": 63,
   "metadata": {},
   "outputs": [],
   "source": [
    "cuboid_number = 0\n",
    "orient_cuboid = info_list[cuboid_number]['object_orientation']\n",
    "n_4_obj, n_1_obj, n_2_obj, n_3_obj = get_normals_orientation(orient_cuboid[2]) \n",
    "# notice the numering of the normal vectors"
   ]
  },
  {
   "cell_type": "code",
   "execution_count": 64,
   "metadata": {},
   "outputs": [],
   "source": [
    "pi = 3.14159265359\n",
    "orient_robot = robot_information['object_orientation']\n",
    "n_4_robot, n_1_robot, n_2_robot, n_3_robot = get_normals_orientation(orient_robot[2])\n",
    "neg_n_4_robot, neg_n_1_robot, neg_n_2_robot, neg_n_3_robot = n_4_robot+pi, n_1_robot+pi, n_2_robot+pi, n_3_robot+pi"
   ]
  },
  {
   "cell_type": "code",
   "execution_count": 74,
   "metadata": {},
   "outputs": [],
   "source": [
    "local_c_robot = get_bounding_box_corners_local_coordinates(client_id, robot_information['object_handler'])\n",
    "orientation_robot = robot_information['object_orientation']\n",
    "orientation_robot.reverse() # notice that the orientation vector is reversed (theta is naturally the last, but we need to have it as the first value)\n",
    "position_robot = robot_information['object_position']\n",
    "global_coordinates_robot = map_local_coordinates_to_global_coordinates(local_c_robot, orientation_robot, position_robot)"
   ]
  },
  {
   "cell_type": "code",
   "execution_count": 76,
   "metadata": {},
   "outputs": [
    {
     "data": {
      "text/plain": [
       "[array([-1.87686982,  1.61772052, -0.0172811 ]),\n",
       " array([-1.87686957,  1.84318934, -0.0172845 ]),\n",
       " array([-2.17379736,  1.84318968, -0.01668138]),\n",
       " array([-2.17379762,  1.61772086, -0.01667798])]"
      ]
     },
     "execution_count": 76,
     "metadata": {},
     "output_type": "execute_result"
    }
   ],
   "source": [
    "global_coordinates_robot"
   ]
  },
  {
   "cell_type": "code",
   "execution_count": 75,
   "metadata": {},
   "outputs": [
    {
     "data": {
      "text/plain": [
       "[array([-1.47499979e+00,  5.00000359e-01,  5.96097668e-08]),\n",
       " array([-1.97499979e+00,  5.00000357e-01,  5.95995227e-08]),\n",
       " array([-1.97499978e+00,  3.56638395e-07,  5.95995227e-08]),\n",
       " array([-1.47499978e+00,  3.58617342e-07,  5.96097668e-08])]"
      ]
     },
     "execution_count": 75,
     "metadata": {},
     "output_type": "execute_result"
    }
   ],
   "source": [
    "global_coordinates_cuboid"
   ]
  },
  {
   "cell_type": "code",
   "execution_count": 81,
   "metadata": {},
   "outputs": [
    {
     "name": "stdout",
     "output_type": "stream",
     "text": [
      " \n",
      "colocar um vértice b1-a0\n",
      "colocar um vértice b3-a0\n",
      "colocar um vértice b4-a0\n"
     ]
    },
    {
     "ename": "IndexError",
     "evalue": "list index out of range",
     "output_type": "error",
     "traceback": [
      "\u001b[0;31m---------------------------------------------------------------------------\u001b[0m",
      "\u001b[0;31mIndexError\u001b[0m                                Traceback (most recent call last)",
      "\u001b[1;32m/home/mateus/Área de Trabalho/mobile_robotics/tests/simulation_tests/sketching_configuration_mapping.ipynb Cell 21'\u001b[0m in \u001b[0;36m<cell line: 4>\u001b[0;34m()\u001b[0m\n\u001b[1;32m     <a href='vscode-notebook-cell:/home/mateus/%C3%81rea%20de%20Trabalho/mobile_robotics/tests/simulation_tests/sketching_configuration_mapping.ipynb#ch0000019?line=12'>13</a>\u001b[0m         lista_de_vertices_de_configuracao\u001b[39m.\u001b[39mappend(global_coordinates_cuboid[\u001b[39m0\u001b[39m] \u001b[39m-\u001b[39mglobal_coordinates_robot[\u001b[39m-\u001b[39m\u001b[39m1\u001b[39m])\n\u001b[1;32m     <a href='vscode-notebook-cell:/home/mateus/%C3%81rea%20de%20Trabalho/mobile_robotics/tests/simulation_tests/sketching_configuration_mapping.ipynb#ch0000019?line=13'>14</a>\u001b[0m     \u001b[39melse\u001b[39;00m:\n\u001b[0;32m---> <a href='vscode-notebook-cell:/home/mateus/%C3%81rea%20de%20Trabalho/mobile_robotics/tests/simulation_tests/sketching_configuration_mapping.ipynb#ch0000019?line=14'>15</a>\u001b[0m         lista_de_vertices_de_configuracao\u001b[39m.\u001b[39mappend(global_coordinates_cuboid[it_int\u001b[39m+\u001b[39;49m\u001b[39m1\u001b[39;49m] \u001b[39m-\u001b[39mglobal_coordinates_robot[\u001b[39m-\u001b[39m\u001b[39m1\u001b[39m])\n\u001b[1;32m     <a href='vscode-notebook-cell:/home/mateus/%C3%81rea%20de%20Trabalho/mobile_robotics/tests/simulation_tests/sketching_configuration_mapping.ipynb#ch0000019?line=15'>16</a>\u001b[0m \u001b[39melse\u001b[39;00m:\n\u001b[1;32m     <a href='vscode-notebook-cell:/home/mateus/%C3%81rea%20de%20Trabalho/mobile_robotics/tests/simulation_tests/sketching_configuration_mapping.ipynb#ch0000019?line=16'>17</a>\u001b[0m     \u001b[39mif\u001b[39;00m it_int \u001b[39m==\u001b[39m \u001b[39m4\u001b[39m:\n",
      "\u001b[0;31mIndexError\u001b[0m: list index out of range"
     ]
    }
   ],
   "source": [
    "normals_object = [n_1_obj, n_2_obj, n_3_obj, n_4_obj, n_1_obj]\n",
    "normals_robot = [neg_n_4_robot, neg_n_1_robot, neg_n_2_robot, neg_n_3_robot, neg_n_4_robot]\n",
    "lista_de_vertices_de_configuracao = []\n",
    "for it_ext in range(0,len(normals_object)-1):\n",
    "    print(\" \")\n",
    "    for it_int in range(0,len(normals_object)-1):\n",
    "        answer_a = is_angle_between(normals_object[it_int], normals_robot[it_ext], normals_object[it_int+1])\n",
    "        answer_b = is_angle_between(normals_robot[it_int], normals_object[it_ext],normals_robot[it_int+1])\n",
    "        if answer_a or answer_b:\n",
    "            print(f'colocar um vértice b{it_int+1}-a{it_ext}')\n",
    "            if it_ext == 0:\n",
    "                if it_int == 4:\n",
    "                    lista_de_vertices_de_configuracao.append(global_coordinates_cuboid[0] -global_coordinates_robot[-1])\n",
    "                else:\n",
    "                    lista_de_vertices_de_configuracao.append(global_coordinates_cuboid[it_int+1] -global_coordinates_robot[-1])\n",
    "            else:\n",
    "                if it_int == 4:\n",
    "                    lista_de_vertices_de_configuracao.append(global_coordinates_cuboid[0] - global_coordinates_robot[it_ext-1])\n",
    "                else:\n",
    "                    lista_de_vertices_de_configuracao.append(global_coordinates_cuboid[it_int+1] - global_coordinates_robot[it_ext-1])\n",
    "        \"\"\"\n",
    "        elif answer_b:\n",
    "            print(f'colocar um vértice b{it_int+1}-a{it_ext}')\n",
    "            if it_ext == 0:\n",
    "                lista_de_vertices_de_configuracao.append(global_coordinates_cuboid[it_int+1] -global_coordinates_robot[-1])\n",
    "            else:\n",
    "                lista_de_vertices_de_configuracao.append(global_coordinates_cuboid[it_int+1] - global_coordinates_robot[it_ext-1])\n",
    "        \"\"\""
   ]
  },
  {
   "cell_type": "code",
   "execution_count": 66,
   "metadata": {},
   "outputs": [],
   "source": [
    "normals_object = ['v1_obj','v2_obj','v3_obj','v4_obj','v1_obj']\n",
    "normals_robot = ['v4_robo','v1_robo','v2_robo','v3_robo','v4_robo']\n",
    "\n",
    "for it_i in range(0,len(normals_object)-1):\n",
    "    for it_j in range(0,len(normals_object)-1):\n",
    "        pass\n",
    "        #print(f'A CONTACT: is {normals_robot[it_i]} between {normals_object[it_j]} and {normals_object[it_j+1]}?')\n",
    "        #print(f'B CONTACT: is {normals_object[it_i]} between {normals_robot[it_j]} and {normals_robot[it_j+1]}?')   \n",
    "        #print(\" \")     \n"
   ]
  },
  {
   "cell_type": "code",
   "execution_count": 67,
   "metadata": {},
   "outputs": [
    {
     "name": "stdout",
     "output_type": "stream",
     "text": [
      "A CONTACT: is v4_robo between v1_obj and v2_obj?\n",
      "B CONTACT: is v1_obj between v4_robo and v1_robo?\n",
      " \n",
      "A CONTACT: is v1_robo between v2_obj and v3_obj?\n",
      "B CONTACT: is v2_obj between v1_robo and v2_robo?\n",
      " \n",
      "A CONTACT: is v2_robo between v3_obj and v4_obj?\n",
      "B CONTACT: is v3_obj between v2_robo and v3_robo?\n",
      " \n",
      "A CONTACT: is v3_robo between v4_obj and v1_obj?\n",
      "B CONTACT: is v4_obj between v3_robo and v4_robo?\n",
      " \n"
     ]
    }
   ],
   "source": [
    "normals_object = ['v1_obj','v2_obj','v3_obj','v4_obj','v1_obj']\n",
    "normals_robot = ['v4_robo','v1_robo','v2_robo','v3_robo','v4_robo']\n",
    "for it in range(0,len(normals_object)-1):\n",
    "    print(f'A CONTACT: is {normals_robot[it]} between {normals_object[it]} and {normals_object[it+1]}?')\n",
    "    print(f'B CONTACT: is {normals_object[it]} between {normals_robot[it]} and {normals_robot[it+1]}?')\n",
    "    print(\" \")"
   ]
  },
  {
   "cell_type": "code",
   "execution_count": 68,
   "metadata": {},
   "outputs": [
    {
     "data": {
      "text/plain": [
       "False"
      ]
     },
     "execution_count": 68,
     "metadata": {},
     "output_type": "execute_result"
    }
   ],
   "source": [
    "is_angle_between(0,0,1)"
   ]
  },
  {
   "cell_type": "code",
   "execution_count": null,
   "metadata": {},
   "outputs": [],
   "source": []
  }
 ],
 "metadata": {
  "interpreter": {
   "hash": "31f2aee4e71d21fbe5cf8b01ff0e069b9275f58929596ceb00d14d90e3e16cd6"
  },
  "kernelspec": {
   "display_name": "Python 3.8.10 64-bit",
   "language": "python",
   "name": "python3"
  },
  "language_info": {
   "codemirror_mode": {
    "name": "ipython",
    "version": 3
   },
   "file_extension": ".py",
   "mimetype": "text/x-python",
   "name": "python",
   "nbconvert_exporter": "python",
   "pygments_lexer": "ipython3",
   "version": "3.8.10"
  },
  "orig_nbformat": 4
 },
 "nbformat": 4,
 "nbformat_minor": 2
}
