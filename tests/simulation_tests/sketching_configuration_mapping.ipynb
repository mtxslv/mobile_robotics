{
 "cells": [
  {
   "cell_type": "code",
   "execution_count": 52,
   "metadata": {},
   "outputs": [],
   "source": [
    "this_file_name = 'sketching_configuration_mapping.ipynb'\n",
    "import sys\n",
    "import os\n",
    "sys.path.insert(0, os.path.abspath(\n",
    "    os.path.join(os.path.dirname(this_file_name), '../../src/') ))\n",
    "\n",
    "from configuration_space_mapping import *\n",
    "from utils import *"
   ]
  },
  {
   "cell_type": "markdown",
   "metadata": {},
   "source": [
    "# Some simulation codes\n",
    "\n",
    "First, retrieve all scene objects' configuration and position. "
   ]
  },
  {
   "cell_type": "code",
   "execution_count": 53,
   "metadata": {},
   "outputs": [
    {
     "name": "stdout",
     "output_type": "stream",
     "text": [
      "Connected to remote API server\n",
      "Number of objects in the scene:  42\n"
     ]
    }
   ],
   "source": [
    "client_id = connect_2_sim()\n",
    "test_connection(client_id)"
   ]
  },
  {
   "cell_type": "code",
   "execution_count": 54,
   "metadata": {},
   "outputs": [],
   "source": [
    "scene_objects = ['Cuboid_0','Cuboid_1','Cuboid_2',\n",
    "                 'Cuboid_3','Cuboid_4','dr20']"
   ]
  },
  {
   "cell_type": "code",
   "execution_count": 55,
   "metadata": {},
   "outputs": [],
   "source": [
    "listazinha = get_scene_objects_info(client_id, scene_objects)"
   ]
  },
  {
   "cell_type": "code",
   "execution_count": 56,
   "metadata": {},
   "outputs": [
    {
     "name": "stdout",
     "output_type": "stream",
     "text": [
      "[-1.72, 0.25, 0.25]\n",
      "[-0.35, 1.5, 0.5]\n",
      "[-1.52, -1.22, 0.5]\n",
      "[-0.15, -0.1, 0.25]\n",
      "[1.4, -0.15, 0.5]\n",
      "[-2.02, 1.73, 0.15]\n"
     ]
    }
   ],
   "source": [
    "for element in listazinha:\n",
    "    a = round(element['object_position'][0],2)\n",
    "    b = round(element['object_position'][1],2)\n",
    "    c = round(element['object_position'][2],2)\n",
    "    print([a,b,c])"
   ]
  },
  {
   "cell_type": "markdown",
   "metadata": {},
   "source": [
    "# Testing some random ideas and useful functions"
   ]
  },
  {
   "cell_type": "code",
   "execution_count": 57,
   "metadata": {},
   "outputs": [],
   "source": [
    "info_list, robot_information = split_robot_from_info_list(listazinha,'dr20')"
   ]
  },
  {
   "cell_type": "code",
   "execution_count": 58,
   "metadata": {},
   "outputs": [
    {
     "name": "stdout",
     "output_type": "stream",
     "text": [
      "Cuboid_0\n",
      "Cuboid_1\n",
      "Cuboid_2\n",
      "Cuboid_3\n",
      "Cuboid_4\n"
     ]
    }
   ],
   "source": [
    "for element in info_list:\n",
    "    print(element['object_name'])"
   ]
  },
  {
   "cell_type": "code",
   "execution_count": 59,
   "metadata": {},
   "outputs": [
    {
     "data": {
      "text/plain": [
       "0"
      ]
     },
     "execution_count": 59,
     "metadata": {},
     "output_type": "execute_result"
    }
   ],
   "source": [
    "handle_dr20 = get_object_handle(client_id,'dr20')\n",
    "euler_orientation = (0,0,1.57)\n",
    "sim.simxSetObjectOrientation(client_id,handle_dr20,-1,euler_orientation,sim.simx_opmode_blocking)"
   ]
  },
  {
   "cell_type": "code",
   "execution_count": 60,
   "metadata": {},
   "outputs": [
    {
     "data": {
      "text/plain": [
       "(0, [0.0019453406566753983, 2.178945578634739e-05, 1.570089340209961])"
      ]
     },
     "execution_count": 60,
     "metadata": {},
     "output_type": "execute_result"
    }
   ],
   "source": [
    "sim.simxGetObjectOrientation(client_id, handle_dr20,-1, sim.simx_opmode_blocking)"
   ]
  },
  {
   "cell_type": "code",
   "execution_count": 61,
   "metadata": {},
   "outputs": [
    {
     "data": {
      "text/plain": [
       "90.00725351321469"
      ]
     },
     "execution_count": 61,
     "metadata": {},
     "output_type": "execute_result"
    }
   ],
   "source": [
    "robot_pos, robot_ang = get_configuration(client_id, handle_dr20)\n",
    "180*robot_ang[2]/3.14"
   ]
  },
  {
   "cell_type": "code",
   "execution_count": 62,
   "metadata": {},
   "outputs": [
    {
     "data": {
      "text/plain": [
       "(0, 1.570796326795, 3.14159265359, 4.7123889803850005)"
      ]
     },
     "execution_count": 62,
     "metadata": {},
     "output_type": "execute_result"
    }
   ],
   "source": [
    "get_normals_orientation(0)"
   ]
  },
  {
   "cell_type": "code",
   "execution_count": 63,
   "metadata": {},
   "outputs": [
    {
     "name": "stdout",
     "output_type": "stream",
     "text": [
      "Cuboid_0: (6.32791051020698e-17, 1.570796326795, 3.14159265359, 4.7123889803850005)\n",
      "Cuboid_1: (6.891567801451878e-14, 1.5707963267950689, 3.141592653590069, 4.712388980385069)\n",
      "Cuboid_2: (2.999851555123585e-17, 1.570796326795, 3.14159265359, 4.7123889803850005)\n",
      "Cuboid_3: (2.4440758498663512e-17, 1.570796326795, 3.14159265359, 4.7123889803850005)\n",
      "Cuboid_4: (-1.0784487177348919e-17, 1.570796326795, 3.14159265359, 4.7123889803850005)\n"
     ]
    }
   ],
   "source": [
    "for element in info_list:\n",
    "    normals = get_normals_orientation(element['object_orientation'][2])\n",
    "    # position_x = round\n",
    "    print(f'{element[\"object_name\"]}: {normals}')"
   ]
  },
  {
   "cell_type": "code",
   "execution_count": 64,
   "metadata": {},
   "outputs": [],
   "source": [
    "x_min, y_min, z_min, x_max, y_max, z_max = get_bounding_box_corners_positions(client_id,listazinha[0]['object_handler'],\"model\")"
   ]
  },
  {
   "cell_type": "code",
   "execution_count": 65,
   "metadata": {},
   "outputs": [
    {
     "data": {
      "text/plain": [
       "[array([-1.47499979e+00,  5.00000359e-01,  6.06022016e-08]),\n",
       " array([-1.97499979e+00,  5.00000359e-01,  6.06466669e-08]),\n",
       " array([-1.97499979e+00,  3.58647658e-07,  5.86070880e-08]),\n",
       " array([-1.47499979e+00,  3.58647658e-07,  5.85626226e-08])]"
      ]
     },
     "execution_count": 65,
     "metadata": {},
     "output_type": "execute_result"
    }
   ],
   "source": [
    "# in order to test the map_local_coordinates_to_global_coordinates() power to map the corners local coordinates to global values,\n",
    "# let's use the cuboid 0. It is global corners must be something like\n",
    "# [-1.5, 0.5] [-2, 0.5] [-2, 0] [-1.5, 0]\n",
    "\n",
    "cuboid_number = 0\n",
    "local_c_cuboid = get_bounding_box_corners_local_coordinates(client_id, listazinha[cuboid_number]['object_handler'])\n",
    "orientation_cuboid = listazinha[cuboid_number]['object_orientation']\n",
    "orientation_cuboid.reverse() # notice that the orientation vector is reversed (theta is naturally the last, but we need to have it as the first value)\n",
    "position_cuboid = listazinha[cuboid_number]['object_position']\n",
    "map_local_coordinates_to_global_coordinates(local_c_cuboid, orientation_cuboid, position_cuboid)"
   ]
  },
  {
   "cell_type": "markdown",
   "metadata": {},
   "source": [
    "we know there are 4 horizontal normal vectors. Two of them point to X and Y. The other two point to -X and -Y. \n",
    "\n",
    "How to know where X is pointing? Well, it is given by the Z Euler vector. \n",
    "\n",
    "Where does Y point to? to X+90º. And what about -X and -Y? We just need to add 180º to X and Y.\n",
    "\n",
    "# Creating Configuration Map\n",
    "\n",
    "1. Step\n",
    "To orient the robot so its euler angles will be 0,0,0.\n",
    "2. Step\n",
    "For each obstacle, do the following:\n",
    "- Get the bounding box vertices from $x_{min}, x_{max}, y_{min}, y_{max}, z_{min}, z_{max}$\n",
    "- Map bounding box vertices (in object's reference frame to global reference frame)\n",
    "- Test applicability using the normal's orientation (i think i'll need to check sine and cossine, or limit the orientation within [0,2pi] )\n",
    "- Create Configuration Vertice "
   ]
  },
  {
   "cell_type": "code",
   "execution_count": 66,
   "metadata": {},
   "outputs": [],
   "source": [
    "cuboid_number = 0\n",
    "orient_cuboid = info_list[cuboid_number]['object_orientation']\n",
    "n_4_obj, n_1_obj, n_2_obj, n_3_obj = get_normals_orientation(orient_cuboid[2])"
   ]
  },
  {
   "cell_type": "code",
   "execution_count": 67,
   "metadata": {},
   "outputs": [],
   "source": [
    "pi = 3.14159265359\n",
    "orient_robot = robot_information['object_orientation']\n",
    "n_4_robot, n_1_robot, n_2_robot, n_3_robot = get_normals_orientation(orient_robot[2])\n",
    "neg_n_4_robot, neg_n_1_robot, neg_n_2_robot, neg_n_3_robot = n_4_robot+pi, n_1_robot+pi, n_2_robot+pi, n_3_robot+pi"
   ]
  },
  {
   "cell_type": "code",
   "execution_count": 68,
   "metadata": {},
   "outputs": [],
   "source": [
    "normals_object = [n_1_obj, n_2_obj, n_3_obj, n_4_obj, n_1_obj]\n",
    "normals_robot = [neg_n_4_robot, neg_n_1_robot, neg_n_2_robot, neg_n_3_robot, neg_n_4_robot]"
   ]
  },
  {
   "cell_type": "code",
   "execution_count": 74,
   "metadata": {},
   "outputs": [
    {
     "name": "stdout",
     "output_type": "stream",
     "text": [
      "A CONTACT: is v4_robo between v1_obj and v2_obj?\n",
      "B CONTACT: is v1_obj between v4_robo and v1_robo?\n",
      " \n",
      "A CONTACT: is v1_robo between v2_obj and v3_obj?\n",
      "B CONTACT: is v2_obj between v1_robo and v2_robo?\n",
      " \n",
      "A CONTACT: is v2_robo between v3_obj and v4_obj?\n",
      "B CONTACT: is v3_obj between v2_robo and v3_robo?\n",
      " \n",
      "A CONTACT: is v3_robo between v4_obj and v1_obj?\n",
      "B CONTACT: is v4_obj between v3_robo and v4_robo?\n",
      " \n"
     ]
    }
   ],
   "source": [
    "normals_object = ['v1_obj','v2_obj','v3_obj','v4_obj','v1_obj']\n",
    "normals_robot = ['v4_robo','v1_robo','v2_robo','v3_robo','v4_robo']\n",
    "for it in range(0,len(normals_object)-1):\n",
    "    print(f'A CONTACT: is {normals_robot[it]} between {normals_object[it]} and {normals_object[it+1]}?')\n",
    "    print(f'B CONTACT: is {normals_object[it]} between {normals_robot[it]} and {normals_robot[it+1]}?')\n",
    "    print(\" \")"
   ]
  },
  {
   "cell_type": "code",
   "execution_count": 77,
   "metadata": {},
   "outputs": [],
   "source": [
    "def is_angle_between(v_1,v,v_2):\n",
    "    if v_2 < v_1:\n",
    "        raise ValueError(\"angle order is wrong\")\n",
    "\n",
    "    cos_v1 = np.cos(v_1)\n",
    "    sin_v1 = np.sin(v_1)\n",
    "\n",
    "    cos_v = np.cos(v)\n",
    "    sin_v = np.sin(v)\n",
    "\n",
    "    cos_v2 = np.cos(v_2)\n",
    "    sin_v2 = np.sin(v_2)\n",
    "\n",
    "    if cos_v1 <= cos_v and cos_v <= cos_v2 and sin_v1 <= sin_v and sin_v <= sin_v2:\n",
    "        return True\n",
    "    else:\n",
    "        return False"
   ]
  },
  {
   "cell_type": "code",
   "execution_count": 91,
   "metadata": {},
   "outputs": [],
   "source": [
    "def convert_angle_to_0_2pi_interval(angle): # https://stackoverflow.com/questions/58627711/get-angle-into-range-0-2pi-python\n",
    "    new_angle = np.arctan2(np.sin(angle), np.cos(angle))\n",
    "    if new_angle < 0:\n",
    "        new_angle = abs(new_angle) + 2 * (np.pi - abs(new_angle))\n",
    "    return new_angle"
   ]
  }
 ],
 "metadata": {
  "interpreter": {
   "hash": "31f2aee4e71d21fbe5cf8b01ff0e069b9275f58929596ceb00d14d90e3e16cd6"
  },
  "kernelspec": {
   "display_name": "Python 3.8.10 64-bit",
   "language": "python",
   "name": "python3"
  },
  "language_info": {
   "codemirror_mode": {
    "name": "ipython",
    "version": 3
   },
   "file_extension": ".py",
   "mimetype": "text/x-python",
   "name": "python",
   "nbconvert_exporter": "python",
   "pygments_lexer": "ipython3",
   "version": "3.8.10"
  },
  "orig_nbformat": 4
 },
 "nbformat": 4,
 "nbformat_minor": 2
}
