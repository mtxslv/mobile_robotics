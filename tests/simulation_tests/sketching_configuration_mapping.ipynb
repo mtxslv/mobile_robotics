{
 "cells": [
  {
   "cell_type": "code",
   "execution_count": 15,
   "metadata": {},
   "outputs": [],
   "source": [
    "this_file_name = 'sketching_configuration_mapping.ipynb'\n",
    "import sys\n",
    "import os\n",
    "sys.path.insert(0, os.path.abspath(\n",
    "    os.path.join(os.path.dirname(this_file_name), '../../src/') ))\n",
    "\n",
    "from configuration_space_mapping import *\n",
    "from utils import *"
   ]
  },
  {
   "cell_type": "markdown",
   "metadata": {},
   "source": [
    "# The idea\n",
    "\n",
    "First, retrieve all scene objects' configuration and position. "
   ]
  },
  {
   "cell_type": "code",
   "execution_count": 16,
   "metadata": {},
   "outputs": [
    {
     "name": "stdout",
     "output_type": "stream",
     "text": [
      "Connected to remote API server\n",
      "Number of objects in the scene:  42\n"
     ]
    }
   ],
   "source": [
    "client_id = connect_2_sim()\n",
    "test_connection(client_id)"
   ]
  },
  {
   "cell_type": "code",
   "execution_count": 17,
   "metadata": {},
   "outputs": [],
   "source": [
    "scene_objects = ['Cuboid_0','Cuboid_1','Cuboid_2',\n",
    "                 'Cuboid_3','Cuboid_4','dr20']"
   ]
  },
  {
   "cell_type": "code",
   "execution_count": 18,
   "metadata": {},
   "outputs": [],
   "source": [
    "listazinha = get_scene_objects_info(client_id, scene_objects)"
   ]
  },
  {
   "cell_type": "code",
   "execution_count": 19,
   "metadata": {},
   "outputs": [
    {
     "name": "stdout",
     "output_type": "stream",
     "text": [
      "[-1.72, 0.25, 0.25]\n",
      "[-0.35, 1.5, 0.5]\n",
      "[-1.52, -1.22, 0.5]\n",
      "[-0.15, -0.1, 0.25]\n",
      "[1.4, -0.15, 0.5]\n",
      "[-2.02, 1.73, 0.15]\n"
     ]
    }
   ],
   "source": [
    "for element in listazinha:\n",
    "    a = round(element['object_position'][0],2)\n",
    "    b = round(element['object_position'][1],2)\n",
    "    c = round(element['object_position'][2],2)\n",
    "    print([a,b,c])"
   ]
  },
  {
   "cell_type": "code",
   "execution_count": 20,
   "metadata": {},
   "outputs": [],
   "source": [
    "info_list, robot_information = split_robot_from_info_list(listazinha,'dr20')"
   ]
  },
  {
   "cell_type": "code",
   "execution_count": 21,
   "metadata": {},
   "outputs": [
    {
     "name": "stdout",
     "output_type": "stream",
     "text": [
      "Cuboid_0\n",
      "Cuboid_1\n",
      "Cuboid_2\n",
      "Cuboid_3\n",
      "Cuboid_4\n"
     ]
    }
   ],
   "source": [
    "for element in info_list:\n",
    "    print(element['object_name'])"
   ]
  },
  {
   "cell_type": "markdown",
   "metadata": {},
   "source": [
    "we know there are 4 horizontal normal vectors. Two of them point to X and Y. The other two point to -X and -Y. \n",
    "\n",
    "How to know where X is pointing? Well, it is given by the Z Euler vector. \n",
    "\n",
    "Where does Y point to? to X+90º. And what about -X and -Y? We just need to add 180º to X and Y.\n",
    "\n",
    "# Creating Configuration Map\n",
    "\n",
    "1. Step\n",
    "To orient the robot so its euler angles will be 0,0,0.\n",
    "2. Step\n",
    "For each obstacle, do the following:\n",
    "-  "
   ]
  },
  {
   "cell_type": "code",
   "execution_count": 44,
   "metadata": {},
   "outputs": [
    {
     "data": {
      "text/plain": [
       "0"
      ]
     },
     "execution_count": 44,
     "metadata": {},
     "output_type": "execute_result"
    }
   ],
   "source": [
    "handle_dr20 = get_object_handle(client_id,'dr20')\n",
    "euler_orientation = (0,0,0)\n",
    "sim.simxSetObjectOrientation(client_id,handle_dr20,-1,euler_orientation,sim.simx_opmode_blocking)"
   ]
  },
  {
   "cell_type": "code",
   "execution_count": 45,
   "metadata": {},
   "outputs": [
    {
     "data": {
      "text/plain": [
       "0.03242413780301999"
      ]
     },
     "execution_count": 45,
     "metadata": {},
     "output_type": "execute_result"
    }
   ],
   "source": [
    "robot_pos, robot_ang = get_configuration(client_id, handle_dr20)\n",
    "180*robot_ang[2]/3.14"
   ]
  },
  {
   "cell_type": "code",
   "execution_count": 54,
   "metadata": {},
   "outputs": [
    {
     "data": {
      "text/plain": [
       "(0, 1.570796326795, 3.14159265359, 4.7123889803850005)"
      ]
     },
     "execution_count": 54,
     "metadata": {},
     "output_type": "execute_result"
    }
   ],
   "source": [
    "get_normals_orientation(0)"
   ]
  },
  {
   "cell_type": "code",
   "execution_count": 50,
   "metadata": {},
   "outputs": [
    {
     "data": {
      "text/plain": [
       "1.57"
      ]
     },
     "execution_count": 50,
     "metadata": {},
     "output_type": "execute_result"
    }
   ],
   "source": [
    "listazinha[0]['object_orientation'][2]+3.14/2"
   ]
  }
 ],
 "metadata": {
  "interpreter": {
   "hash": "31f2aee4e71d21fbe5cf8b01ff0e069b9275f58929596ceb00d14d90e3e16cd6"
  },
  "kernelspec": {
   "display_name": "Python 3.8.10 64-bit",
   "language": "python",
   "name": "python3"
  },
  "language_info": {
   "codemirror_mode": {
    "name": "ipython",
    "version": 3
   },
   "file_extension": ".py",
   "mimetype": "text/x-python",
   "name": "python",
   "nbconvert_exporter": "python",
   "pygments_lexer": "ipython3",
   "version": "3.8.10"
  },
  "orig_nbformat": 4
 },
 "nbformat": 4,
 "nbformat_minor": 2
}
