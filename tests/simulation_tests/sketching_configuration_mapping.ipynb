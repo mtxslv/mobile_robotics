{
 "cells": [
  {
   "cell_type": "code",
   "execution_count": 9,
   "metadata": {},
   "outputs": [],
   "source": [
    "this_file_name = 'sketching_configuration_mapping.ipynb'\n",
    "import sys\n",
    "import os\n",
    "sys.path.insert(0, os.path.abspath(\n",
    "    os.path.join(os.path.dirname(this_file_name), '../../src/') ))\n",
    "from utils import *"
   ]
  },
  {
   "cell_type": "markdown",
   "metadata": {},
   "source": [
    "# The idea\n",
    "\n",
    "First, retrieve all scene objects' configuration and position. "
   ]
  },
  {
   "cell_type": "code",
   "execution_count": 10,
   "metadata": {},
   "outputs": [
    {
     "name": "stdout",
     "output_type": "stream",
     "text": [
      "Connected to remote API server\n",
      "Number of objects in the scene:  42\n"
     ]
    }
   ],
   "source": [
    "client_id = connect_2_sim()\n",
    "test_connection(client_id)"
   ]
  },
  {
   "cell_type": "code",
   "execution_count": 11,
   "metadata": {},
   "outputs": [],
   "source": [
    "scene_objects = ['Cuboid_0','Cuboid_1','Cuboid_2',\n",
    "                 'Cuboid_3','Cuboid_4','dr20']"
   ]
  },
  {
   "cell_type": "code",
   "execution_count": 13,
   "metadata": {},
   "outputs": [],
   "source": [
    "listazinha = get_scene_objects_info(client_id, scene_objects)"
   ]
  },
  {
   "cell_type": "code",
   "execution_count": 14,
   "metadata": {},
   "outputs": [
    {
     "data": {
      "text/plain": [
       "[{'object_name': 'Cuboid_0',\n",
       "  'object_handler': 16,\n",
       "  'object_position': [-1.7249997854232788,\n",
       "   0.25000035762786865,\n",
       "   0.2500000596046448],\n",
       "  'object_orientation': [3.993277264413564e-09,\n",
       "   -1.0491065655093834e-10,\n",
       "   5.78318428357223e-17]},\n",
       " {'object_name': 'Cuboid_1',\n",
       "  'object_handler': 17,\n",
       "  'object_position': [-0.3500001132488251, 1.4999994039535522, 0.5],\n",
       "  'object_orientation': [-1.2080765277033834e-09,\n",
       "   -8.589069039333097e-11,\n",
       "   6.892211546491792e-14]},\n",
       " {'object_name': 'Cuboid_2',\n",
       "  'object_handler': 18,\n",
       "  'object_position': [-1.5249994993209839, -1.2249995470046997, 0.5],\n",
       "  'object_orientation': [-1.0236179681655244e-09,\n",
       "   -1.39426714618196e-09,\n",
       "   3.488473429531314e-17]},\n",
       " {'object_name': 'Cuboid_3',\n",
       "  'object_handler': 19,\n",
       "  'object_position': [-0.1499994993209839,\n",
       "   -0.09999959170818329,\n",
       "   0.2500000596046448],\n",
       "  'object_orientation': [1.1374869934854814e-09,\n",
       "   -1.3272767607208635e-10,\n",
       "   1.5923003452880393e-17]},\n",
       " {'object_name': 'Cuboid_4',\n",
       "  'object_handler': 20,\n",
       "  'object_position': [1.399999976158142, -0.14999991655349731, 0.5],\n",
       "  'object_orientation': [-5.129280888915844e-10,\n",
       "   1.7066945079413642e-10,\n",
       "   -2.95891335263257e-18]},\n",
       " {'object_name': 'dr20',\n",
       "  'object_handler': 21,\n",
       "  'object_position': [-2.024352550506592,\n",
       "   1.7337582111358643,\n",
       "   0.151042178273201],\n",
       "  'object_orientation': [-0.0020196011755615473,\n",
       "   -1.595425419509411e-05,\n",
       "   -1.5708439350128174]}]"
      ]
     },
     "execution_count": 14,
     "metadata": {},
     "output_type": "execute_result"
    }
   ],
   "source": [
    "listazinha"
   ]
  }
 ],
 "metadata": {
  "interpreter": {
   "hash": "31f2aee4e71d21fbe5cf8b01ff0e069b9275f58929596ceb00d14d90e3e16cd6"
  },
  "kernelspec": {
   "display_name": "Python 3.8.10 64-bit",
   "language": "python",
   "name": "python3"
  },
  "language_info": {
   "codemirror_mode": {
    "name": "ipython",
    "version": 3
   },
   "file_extension": ".py",
   "mimetype": "text/x-python",
   "name": "python",
   "nbconvert_exporter": "python",
   "pygments_lexer": "ipython3",
   "version": "3.8.10"
  },
  "orig_nbformat": 4
 },
 "nbformat": 4,
 "nbformat_minor": 2
}
