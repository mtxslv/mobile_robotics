{
 "cells": [
  {
   "cell_type": "code",
   "execution_count": 1,
   "metadata": {},
   "outputs": [],
   "source": [
    "file_name = \"another_configuration_mappnig_test.ipynb\"\n",
    "import sys\n",
    "import os\n",
    "sys.path.insert(0, os.path.abspath(\n",
    "    os.path.join(os.path.dirname(file_name), '../../src/') ))\n",
    "\n",
    "from configuration_space_mapping import *\n",
    "from utils import *\n",
    "\n",
    "import matplotlib.pyplot as plt\n",
    "from matplotlib.collections import PatchCollection\n",
    "from matplotlib.patches import Polygon\n",
    "import numpy as np"
   ]
  },
  {
   "cell_type": "markdown",
   "metadata": {},
   "source": [
    "# Creatin the function that creates the normals dataframe"
   ]
  },
  {
   "cell_type": "code",
   "execution_count": 2,
   "metadata": {},
   "outputs": [
    {
     "name": "stdout",
     "output_type": "stream",
     "text": [
      "Connected to remote API server\n",
      "Number of objects in the scene:  42\n"
     ]
    }
   ],
   "source": [
    "client_id = connect_2_sim()\n",
    "test_connection(client_id)"
   ]
  },
  {
   "cell_type": "code",
   "execution_count": 3,
   "metadata": {},
   "outputs": [],
   "source": [
    "scene_objects = ['Cuboid_0','Cuboid_1','Cuboid_2',\n",
    "                 'Cuboid_3','Cuboid_4','./dr20']\n",
    "robot_name = './dr20'"
   ]
  },
  {
   "cell_type": "code",
   "execution_count": 4,
   "metadata": {},
   "outputs": [],
   "source": [
    "listazinha = get_scene_objects_info(client_id, scene_objects)\n",
    "info_list, robot_information = split_robot_from_info_list(listazinha,robot_name)"
   ]
  },
  {
   "cell_type": "code",
   "execution_count": 5,
   "metadata": {},
   "outputs": [
    {
     "name": "stdout",
     "output_type": "stream",
     "text": [
      "points bounding box around robot: [array([-1.87688596,  1.61742038, -0.017019  ]), array([-1.87687982,  1.84288903, -0.0170243 ]), array([-2.17380678,  1.84289713, -0.01642804]), array([-2.17381292,  1.61742848, -0.01642274])]\n",
      "normals bounding box around robot: [6.2830909689202645, 1.5707019885356788, 3.141498315330679, 4.712294642125265]\n",
      "inverted normals bounding box around robot: [3.141498315330471, 4.712294642125472, 6.2830909689204715, 1.5707019885354716]\n",
      " \n"
     ]
    }
   ],
   "source": [
    "inverted_normals_robot, global_coordin_corners_robot = get_robot_info_for_mapping(client_id,robot_name,robot_information=robot_information)"
   ]
  },
  {
   "cell_type": "code",
   "execution_count": 6,
   "metadata": {},
   "outputs": [],
   "source": [
    "expected_robot_corners = np.array([[-1.88,  1.62],\n",
    "                                   [-1.88,  1.84],\n",
    "                                   [-2.17,  1.84],\n",
    "                                   [-2.17,  1.62]])\n",
    "expected_robot_inverted_normals = np.array([3.14, 4.71, 6.28, 1.57])                                   \n",
    "assert (np.round(global_coordin_corners_robot,2)[:,:2] == expected_robot_corners).all()\n",
    "assert (np.round(inverted_normals_robot,2) == expected_robot_inverted_normals).all"
   ]
  },
  {
   "cell_type": "code",
   "execution_count": 7,
   "metadata": {},
   "outputs": [
    {
     "name": "stdout",
     "output_type": "stream",
     "text": [
      "points bounding box around cuboid0: [array([-1.47499979e+00,  5.00000358e-01,  6.03388139e-08]), array([-1.97499979e+00,  5.00000358e-01,  6.05279031e-08]), array([-1.97499979e+00,  3.58456582e-07,  5.88704756e-08]), array([-1.47499979e+00,  3.58456582e-07,  5.86813864e-08])]\n",
      "normals bounding box around cuboid0: [1.570796330109855, 3.1415926569048547, 4.712388983699855, 3.314855057112709e-09]\n"
     ]
    }
   ],
   "source": [
    "# OBSTACLE STUFF, FOR 1 OBSTACLE ONLY\n",
    "# I need to retrieve the global coordinates and normals of an obstacle. Let's suppose the Cuboid_0 for this test\n",
    "\n",
    "cuboid_number = 0\n",
    "normals_cuboid, global_coordinates_cuboid = get_obstacle_info_for_mapping(client_id,cuboid_number,info_list)\n"
   ]
  },
  {
   "cell_type": "code",
   "execution_count": 8,
   "metadata": {},
   "outputs": [],
   "source": [
    "expect_obstacle_normals = np.array([1.57, 3.14, 4.71, 0.  ])\n",
    "expected_obstacle_corners = np.array([[-1.47,  0.5 ],\n",
    "                                      [-1.97,  0.5 ],\n",
    "                                      [-1.97,  0.  ],\n",
    "                                      [-1.47,  0.  ]])\n",
    "assert (np.round(normals_cuboid,2)==expect_obstacle_normals).all()                                      \n",
    "assert (np.round(global_coordinates_cuboid, 2)[:,:2] == expected_obstacle_corners).all()"
   ]
  },
  {
   "cell_type": "code",
   "execution_count": 30,
   "metadata": {},
   "outputs": [
    {
     "name": "stdout",
     "output_type": "stream",
     "text": [
      " \n",
      "        normals  normal_order owner\n",
      "7  3.314855e-09             4     o\n",
      "3  1.570702e+00             4     r\n",
      "4  1.570796e+00             1     o\n",
      "0  3.141498e+00             1     r\n",
      "5  3.141593e+00             2     o\n",
      "1  4.712295e+00             2     r\n",
      "6  4.712389e+00             3     o\n",
      "2  6.283091e+00             3     r\n",
      " \n"
     ]
    },
    {
     "data": {
      "text/html": [
       "<div>\n",
       "<style scoped>\n",
       "    .dataframe tbody tr th:only-of-type {\n",
       "        vertical-align: middle;\n",
       "    }\n",
       "\n",
       "    .dataframe tbody tr th {\n",
       "        vertical-align: top;\n",
       "    }\n",
       "\n",
       "    .dataframe thead th {\n",
       "        text-align: right;\n",
       "    }\n",
       "</style>\n",
       "<table border=\"1\" class=\"dataframe\">\n",
       "  <thead>\n",
       "    <tr style=\"text-align: right;\">\n",
       "      <th></th>\n",
       "      <th>normals</th>\n",
       "      <th>normal_order</th>\n",
       "      <th>owner</th>\n",
       "    </tr>\n",
       "  </thead>\n",
       "  <tbody>\n",
       "    <tr>\n",
       "      <th>0</th>\n",
       "      <td>3.141498e+00</td>\n",
       "      <td>1</td>\n",
       "      <td>r</td>\n",
       "    </tr>\n",
       "    <tr>\n",
       "      <th>1</th>\n",
       "      <td>4.712295e+00</td>\n",
       "      <td>2</td>\n",
       "      <td>r</td>\n",
       "    </tr>\n",
       "    <tr>\n",
       "      <th>2</th>\n",
       "      <td>6.283091e+00</td>\n",
       "      <td>3</td>\n",
       "      <td>r</td>\n",
       "    </tr>\n",
       "    <tr>\n",
       "      <th>3</th>\n",
       "      <td>1.570702e+00</td>\n",
       "      <td>4</td>\n",
       "      <td>r</td>\n",
       "    </tr>\n",
       "    <tr>\n",
       "      <th>4</th>\n",
       "      <td>1.570796e+00</td>\n",
       "      <td>1</td>\n",
       "      <td>o</td>\n",
       "    </tr>\n",
       "    <tr>\n",
       "      <th>5</th>\n",
       "      <td>3.141593e+00</td>\n",
       "      <td>2</td>\n",
       "      <td>o</td>\n",
       "    </tr>\n",
       "    <tr>\n",
       "      <th>6</th>\n",
       "      <td>4.712389e+00</td>\n",
       "      <td>3</td>\n",
       "      <td>o</td>\n",
       "    </tr>\n",
       "    <tr>\n",
       "      <th>7</th>\n",
       "      <td>3.314855e-09</td>\n",
       "      <td>4</td>\n",
       "      <td>o</td>\n",
       "    </tr>\n",
       "  </tbody>\n",
       "</table>\n",
       "</div>"
      ],
      "text/plain": [
       "        normals  normal_order owner\n",
       "0  3.141498e+00             1     r\n",
       "1  4.712295e+00             2     r\n",
       "2  6.283091e+00             3     r\n",
       "3  1.570702e+00             4     r\n",
       "4  1.570796e+00             1     o\n",
       "5  3.141593e+00             2     o\n",
       "6  4.712389e+00             3     o\n",
       "7  3.314855e-09             4     o"
      ]
     },
     "execution_count": 30,
     "metadata": {},
     "output_type": "execute_result"
    }
   ],
   "source": [
    "dframe_normals = get_normals_dataframe(inverted_normals_robot, normals_cuboid)\n",
    "#dframe_normals.reindex([0,1,2,3,4,5,6,7])"
   ]
  },
  {
   "cell_type": "code",
   "execution_count": 21,
   "metadata": {},
   "outputs": [
    {
     "data": {
      "text/html": [
       "<div>\n",
       "<style scoped>\n",
       "    .dataframe tbody tr th:only-of-type {\n",
       "        vertical-align: middle;\n",
       "    }\n",
       "\n",
       "    .dataframe tbody tr th {\n",
       "        vertical-align: top;\n",
       "    }\n",
       "\n",
       "    .dataframe thead th {\n",
       "        text-align: right;\n",
       "    }\n",
       "</style>\n",
       "<table border=\"1\" class=\"dataframe\">\n",
       "  <thead>\n",
       "    <tr style=\"text-align: right;\">\n",
       "      <th></th>\n",
       "      <th>normals</th>\n",
       "      <th>normal_order</th>\n",
       "      <th>owner</th>\n",
       "    </tr>\n",
       "  </thead>\n",
       "  <tbody>\n",
       "    <tr>\n",
       "      <th>0</th>\n",
       "      <td>3.314855e-09</td>\n",
       "      <td>4</td>\n",
       "      <td>o</td>\n",
       "    </tr>\n",
       "    <tr>\n",
       "      <th>1</th>\n",
       "      <td>1.570702e+00</td>\n",
       "      <td>4</td>\n",
       "      <td>r</td>\n",
       "    </tr>\n",
       "    <tr>\n",
       "      <th>2</th>\n",
       "      <td>1.570796e+00</td>\n",
       "      <td>1</td>\n",
       "      <td>o</td>\n",
       "    </tr>\n",
       "    <tr>\n",
       "      <th>3</th>\n",
       "      <td>3.141498e+00</td>\n",
       "      <td>1</td>\n",
       "      <td>r</td>\n",
       "    </tr>\n",
       "    <tr>\n",
       "      <th>4</th>\n",
       "      <td>3.141593e+00</td>\n",
       "      <td>2</td>\n",
       "      <td>o</td>\n",
       "    </tr>\n",
       "    <tr>\n",
       "      <th>5</th>\n",
       "      <td>4.712295e+00</td>\n",
       "      <td>2</td>\n",
       "      <td>r</td>\n",
       "    </tr>\n",
       "    <tr>\n",
       "      <th>6</th>\n",
       "      <td>4.712389e+00</td>\n",
       "      <td>3</td>\n",
       "      <td>o</td>\n",
       "    </tr>\n",
       "    <tr>\n",
       "      <th>7</th>\n",
       "      <td>6.283091e+00</td>\n",
       "      <td>3</td>\n",
       "      <td>r</td>\n",
       "    </tr>\n",
       "  </tbody>\n",
       "</table>\n",
       "</div>"
      ],
      "text/plain": [
       "        normals  normal_order owner\n",
       "0  3.314855e-09             4     o\n",
       "1  1.570702e+00             4     r\n",
       "2  1.570796e+00             1     o\n",
       "3  3.141498e+00             1     r\n",
       "4  3.141593e+00             2     o\n",
       "5  4.712295e+00             2     r\n",
       "6  4.712389e+00             3     o\n",
       "7  6.283091e+00             3     r"
      ]
     },
     "execution_count": 21,
     "metadata": {},
     "output_type": "execute_result"
    }
   ],
   "source": [
    "data_0 = {'normals':[3.314855e-09, 1.570702e+00, 1.570796e+00, 3.141498e+00, 3.141593e+00, 4.712295e+00, 4.712389e+00, 6.283091e+00], \n",
    "        'normal_order':[4,4,1,1,2,2,3,3],\n",
    "        'owner':['o','r','o','r','o','r','o','r']}\n",
    "dframe_0 = pd.DataFrame.from_dict(data_0)   \n",
    "dframe_0"
   ]
  },
  {
   "cell_type": "code",
   "execution_count": 23,
   "metadata": {},
   "outputs": [
    {
     "name": "stdout",
     "output_type": "stream",
     "text": [
      "o -> r | b4-a4\n",
      "r -> o | b1-a4\n",
      "o -> r | b1-a1\n",
      "r -> o | b2-a1\n",
      "o -> r | b2-a2\n",
      "r -> o | b3-a2\n",
      "o -> r | b3-a3\n",
      "r -> o | b4-a3\n"
     ]
    }
   ],
   "source": [
    "a_0 = mapping_loop(dframe=dframe_0,\n",
    "                 corners_robot=global_coordin_corners_robot,\n",
    "                 corners_obstacle=global_coordinates_cuboid)\n",
    "a_0_np = np.array(a_0)"
   ]
  },
  {
   "cell_type": "code",
   "execution_count": 31,
   "metadata": {},
   "outputs": [
    {
     "name": "stdout",
     "output_type": "stream",
     "text": [
      "o -> r | b4-a1\n",
      "r -> o | b2-a4\n",
      "o -> r | b2-a4\n",
      "r -> o | b3-a2\n"
     ]
    }
   ],
   "source": [
    "alpha = mapping_loop(dframe=dframe_normals.reindex([0,1,2,3,4,5,6,7]),\n",
    "                     corners_robot=global_coordin_corners_robot,\n",
    "                     corners_obstacle=global_coordinates_cuboid)\n",
    "alpha_np = np.array(alpha)"
   ]
  },
  {
   "cell_type": "markdown",
   "metadata": {},
   "source": [
    "# Testing the Mapping function"
   ]
  },
  {
   "cell_type": "code",
   "execution_count": 10,
   "metadata": {},
   "outputs": [
    {
     "name": "stdout",
     "output_type": "stream",
     "text": [
      "Connected to remote API server\n",
      "Number of objects in the scene:  42\n"
     ]
    }
   ],
   "source": [
    "client_id = connect_2_sim()\n",
    "test_connection(client_id)"
   ]
  },
  {
   "cell_type": "code",
   "execution_count": 11,
   "metadata": {},
   "outputs": [
    {
     "name": "stdout",
     "output_type": "stream",
     "text": [
      "points bounding box around robot: [array([-1.87685087,  1.61820479, -0.01701949]), array([-1.87682592,  1.84367344, -0.01702409]), array([-2.17375112,  1.84370632, -0.01642973]), array([-2.17377607,  1.61823767, -0.01642513])]\n",
      "normals bounding box around robot: [6.283061643435035, 1.5706726630504493, 3.1414689898454493, 4.7122653166400355]\n",
      "inverted normals bounding box around robot: [3.1414689898452415, 4.712265316640242, 6.283061643435242, 1.5706726630502421]\n",
      " \n",
      "points bounding box around cuboid0: [array([-1.47499979e+00,  5.00000359e-01,  6.06977947e-08]), array([-1.97499979e+00,  5.00000359e-01,  6.05020497e-08]), array([-1.97499979e+00,  3.58623146e-07,  5.85114949e-08]), array([-1.47499979e+00,  3.58623146e-07,  5.87072398e-08])]\n",
      "normals bounding box around cuboid0: [1.5707963307761097, 3.1415926575711093, 4.712388984366109, 3.981109664152882e-09]\n",
      " \n",
      "        normals  normal_order owner\n",
      "7  3.981110e-09             4     o\n",
      "3  1.570673e+00             4     r\n",
      "4  1.570796e+00             1     o\n",
      "0  3.141469e+00             1     r\n",
      "5  3.141593e+00             2     o\n",
      "1  4.712265e+00             2     r\n",
      "6  4.712389e+00             3     o\n",
      "2  6.283062e+00             3     r\n",
      " \n",
      " \n",
      " \n",
      " \n",
      "arguments going inside mapping loop...\n",
      "dframe =        normals  normal_order owner\n",
      "7  3.981110e-09             4     o\n",
      "3  1.570673e+00             4     r\n",
      "4  1.570796e+00             1     o\n",
      "0  3.141469e+00             1     r\n",
      "5  3.141593e+00             2     o\n",
      "1  4.712265e+00             2     r\n",
      "6  4.712389e+00             3     o\n",
      "2  6.283062e+00             3     r\n",
      "corners_robot = [array([-1.87685087,  1.61820479, -0.01701949]), array([-1.87682592,  1.84367344, -0.01702409]), array([-2.17375112,  1.84370632, -0.01642973]), array([-2.17377607,  1.61823767, -0.01642513])]\n",
      "corners_obstacle = [array([-1.47499979e+00,  5.00000359e-01,  6.06977947e-08]), array([-1.97499979e+00,  5.00000359e-01,  6.05020497e-08]), array([-1.97499979e+00,  3.58623146e-07,  5.85114949e-08]), array([-1.47499979e+00,  3.58623146e-07,  5.87072398e-08])]\n",
      "o -> r | b4-a1\n",
      "r -> o | b2-a4\n",
      "o -> r | b2-a4\n",
      "r -> o | b3-a2\n"
     ]
    }
   ],
   "source": [
    "scene_objects = ['Cuboid_0','Cuboid_1','Cuboid_2',\n",
    "                 'Cuboid_3','Cuboid_4','./dr20']\n",
    "robot_name = './dr20'\n",
    "lista_de_vertices = mapping(client_id=client_id, scene_objects=scene_objects, robot_name=robot_name)"
   ]
  },
  {
   "cell_type": "code",
   "execution_count": 12,
   "metadata": {},
   "outputs": [],
   "source": [
    "v_list_np = np.array(lista_de_vertices)"
   ]
  },
  {
   "cell_type": "code",
   "execution_count": 13,
   "metadata": {},
   "outputs": [
    {
     "data": {
      "text/plain": [
       "<matplotlib.collections.PathCollection at 0x7f9b862da760>"
      ]
     },
     "execution_count": 13,
     "metadata": {},
     "output_type": "execute_result"
    },
    {
     "data": {
      "image/png": "[encoded data removed]",
      "text/plain": [
       "<Figure size 432x288 with 1 Axes>"
      ]
     },
     "metadata": {
      "needs_background": "light"
     },
     "output_type": "display_data"
    }
   ],
   "source": [
    "plt.scatter(v_list_np[:,0], v_list_np[:,1])"
   ]
  },
  {
   "cell_type": "code",
   "execution_count": 14,
   "metadata": {},
   "outputs": [
    {
     "data": {
      "text/plain": [
       "<matplotlib.collections.PolyCollection at 0x7f9b841da910>"
      ]
     },
     "execution_count": 14,
     "metadata": {},
     "output_type": "execute_result"
    },
    {
     "data": {
      "image/png": "[encoded data removed]",
      "text/plain": [
       "<Figure size 432x288 with 1 Axes>"
      ]
     },
     "metadata": {
      "needs_background": "light"
     },
     "output_type": "display_data"
    }
   ],
   "source": [
    "plt.fill_betweenx(v_list_np[:,0],v_list_np[:,1])"
   ]
  },
  {
   "cell_type": "markdown",
   "metadata": {},
   "source": [
    "# Debugging `mapping_loop()`"
   ]
  },
  {
   "cell_type": "markdown",
   "metadata": {},
   "source": [
    "## These parameters were found during a test I did in 6th Jun"
   ]
  },
  {
   "cell_type": "code",
   "execution_count": 15,
   "metadata": {},
   "outputs": [],
   "source": [
    "global_coordinates_cuboid = [np.array([-1.47499979e+00,  5.00000360e-01,  6.24157246e-08]), \n",
    "                             np.array([-1.97499979e+00,  5.00000360e-01,  6.17008973e-08]), \n",
    "                             np.array([-1.97499979e+00,  3.60081535e-07,  5.67935650e-08]), \n",
    "                             np.array([-1.47499979e+00,  3.60081535e-07,  5.75083923e-08])]\n",
    "global_coordin_corners_robot = [np.array([-1.8764059 ,  1.62417155, -0.01703672]), \n",
    "                                np.array([-1.87667144,  1.84963994, -0.01704005]), \n",
    "                                np.array([-2.17359744,  1.84929024, -0.01644217]), \n",
    "                                np.array([-2.1733319 ,  1.62382185, -0.01643884])]\n",
    "\n",
    "data = {'normals':[9.814665e-09,1.117424e-03,1.570796e+00,1.571914e+00,3.141593e+00,3.142710e+00,4.712389e+00,4.713506e+00], \n",
    "        'normal_order':[4,3,1,4,2,1,3,2],\n",
    "        'owner':['o','r','o','r','o','r','o','r']}\n",
    "\n",
    "dframe = pd.DataFrame.from_dict(data)                                "
   ]
  },
  {
   "cell_type": "code",
   "execution_count": 16,
   "metadata": {},
   "outputs": [
    {
     "name": "stdout",
     "output_type": "stream",
     "text": [
      "o -> r | b4-a3\n",
      "r -> o | b1-a3\n",
      "o -> r | b1-a4\n",
      "r -> o | b2-a4\n",
      "o -> r | b2-a1\n",
      "r -> o | b3-a1\n",
      "o -> r | b3-a2\n",
      "r -> o | b4-a2\n"
     ]
    }
   ],
   "source": [
    "a = mapping_loop(dframe=dframe,\n",
    "                 corners_robot=global_coordin_corners_robot,\n",
    "                 corners_obstacle=global_coordinates_cuboid)\n",
    "a_np = np.array(a)"
   ]
  },
  {
   "cell_type": "code",
   "execution_count": 17,
   "metadata": {},
   "outputs": [
    {
     "data": {
      "text/plain": [
       "<matplotlib.collections.PathCollection at 0x7f9b84152f10>"
      ]
     },
     "execution_count": 17,
     "metadata": {},
     "output_type": "execute_result"
    },
    {
     "data": {
      "image/png": "[encoded data removed]",
      "text/plain": [
       "<Figure size 432x288 with 1 Axes>"
      ]
     },
     "metadata": {
      "needs_background": "light"
     },
     "output_type": "display_data"
    }
   ],
   "source": [
    "plt.scatter(a_np[:,0],a_np[:,1])"
   ]
  },
  {
   "cell_type": "markdown",
   "metadata": {},
   "source": [
    "## These parameters were found during a test I did in 7th Jun"
   ]
  },
  {
   "cell_type": "code",
   "execution_count": 18,
   "metadata": {},
   "outputs": [
    {
     "name": "stdout",
     "output_type": "stream",
     "text": [
      "o -> r | b4-a4\n",
      "r -> o | b1-a4\n",
      "o -> r | b1-a1\n",
      "r -> o | b2-a1\n",
      "o -> r | b2-a2\n",
      "r -> o | b3-a2\n",
      "o -> r | b3-a3\n",
      "r -> o | b4-a3\n"
     ]
    }
   ],
   "source": [
    "data_2 = {'normals':[4.056378e-09, 1.570740e+00,1.570796e+00,3.141537e+00, 3.141593e+00,4.712333e+00, 4.712389e+00, 6.283129e+00], \n",
    "        'normal_order':[4,4,1,1,2,2,3,3],\n",
    "        'owner':['o','r','o','r','o','r','o','r']}\n",
    "dframe_2 = pd.DataFrame.from_dict(data_2)   \n",
    "a_2 = mapping_loop(dframe=dframe_2, corners_robot=global_coordin_corners_robot, corners_obstacle=global_coordinates_cuboid)\n",
    "a_2_np = np.array(a_2)"
   ]
  },
  {
   "cell_type": "code",
   "execution_count": 19,
   "metadata": {},
   "outputs": [
    {
     "data": {
      "text/plain": [
       "<matplotlib.collections.PathCollection at 0x7f9b840d32b0>"
      ]
     },
     "execution_count": 19,
     "metadata": {},
     "output_type": "execute_result"
    },
    {
     "data": {
      "image/png": "[encoded data removed]",
      "text/plain": [
       "<Figure size 432x288 with 1 Axes>"
      ]
     },
     "metadata": {
      "needs_background": "light"
     },
     "output_type": "display_data"
    }
   ],
   "source": [
    "plt.scatter(a_2_np[:,0],a_2_np[:,1]) \n",
    "# the noise does not change the shape of the polygon, only some positions of colinear vertices"
   ]
  }
 ],
 "metadata": {
  "interpreter": {
   "hash": "31f2aee4e71d21fbe5cf8b01ff0e069b9275f58929596ceb00d14d90e3e16cd6"
  },
  "kernelspec": {
   "display_name": "Python 3.8.10 64-bit",
   "language": "python",
   "name": "python3"
  },
  "language_info": {
   "codemirror_mode": {
    "name": "ipython",
    "version": 3
   },
   "file_extension": ".py",
   "mimetype": "text/x-python",
   "name": "python",
   "nbconvert_exporter": "python",
   "pygments_lexer": "ipython3",
   "version": "3.8.10"
  },
  "orig_nbformat": 4
 },
 "nbformat": 4,
 "nbformat_minor": 2
}
