{
 "cells": [
  {
   "cell_type": "code",
   "execution_count": 35,
   "metadata": {},
   "outputs": [],
   "source": [
    "file_name = \"another_configuration_mappnig_test.ipynb\"\n",
    "import sys\n",
    "import os\n",
    "sys.path.insert(0, os.path.abspath(\n",
    "    os.path.join(os.path.dirname(file_name), '../../src/') ))\n",
    "\n",
    "from configuration_space_mapping import *\n",
    "from utils import *\n",
    "\n",
    "import matplotlib.pyplot as plt\n",
    "from matplotlib.collections import PatchCollection\n",
    "from matplotlib.patches import Polygon"
   ]
  },
  {
   "cell_type": "code",
   "execution_count": 36,
   "metadata": {},
   "outputs": [
    {
     "name": "stdout",
     "output_type": "stream",
     "text": [
      "Connected to remote API server\n",
      "Number of objects in the scene:  42\n"
     ]
    }
   ],
   "source": [
    "client_id = connect_2_sim()\n",
    "test_connection(client_id)"
   ]
  },
  {
   "cell_type": "code",
   "execution_count": 37,
   "metadata": {},
   "outputs": [
    {
     "name": "stdout",
     "output_type": "stream",
     "text": [
      "points bounding box around robot: [array([-1.87686361,  1.6179734 , -0.01702108]), array([-1.87683619,  1.84344216, -0.0170256 ]), array([-2.17376244,  1.84347829, -0.01642638]), array([-2.17378986,  1.61800953, -0.01642186])]\n",
      "normals bounding box around robot: [6.2831293543115, 1.5707403739269141, 3.141536700721914, 4.7123330275165]\n",
      "inverted normals bounding box around robot: [3.1415367007217063, 4.712333027516707, 6.283129354311707, 1.570740373926707]\n",
      " \n",
      "points bounding box around cuboid0: [array([-1.47499979e+00,  5.00000359e-01,  6.05919786e-08]), array([-1.97499979e+00,  5.00000359e-01,  6.06455001e-08]), array([-1.97499979e+00,  3.58641963e-07,  5.86173109e-08]), array([-1.47499979e+00,  3.58641963e-07,  5.85637895e-08])]\n",
      "normals bounding box around cuboid0: [1.5707963308513784, 3.141592657646378, 4.712388984441379, 4.056378344330369e-09]\n",
      " \n",
      "        normals  normal_order owner\n",
      "7  4.056378e-09             4     o\n",
      "3  1.570740e+00             4     r\n",
      "4  1.570796e+00             1     o\n",
      "0  3.141537e+00             1     r\n",
      "5  3.141593e+00             2     o\n",
      "1  4.712333e+00             2     r\n",
      "6  4.712389e+00             3     o\n",
      "2  6.283129e+00             3     r\n",
      " \n",
      "o -> r | b4-a1\n",
      "r -> o | b2-a4\n",
      "o -> r | b2-a4\n",
      "r -> o | b3-a2\n"
     ]
    }
   ],
   "source": [
    "scene_objects = ['Cuboid_0','Cuboid_1','Cuboid_2',\n",
    "                 'Cuboid_3','Cuboid_4','./dr20']\n",
    "robot_name = './dr20'\n",
    "lista_de_vertices = mapping(client_id=client_id, scene_objects=scene_objects, robot_name=robot_name)"
   ]
  },
  {
   "cell_type": "code",
   "execution_count": 38,
   "metadata": {},
   "outputs": [],
   "source": [
    "v_list_np = np.array(lista_de_vertices)"
   ]
  },
  {
   "cell_type": "code",
   "execution_count": 39,
   "metadata": {},
   "outputs": [
    {
     "data": {
      "text/plain": [
       "<matplotlib.collections.PathCollection at 0x7fa490090370>"
      ]
     },
     "execution_count": 39,
     "metadata": {},
     "output_type": "execute_result"
    },
    {
     "data": {
      "image/png": "[encoded data removed]",
      "text/plain": [
       "<Figure size 432x288 with 1 Axes>"
      ]
     },
     "metadata": {
      "needs_background": "light"
     },
     "output_type": "display_data"
    }
   ],
   "source": [
    "plt.scatter(v_list_np[:,0], v_list_np[:,1])"
   ]
  },
  {
   "cell_type": "code",
   "execution_count": 40,
   "metadata": {},
   "outputs": [
    {
     "data": {
      "text/plain": [
       "<matplotlib.collections.PolyCollection at 0x7fa4900860a0>"
      ]
     },
     "execution_count": 40,
     "metadata": {},
     "output_type": "execute_result"
    },
    {
     "data": {
      "image/png": "[encoded data removed]",
      "text/plain": [
       "<Figure size 432x288 with 1 Axes>"
      ]
     },
     "metadata": {
      "needs_background": "light"
     },
     "output_type": "display_data"
    }
   ],
   "source": [
    "plt.fill_betweenx(v_list_np[:,0],v_list_np[:,1])"
   ]
  },
  {
   "cell_type": "markdown",
   "metadata": {},
   "source": [
    "# Debugging `mapping_loop()`"
   ]
  },
  {
   "cell_type": "markdown",
   "metadata": {},
   "source": [
    "## These parameters were found during a test I did in 6th Jun"
   ]
  },
  {
   "cell_type": "code",
   "execution_count": 52,
   "metadata": {},
   "outputs": [],
   "source": [
    "global_coordinates_cuboid = [np.array([-1.47499979e+00,  5.00000360e-01,  6.24157246e-08]), \n",
    "                             np.array([-1.97499979e+00,  5.00000360e-01,  6.17008973e-08]), \n",
    "                             np.array([-1.97499979e+00,  3.60081535e-07,  5.67935650e-08]), \n",
    "                             np.array([-1.47499979e+00,  3.60081535e-07,  5.75083923e-08])]\n",
    "global_coordin_corners_robot = [np.array([-1.8764059 ,  1.62417155, -0.01703672]), \n",
    "                                np.array([-1.87667144,  1.84963994, -0.01704005]), \n",
    "                                np.array([-2.17359744,  1.84929024, -0.01644217]), \n",
    "                                np.array([-2.1733319 ,  1.62382185, -0.01643884])]\n",
    "\n",
    "data = {'normals':[9.814665e-09,1.117424e-03,1.570796e+00,1.571914e+00,3.141593e+00,3.142710e+00,4.712389e+00,4.713506e+00], \n",
    "        'normal_order':[4,3,1,4,2,1,3,2],\n",
    "        'owner':['o','r','o','r','o','r','o','r']}\n",
    "\n",
    "dframe = pd.DataFrame.from_dict(data)                                "
   ]
  },
  {
   "cell_type": "code",
   "execution_count": 53,
   "metadata": {},
   "outputs": [
    {
     "name": "stdout",
     "output_type": "stream",
     "text": [
      "o -> r | b4-a3\n",
      "r -> o | b1-a3\n",
      "o -> r | b1-a4\n",
      "r -> o | b2-a4\n",
      "o -> r | b2-a1\n",
      "r -> o | b3-a1\n",
      "o -> r | b3-a2\n",
      "r -> o | b4-a2\n"
     ]
    }
   ],
   "source": [
    "a = mapping_loop(dframe=dframe, corners_robot=global_coordin_corners_robot, corners_obstacle=global_coordinates_cuboid)\n",
    "a_np = np.array(a)"
   ]
  },
  {
   "cell_type": "code",
   "execution_count": 54,
   "metadata": {},
   "outputs": [
    {
     "data": {
      "text/plain": [
       "<matplotlib.collections.PathCollection at 0x7fa489e5bfa0>"
      ]
     },
     "execution_count": 54,
     "metadata": {},
     "output_type": "execute_result"
    },
    {
     "data": {
      "image/png": "[encoded data removed]",
      "text/plain": [
       "<Figure size 432x288 with 1 Axes>"
      ]
     },
     "metadata": {
      "needs_background": "light"
     },
     "output_type": "display_data"
    }
   ],
   "source": [
    "plt.scatter(a_np[:,0],a_np[:,1])"
   ]
  },
  {
   "cell_type": "markdown",
   "metadata": {},
   "source": [
    "## These parameters were found during a test I did in 7th Jun"
   ]
  },
  {
   "cell_type": "code",
   "execution_count": 58,
   "metadata": {},
   "outputs": [
    {
     "name": "stdout",
     "output_type": "stream",
     "text": [
      "o -> r | b4-a4\n",
      "r -> o | b1-a4\n",
      "o -> r | b1-a1\n",
      "r -> o | b2-a1\n",
      "o -> r | b2-a2\n",
      "r -> o | b3-a2\n",
      "o -> r | b3-a3\n",
      "r -> o | b4-a3\n"
     ]
    }
   ],
   "source": [
    "data_2 = {'normals':[4.056378e-09, 1.570740e+00,1.570796e+00,3.141537e+00, 3.141593e+00,4.712333e+00, 4.712389e+00, 6.283129e+00], \n",
    "        'normal_order':[4,4,1,1,2,2,3,3],\n",
    "        'owner':['o','r','o','r','o','r','o','r']}\n",
    "dframe_2 = pd.DataFrame.from_dict(data_2)   \n",
    "a_2 = mapping_loop(dframe=dframe_2, corners_robot=global_coordin_corners_robot, corners_obstacle=global_coordinates_cuboid)\n",
    "a_2_np = np.array(a_2)"
   ]
  },
  {
   "cell_type": "code",
   "execution_count": 61,
   "metadata": {},
   "outputs": [
    {
     "data": {
      "text/plain": [
       "<matplotlib.collections.PathCollection at 0x7fa489d48640>"
      ]
     },
     "execution_count": 61,
     "metadata": {},
     "output_type": "execute_result"
    },
    {
     "data": {
      "image/png": "[encoded data removed]",
      "text/plain": [
       "<Figure size 432x288 with 1 Axes>"
      ]
     },
     "metadata": {
      "needs_background": "light"
     },
     "output_type": "display_data"
    }
   ],
   "source": [
    "plt.scatter(a_2_np[:,0],a_2_np[:,1]) \n",
    "# the noise does not change the shape of the polygon, only some positions of colinear vertices"
   ]
  }
 ],
 "metadata": {
  "interpreter": {
   "hash": "31f2aee4e71d21fbe5cf8b01ff0e069b9275f58929596ceb00d14d90e3e16cd6"
  },
  "kernelspec": {
   "display_name": "Python 3.8.10 64-bit",
   "language": "python",
   "name": "python3"
  },
  "language_info": {
   "codemirror_mode": {
    "name": "ipython",
    "version": 3
   },
   "file_extension": ".py",
   "mimetype": "text/x-python",
   "name": "python",
   "nbconvert_exporter": "python",
   "pygments_lexer": "ipython3",
   "version": "3.8.10"
  },
  "orig_nbformat": 4
 },
 "nbformat": 4,
 "nbformat_minor": 2
}
