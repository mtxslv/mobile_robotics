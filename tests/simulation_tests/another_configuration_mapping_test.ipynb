{
 "cells": [
  {
   "cell_type": "code",
   "execution_count": 4,
   "metadata": {},
   "outputs": [],
   "source": [
    "file_name = \"another_configuration_mappnig_test.ipynb\"\n",
    "import sys\n",
    "import os\n",
    "sys.path.insert(0, os.path.abspath(\n",
    "    os.path.join(os.path.dirname(file_name), '../../src/') ))\n",
    "\n",
    "from configuration_space_mapping import *\n",
    "from utils import *\n",
    "\n",
    "import matplotlib.pyplot as plt\n",
    "from matplotlib.collections import PatchCollection\n",
    "from matplotlib.patches import Polygon"
   ]
  },
  {
   "cell_type": "code",
   "execution_count": 5,
   "metadata": {},
   "outputs": [
    {
     "name": "stdout",
     "output_type": "stream",
     "text": [
      "Connected to remote API server\n",
      "Number of objects in the scene:  42\n"
     ]
    }
   ],
   "source": [
    "client_id = connect_2_sim()\n",
    "test_connection(client_id)"
   ]
  },
  {
   "cell_type": "code",
   "execution_count": 6,
   "metadata": {},
   "outputs": [
    {
     "name": "stdout",
     "output_type": "stream",
     "text": [
      "points bounding box around robot: [array([-1.87693099,  1.61671551, -0.01701797]), array([-1.87692271,  1.84218409, -0.01702323]), array([-2.17384976,  1.84219502, -0.01642485]), array([-2.17385805,  1.61672644, -0.0164196 ])]\n",
      "normals bounding box around robot: [6.283114572359596, 1.5707255919750098, 3.14152191877001, 4.712318245564596]\n",
      "inverted normals bounding box around robot: [3.141521918769802, 4.712318245564803, 6.2831145723598025, 1.5707255919748027]\n",
      " \n",
      "points bounding box around cuboid0: [array([-1.47499979e+00,  5.00000358e-01,  6.03572931e-08]), array([-1.97499979e+00,  5.00000358e-01,  6.03617615e-08]), array([-1.97499979e+00,  3.58382751e-07,  5.88519965e-08]), array([-1.47499979e+00,  3.58382751e-07,  5.88475281e-08])]\n",
      "normals bounding box around cuboid0: [1.57079632981453, 3.1415926566095296, 4.71238898340453, 3.019529959402689e-09]\n",
      " \n",
      "        normals  normal_order owner\n",
      "7  3.019530e-09             4     o\n",
      "3  1.570726e+00             4     r\n",
      "4  1.570796e+00             1     o\n",
      "0  3.141522e+00             1     r\n",
      "5  3.141593e+00             2     o\n",
      "1  4.712318e+00             2     r\n",
      "6  4.712389e+00             3     o\n",
      "2  6.283115e+00             3     r\n",
      " \n",
      "o -> r | b4-a1\n",
      "r -> o | b2-a4\n",
      "o -> r | b2-a4\n",
      "r -> o | b3-a2\n"
     ]
    }
   ],
   "source": [
    "scene_objects = ['Cuboid_0','Cuboid_1','Cuboid_2',\n",
    "                 'Cuboid_3','Cuboid_4','./dr20']\n",
    "robot_name = './dr20'\n",
    "lista_de_vertices = mapping(client_id=client_id, scene_objects=scene_objects, robot_name=robot_name)"
   ]
  },
  {
   "cell_type": "code",
   "execution_count": 7,
   "metadata": {},
   "outputs": [],
   "source": [
    "v_list_np = np.array(lista_de_vertices)"
   ]
  },
  {
   "cell_type": "code",
   "execution_count": 8,
   "metadata": {},
   "outputs": [
    {
     "data": {
      "text/plain": [
       "<matplotlib.collections.PathCollection at 0x7fa4905359a0>"
      ]
     },
     "execution_count": 8,
     "metadata": {},
     "output_type": "execute_result"
    },
    {
     "data": {
      "image/png": "[encoded data removed]",
      "text/plain": [
       "<Figure size 432x288 with 1 Axes>"
      ]
     },
     "metadata": {
      "needs_background": "light"
     },
     "output_type": "display_data"
    }
   ],
   "source": [
    "plt.scatter(v_list_np[:,0], v_list_np[:,1])"
   ]
  },
  {
   "cell_type": "code",
   "execution_count": 9,
   "metadata": {},
   "outputs": [
    {
     "data": {
      "text/plain": [
       "<matplotlib.collections.PolyCollection at 0x7fa490412b50>"
      ]
     },
     "execution_count": 9,
     "metadata": {},
     "output_type": "execute_result"
    },
    {
     "data": {
      "image/png": "[encoded data removed]",
      "text/plain": [
       "<Figure size 432x288 with 1 Axes>"
      ]
     },
     "metadata": {
      "needs_background": "light"
     },
     "output_type": "display_data"
    }
   ],
   "source": [
    "plt.fill_betweenx(v_list_np[:,0],v_list_np[:,1])"
   ]
  },
  {
   "cell_type": "markdown",
   "metadata": {},
   "source": [
    "# Debugging `mapping_loop()`"
   ]
  },
  {
   "cell_type": "code",
   "execution_count": 16,
   "metadata": {},
   "outputs": [],
   "source": [
    "global_coordinates_cuboid = [np.array([-1.47499979e+00,  5.00000360e-01,  6.24157246e-08]), \n",
    "                             np.array([-1.97499979e+00,  5.00000360e-01,  6.17008973e-08]), \n",
    "                             np.array([-1.97499979e+00,  3.60081535e-07,  5.67935650e-08]), \n",
    "                             np.array([-1.47499979e+00,  3.60081535e-07,  5.75083923e-08])]\n",
    "global_coordin_corners_robot = [np.array([-1.8764059 ,  1.62417155, -0.01703672]), \n",
    "                                np.array([-1.87667144,  1.84963994, -0.01704005]), \n",
    "                                np.array([-2.17359744,  1.84929024, -0.01644217]), \n",
    "                                np.array([-2.1733319 ,  1.62382185, -0.01643884])]\n",
    "\n",
    "data = {'normals':[9.814665e-09,1.117424e-03,1.570796e+00,1.571914e+00,3.141593e+00,3.142710e+00,4.712389e+00,4.713506e+00], \n",
    "        'normal_order':[4,3,1,4,2,1,3,2],\n",
    "        'owner':['o','r','o','r','o','r','o','r']}\n",
    "\n",
    "dframe = pd.DataFrame.from_dict(data)                                "
   ]
  },
  {
   "cell_type": "code",
   "execution_count": 21,
   "metadata": {},
   "outputs": [
    {
     "name": "stdout",
     "output_type": "stream",
     "text": [
      "o -> r | b4-a3\n",
      "r -> o | b1-a3\n",
      "o -> r | b1-a4\n",
      "r -> o | b2-a4\n",
      "o -> r | b2-a1\n",
      "r -> o | b3-a1\n",
      "o -> r | b3-a2\n",
      "r -> o | b4-a2\n"
     ]
    }
   ],
   "source": [
    "a = mapping_loop(dframe=dframe, corners_robot=global_coordin_corners_robot, corners_obstacle=global_coordinates_cuboid)\n",
    "a_np = np.array(a)"
   ]
  },
  {
   "cell_type": "code",
   "execution_count": 25,
   "metadata": {},
   "outputs": [
    {
     "data": {
      "text/plain": [
       "<matplotlib.collections.PathCollection at 0x7fa49025dbe0>"
      ]
     },
     "execution_count": 25,
     "metadata": {},
     "output_type": "execute_result"
    },
    {
     "data": {
      "image/png": "[encoded data removed]",
      "text/plain": [
       "<Figure size 432x288 with 1 Axes>"
      ]
     },
     "metadata": {
      "needs_background": "light"
     },
     "output_type": "display_data"
    }
   ],
   "source": [
    "plt.scatter(a_np[:,0],a_np[:,1])"
   ]
  }
 ],
 "metadata": {
  "interpreter": {
   "hash": "31f2aee4e71d21fbe5cf8b01ff0e069b9275f58929596ceb00d14d90e3e16cd6"
  },
  "kernelspec": {
   "display_name": "Python 3.8.10 64-bit",
   "language": "python",
   "name": "python3"
  },
  "language_info": {
   "codemirror_mode": {
    "name": "ipython",
    "version": 3
   },
   "file_extension": ".py",
   "mimetype": "text/x-python",
   "name": "python",
   "nbconvert_exporter": "python",
   "pygments_lexer": "ipython3",
   "version": "3.8.10"
  },
  "orig_nbformat": 4
 },
 "nbformat": 4,
 "nbformat_minor": 2
}
