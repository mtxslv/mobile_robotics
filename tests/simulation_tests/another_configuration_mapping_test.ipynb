{
 "cells": [
  {
   "cell_type": "code",
   "execution_count": 5,
   "metadata": {},
   "outputs": [],
   "source": [
    "file_name = \"another_configuration_mappnig_test.ipynb\"\n",
    "import sys\n",
    "import os\n",
    "sys.path.insert(0, os.path.abspath(\n",
    "    os.path.join(os.path.dirname(file_name), '../../src/') ))\n",
    "\n",
    "from configuration_space_mapping import *\n",
    "from utils import *\n",
    "\n",
    "import matplotlib.pyplot as plt\n",
    "from matplotlib.collections import PatchCollection\n",
    "from matplotlib.patches import Polygon\n",
    "import numpy as np"
   ]
  },
  {
   "cell_type": "markdown",
   "metadata": {},
   "source": [
    "# The Ultimate Test"
   ]
  },
  {
   "cell_type": "code",
   "execution_count": 6,
   "metadata": {},
   "outputs": [
    {
     "name": "stdout",
     "output_type": "stream",
     "text": [
      "Connected to remote API server\n",
      "Number of objects in the scene:  42\n"
     ]
    }
   ],
   "source": [
    "client_id = connect_2_sim()\n",
    "test_connection(client_id)"
   ]
  },
  {
   "cell_type": "code",
   "execution_count": 7,
   "metadata": {},
   "outputs": [],
   "source": [
    "scene_objects = ['Cuboid_0','Cuboid_1','Cuboid_2',\n",
    "                 'Cuboid_3','Cuboid_4','./dr20']\n",
    "robot_name = './dr20'"
   ]
  },
  {
   "cell_type": "code",
   "execution_count": 8,
   "metadata": {},
   "outputs": [
    {
     "name": "stdout",
     "output_type": "stream",
     "text": [
      "points bounding box around robot: [array([-1.87686565,  1.61792656, -0.0170195 ]), array([-1.87684672,  1.84339533, -0.01702362]), array([-2.17377403,  1.84342027, -0.01642811]), array([-2.17379296,  1.61795151, -0.01642399])]\n",
      "normals bounding box around robot: [6.283063669992957, 1.5706746896083716, 3.1414710164033717, 4.712267343197958]\n",
      "inverted normals bounding box around robot: [3.141471016403164, 4.712267343198165, 6.283063669993164, 1.5706746896081645]\n",
      " \n",
      "points bounding box around cuboid0: [array([-1.47499979e+00,  5.00000359e-01,  6.05516229e-08]), array([-1.97499979e+00,  5.00000359e-01,  6.05621596e-08]), array([-1.97499979e+00,  3.58580115e-07,  5.86576666e-08]), array([-1.47499979e+00,  3.58580115e-07,  5.86471299e-08])]\n",
      "normals bounding box around cuboid0: [1.570796330603986, 3.1415926573989856, 4.712388984193986, 3.808986015485516e-09]\n",
      " \n",
      "        normals  normal_order owner\n",
      "7  3.808986e-09             4     o\n",
      "3  1.570675e+00             4     r\n",
      "4  1.570796e+00             1     o\n",
      "0  3.141471e+00             1     r\n",
      "5  3.141593e+00             2     o\n",
      "1  4.712267e+00             2     r\n",
      "6  4.712389e+00             3     o\n",
      "2  6.283064e+00             3     r\n",
      " \n",
      "o -> r | b4-a4\n",
      "r -> o | b1-a4\n",
      "o -> r | b1-a1\n",
      "r -> o | b2-a1\n",
      "o -> r | b2-a2\n",
      "r -> o | b3-a2\n",
      "o -> r | b3-a3\n",
      "r -> o | b4-a3\n",
      "points bounding box around cuboid0: [array([ 1.49999887e-01,  1.99999940e+00, -3.66693453e-10]), array([-8.50000113e-01,  1.99999940e+00, -6.25577701e-10]), array([-8.50000113e-01,  9.99999403e-01,  3.66693453e-10]), array([1.49999887e-01, 9.99999403e-01, 6.25577701e-10])]\n",
      "normals bounding box around cuboid0: [1.5707963258027289, 3.141592652597729, 4.712388979392729, 6.283185306187315]\n",
      " \n",
      "    normals  normal_order owner\n",
      "3  1.570675             4     r\n",
      "4  1.570796             1     o\n",
      "0  3.141471             1     r\n",
      "5  3.141593             2     o\n",
      "1  4.712267             2     r\n",
      "6  4.712389             3     o\n",
      "2  6.283064             3     r\n",
      "7  6.283185             4     o\n",
      " \n",
      "r -> o | b1-a4\n",
      "o -> r | b1-a1\n",
      "r -> o | b2-a1\n",
      "o -> r | b2-a2\n",
      "r -> o | b3-a2\n",
      "o -> r | b3-a3\n",
      "r -> o | b4-a3\n",
      "o -> r | b4-a4\n",
      "points bounding box around cuboid0: [array([-1.02499950e+00, -7.24999548e-01,  3.15671378e-11]), array([-2.02499950e+00, -7.24999548e-01, -1.26997368e-09]), array([-2.02499950e+00, -1.72499955e+00, -3.15671933e-11]), array([-1.02499950e+00, -1.72499955e+00,  1.26997363e-09])]\n",
      "normals bounding box around cuboid0: [1.5707963255565935, 3.1415926523515934, 4.712388979146594, 6.2831853059411795]\n",
      " \n",
      "    normals  normal_order owner\n",
      "3  1.570675             4     r\n",
      "4  1.570796             1     o\n",
      "0  3.141471             1     r\n",
      "5  3.141593             2     o\n",
      "1  4.712267             2     r\n",
      "6  4.712389             3     o\n",
      "2  6.283064             3     r\n",
      "7  6.283185             4     o\n",
      " \n",
      "r -> o | b1-a4\n",
      "o -> r | b1-a1\n",
      "r -> o | b2-a1\n",
      "o -> r | b2-a2\n",
      "r -> o | b3-a2\n",
      "o -> r | b3-a3\n",
      "r -> o | b4-a3\n",
      "o -> r | b4-a4\n",
      "points bounding box around cuboid0: [array([1.00000501e-01, 1.50000408e-01, 5.96701527e-08]), array([-3.99999499e-01,  1.50000408e-01,  5.97579876e-08]), array([-3.99999499e-01, -3.49999592e-01,  5.95391368e-08]), array([ 1.00000501e-01, -3.49999592e-01,  5.94513019e-08])]\n",
      "normals bounding box around cuboid0: [1.5707963272327017, 3.141592654027701, 4.712388980822702, 4.377015694334574e-10]\n",
      " \n",
      "        normals  normal_order owner\n",
      "7  4.377016e-10             4     o\n",
      "3  1.570675e+00             4     r\n",
      "4  1.570796e+00             1     o\n",
      "0  3.141471e+00             1     r\n",
      "5  3.141593e+00             2     o\n",
      "1  4.712267e+00             2     r\n",
      "6  4.712389e+00             3     o\n",
      "2  6.283064e+00             3     r\n",
      " \n",
      "o -> r | b4-a4\n",
      "r -> o | b1-a4\n",
      "o -> r | b1-a1\n",
      "r -> o | b2-a1\n",
      "o -> r | b2-a2\n",
      "r -> o | b3-a2\n",
      "o -> r | b3-a3\n",
      "r -> o | b4-a3\n",
      "points bounding box around cuboid0: [array([ 1.89999998e+00,  3.50000083e-01, -3.88578059e-10]), array([ 8.99999976e-01,  3.50000083e-01, -1.39729006e-10]), array([ 8.99999976e-01, -6.49999917e-01,  3.88578059e-10]), array([ 1.89999998e+00, -6.49999917e-01,  1.39729006e-10])]\n",
      "normals bounding box around cuboid0: [1.570796326266693, 3.141592653061693, 4.712388979856693, 6.283185306651279]\n",
      " \n",
      "    normals  normal_order owner\n",
      "3  1.570675             4     r\n",
      "4  1.570796             1     o\n",
      "0  3.141471             1     r\n",
      "5  3.141593             2     o\n",
      "1  4.712267             2     r\n",
      "6  4.712389             3     o\n",
      "2  6.283064             3     r\n",
      "7  6.283185             4     o\n",
      " \n",
      "r -> o | b1-a4\n",
      "o -> r | b1-a1\n",
      "r -> o | b2-a1\n",
      "o -> r | b2-a2\n",
      "r -> o | b3-a2\n",
      "o -> r | b3-a3\n",
      "r -> o | b4-a3\n",
      "o -> r | b4-a4\n"
     ]
    }
   ],
   "source": [
    "patches = mapping(client_id=client_id, scene_objects=scene_objects, robot_name=robot_name)"
   ]
  },
  {
   "cell_type": "code",
   "execution_count": 9,
   "metadata": {},
   "outputs": [
    {
     "data": {
      "text/plain": [
       "array([[ 5.47379292, -1.41795134],\n",
       "       [ 5.1768656 , -1.4179264 ],\n",
       "       [ 4.1768656 , -1.4179264 ],\n",
       "       [ 4.17684667, -1.64339516],\n",
       "       [ 4.17684667, -2.64339516],\n",
       "       [ 4.47377398, -2.64342011],\n",
       "       [ 5.47377398, -2.64342011],\n",
       "       [ 5.47379292, -2.41795134],\n",
       "       [ 5.47379292, -1.41795134]])"
      ]
     },
     "execution_count": 9,
     "metadata": {},
     "output_type": "execute_result"
    }
   ],
   "source": [
    "patches[4].xy"
   ]
  },
  {
   "cell_type": "code",
   "execution_count": 10,
   "metadata": {},
   "outputs": [
    {
     "data": {
      "image/png": "[encoded data removed]",
      "text/plain": [
       "<Figure size 432x288 with 1 Axes>"
      ]
     },
     "metadata": {
      "needs_background": "light"
     },
     "output_type": "display_data"
    }
   ],
   "source": [
    "nfloors = len(patches)\n",
    "cmap = plt.get_cmap('RdYlBu')\n",
    "colors = cmap(nfloors) # convert nfloors to colors that we can use later\n",
    "\n",
    "fig,ax = plt.subplots(1)\n",
    "collection = PatchCollection(patches)\n",
    "ax.add_collection(collection)\n",
    "ax.scatter(2.5,2.5)\n",
    "collection.set_color(colors)\n",
    "ax.autoscale_view()\n",
    "plt.show()"
   ]
  },
  {
   "cell_type": "markdown",
   "metadata": {},
   "source": [
    "# Creatin the function that creates the normals dataframe"
   ]
  },
  {
   "cell_type": "code",
   "execution_count": null,
   "metadata": {},
   "outputs": [
    {
     "name": "stdout",
     "output_type": "stream",
     "text": [
      "Connected to remote API server\n",
      "Number of objects in the scene:  42\n"
     ]
    }
   ],
   "source": [
    "client_id = connect_2_sim()\n",
    "test_connection(client_id)"
   ]
  },
  {
   "cell_type": "code",
   "execution_count": null,
   "metadata": {},
   "outputs": [],
   "source": [
    "scene_objects = ['Cuboid_0','Cuboid_1','Cuboid_2',\n",
    "                 'Cuboid_3','Cuboid_4','./dr20']\n",
    "robot_name = './dr20'"
   ]
  },
  {
   "cell_type": "code",
   "execution_count": null,
   "metadata": {},
   "outputs": [],
   "source": [
    "listazinha = get_scene_objects_info(client_id, scene_objects)\n",
    "info_list, robot_information = split_robot_from_info_list(listazinha,robot_name)"
   ]
  },
  {
   "cell_type": "code",
   "execution_count": null,
   "metadata": {},
   "outputs": [
    {
     "name": "stdout",
     "output_type": "stream",
     "text": [
      "points bounding box around robot: [array([-1.87693175,  1.61671554, -0.01701785]), array([-1.87692346,  1.84218385, -0.01702311]), array([-2.17384808,  1.84219478, -0.01642474]), array([-2.17385637,  1.61672647, -0.01641948])]\n",
      "normals bounding box around robot: [6.283112188173805, 1.5707232077892188, 3.141519534584219, 4.712315861378805]\n",
      "inverted normals bounding box around robot: [3.141519534584011, 4.712315861379012, 6.2831121881740115, 1.5707232077890116]\n",
      " \n"
     ]
    }
   ],
   "source": [
    "inverted_normals_robot, global_coordin_corners_robot = get_robot_info_for_mapping(client_id,robot_name,robot_information=robot_information)"
   ]
  },
  {
   "cell_type": "code",
   "execution_count": null,
   "metadata": {},
   "outputs": [],
   "source": [
    "expected_robot_corners = np.array([[-1.88,  1.62],\n",
    "                                   [-1.88,  1.84],\n",
    "                                   [-2.17,  1.84],\n",
    "                                   [-2.17,  1.62]])\n",
    "expected_robot_inverted_normals = np.array([3.14, 4.71, 6.28, 1.57])                                   \n",
    "assert (np.round(global_coordin_corners_robot,2)[:,:2] == expected_robot_corners).all()\n",
    "assert (np.round(inverted_normals_robot,2) == expected_robot_inverted_normals).all"
   ]
  },
  {
   "cell_type": "code",
   "execution_count": null,
   "metadata": {},
   "outputs": [
    {
     "name": "stdout",
     "output_type": "stream",
     "text": [
      "points bounding box around cuboid0: [array([-1.47499979e+00,  5.00000358e-01,  6.03742199e-08]), array([-1.97499979e+00,  5.00000358e-01,  6.03677483e-08]), array([-1.97499979e+00,  3.58394208e-07,  5.88350696e-08]), array([-1.47499979e+00,  3.58394208e-07,  5.88415413e-08])]\n",
      "normals bounding box around cuboid0: [1.5707963298603573, 3.141592656655357, 4.712388983450357, 3.0653573013239566e-09]\n"
     ]
    }
   ],
   "source": [
    "# OBSTACLE STUFF, FOR 1 OBSTACLE ONLY\n",
    "# I need to retrieve the global coordinates and normals of an obstacle. Let's suppose the Cuboid_0 for this test\n",
    "\n",
    "cuboid_number = 0\n",
    "normals_cuboid, global_coordinates_cuboid = get_obstacle_info_for_mapping(client_id,cuboid_number,info_list)\n"
   ]
  },
  {
   "cell_type": "code",
   "execution_count": null,
   "metadata": {},
   "outputs": [],
   "source": [
    "expect_obstacle_normals = np.array([1.57, 3.14, 4.71, 0.  ])\n",
    "expected_obstacle_corners = np.array([[-1.47,  0.5 ],\n",
    "                                      [-1.97,  0.5 ],\n",
    "                                      [-1.97,  0.  ],\n",
    "                                      [-1.47,  0.  ]])\n",
    "assert (np.round(normals_cuboid,2)==expect_obstacle_normals).all()                                      \n",
    "assert (np.round(global_coordinates_cuboid, 2)[:,:2] == expected_obstacle_corners).all()"
   ]
  },
  {
   "cell_type": "code",
   "execution_count": null,
   "metadata": {},
   "outputs": [
    {
     "name": "stdout",
     "output_type": "stream",
     "text": [
      " \n",
      "        normals  normal_order owner\n",
      "7  3.065357e-09             4     o\n",
      "3  1.570723e+00             4     r\n",
      "4  1.570796e+00             1     o\n",
      "0  3.141520e+00             1     r\n",
      "5  3.141593e+00             2     o\n",
      "1  4.712316e+00             2     r\n",
      "6  4.712389e+00             3     o\n",
      "2  6.283112e+00             3     r\n",
      " \n"
     ]
    },
    {
     "data": {
      "text/html": [
       "<div>\n",
       "<style scoped>\n",
       "    .dataframe tbody tr th:only-of-type {\n",
       "        vertical-align: middle;\n",
       "    }\n",
       "\n",
       "    .dataframe tbody tr th {\n",
       "        vertical-align: top;\n",
       "    }\n",
       "\n",
       "    .dataframe thead th {\n",
       "        text-align: right;\n",
       "    }\n",
       "</style>\n",
       "<table border=\"1\" class=\"dataframe\">\n",
       "  <thead>\n",
       "    <tr style=\"text-align: right;\">\n",
       "      <th></th>\n",
       "      <th>normals</th>\n",
       "      <th>normal_order</th>\n",
       "      <th>owner</th>\n",
       "    </tr>\n",
       "  </thead>\n",
       "  <tbody>\n",
       "    <tr>\n",
       "      <th>7</th>\n",
       "      <td>3.065357e-09</td>\n",
       "      <td>4</td>\n",
       "      <td>o</td>\n",
       "    </tr>\n",
       "    <tr>\n",
       "      <th>3</th>\n",
       "      <td>1.570723e+00</td>\n",
       "      <td>4</td>\n",
       "      <td>r</td>\n",
       "    </tr>\n",
       "    <tr>\n",
       "      <th>4</th>\n",
       "      <td>1.570796e+00</td>\n",
       "      <td>1</td>\n",
       "      <td>o</td>\n",
       "    </tr>\n",
       "    <tr>\n",
       "      <th>0</th>\n",
       "      <td>3.141520e+00</td>\n",
       "      <td>1</td>\n",
       "      <td>r</td>\n",
       "    </tr>\n",
       "    <tr>\n",
       "      <th>5</th>\n",
       "      <td>3.141593e+00</td>\n",
       "      <td>2</td>\n",
       "      <td>o</td>\n",
       "    </tr>\n",
       "    <tr>\n",
       "      <th>1</th>\n",
       "      <td>4.712316e+00</td>\n",
       "      <td>2</td>\n",
       "      <td>r</td>\n",
       "    </tr>\n",
       "    <tr>\n",
       "      <th>6</th>\n",
       "      <td>4.712389e+00</td>\n",
       "      <td>3</td>\n",
       "      <td>o</td>\n",
       "    </tr>\n",
       "    <tr>\n",
       "      <th>2</th>\n",
       "      <td>6.283112e+00</td>\n",
       "      <td>3</td>\n",
       "      <td>r</td>\n",
       "    </tr>\n",
       "  </tbody>\n",
       "</table>\n",
       "</div>"
      ],
      "text/plain": [
       "        normals  normal_order owner\n",
       "7  3.065357e-09             4     o\n",
       "3  1.570723e+00             4     r\n",
       "4  1.570796e+00             1     o\n",
       "0  3.141520e+00             1     r\n",
       "5  3.141593e+00             2     o\n",
       "1  4.712316e+00             2     r\n",
       "6  4.712389e+00             3     o\n",
       "2  6.283112e+00             3     r"
      ]
     },
     "execution_count": 13,
     "metadata": {},
     "output_type": "execute_result"
    }
   ],
   "source": [
    "dframe_normals = get_normals_dataframe(inverted_normals_robot, normals_cuboid)\n",
    "dframe_normals"
   ]
  },
  {
   "cell_type": "code",
   "execution_count": null,
   "metadata": {},
   "outputs": [
    {
     "name": "stdout",
     "output_type": "stream",
     "text": [
      "o -> r | b4-a4\n",
      "r -> o | b1-a4\n",
      "o -> r | b1-a1\n",
      "r -> o | b2-a1\n",
      "o -> r | b2-a2\n",
      "r -> o | b3-a2\n",
      "o -> r | b3-a3\n",
      "r -> o | b4-a3\n"
     ]
    }
   ],
   "source": [
    "old_index = [pd.Series([0,1,2,3,4,5,6,7])]\n",
    "points = mapping_loop(dframe_normals.set_index(old_index),\n",
    "                      global_coordin_corners_robot,\n",
    "                      global_coordinates_cuboid)\n",
    "points = np.array(points)"
   ]
  },
  {
   "cell_type": "code",
   "execution_count": null,
   "metadata": {},
   "outputs": [],
   "source": [
    "centro_do_obstaculo = np.array(info_list[cuboid_number]['object_position'])\n",
    "c_corners = points + centro_do_obstaculo"
   ]
  },
  {
   "cell_type": "code",
   "execution_count": null,
   "metadata": {},
   "outputs": [
    {
     "data": {
      "image/png": "[encoded data removed]",
      "text/plain": [
       "<Figure size 432x288 with 1 Axes>"
      ]
     },
     "metadata": {
      "needs_background": "light"
     },
     "output_type": "display_data"
    }
   ],
   "source": [
    "fig,ax = plt.subplots(1)\n",
    "\n",
    "patches = []\n",
    "polygon = Polygon(c_corners[:,:2],closed=True)\n",
    "patches.append(polygon)\n",
    "collection = PatchCollection(patches)\n",
    "\n",
    "ax.add_collection(collection)\n",
    "ax.autoscale_view()\n",
    "plt.show()"
   ]
  },
  {
   "cell_type": "markdown",
   "metadata": {},
   "source": [
    "# Testing the Mapping function"
   ]
  },
  {
   "cell_type": "code",
   "execution_count": 16,
   "metadata": {},
   "outputs": [
    {
     "name": "stdout",
     "output_type": "stream",
     "text": [
      "Connected to remote API server\n",
      "Number of objects in the scene:  42\n"
     ]
    }
   ],
   "source": [
    "client_id = connect_2_sim()\n",
    "test_connection(client_id)"
   ]
  },
  {
   "cell_type": "code",
   "execution_count": 28,
   "metadata": {},
   "outputs": [
    {
     "name": "stdout",
     "output_type": "stream",
     "text": [
      "points bounding box around robot: [array([-1.87114514,  1.68972421, -0.01718427]), array([-1.87791116,  1.91509088, -0.01720443]), array([-2.17470187,  1.9061806 , -0.01660132]), array([-2.16793584,  1.68081392, -0.01658116])]\n",
      "normals bounding box around robot: [0.030112461247819855, 1.6009087880428199, 3.1717051148378195, 4.742501441632406]\n",
      "inverted normals bounding box around robot: [3.1717051148376125, 4.742501441632613, 0.030112461248026114, 1.6009087880426127]\n",
      " \n",
      "points bounding box around cuboid0: [array([-1.47499978e+00,  5.00000370e-01,  7.22762636e-08]), array([-1.97499978e+00,  5.00000370e-01,  7.09111615e-08]), array([-1.97499978e+00,  3.69617134e-07,  4.69330265e-08]), array([-1.47499978e+00,  3.69616739e-07,  4.82981286e-08])]\n",
      "normals bounding box around cuboid0: [1.57079637475127, 3.1415927015462697, 4.712389028341271, 4.795627006615177e-08]\n",
      " \n",
      "        normals  normal_order owner\n",
      "7  4.795627e-08             4     o\n",
      "2  3.011246e-02             3     r\n",
      "4  1.570796e+00             1     o\n",
      "3  1.600909e+00             4     r\n",
      "5  3.141593e+00             2     o\n",
      "0  3.171705e+00             1     r\n",
      "6  4.712389e+00             3     o\n",
      "1  4.742501e+00             2     r\n",
      " \n",
      " \n",
      " \n",
      " \n",
      "arguments going inside mapping loop...\n",
      "dframe =        normals  normal_order owner\n",
      "7  4.795627e-08             4     o\n",
      "2  3.011246e-02             3     r\n",
      "4  1.570796e+00             1     o\n",
      "3  1.600909e+00             4     r\n",
      "5  3.141593e+00             2     o\n",
      "0  3.171705e+00             1     r\n",
      "6  4.712389e+00             3     o\n",
      "1  4.742501e+00             2     r\n",
      "corners_robot = [array([-1.87114514,  1.68972421, -0.01718427]), array([-1.87791116,  1.91509088, -0.01720443]), array([-2.17470187,  1.9061806 , -0.01660132]), array([-2.16793584,  1.68081392, -0.01658116])]\n",
      "corners_obstacle = [array([-1.47499978e+00,  5.00000370e-01,  7.22762636e-08]), array([-1.97499978e+00,  5.00000370e-01,  7.09111615e-08]), array([-1.97499978e+00,  3.69617134e-07,  4.69330265e-08]), array([-1.47499978e+00,  3.69616739e-07,  4.82981286e-08])]\n",
      "o -> r | b4-a3\n",
      "r -> o | b1-a3\n",
      "o -> r | b1-a4\n",
      "r -> o | b2-a4\n",
      "o -> r | b2-a1\n",
      "r -> o | b3-a1\n",
      "o -> r | b3-a2\n",
      "r -> o | b4-a2\n"
     ]
    }
   ],
   "source": [
    "scene_objects = ['Cuboid_0','Cuboid_1','Cuboid_2',\n",
    "                 'Cuboid_3','Cuboid_4','./dr20']\n",
    "robot_name = './dr20'\n",
    "lista_de_vertices = mapping(client_id=client_id, scene_objects=scene_objects, robot_name=robot_name)"
   ]
  },
  {
   "cell_type": "code",
   "execution_count": 18,
   "metadata": {},
   "outputs": [],
   "source": [
    "v_list_np = np.array(lista_de_vertices)"
   ]
  },
  {
   "cell_type": "code",
   "execution_count": 19,
   "metadata": {},
   "outputs": [
    {
     "data": {
      "text/plain": [
       "<matplotlib.collections.PathCollection at 0x7f1827922520>"
      ]
     },
     "execution_count": 19,
     "metadata": {},
     "output_type": "execute_result"
    },
    {
     "data": {
      "image/png": "[encoded data removed]",
      "text/plain": [
       "<Figure size 432x288 with 1 Axes>"
      ]
     },
     "metadata": {
      "needs_background": "light"
     },
     "output_type": "display_data"
    }
   ],
   "source": [
    "plt.scatter(v_list_np[:,0], v_list_np[:,1])"
   ]
  },
  {
   "cell_type": "code",
   "execution_count": 20,
   "metadata": {},
   "outputs": [
    {
     "data": {
      "text/plain": [
       "<matplotlib.collections.PolyCollection at 0x7f17ddb18d00>"
      ]
     },
     "execution_count": 20,
     "metadata": {},
     "output_type": "execute_result"
    },
    {
     "data": {
      "image/png": "[encoded data removed]",
      "text/plain": [
       "<Figure size 432x288 with 1 Axes>"
      ]
     },
     "metadata": {
      "needs_background": "light"
     },
     "output_type": "display_data"
    }
   ],
   "source": [
    "plt.fill_betweenx(v_list_np[:,0],v_list_np[:,1])"
   ]
  },
  {
   "cell_type": "markdown",
   "metadata": {},
   "source": [
    "# Debugging `mapping_loop()`"
   ]
  },
  {
   "cell_type": "markdown",
   "metadata": {},
   "source": [
    "## These parameters were found during a test I did in 6th Jun"
   ]
  },
  {
   "cell_type": "code",
   "execution_count": 21,
   "metadata": {},
   "outputs": [],
   "source": [
    "global_coordinates_cuboid = [np.array([-1.47499979e+00,  5.00000360e-01,  6.24157246e-08]), \n",
    "                             np.array([-1.97499979e+00,  5.00000360e-01,  6.17008973e-08]), \n",
    "                             np.array([-1.97499979e+00,  3.60081535e-07,  5.67935650e-08]), \n",
    "                             np.array([-1.47499979e+00,  3.60081535e-07,  5.75083923e-08])]\n",
    "global_coordin_corners_robot = [np.array([-1.8764059 ,  1.62417155, -0.01703672]), \n",
    "                                np.array([-1.87667144,  1.84963994, -0.01704005]), \n",
    "                                np.array([-2.17359744,  1.84929024, -0.01644217]), \n",
    "                                np.array([-2.1733319 ,  1.62382185, -0.01643884])]\n",
    "\n",
    "data = {'normals':[9.814665e-09,1.117424e-03,1.570796e+00,1.571914e+00,3.141593e+00,3.142710e+00,4.712389e+00,4.713506e+00], \n",
    "        'normal_order':[4,3,1,4,2,1,3,2],\n",
    "        'owner':['o','r','o','r','o','r','o','r']}\n",
    "\n",
    "dframe = pd.DataFrame.from_dict(data)                                "
   ]
  },
  {
   "cell_type": "code",
   "execution_count": 22,
   "metadata": {},
   "outputs": [
    {
     "name": "stdout",
     "output_type": "stream",
     "text": [
      "o -> r | b4-a3\n",
      "r -> o | b1-a3\n",
      "o -> r | b1-a4\n",
      "r -> o | b2-a4\n",
      "o -> r | b2-a1\n",
      "r -> o | b3-a1\n",
      "o -> r | b3-a2\n",
      "r -> o | b4-a2\n"
     ]
    }
   ],
   "source": [
    "a = mapping_loop(dframe=dframe,\n",
    "                 corners_robot=global_coordin_corners_robot,\n",
    "                 corners_obstacle=global_coordinates_cuboid)\n",
    "a_np = np.array(a)"
   ]
  },
  {
   "cell_type": "code",
   "execution_count": 23,
   "metadata": {},
   "outputs": [
    {
     "data": {
      "text/plain": [
       "<matplotlib.collections.PathCollection at 0x7f17dda9af40>"
      ]
     },
     "execution_count": 23,
     "metadata": {},
     "output_type": "execute_result"
    },
    {
     "data": {
      "image/png": "[encoded data removed]",
      "text/plain": [
       "<Figure size 432x288 with 1 Axes>"
      ]
     },
     "metadata": {
      "needs_background": "light"
     },
     "output_type": "display_data"
    }
   ],
   "source": [
    "plt.scatter(a_np[:,0],a_np[:,1])"
   ]
  },
  {
   "cell_type": "markdown",
   "metadata": {},
   "source": [
    "## These parameters were found during a test I did in 7th Jun"
   ]
  },
  {
   "cell_type": "code",
   "execution_count": 24,
   "metadata": {},
   "outputs": [
    {
     "name": "stdout",
     "output_type": "stream",
     "text": [
      "o -> r | b4-a4\n",
      "r -> o | b1-a4\n",
      "o -> r | b1-a1\n",
      "r -> o | b2-a1\n",
      "o -> r | b2-a2\n",
      "r -> o | b3-a2\n",
      "o -> r | b3-a3\n",
      "r -> o | b4-a3\n"
     ]
    }
   ],
   "source": [
    "data_2 = {'normals':[4.056378e-09, 1.570740e+00,1.570796e+00,3.141537e+00, 3.141593e+00,4.712333e+00, 4.712389e+00, 6.283129e+00], \n",
    "        'normal_order':[4,4,1,1,2,2,3,3],\n",
    "        'owner':['o','r','o','r','o','r','o','r']}\n",
    "dframe_2 = pd.DataFrame.from_dict(data_2)   \n",
    "a_2 = mapping_loop(dframe=dframe_2, corners_robot=global_coordin_corners_robot, corners_obstacle=global_coordinates_cuboid)\n",
    "a_2_np = np.array(a_2)"
   ]
  },
  {
   "cell_type": "code",
   "execution_count": 25,
   "metadata": {},
   "outputs": [
    {
     "data": {
      "text/plain": [
       "<matplotlib.collections.PathCollection at 0x7f17dda17340>"
      ]
     },
     "execution_count": 25,
     "metadata": {},
     "output_type": "execute_result"
    },
    {
     "data": {
      "image/png": "[encoded data removed]",
      "text/plain": [
       "<Figure size 432x288 with 1 Axes>"
      ]
     },
     "metadata": {
      "needs_background": "light"
     },
     "output_type": "display_data"
    }
   ],
   "source": [
    "plt.scatter(a_2_np[:,0],a_2_np[:,1]) \n",
    "# the noise does not change the shape of the polygon, only some positions of colinear vertices"
   ]
  },
  {
   "cell_type": "markdown",
   "metadata": {},
   "source": [
    "## Another test (9 jun)"
   ]
  },
  {
   "cell_type": "code",
   "execution_count": null,
   "metadata": {},
   "outputs": [
    {
     "data": {
      "text/html": [
       "<div>\n",
       "<style scoped>\n",
       "    .dataframe tbody tr th:only-of-type {\n",
       "        vertical-align: middle;\n",
       "    }\n",
       "\n",
       "    .dataframe tbody tr th {\n",
       "        vertical-align: top;\n",
       "    }\n",
       "\n",
       "    .dataframe thead th {\n",
       "        text-align: right;\n",
       "    }\n",
       "</style>\n",
       "<table border=\"1\" class=\"dataframe\">\n",
       "  <thead>\n",
       "    <tr style=\"text-align: right;\">\n",
       "      <th></th>\n",
       "      <th>normals</th>\n",
       "      <th>normal_order</th>\n",
       "      <th>owner</th>\n",
       "    </tr>\n",
       "  </thead>\n",
       "  <tbody>\n",
       "    <tr>\n",
       "      <th>0</th>\n",
       "      <td>3.314855e-09</td>\n",
       "      <td>4</td>\n",
       "      <td>o</td>\n",
       "    </tr>\n",
       "    <tr>\n",
       "      <th>1</th>\n",
       "      <td>1.570702e+00</td>\n",
       "      <td>4</td>\n",
       "      <td>r</td>\n",
       "    </tr>\n",
       "    <tr>\n",
       "      <th>2</th>\n",
       "      <td>1.570796e+00</td>\n",
       "      <td>1</td>\n",
       "      <td>o</td>\n",
       "    </tr>\n",
       "    <tr>\n",
       "      <th>3</th>\n",
       "      <td>3.141498e+00</td>\n",
       "      <td>1</td>\n",
       "      <td>r</td>\n",
       "    </tr>\n",
       "    <tr>\n",
       "      <th>4</th>\n",
       "      <td>3.141593e+00</td>\n",
       "      <td>2</td>\n",
       "      <td>o</td>\n",
       "    </tr>\n",
       "    <tr>\n",
       "      <th>5</th>\n",
       "      <td>4.712295e+00</td>\n",
       "      <td>2</td>\n",
       "      <td>r</td>\n",
       "    </tr>\n",
       "    <tr>\n",
       "      <th>6</th>\n",
       "      <td>4.712389e+00</td>\n",
       "      <td>3</td>\n",
       "      <td>o</td>\n",
       "    </tr>\n",
       "    <tr>\n",
       "      <th>7</th>\n",
       "      <td>6.283091e+00</td>\n",
       "      <td>3</td>\n",
       "      <td>r</td>\n",
       "    </tr>\n",
       "  </tbody>\n",
       "</table>\n",
       "</div>"
      ],
      "text/plain": [
       "        normals  normal_order owner\n",
       "0  3.314855e-09             4     o\n",
       "1  1.570702e+00             4     r\n",
       "2  1.570796e+00             1     o\n",
       "3  3.141498e+00             1     r\n",
       "4  3.141593e+00             2     o\n",
       "5  4.712295e+00             2     r\n",
       "6  4.712389e+00             3     o\n",
       "7  6.283091e+00             3     r"
      ]
     },
     "metadata": {},
     "output_type": "display_data"
    }
   ],
   "source": [
    "data_0 = {'normals':[3.314855e-09, 1.570702e+00, 1.570796e+00, 3.141498e+00, 3.141593e+00, 4.712295e+00, 4.712389e+00, 6.283091e+00], \n",
    "        'normal_order':[4,4,1,1,2,2,3,3],\n",
    "        'owner':['o','r','o','r','o','r','o','r']}\n",
    "dframe_0 = pd.DataFrame.from_dict(data_0)   \n",
    "dframe_0"
   ]
  },
  {
   "cell_type": "code",
   "execution_count": null,
   "metadata": {},
   "outputs": [
    {
     "name": "stdout",
     "output_type": "stream",
     "text": [
      "o -> r | b4-a4\n",
      "r -> o | b1-a4\n",
      "o -> r | b1-a1\n",
      "r -> o | b2-a1\n",
      "o -> r | b2-a2\n",
      "r -> o | b3-a2\n",
      "o -> r | b3-a3\n",
      "r -> o | b4-a3\n"
     ]
    }
   ],
   "source": [
    "a_0 = mapping_loop(dframe=dframe_0,\n",
    "                 corners_robot=global_coordin_corners_robot,\n",
    "                 corners_obstacle=global_coordinates_cuboid)\n",
    "a_0_np = np.array(a_0)"
   ]
  }
 ],
 "metadata": {
  "interpreter": {
   "hash": "31f2aee4e71d21fbe5cf8b01ff0e069b9275f58929596ceb00d14d90e3e16cd6"
  },
  "kernelspec": {
   "display_name": "Python 3.8.10 64-bit",
   "language": "python",
   "name": "python3"
  },
  "language_info": {
   "codemirror_mode": {
    "name": "ipython",
    "version": 3
   },
   "file_extension": ".py",
   "mimetype": "text/x-python",
   "name": "python",
   "nbconvert_exporter": "python",
   "pygments_lexer": "ipython3",
   "version": "3.8.10"
  },
  "orig_nbformat": 4
 },
 "nbformat": 4,
 "nbformat_minor": 2
}
