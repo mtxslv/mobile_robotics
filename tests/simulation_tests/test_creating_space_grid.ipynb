{
 "cells": [
  {
   "cell_type": "code",
   "execution_count": 1,
   "metadata": {},
   "outputs": [],
   "source": [
    "file_name = \"graph_path_planning.ipynb\"\n",
    "import sys\n",
    "import os\n",
    "sys.path.insert(0, os.path.abspath(\n",
    "    os.path.join(os.path.dirname(file_name), '../../src/') ))\n",
    "\n",
    "import numpy as np\n",
    "import math\n",
    "from random import randrange\n",
    "import matplotlib.pyplot as plt\n",
    "\n",
    "from utils import *"
   ]
  },
  {
   "cell_type": "code",
   "execution_count": 2,
   "metadata": {},
   "outputs": [
    {
     "data": {
      "image/png": "[encoded data removed]",
      "text/plain": [
       "<Figure size 432x288 with 1 Axes>"
      ]
     },
     "metadata": {
      "needs_background": "light"
     },
     "output_type": "display_data"
    },
    {
     "name": "stdout",
     "output_type": "stream",
     "text": [
      "(105, 105) (-2.6, 2.6) (2.5999999999999814, -2.5999999999999814)\n"
     ]
    }
   ],
   "source": [
    "lim_x = lim_y = [-2.6, 2.6]\n",
    "cell_size = 0.05\n",
    "\n",
    "centers_x = np.arange(lim_x[0], lim_x[1]+cell_size, cell_size)\n",
    "centers_y = np.arange(lim_y[1], lim_y[0]-cell_size, -cell_size)\n",
    "\n",
    "num_cells_x = len(centers_x)\n",
    "num_cells_y = len(centers_y)\n",
    "\n",
    "grid = []\n",
    "for i in range(num_cells_x):\n",
    "    grid.append([])\n",
    "    for j in range(num_cells_y):\n",
    "        grid[i].append(0)\n",
    "\n",
    "grid = np.array(grid)\n",
    "\n",
    "im = plt.imshow(grid, cmap='Greys')\n",
    "plt.show()\n",
    "\n",
    "print(grid.shape, (centers_x[0], centers_y[0]), (centers_x[-1], centers_y[-1]))"
   ]
  },
  {
   "cell_type": "code",
   "execution_count": 3,
   "metadata": {},
   "outputs": [],
   "source": [
    "def check_angle(ang_l, ang_h, phi):\n",
    "    if ang_l < ang_h:\n",
    "        if ang_l <= phi <= ang_h:\n",
    "            return True\n",
    "    elif ang_l > ang_h:\n",
    "        if ang_l <= phi or phi <=ang_h:\n",
    "            return True\n",
    "    return False\n",
    "    \n",
    "def change_cell(op, cell, value):\n",
    "    value = abs(value)\n",
    "    if op == \"decrease\":\n",
    "        if cell > -1000:\n",
    "            return -value\n",
    "        else:\n",
    "            return 0\n",
    "    elif op == \"increase\":\n",
    "        if cell < 1000:\n",
    "            return value\n",
    "        else:\n",
    "            return 0\n",
    "    else:\n",
    "        return 0\n",
    "\n",
    "def fill_grid(sensor_pos, sensor_deg, distance):\n",
    "    \n",
    "    xs, ys = sensor_pos[0], sensor_pos[1]\n",
    "    z = distance\n",
    "    e = 0.2\n",
    "    theta = sensor_deg[2]\n",
    "    \n",
    "    a = 60 * (np.pi/180) # degrees to rad\n",
    "    \n",
    "    ring_l = (z - e/2)**2\n",
    "    ring_h = (z + e/2)**2\n",
    "    \n",
    "    ang_l = (theta - a/2)\n",
    "    ang_h = (theta + a/2)\n",
    "    \n",
    "    if ang_l < -np.pi:\n",
    "        ang_l = ang_l + 2*np.pi\n",
    "    if ang_h > np.pi:\n",
    "        ang_h = ang_h - 2*np.pi\n",
    "    \n",
    "    cont=0\n",
    "    \n",
    "    for y in range(num_cells_y):\n",
    "        for x in range(num_cells_x):\n",
    "            \n",
    "            xg, yg = centers_x[x], centers_y[y]\n",
    "        \n",
    "            # check if inside ring\n",
    "            dist_to_sensor = (xg - xs)**2 + (yg - ys)**2\n",
    "            phi = np.arctan2((yg - ys),(xg - xs))\n",
    "            \n",
    "            \n",
    "            if 0.01 > z:\n",
    "                continue\n",
    "            if z > 2:\n",
    "                if 0.01 <= dist_to_sensor <=2:\n",
    "                    if check_angle(ang_l, ang_h, phi):\n",
    "                        grid[y][x] += change_cell(\"decrease\", grid[y][x], 100)\n",
    "                continue\n",
    "            \n",
    "            \n",
    "            if dist_to_sensor < 0.01: \n",
    "            #too close \n",
    "                grid[y][x] += change_cell(\"decrease\", grid[y][x], 100)\n",
    "            elif dist_to_sensor > 2: \n",
    "            #too far\n",
    "                continue\n",
    "            elif ring_l <= dist_to_sensor <= ring_h:\n",
    "            # dentro do setor do anel\n",
    "                if check_angle(ang_l, ang_h, phi):\n",
    "                    grid[y][x] += change_cell(\"increase\", grid[y][x], 50)\n",
    "            elif 0.01 < dist_to_sensor < ring_l:\n",
    "            # antes do setor do anel\n",
    "                if check_angle(ang_l, ang_h, phi):\n",
    "                    grid[y][x] += change_cell(\"decrease\", grid[y][x], 100)\n",
    "            elif ring_h < dist_to_sensor < 2 :\n",
    "            # depois do setor do anel\n",
    "                continue\n",
    "                \n",
    "                    \n",
    "    #print(cont, round(math.degrees(pmn),2), round(math.degrees(pmx),2))"
   ]
  },
  {
   "cell_type": "code",
   "execution_count": 4,
   "metadata": {},
   "outputs": [
    {
     "data": {
      "text/plain": [
       "\"\\ndistance = 1\\npos_sensor = [0,0]\\nang_robo = [0,0, -0 * (np.pi/180)]\\nprint(f'distance = {distance}')\\nfill_grid(pos_sensor, ang_robo, distance)\\nim = plt.imshow(grid, cmap='gray')\\nplt.show()\\n\""
      ]
     },
     "execution_count": 4,
     "metadata": {},
     "output_type": "execute_result"
    }
   ],
   "source": [
    "'''\n",
    "distance = 1\n",
    "pos_sensor = [0,0]\n",
    "ang_robo = [0,0, -0 * (np.pi/180)]\n",
    "print(f'distance = {distance}')\n",
    "fill_grid(pos_sensor, ang_robo, distance)\n",
    "im = plt.imshow(grid, cmap='gray')\n",
    "plt.show()\n",
    "'''"
   ]
  },
  {
   "cell_type": "code",
   "execution_count": 5,
   "metadata": {},
   "outputs": [
    {
     "name": "stdout",
     "output_type": "stream",
     "text": [
      "Connected to remote API server\n",
      "Number of objects in the scene:  42\n"
     ]
    }
   ],
   "source": [
    "clientID = connect_2_sim()\n",
    "test_connection(clientID)"
   ]
  },
  {
   "cell_type": "code",
   "execution_count": 6,
   "metadata": {},
   "outputs": [],
   "source": [
    "# Recuperar handlers do dr20\n",
    "errorCode, robo = sim.simxGetObjectHandle(clientID=clientID, objectName=\"./dr20\",\n",
    "                                          operationMode=sim.simx_opmode_blocking)\n",
    "\n",
    "error_pos, pos_robo = sim.simxGetObjectPosition(clientID, robo, -1, sim.simx_opmode_blocking)\n",
    "error_ang, ang_robo = sim.simxGetObjectOrientation(clientID, robo, -1, sim.simx_opmode_blocking)\n",
    "\n",
    "# getting sensor handle\n",
    "sensor_reference = './dr20/ultrasonicSensorJoint_/ultrasonicSensor_'\n",
    "err_code, sensor = sim.simxGetObjectHandle(clientID=clientID,\n",
    "                                            objectName=sensor_reference,\n",
    "                                            operationMode=sim.simx_opmode_blocking)\n",
    "\n",
    "error_pos, pos_sensor = sim.simxGetObjectPosition(clientID, sensor, -1, sim.simx_opmode_blocking)\n",
    "error_ang, ang_sensor = sim.simxGetObjectOrientation(clientID, sensor, -1, sim.simx_opmode_blocking)"
   ]
  },
  {
   "cell_type": "code",
   "execution_count": 7,
   "metadata": {},
   "outputs": [
    {
     "ename": "KeyboardInterrupt",
     "evalue": "",
     "output_type": "error",
     "traceback": [
      "\u001b[0;31m---------------------------------------------------------------------------\u001b[0m",
      "\u001b[0;31mKeyboardInterrupt\u001b[0m                         Traceback (most recent call last)",
      "\u001b[0;32m<ipython-input-7-6eb387f27021>\u001b[0m in \u001b[0;36m<module>\u001b[0;34m\u001b[0m\n\u001b[1;32m      8\u001b[0m     \u001b[0merror_pos\u001b[0m\u001b[0;34m,\u001b[0m \u001b[0mpos_sensor\u001b[0m \u001b[0;34m=\u001b[0m \u001b[0msim\u001b[0m\u001b[0;34m.\u001b[0m\u001b[0msimxGetObjectPosition\u001b[0m\u001b[0;34m(\u001b[0m\u001b[0mclientID\u001b[0m\u001b[0;34m,\u001b[0m \u001b[0msensor\u001b[0m\u001b[0;34m,\u001b[0m \u001b[0;34m-\u001b[0m\u001b[0;36m1\u001b[0m\u001b[0;34m,\u001b[0m \u001b[0msim\u001b[0m\u001b[0;34m.\u001b[0m\u001b[0msimx_opmode_blocking\u001b[0m\u001b[0;34m)\u001b[0m\u001b[0;34m\u001b[0m\u001b[0;34m\u001b[0m\u001b[0m\n\u001b[1;32m      9\u001b[0m     \u001b[0merror_ang\u001b[0m\u001b[0;34m,\u001b[0m \u001b[0mang_sensor\u001b[0m \u001b[0;34m=\u001b[0m \u001b[0msim\u001b[0m\u001b[0;34m.\u001b[0m\u001b[0msimxGetObjectOrientation\u001b[0m\u001b[0;34m(\u001b[0m\u001b[0mclientID\u001b[0m\u001b[0;34m,\u001b[0m \u001b[0msensor\u001b[0m\u001b[0;34m,\u001b[0m \u001b[0;34m-\u001b[0m\u001b[0;36m1\u001b[0m\u001b[0;34m,\u001b[0m \u001b[0msim\u001b[0m\u001b[0;34m.\u001b[0m\u001b[0msimx_opmode_buffer\u001b[0m\u001b[0;34m)\u001b[0m\u001b[0;34m\u001b[0m\u001b[0;34m\u001b[0m\u001b[0m\n\u001b[0;32m---> 10\u001b[0;31m     \u001b[0merror_ang\u001b[0m\u001b[0;34m,\u001b[0m \u001b[0mang_robo\u001b[0m \u001b[0;34m=\u001b[0m \u001b[0msim\u001b[0m\u001b[0;34m.\u001b[0m\u001b[0msimxGetObjectOrientation\u001b[0m\u001b[0;34m(\u001b[0m\u001b[0mclientID\u001b[0m\u001b[0;34m,\u001b[0m \u001b[0mrobo\u001b[0m\u001b[0;34m,\u001b[0m \u001b[0;34m-\u001b[0m\u001b[0;36m1\u001b[0m\u001b[0;34m,\u001b[0m \u001b[0msim\u001b[0m\u001b[0;34m.\u001b[0m\u001b[0msimx_opmode_blocking\u001b[0m\u001b[0;34m)\u001b[0m\u001b[0;34m\u001b[0m\u001b[0;34m\u001b[0m\u001b[0m\n\u001b[0m\u001b[1;32m     11\u001b[0m \u001b[0;34m\u001b[0m\u001b[0m\n\u001b[1;32m     12\u001b[0m     \u001b[0mprint\u001b[0m\u001b[0;34m(\u001b[0m\u001b[0mpos_sensor\u001b[0m\u001b[0;34m[\u001b[0m\u001b[0;36m0\u001b[0m\u001b[0;34m]\u001b[0m\u001b[0;34m,\u001b[0m \u001b[0mpos_sensor\u001b[0m\u001b[0;34m[\u001b[0m\u001b[0;36m1\u001b[0m\u001b[0;34m]\u001b[0m\u001b[0;34m,\u001b[0m \u001b[0mpos_sensor\u001b[0m\u001b[0;34m[\u001b[0m\u001b[0;36m2\u001b[0m\u001b[0;34m]\u001b[0m\u001b[0;34m)\u001b[0m\u001b[0;34m\u001b[0m\u001b[0;34m\u001b[0m\u001b[0m\n",
      "\u001b[0;32m~/Documents/UFRN/mobile_robotics/src/sim.py\u001b[0m in \u001b[0;36msimxGetObjectOrientation\u001b[0;34m(clientID, objectHandle, relativeToObjectHandle, operationMode)\u001b[0m\n\u001b[1;32m    535\u001b[0m     '''\n\u001b[1;32m    536\u001b[0m     \u001b[0meulerAngles\u001b[0m \u001b[0;34m=\u001b[0m \u001b[0;34m(\u001b[0m\u001b[0mct\u001b[0m\u001b[0;34m.\u001b[0m\u001b[0mc_float\u001b[0m\u001b[0;34m*\u001b[0m\u001b[0;36m3\u001b[0m\u001b[0;34m)\u001b[0m\u001b[0;34m(\u001b[0m\u001b[0;34m)\u001b[0m\u001b[0;34m\u001b[0m\u001b[0;34m\u001b[0m\u001b[0m\n\u001b[0;32m--> 537\u001b[0;31m     \u001b[0mret\u001b[0m \u001b[0;34m=\u001b[0m \u001b[0mc_GetObjectOrientation\u001b[0m\u001b[0;34m(\u001b[0m\u001b[0mclientID\u001b[0m\u001b[0;34m,\u001b[0m \u001b[0mobjectHandle\u001b[0m\u001b[0;34m,\u001b[0m \u001b[0mrelativeToObjectHandle\u001b[0m\u001b[0;34m,\u001b[0m \u001b[0meulerAngles\u001b[0m\u001b[0;34m,\u001b[0m \u001b[0moperationMode\u001b[0m\u001b[0;34m)\u001b[0m\u001b[0;34m\u001b[0m\u001b[0;34m\u001b[0m\u001b[0m\n\u001b[0m\u001b[1;32m    538\u001b[0m     \u001b[0marr\u001b[0m \u001b[0;34m=\u001b[0m \u001b[0;34m[\u001b[0m\u001b[0;34m]\u001b[0m\u001b[0;34m\u001b[0m\u001b[0;34m\u001b[0m\u001b[0m\n\u001b[1;32m    539\u001b[0m     \u001b[0;32mfor\u001b[0m \u001b[0mi\u001b[0m \u001b[0;32min\u001b[0m \u001b[0mrange\u001b[0m\u001b[0;34m(\u001b[0m\u001b[0;36m3\u001b[0m\u001b[0;34m)\u001b[0m\u001b[0;34m:\u001b[0m\u001b[0;34m\u001b[0m\u001b[0;34m\u001b[0m\u001b[0m\n",
      "\u001b[0;31mKeyboardInterrupt\u001b[0m: "
     ]
    }
   ],
   "source": [
    "from IPython.display import clear_output\n",
    "\n",
    "while True:\n",
    "    clear_output(wait=True)\n",
    "    _, _, detected_point, _, _ = sim.simxReadProximitySensor(clientID=clientID, sensorHandle=sensor, operationMode=sim.simx_opmode_blocking)\n",
    "    distance = np.sqrt(detected_point[0]**2 + detected_point[1]**2 + detected_point[2]**2)\n",
    "\n",
    "    error_pos, pos_sensor = sim.simxGetObjectPosition(clientID, sensor, -1, sim.simx_opmode_blocking)\n",
    "    error_ang, ang_sensor = sim.simxGetObjectOrientation(clientID, sensor, -1, sim.simx_opmode_buffer)\n",
    "    error_ang, ang_robo = sim.simxGetObjectOrientation(clientID, robo, -1, sim.simx_opmode_blocking)\n",
    "    \n",
    "    print(pos_sensor[0], pos_sensor[1], pos_sensor[2])\n",
    "    print(ang_robo[2])\n",
    "    \n",
    "    print(f'distance = {distance}')\n",
    "    fill_grid(pos_sensor, ang_robo, distance)\n",
    "    \n",
    "    im = plt.imshow(grid, cmap='gray', vmin=-1000, vmax=1000)\n",
    "    plt.show()\n",
    "    \n",
    "    time.sleep(0.1)"
   ]
  },
  {
   "cell_type": "code",
   "execution_count": 10,
   "metadata": {},
   "outputs": [
    {
     "data": {
      "image/png": "[encoded data removed]",
      "text/plain": [
       "<Figure size 432x288 with 1 Axes>"
      ]
     },
     "metadata": {
      "needs_background": "light"
     },
     "output_type": "display_data"
    }
   ],
   "source": [
    "im = plt.imshow(grid, cmap='gray', vmin=-1000, vmax=1000)\n",
    "plt.show()"
   ]
  },
  {
   "cell_type": "code",
   "execution_count": 12,
   "metadata": {},
   "outputs": [],
   "source": [
    "grid_arr = np.array(grid)\n",
    "np.save('grid.npy', grid_arr)"
   ]
  },
  {
   "cell_type": "code",
   "execution_count": null,
   "metadata": {},
   "outputs": [],
   "source": []
  }
 ],
 "metadata": {
  "interpreter": {
   "hash": "06cb3b751f7e15a6f30ad54cb36c69467f5ed7dd559b12f0f90598c0f8af61e8"
  },
  "kernelspec": {
   "display_name": "Python 3",
   "language": "python",
   "name": "python3"
  },
  "language_info": {
   "codemirror_mode": {
    "name": "ipython",
    "version": 3
   },
   "file_extension": ".py",
   "mimetype": "text/x-python",
   "name": "python",
   "nbconvert_exporter": "python",
   "pygments_lexer": "ipython3",
   "version": "3.8.5"
  }
 },
 "nbformat": 4,
 "nbformat_minor": 4
}
