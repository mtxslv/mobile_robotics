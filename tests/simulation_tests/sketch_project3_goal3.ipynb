{
 "cells": [
  {
   "cell_type": "code",
   "execution_count": 94,
   "metadata": {},
   "outputs": [],
   "source": [
    "file_name = \"sketch_project3_goal3.ipynb\"\n",
    "import sys\n",
    "import os\n",
    "sys.path.insert(0, os.path.abspath(\n",
    "    os.path.join(os.path.dirname(file_name), '../../src/') ))"
   ]
  },
  {
   "cell_type": "markdown",
   "metadata": {},
   "source": [
    "# Importações"
   ]
  },
  {
   "cell_type": "code",
   "execution_count": 95,
   "metadata": {},
   "outputs": [],
   "source": [
    "import numpy as np\n",
    "import matplotlib.pyplot as plt\n",
    "from roboticstoolbox.mobile import DistanceTransformPlanner as dtp\n",
    "from scipy.special import expit\n",
    "import timeit\n",
    "from utils import *"
   ]
  },
  {
   "cell_type": "markdown",
   "metadata": {},
   "source": [
    "# Carregando Grade de Ocupação"
   ]
  },
  {
   "cell_type": "code",
   "execution_count": 96,
   "metadata": {},
   "outputs": [],
   "source": [
    "log_occupation_grid = np.load('grid.npy')\n",
    "occupation_grid = expit(log_occupation_grid)"
   ]
  },
  {
   "cell_type": "code",
   "execution_count": 97,
   "metadata": {},
   "outputs": [
    {
     "data": {
      "text/plain": [
       "<function ndarray.flatten>"
      ]
     },
     "execution_count": 97,
     "metadata": {},
     "output_type": "execute_result"
    }
   ],
   "source": [
    "occupation_grid.flatten"
   ]
  },
  {
   "cell_type": "code",
   "execution_count": 98,
   "metadata": {},
   "outputs": [
    {
     "data": {
      "text/plain": [
       "<matplotlib.image.AxesImage at 0x7f4fccd2c760>"
      ]
     },
     "execution_count": 98,
     "metadata": {},
     "output_type": "execute_result"
    },
    {
     "data": {
      "image/png": "[encoded data removed]",
      "text/plain": [
       "<Figure size 432x288 with 1 Axes>"
      ]
     },
     "metadata": {},
     "output_type": "display_data"
    }
   ],
   "source": [
    "plt.imshow(occupation_grid, cmap='gray')"
   ]
  },
  {
   "cell_type": "markdown",
   "metadata": {},
   "source": [
    "# Testando a Biblioteca _Robotics Toolbox_"
   ]
  },
  {
   "cell_type": "code",
   "execution_count": 99,
   "metadata": {},
   "outputs": [
    {
     "name": "stdout",
     "output_type": "stream",
     "text": [
      "[[60 20]\n",
      " [59 20]\n",
      " [58 20]\n",
      " [57 20]\n",
      " [56 20]\n",
      " [55 20]\n",
      " [54 20]\n",
      " [53 20]\n",
      " [52 20]\n",
      " [51 20]\n",
      " [50 20]\n",
      " [49 20]\n",
      " [48 20]\n",
      " [47 20]\n",
      " [46 20]\n",
      " [45 20]\n",
      " [44 20]\n",
      " [43 20]\n",
      " [42 20]\n",
      " [41 20]\n",
      " [40 20]\n",
      " [39 20]\n",
      " [38 20]\n",
      " [37 20]\n",
      " [36 20]\n",
      " [35 20]\n",
      " [34 20]\n",
      " [33 20]\n",
      " [32 20]\n",
      " [31 20]\n",
      " [30 20]\n",
      " [29 20]\n",
      " [28 20]\n",
      " [27 20]\n",
      " [26 20]\n",
      " [25 20]\n",
      " [24 20]\n",
      " [23 20]\n",
      " [22 20]\n",
      " [21 20]\n",
      " [20 20]]\n"
     ]
    }
   ],
   "source": [
    "map_planner = dtp(occgrid=occupation_grid, goal=(20,20),distance='manhattan')\n",
    "map_planner.plan()\n",
    "path = map_planner.query(start=(60, 20))\n",
    "print(path)"
   ]
  },
  {
   "cell_type": "markdown",
   "metadata": {},
   "source": [
    "# Funções Úteis"
   ]
  },
  {
   "cell_type": "markdown",
   "metadata": {},
   "source": [
    "## Célula para Coordenada Espacial"
   ]
  },
  {
   "cell_type": "code",
   "execution_count": 100,
   "metadata": {},
   "outputs": [],
   "source": [
    "def cell_to_coord(cell):\n",
    "    if type(cell) == np.ndarray:\n",
    "        coord_x = cell[:,0]/105*2*2.6-2.6\n",
    "        coord_y = cell[:,1]/105*2*2.6-2.6\n",
    "    else:\n",
    "        coord_x = cell[0]/105*2*2.6-2.6\n",
    "        coord_y = cell[1]/105*2*2.6-2.6\n",
    "    return coord_x, coord_y"
   ]
  },
  {
   "cell_type": "markdown",
   "metadata": {},
   "source": [
    "### Testando"
   ]
  },
  {
   "cell_type": "code",
   "execution_count": 101,
   "metadata": {},
   "outputs": [
    {
     "data": {
      "text/plain": [
       "(-0.024761904761904763, -0.024761904761904763)"
      ]
     },
     "execution_count": 101,
     "metadata": {},
     "output_type": "execute_result"
    }
   ],
   "source": [
    "celula = [52,52]\n",
    "cell_to_coord(celula)"
   ]
  },
  {
   "cell_type": "markdown",
   "metadata": {},
   "source": [
    "## Coordenada Espacial para Célula"
   ]
  },
  {
   "cell_type": "code",
   "execution_count": 102,
   "metadata": {},
   "outputs": [],
   "source": [
    "def round_nearest(x, a):\n",
    "    # https://stackoverflow.com/questions/28425705/python-round-a-float-to-nearest-0-05-or-to-multiple-of-another-float\n",
    "    \"\"\"Round to nearest multiple of a.\n",
    "\n",
    "    Args:\n",
    "        x (float): number to be rounded\n",
    "        a (float): base number used for rounding\n",
    "\n",
    "    Returns:\n",
    "        float: rounded number\n",
    "    \"\"\"\n",
    "    return round(round(x / a) * a, 2)\n",
    "\n",
    "def get_cell(position, centersX, centersY):\n",
    "    \"\"\"Get cell from position.\n",
    "\n",
    "    Args:\n",
    "        position (numpy ndarray): robot's position in simulated cell\n",
    "        centersX (numpy ndarray): centers of cells in X axis\n",
    "        centersY (numpy ndarray): centers of cells in Y axis\n",
    "\n",
    "    Returns:\n",
    "        cell_x (int):the number of centersX's cell\n",
    "        cell_y (int):the number of centersY's cell\n",
    "    \"\"\"\n",
    "    # Tamanho da célula\n",
    "    cell_size = 0.05\n",
    "    # é necessário arredondar para 2 casas decimais\n",
    "    centers_x = np.round(centersX,2)\n",
    "    centers_y = np.round(centersY,2)\n",
    "\n",
    "    position_x = round_nearest(position[0],cell_size)\n",
    "    position_y = round_nearest(position[1],cell_size)\n",
    "    cell_x = np.where(centers_x == position_x)[0][0]\n",
    "    cell_y = np.where(centers_y == position_y)[0][0]\n",
    "\n",
    "    return cell_x, cell_y"
   ]
  },
  {
   "cell_type": "markdown",
   "metadata": {},
   "source": [
    "### Testando"
   ]
  },
  {
   "cell_type": "code",
   "execution_count": 103,
   "metadata": {},
   "outputs": [
    {
     "data": {
      "text/plain": [
       "array([-2.60000000e+00, -2.55000000e+00, -2.50000000e+00, -2.45000000e+00,\n",
       "       -2.40000000e+00, -2.35000000e+00, -2.30000000e+00, -2.25000000e+00,\n",
       "       -2.20000000e+00, -2.15000000e+00, -2.10000000e+00, -2.05000000e+00,\n",
       "       -2.00000000e+00, -1.95000000e+00, -1.90000000e+00, -1.85000000e+00,\n",
       "       -1.80000000e+00, -1.75000000e+00, -1.70000000e+00, -1.65000000e+00,\n",
       "       -1.60000000e+00, -1.55000000e+00, -1.50000000e+00, -1.45000000e+00,\n",
       "       -1.40000000e+00, -1.35000000e+00, -1.30000000e+00, -1.25000000e+00,\n",
       "       -1.20000000e+00, -1.15000000e+00, -1.10000000e+00, -1.05000000e+00,\n",
       "       -1.00000000e+00, -9.50000000e-01, -9.00000000e-01, -8.50000000e-01,\n",
       "       -8.00000000e-01, -7.50000000e-01, -7.00000000e-01, -6.50000000e-01,\n",
       "       -6.00000000e-01, -5.50000000e-01, -5.00000000e-01, -4.50000000e-01,\n",
       "       -4.00000000e-01, -3.50000000e-01, -3.00000000e-01, -2.50000000e-01,\n",
       "       -2.00000000e-01, -1.50000000e-01, -1.00000000e-01, -5.00000000e-02,\n",
       "       -9.32587341e-15,  5.00000000e-02,  1.00000000e-01,  1.50000000e-01,\n",
       "        2.00000000e-01,  2.50000000e-01,  3.00000000e-01,  3.50000000e-01,\n",
       "        4.00000000e-01,  4.50000000e-01,  5.00000000e-01,  5.50000000e-01,\n",
       "        6.00000000e-01,  6.50000000e-01,  7.00000000e-01,  7.50000000e-01,\n",
       "        8.00000000e-01,  8.50000000e-01,  9.00000000e-01,  9.50000000e-01,\n",
       "        1.00000000e+00,  1.05000000e+00,  1.10000000e+00,  1.15000000e+00,\n",
       "        1.20000000e+00,  1.25000000e+00,  1.30000000e+00,  1.35000000e+00,\n",
       "        1.40000000e+00,  1.45000000e+00,  1.50000000e+00,  1.55000000e+00,\n",
       "        1.60000000e+00,  1.65000000e+00,  1.70000000e+00,  1.75000000e+00,\n",
       "        1.80000000e+00,  1.85000000e+00,  1.90000000e+00,  1.95000000e+00,\n",
       "        2.00000000e+00,  2.05000000e+00,  2.10000000e+00,  2.15000000e+00,\n",
       "        2.20000000e+00,  2.25000000e+00,  2.30000000e+00,  2.35000000e+00,\n",
       "        2.40000000e+00,  2.45000000e+00,  2.50000000e+00,  2.55000000e+00,\n",
       "        2.60000000e+00])"
      ]
     },
     "execution_count": 103,
     "metadata": {},
     "output_type": "execute_result"
    }
   ],
   "source": [
    "lim_x = lim_y = [-2.6, 2.6]\n",
    "cell_size = 0.05\n",
    "centers_x = np.arange(lim_x[0], lim_x[1]+cell_size, cell_size)\n",
    "centers_y = np.arange(lim_y[1], lim_y[0]-cell_size, -cell_size)\n",
    "centers_x"
   ]
  },
  {
   "cell_type": "code",
   "execution_count": 104,
   "metadata": {},
   "outputs": [],
   "source": [
    "# metodologia\n",
    "x = 2.45\n",
    "y = 1.1\n",
    "test_position = np.array([x+0.02, y+0.01]) # 2.47, 1.11\n",
    "cell_x, cell_y = get_cell(test_position, centers_x, centers_y)\n",
    "assert round(centers_x[cell_x],2) == x and round(centers_y[cell_y],2) == y"
   ]
  },
  {
   "cell_type": "markdown",
   "metadata": {},
   "source": [
    "# Testando movimento do robô"
   ]
  },
  {
   "cell_type": "markdown",
   "metadata": {},
   "source": [
    "## Conectando e Carregando o _Handler_"
   ]
  },
  {
   "cell_type": "code",
   "execution_count": 105,
   "metadata": {},
   "outputs": [
    {
     "name": "stdout",
     "output_type": "stream",
     "text": [
      "Connected to remote API server\n",
      "Number of objects in the scene:  42\n"
     ]
    }
   ],
   "source": [
    "clientID = connect_2_sim()\n",
    "test_connection(clientID)"
   ]
  },
  {
   "cell_type": "code",
   "execution_count": 106,
   "metadata": {},
   "outputs": [
    {
     "name": "stdout",
     "output_type": "stream",
     "text": [
      "motor handles successfully retrieved!\n"
     ]
    }
   ],
   "source": [
    "# Recuperar handlers do dr20\n",
    "errorCode, robo = sim.simxGetObjectHandle(clientID=clientID, objectName=\"./dr20\",\n",
    "                                          operationMode=sim.simx_opmode_blocking)\n",
    "\n",
    "error_pos, pos_robo = sim.simxGetObjectPosition(clientID, robo, -1, sim.simx_opmode_blocking)\n",
    "\n",
    "sim.simxGetObjectPosition(clientID, robo, -1, sim.simx_opmode_blocking)\n",
    "left_motor_handle, right_motor_handle = get_dr20_motor_handles_(clientID)\n"
   ]
  },
  {
   "cell_type": "markdown",
   "metadata": {},
   "source": [
    "## Definição de Pontos Inicial e Final"
   ]
  },
  {
   "cell_type": "code",
   "execution_count": 107,
   "metadata": {},
   "outputs": [
    {
     "data": {
      "text/plain": [
       "0"
      ]
     },
     "execution_count": 107,
     "metadata": {},
     "output_type": "execute_result"
    }
   ],
   "source": [
    "initial_position = [1.5, -1.5]\n",
    "goal_position = [-1.0, 1.0]\n",
    "sim.simxSetObjectPosition(clientID, robo, -1, [1.5,-1.5,0.15104135870933533], sim.simx_opmode_blocking)"
   ]
  },
  {
   "cell_type": "markdown",
   "metadata": {},
   "source": [
    "## Definição do Planejador de Caminhos e de seu Caminho"
   ]
  },
  {
   "cell_type": "code",
   "execution_count": 108,
   "metadata": {},
   "outputs": [],
   "source": [
    "#map_planner = dtp(occgrid=occupation_grid, goal=get_cell(goal_position, centers_x, centers_y),distance='manhattan')\n",
    "#map_planner.plan()\n",
    "#path = map_planner.query(start=get_cell(initial_position, centers_x, centers_y))\n",
    "\n",
    "map_planner = dtp(occgrid=occupation_grid, goal=get_cell(goal_position, centers_y, centers_x),distance='manhattan')\n",
    "map_planner.plan()\n",
    "path = map_planner.query(start=get_cell(initial_position, centers_y, centers_x))"
   ]
  },
  {
   "cell_type": "code",
   "execution_count": 109,
   "metadata": {},
   "outputs": [
    {
     "data": {
      "text/plain": [
       "array([[22, 22],\n",
       "       [23, 23],\n",
       "       [24, 24],\n",
       "       [25, 25],\n",
       "       [26, 26],\n",
       "       [27, 27],\n",
       "       [28, 28],\n",
       "       [29, 29],\n",
       "       [30, 30],\n",
       "       [31, 31],\n",
       "       [32, 32],\n",
       "       [33, 33],\n",
       "       [34, 34],\n",
       "       [35, 35],\n",
       "       [36, 36],\n",
       "       [37, 37],\n",
       "       [38, 38],\n",
       "       [39, 39],\n",
       "       [40, 40],\n",
       "       [41, 41],\n",
       "       [42, 42],\n",
       "       [43, 43],\n",
       "       [44, 44],\n",
       "       [45, 45],\n",
       "       [46, 46],\n",
       "       [47, 47],\n",
       "       [48, 48],\n",
       "       [49, 49],\n",
       "       [50, 50],\n",
       "       [51, 51],\n",
       "       [52, 52],\n",
       "       [53, 53],\n",
       "       [54, 54],\n",
       "       [55, 55],\n",
       "       [56, 56],\n",
       "       [57, 57],\n",
       "       [58, 58],\n",
       "       [59, 59],\n",
       "       [60, 60],\n",
       "       [61, 61],\n",
       "       [62, 62],\n",
       "       [63, 63],\n",
       "       [64, 64],\n",
       "       [65, 65],\n",
       "       [66, 66],\n",
       "       [67, 67],\n",
       "       [68, 68],\n",
       "       [69, 69],\n",
       "       [70, 70],\n",
       "       [71, 71],\n",
       "       [72, 72]])"
      ]
     },
     "execution_count": 109,
     "metadata": {},
     "output_type": "execute_result"
    }
   ],
   "source": [
    "path"
   ]
  },
  {
   "cell_type": "markdown",
   "metadata": {},
   "source": [
    "# Gerando Posições a partir de Células"
   ]
  },
  {
   "cell_type": "code",
   "execution_count": 110,
   "metadata": {},
   "outputs": [],
   "source": [
    "x, y = cell_to_coord(path)"
   ]
  },
  {
   "cell_type": "code",
   "execution_count": 111,
   "metadata": {},
   "outputs": [],
   "source": [
    "path_points = np.stack((x,-y), axis=1)"
   ]
  },
  {
   "cell_type": "code",
   "execution_count": 112,
   "metadata": {},
   "outputs": [],
   "source": [
    "lista_pontos = path_points.tolist()"
   ]
  },
  {
   "cell_type": "code",
   "execution_count": 113,
   "metadata": {},
   "outputs": [
    {
     "name": "stdout",
     "output_type": "stream",
     "text": [
      "Sending Points ...\n",
      "Points sent: 51\n"
     ]
    }
   ],
   "source": [
    "send_points_to_sim(path_points, clientID)"
   ]
  },
  {
   "cell_type": "markdown",
   "metadata": {},
   "source": [
    "# Fazer o robô seguir os pontos"
   ]
  },
  {
   "cell_type": "code",
   "execution_count": 25,
   "metadata": {},
   "outputs": [],
   "source": [
    "def test_move_controlled():\n",
    "    #Ganhos do controlador\n",
    "    k_theta = 0.1\n",
    "    k_l = 0.05\n",
    "\n",
    "    #Dados do robô\n",
    "    rd = 0.084601/2\n",
    "    re = 0.084601/2\n",
    "    B = 0.214\n",
    "\n",
    "\n",
    "    for ponto in lista_pontos:\n",
    "        xf = ponto[0]\n",
    "        yf = ponto[1]\n",
    "\n",
    "        p = np.array([[xf,yf]])\n",
    "        send_points_to_sim(p, clientID=clientID)\n",
    "        print(f'\\nGoing to point {ponto}')\n",
    "        start = timeit.default_timer()\n",
    "        while True:\n",
    "            error_pos, pos_robo = sim.simxGetObjectPosition(clientID, robo, -1, sim.simx_opmode_buffer)\n",
    "            error_ang, ang_robo = sim.simxGetObjectOrientation(clientID, robo, -1, sim.simx_opmode_buffer)\n",
    "\n",
    "            theta_robo = ang_robo[2] #+ np.pi/2\n",
    "\n",
    "            #Calculo dos Delta x e y \n",
    "            delta_x = xf - pos_robo[0]\n",
    "            delta_y = yf - pos_robo[1]\n",
    "\n",
    "            #Calculo do theta estrela/Referencial\n",
    "            theta_ref = np.arctan2(delta_y,delta_x)     \n",
    "\n",
    "\n",
    "            #Calculo do delta l do referencial e  delta theta\n",
    "            delta_l_ref = np.sqrt((delta_x)**2 + (delta_y)**2)     \n",
    "            delta_theta = theta_ref - theta_robo\n",
    "\n",
    "            if(delta_l_ref <= 0.1):\n",
    "                break\n",
    "\n",
    "            #Caluclo do delta L\n",
    "            delta_l = delta_l_ref * np.cos(delta_theta)\n",
    "\n",
    "            #Calculo da velocidade linear e angular\n",
    "            v = k_l * delta_l\n",
    "            w = k_theta * delta_theta\n",
    "\n",
    "            #velocidades das juntas\n",
    "            wd = (v/rd) + (B/(2*rd))*w\n",
    "            we = (v/re) - (B/(2*re))*w\n",
    "\n",
    "            #txt = [np.array(pos_robo).round(2), np.array(ang_robo).round(2), delta_l.round(2), we.round(2), wd.round(2)]\n",
    "            robot_run(clientID, left_motor_handle, right_motor_handle, we, wd)\n",
    "            #print(txt, ret)\n",
    "                \n",
    "        stop = timeit.default_timer()\n",
    "        robot_run(clientID, left_motor_handle, right_motor_handle, 0, 0)\n",
    "        print(f'Arrived at point {ponto} with pos {[px.round(4) for px in np.array(pos_robo)]}')\n",
    "        print(f'Time: {round(stop - start, 3)}s\\n')"
   ]
  },
  {
   "cell_type": "code",
   "execution_count": 28,
   "metadata": {},
   "outputs": [
    {
     "name": "stdout",
     "output_type": "stream",
     "text": [
      "Sending Points ...\n",
      "Points sent: 1\n",
      "\n",
      "Going to point [1.460952380952381, 1.460952380952381]\n"
     ]
    },
    {
     "ename": "KeyboardInterrupt",
     "evalue": "",
     "output_type": "error",
     "traceback": [
      "\u001b[0;31m---------------------------------------------------------------------------\u001b[0m",
      "\u001b[0;31mKeyboardInterrupt\u001b[0m                         Traceback (most recent call last)",
      "\u001b[1;32m/home/mateus/Área de Trabalho/mobile_robotics/tests/simulation_tests/sketch_project3_goal3.ipynb Cell 35\u001b[0m in \u001b[0;36m<cell line: 1>\u001b[0;34m()\u001b[0m\n\u001b[0;32m----> <a href='vscode-notebook-cell:/home/mateus/%C3%81rea%20de%20Trabalho/mobile_robotics/tests/simulation_tests/sketch_project3_goal3.ipynb#ch0000034?line=0'>1</a>\u001b[0m test_move_controlled()\n",
      "\u001b[1;32m/home/mateus/Área de Trabalho/mobile_robotics/tests/simulation_tests/sketch_project3_goal3.ipynb Cell 35\u001b[0m in \u001b[0;36mtest_move_controlled\u001b[0;34m()\u001b[0m\n\u001b[1;32m     <a href='vscode-notebook-cell:/home/mateus/%C3%81rea%20de%20Trabalho/mobile_robotics/tests/simulation_tests/sketch_project3_goal3.ipynb#ch0000034?line=49'>50</a>\u001b[0m     we \u001b[39m=\u001b[39m (v\u001b[39m/\u001b[39mre) \u001b[39m-\u001b[39m (B\u001b[39m/\u001b[39m(\u001b[39m2\u001b[39m\u001b[39m*\u001b[39mre))\u001b[39m*\u001b[39mw\n\u001b[1;32m     <a href='vscode-notebook-cell:/home/mateus/%C3%81rea%20de%20Trabalho/mobile_robotics/tests/simulation_tests/sketch_project3_goal3.ipynb#ch0000034?line=51'>52</a>\u001b[0m     \u001b[39m#txt = [np.array(pos_robo).round(2), np.array(ang_robo).round(2), delta_l.round(2), we.round(2), wd.round(2)]\u001b[39;00m\n\u001b[0;32m---> <a href='vscode-notebook-cell:/home/mateus/%C3%81rea%20de%20Trabalho/mobile_robotics/tests/simulation_tests/sketch_project3_goal3.ipynb#ch0000034?line=52'>53</a>\u001b[0m     robot_run(clientID, left_motor_handle, right_motor_handle, we, wd)\n\u001b[1;32m     <a href='vscode-notebook-cell:/home/mateus/%C3%81rea%20de%20Trabalho/mobile_robotics/tests/simulation_tests/sketch_project3_goal3.ipynb#ch0000034?line=53'>54</a>\u001b[0m     \u001b[39m#print(txt, ret)\u001b[39;00m\n\u001b[1;32m     <a href='vscode-notebook-cell:/home/mateus/%C3%81rea%20de%20Trabalho/mobile_robotics/tests/simulation_tests/sketch_project3_goal3.ipynb#ch0000034?line=55'>56</a>\u001b[0m stop \u001b[39m=\u001b[39m timeit\u001b[39m.\u001b[39mdefault_timer()\n",
      "File \u001b[0;32m~/Área de Trabalho/mobile_robotics/src/utils.py:87\u001b[0m, in \u001b[0;36mrobot_run\u001b[0;34m(clientID, left_motor_handle, right_motor_handle, left_target_velocity, right_target_velocity)\u001b[0m\n\u001b[1;32m     86\u001b[0m \u001b[39mdef\u001b[39;00m \u001b[39mrobot_run\u001b[39m(clientID, left_motor_handle, right_motor_handle, left_target_velocity, right_target_velocity):\n\u001b[0;32m---> 87\u001b[0m     return_value_left_motor_control \u001b[39m=\u001b[39m sim\u001b[39m.\u001b[39;49msimxSetJointTargetVelocity(clientID\u001b[39m=\u001b[39;49mclientID,jointHandle\u001b[39m=\u001b[39;49mleft_motor_handle,\n\u001b[1;32m     88\u001b[0m                                                                 targetVelocity\u001b[39m=\u001b[39;49mleft_target_velocity,operationMode\u001b[39m=\u001b[39;49msim\u001b[39m.\u001b[39;49msimx_opmode_blocking)\n\u001b[1;32m     89\u001b[0m     return_value_right_motor_control \u001b[39m=\u001b[39m sim\u001b[39m.\u001b[39msimxSetJointTargetVelocity(clientID\u001b[39m=\u001b[39mclientID,jointHandle\u001b[39m=\u001b[39mright_motor_handle,\n\u001b[1;32m     90\u001b[0m                                                                 targetVelocity\u001b[39m=\u001b[39mright_target_velocity,operationMode\u001b[39m=\u001b[39msim\u001b[39m.\u001b[39msimx_opmode_blocking)\n\u001b[1;32m     92\u001b[0m     \u001b[39mreturn\u001b[39;00m return_value_left_motor_control,return_value_right_motor_control\n",
      "File \u001b[0;32m~/Área de Trabalho/mobile_robotics/src/sim.py:182\u001b[0m, in \u001b[0;36msimxSetJointTargetVelocity\u001b[0;34m(clientID, jointHandle, targetVelocity, operationMode)\u001b[0m\n\u001b[1;32m    177\u001b[0m \u001b[39mdef\u001b[39;00m \u001b[39msimxSetJointTargetVelocity\u001b[39m(clientID, jointHandle, targetVelocity, operationMode):\n\u001b[1;32m    178\u001b[0m     \u001b[39m'''\u001b[39;00m\n\u001b[1;32m    179\u001b[0m \u001b[39m    Please have a look at the function description/documentation in the CoppeliaSim user manual\u001b[39;00m\n\u001b[1;32m    180\u001b[0m \u001b[39m    '''\u001b[39;00m\n\u001b[0;32m--> 182\u001b[0m     \u001b[39mreturn\u001b[39;00m c_SetJointTargetVelocity(clientID, jointHandle, targetVelocity, operationMode)\n",
      "\u001b[0;31mKeyboardInterrupt\u001b[0m: "
     ]
    }
   ],
   "source": [
    "# test_move_controlled()"
   ]
  }
 ],
 "metadata": {
  "kernelspec": {
   "display_name": "Python 3.8.10 64-bit",
   "language": "python",
   "name": "python3"
  },
  "language_info": {
   "codemirror_mode": {
    "name": "ipython",
    "version": 3
   },
   "file_extension": ".py",
   "mimetype": "text/x-python",
   "name": "python",
   "nbconvert_exporter": "python",
   "pygments_lexer": "ipython3",
   "version": "3.8.10"
  },
  "orig_nbformat": 4,
  "vscode": {
   "interpreter": {
    "hash": "31f2aee4e71d21fbe5cf8b01ff0e069b9275f58929596ceb00d14d90e3e16cd6"
   }
  }
 },
 "nbformat": 4,
 "nbformat_minor": 2
}
