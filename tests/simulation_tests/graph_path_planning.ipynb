{
 "cells": [
  {
   "cell_type": "code",
   "execution_count": 1,
   "metadata": {},
   "outputs": [],
   "source": [
    "file_name = \"graph_path_planning.ipynb\"\n",
    "import sys\n",
    "import os\n",
    "sys.path.insert(0, os.path.abspath(\n",
    "    os.path.join(os.path.dirname(file_name), '../../src/') ))\n",
    "\n",
    "from configuration_space_mapping import *\n",
    "from utils import *\n",
    "\n",
    "import matplotlib.pyplot as plt\n",
    "from matplotlib.collections import PatchCollection\n",
    "from matplotlib.patches import Polygon as PlottablePoly\n",
    "from sympy import Polygon, Line, Point\n",
    "import numpy as np"
   ]
  },
  {
   "cell_type": "code",
   "execution_count": 2,
   "metadata": {},
   "outputs": [
    {
     "name": "stdout",
     "output_type": "stream",
     "text": [
      "Connected to remote API server\n",
      "Number of objects in the scene:  42\n"
     ]
    }
   ],
   "source": [
    "client_id = connect_2_sim()\n",
    "test_connection(client_id)"
   ]
  },
  {
   "cell_type": "code",
   "execution_count": 3,
   "metadata": {},
   "outputs": [],
   "source": [
    "scene_objects = ['Cuboid_0','Cuboid_1','Cuboid_2',\n",
    "                 'Cuboid_3','Cuboid_4']\n",
    "robot_name = './dr20'\n"
   ]
  },
  {
   "cell_type": "code",
   "execution_count": 7,
   "metadata": {},
   "outputs": [
    {
     "data": {
      "image/png": "[encoded data removed]",
      "text/plain": [
       "<Figure size 432x432 with 1 Axes>"
      ]
     },
     "metadata": {
      "needs_background": "light"
     },
     "output_type": "display_data"
    }
   ],
   "source": [
    "fig, ax = plt.subplots(figsize=(6,6))\n",
    "\n",
    "obj_points_list = []\n",
    "obj_plot_polys = []\n",
    "for obj in scene_objects:\n",
    "    \n",
    "    errorCode, objHandl = sim.simxGetObjectHandle(client_id, obj, sim.simx_opmode_blocking)\n",
    "    error_pos, objPos = sim.simxGetObjectPosition(client_id, objHandl, -1, sim.simx_opmode_streaming)\n",
    "    error_ang, objAng = sim.simxGetObjectOrientation(client_id, objHandl, -1, sim.simx_opmode_streaming)\n",
    "    \n",
    "    objAng = list(reversed(objAng))\n",
    "    \n",
    "    points_local = get_bounding_box_corners_local_coordinates(client_id, objHandl)\n",
    "     \n",
    "    points_global = map_local_coordinates_to_global_coordinates(points_local, objAng, objPos)\n",
    "    \n",
    "    points_poly = [p[:2] for p in points_global]\n",
    "\n",
    "    poly = np.array(points_poly)\n",
    "    p = PlottablePoly(poly, facecolor = 'k')\n",
    "    obj_plot_polys.append(p)\n",
    "    obj_points_list.append(points_poly)\n",
    "\n",
    "obj_points_list = np.array(obj_points_list)\n",
    "\n",
    "p = PatchCollection(obj_plot_polys, color='k')\n",
    "\n",
    "ax.add_collection(p)\n",
    "\n",
    "ax.set_xlim([-2.5,2.5])\n",
    "ax.set_ylim([-2.5,2.5])\n",
    "plt.show()\n",
    "plt.close(fig)"
   ]
  },
  {
   "cell_type": "code",
   "execution_count": 8,
   "metadata": {},
   "outputs": [
    {
     "data": {
      "text/plain": [
       "array([-2.02499951, -1.97499979, -1.47499979, -1.02499951, -0.85123015,\n",
       "       -0.3999995 ,  0.1000005 ,  0.14876985,  0.89999997,  1.89999997])"
      ]
     },
     "execution_count": 8,
     "metadata": {},
     "output_type": "execute_result"
    }
   ],
   "source": [
    "line_x_coords = np.sort(obj_points_list[:,:,0].flatten())\n",
    "line_x_coords = np.array([line_x_coords[i] for i in range(0,len(line_x_coords), 2)])\n",
    "line_x_coords"
   ]
  },
  {
   "cell_type": "code",
   "execution_count": 9,
   "metadata": {
    "scrolled": true,
    "tags": []
   },
   "outputs": [
    {
     "name": "stdout",
     "output_type": "stream",
     "text": [
      "testing line 1\n",
      "\ttesting poly 0\n",
      "\t []\n",
      "\ttesting poly 1\n",
      "\t []\n",
      "\ttesting poly 2\n",
      "\t [Point2D(-2.02499950658127, -0.724999562864129)]\n",
      "\ttesting poly 3\n",
      "\t []\n",
      "\ttesting poly 4\n",
      "\t []\n",
      "testing line 2\n",
      "\ttesting poly 0\n",
      "\t [Point2D(-1.97499978949439, 0.500000363712869)]\n",
      "\ttesting poly 1\n",
      "\t []\n",
      "\ttesting poly 2\n",
      "\t [Point2D(-1.97499978949439, -1.72499956256987), Point2D(-1.97499978949439, -0.724999562569873)]\n",
      "\ttesting poly 3\n",
      "\t []\n",
      "\ttesting poly 4\n",
      "\t []\n",
      "testing line 3\n",
      "\ttesting poly 0\n",
      "\t [Point2D(-1.47499978949439, 3.74669712709089e-7), Point2D(-1.47499978949439, 0.500000374669712)]\n",
      "\ttesting poly 1\n",
      "\t []\n",
      "\ttesting poly 2\n",
      "\t [Point2D(-1.47499978949439, -1.72499955962730), Point2D(-1.47499978949439, -0.724999559627301)]\n",
      "\ttesting poly 3\n",
      "\t []\n",
      "\ttesting poly 4\n",
      "\t []\n",
      "testing line 4\n",
      "\ttesting poly 0\n",
      "\t []\n",
      "\ttesting poly 1\n",
      "\t []\n",
      "\ttesting poly 2\n",
      "\t [Point2D(-1.02499950658127, -1.72499955697898), Point2D(-1.02499950658127, -0.724999556978985)]\n",
      "\ttesting poly 3\n",
      "\t []\n",
      "\ttesting poly 4\n",
      "\t []\n",
      "testing line 5\n",
      "\ttesting poly 0\n",
      "\t []\n",
      "\ttesting poly 1\n",
      "\t [Point2D(-0.851230145076229, 1.99999941853293)]\n",
      "\ttesting poly 2\n",
      "\t []\n",
      "\ttesting poly 3\n",
      "\t []\n",
      "\ttesting poly 4\n",
      "\t []\n",
      "testing line 6\n",
      "\ttesting poly 0\n",
      "\t []\n",
      "\ttesting poly 1\n",
      "\t [Point2D(-0.399999498035799, 0.999999419225798), Point2D(-0.399999498035799, 1.99999941922580)]\n",
      "\ttesting poly 2\n",
      "\t []\n",
      "\ttesting poly 3\n",
      "\t [Point2D(-0.399999498035799, 0.150000539353379)]\n",
      "\ttesting poly 4\n",
      "\t []\n",
      "testing line 7\n",
      "\ttesting poly 0\n",
      "\t []\n",
      "\ttesting poly 1\n",
      "\t [Point2D(0.100000501964201, 0.999999419993553), Point2D(0.100000501964201, 1.99999941999355)]\n",
      "\ttesting poly 2\n",
      "\t []\n",
      "\ttesting poly 3\n",
      "\t [Point2D(0.100000501964201, -0.349999460282475), Point2D(0.100000501964201, 0.150000539717524)]\n",
      "\ttesting poly 4\n",
      "\t []\n",
      "testing line 8\n",
      "\ttesting poly 0\n",
      "\t []\n",
      "\ttesting poly 1\n",
      "\t [Point2D(0.148769854923771, 0.999999420068439), Point2D(0.148769854923771, 1.99999942006844)]\n",
      "\ttesting poly 2\n",
      "\t []\n",
      "\ttesting poly 3\n",
      "\t []\n",
      "\ttesting poly 4\n",
      "\t []\n",
      "testing line 9\n",
      "\ttesting poly 0\n",
      "\t []\n",
      "\ttesting poly 1\n",
      "\t []\n",
      "\ttesting poly 2\n",
      "\t []\n",
      "\ttesting poly 3\n",
      "\t []\n",
      "\ttesting poly 4\n",
      "\t [Point2D(0.899999966394900, 0.350000146257976)]\n",
      "testing line 10\n",
      "\ttesting poly 0\n",
      "\t []\n",
      "\ttesting poly 1\n",
      "\t []\n",
      "\ttesting poly 2\n",
      "\t []\n",
      "\ttesting poly 3\n",
      "\t []\n",
      "\ttesting poly 4\n",
      "\t [Point2D(1.89999996639490, -0.649999842885748), Point2D(1.89999996639490, 0.350000157114250)]\n"
     ]
    }
   ],
   "source": [
    "obj_poly_list = []\n",
    "for obj_ps in obj_points_list:\n",
    "    p1, p2, p3, p4 = map(Point, obj_ps)\n",
    "    poly = Polygon(p1, p2, p3, p4)\n",
    "    obj_poly_list.append(poly)\n",
    "\n",
    "lines_list = []\n",
    "for x_coord in line_x_coords:   \n",
    "    p1, p2 = map(Point, [(x_coord,2.5), (x_coord,-2.5)])\n",
    "    line = Line(p1,p2)\n",
    "    lines_list.append(line)\n",
    "\n",
    "i = 1\n",
    "lines_intersects = []\n",
    "for line in lines_list:\n",
    "    print(f'testing line {i}')\n",
    "    j = 0\n",
    "    y_intersects = []\n",
    "    for poly in obj_poly_list:\n",
    "        print(f'\\ttesting poly {j}')\n",
    "        intersects = poly.intersection(line)\n",
    "        points = [p.evalf() for p in intersects]\n",
    "        if len(points) == 1:\n",
    "            poly_ys = [p.evalf()[1] for p in poly.vertices] #to float\n",
    "            max_y = max(poly_ys)\n",
    "            min_y = min(poly_ys)\n",
    "            y_intersects.append(max_y)\n",
    "            y_intersects.append(min_y)\n",
    "        else:\n",
    "            for p in points:\n",
    "                y_intersects.append(p[1])\n",
    "        \n",
    "        print('\\t', points)\n",
    "        j += 1\n",
    "    lines_intersects.append(y_intersects)\n",
    "    i += 1"
   ]
  },
  {
   "cell_type": "code",
   "execution_count": 10,
   "metadata": {
    "tags": []
   },
   "outputs": [
    {
     "data": {
      "image/png": "[encoded data removed]",
      "text/plain": [
       "<Figure size 432x432 with 1 Axes>"
      ]
     },
     "metadata": {
      "needs_background": "light"
     },
     "output_type": "display_data"
    }
   ],
   "source": [
    "lines_intersects = [sorted(i) for i in lines_intersects]\n",
    "\n",
    "fig, ax = plt.subplots(figsize=(6,6))\n",
    "\n",
    "p = PatchCollection(obj_plot_polys, color='k')\n",
    "\n",
    "ax.add_collection(p)\n",
    "\n",
    "ax.set_xlim([-2.5,2.5])\n",
    "ax.set_ylim([-2.5,2.5])\n",
    "\n",
    "for x, ys in zip(line_x_coords, lines_intersects):\n",
    "    y_min = -2.5\n",
    "    for i in range(0, len(ys)-1, 2):\n",
    "        plt.vlines(x, y_min, float(ys[i]))\n",
    "        y_min = float(ys[i+1])\n",
    "    plt.vlines(x, y_min, 2.5)\n",
    "\n",
    "plt.show()"
   ]
  },
  {
   "cell_type": "code",
   "execution_count": null,
   "metadata": {},
   "outputs": [],
   "source": []
  },
  {
   "cell_type": "code",
   "execution_count": null,
   "metadata": {},
   "outputs": [],
   "source": []
  }
 ],
 "metadata": {
  "kernelspec": {
   "display_name": "Python 3",
   "language": "python",
   "name": "python3"
  },
  "language_info": {
   "codemirror_mode": {
    "name": "ipython",
    "version": 3
   },
   "file_extension": ".py",
   "mimetype": "text/x-python",
   "name": "python",
   "nbconvert_exporter": "python",
   "pygments_lexer": "ipython3",
   "version": "3.8.5"
  }
 },
 "nbformat": 4,
 "nbformat_minor": 4
}
