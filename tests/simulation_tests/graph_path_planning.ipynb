{
 "cells": [
  {
   "cell_type": "code",
   "execution_count": 6,
   "metadata": {},
   "outputs": [],
   "source": [
    "file_name = \"graph_path_planning.ipynb\"\n",
    "import sys\n",
    "import os\n",
    "sys.path.insert(0, os.path.abspath(\n",
    "    os.path.join(os.path.dirname(file_name), '../../src/') ))\n",
    "\n",
    "from configuration_space_mapping import *\n",
    "from utils import *\n",
    "from a_star import a_star\n",
    "from graph import *\n",
    "from segment_operations import is_there_shared_point, find_shared_segment\n",
    "\n",
    "import matplotlib.pyplot as plt\n",
    "from matplotlib.collections import PatchCollection\n",
    "from matplotlib.patches import Polygon as PlottablePoly\n",
    "from sympy import Polygon, Line, Point\n",
    "import numpy as np"
   ]
  },
  {
   "cell_type": "code",
   "execution_count": 7,
   "metadata": {},
   "outputs": [
    {
     "name": "stdout",
     "output_type": "stream",
     "text": [
      "Connected to remote API server\n",
      "Number of objects in the scene:  43\n"
     ]
    }
   ],
   "source": [
    "client_id = connect_2_sim()\n",
    "test_connection(client_id)"
   ]
  },
  {
   "cell_type": "code",
   "execution_count": 8,
   "metadata": {},
   "outputs": [],
   "source": [
    "scene_objects = ['Cuboid_0','Cuboid_1','Cuboid_2',\n",
    "                 'Cuboid_3','Cuboid_4']\n",
    "robot_name = './dr20'\n"
   ]
  },
  {
   "cell_type": "code",
   "execution_count": 9,
   "metadata": {},
   "outputs": [
    {
     "data": {
      "image/png": "[encoded data removed]",
      "text/plain": [
       "<Figure size 432x432 with 1 Axes>"
      ]
     },
     "metadata": {
      "needs_background": "light"
     },
     "output_type": "display_data"
    }
   ],
   "source": [
    "fig, ax = plt.subplots(figsize=(6,6))\n",
    "\n",
    "obj_points_list = []\n",
    "obj_plot_polys = []\n",
    "for obj in scene_objects:\n",
    "    \n",
    "    errorCode, objHandl = sim.simxGetObjectHandle(client_id, obj, sim.simx_opmode_blocking)\n",
    "    error_pos, objPos = sim.simxGetObjectPosition(client_id, objHandl, -1, sim.simx_opmode_blocking)\n",
    "    error_ang, objAng = sim.simxGetObjectOrientation(client_id, objHandl, -1, sim.simx_opmode_blocking)\n",
    "    \n",
    "    objAng = list(reversed(objAng))\n",
    "    \n",
    "    points_local = get_bounding_box_corners_local_coordinates(client_id, objHandl)\n",
    "     \n",
    "    points_global = map_local_coordinates_to_global_coordinates(points_local, objAng, objPos)\n",
    "    \n",
    "    points_poly = [p[:2] for p in points_global]\n",
    "\n",
    "    poly = np.array(points_poly)\n",
    "    p = PlottablePoly(poly, facecolor = 'k')\n",
    "    obj_plot_polys.append(p)\n",
    "    obj_points_list.append(points_poly)\n",
    "\n",
    "obj_points_list = np.array(obj_points_list)\n",
    "\n",
    "p = PatchCollection(obj_plot_polys, color='k')\n",
    "\n",
    "ax.add_collection(p)\n",
    "\n",
    "ax.set_xlim([-2.5,2.5])\n",
    "ax.set_ylim([-2.5,2.5])\n",
    "plt.show()\n",
    "plt.close(fig)"
   ]
  },
  {
   "cell_type": "code",
   "execution_count": 10,
   "metadata": {},
   "outputs": [
    {
     "data": {
      "text/plain": [
       "array([-2.0249995 , -1.97499979, -1.47499979, -1.0249995 , -0.85000012,\n",
       "       -0.3999995 ,  0.1000005 ,  0.14999988,  0.89999997,  1.89999997])"
      ]
     },
     "execution_count": 10,
     "metadata": {},
     "output_type": "execute_result"
    }
   ],
   "source": [
    "line_x_coords = np.sort(obj_points_list[:,:,0].flatten())\n",
    "line_x_coords = np.array([line_x_coords[i] for i in range(0,len(line_x_coords), 2)])\n",
    "line_x_coords"
   ]
  },
  {
   "cell_type": "code",
   "execution_count": 11,
   "metadata": {
    "scrolled": true,
    "tags": []
   },
   "outputs": [
    {
     "name": "stdout",
     "output_type": "stream",
     "text": [
      "testing line 1\n",
      "\ttesting poly 0\n",
      "\t []\n",
      "\ttesting poly 1\n",
      "\t []\n",
      "\ttesting poly 2\n",
      "\t [Point2D(-2.02499950042661, -1.72499954318990)]\n",
      "\ttesting poly 3\n",
      "\t []\n",
      "\ttesting poly 4\n",
      "\t []\n",
      "testing line 2\n",
      "\ttesting poly 0\n",
      "\t [Point2D(-1.97499978680463, 3.66893036757299e-7)]\n",
      "\ttesting poly 1\n",
      "\t []\n",
      "\ttesting poly 2\n",
      "\t [Point2D(-1.97499978680463, -1.72499954323281), Point2D(-1.97499978680463, -0.724999543232809)]\n",
      "\ttesting poly 3\n",
      "\t []\n",
      "\ttesting poly 4\n",
      "\t []\n",
      "testing line 3\n",
      "\ttesting poly 0\n",
      "\t [Point2D(-1.47499978680463, 3.64693784837833e-7), Point2D(-1.47499978680463, 0.500000364693785)]\n",
      "\ttesting poly 1\n",
      "\t []\n",
      "\ttesting poly 2\n",
      "\t [Point2D(-1.47499978680463, -1.72499954366195), Point2D(-1.47499978680463, -0.724999543661947)]\n",
      "\ttesting poly 3\n",
      "\t []\n",
      "\ttesting poly 4\n",
      "\t []\n",
      "testing line 4\n",
      "\ttesting poly 0\n",
      "\t []\n",
      "\ttesting poly 1\n",
      "\t []\n",
      "\ttesting poly 2\n",
      "\t [Point2D(-1.02499950042661, -1.72499954404817), Point2D(-1.02499950042661, -0.724999544048171)]\n",
      "\ttesting poly 3\n",
      "\t []\n",
      "\ttesting poly 4\n",
      "\t []\n",
      "testing line 5\n",
      "\ttesting poly 0\n",
      "\t []\n",
      "\ttesting poly 1\n",
      "\t [Point2D(-0.850000116515965, 0.999999387249266)]\n",
      "\ttesting poly 2\n",
      "\t []\n",
      "\ttesting poly 3\n",
      "\t []\n",
      "\ttesting poly 4\n",
      "\t []\n",
      "testing line 6\n",
      "\ttesting poly 0\n",
      "\t []\n",
      "\ttesting poly 1\n",
      "\t [Point2D(-0.399999499347486, 0.999999386294524), Point2D(-0.399999499347486, 1.99999938629452)]\n",
      "\ttesting poly 2\n",
      "\t []\n",
      "\ttesting poly 3\n",
      "\t [Point2D(-0.399999499347486, 0.150000420930537)]\n",
      "\ttesting poly 4\n",
      "\t []\n",
      "testing line 7\n",
      "\ttesting poly 0\n",
      "\t []\n",
      "\ttesting poly 1\n",
      "\t [Point2D(0.100000500652514, 0.999999385233700), Point2D(0.100000500652514, 1.99999938523370)]\n",
      "\ttesting poly 2\n",
      "\t []\n",
      "\ttesting poly 3\n",
      "\t [Point2D(0.100000500652514, -0.349999578263740), Point2D(0.100000500652514, 0.150000421736260)]\n",
      "\ttesting poly 4\n",
      "\t []\n",
      "testing line 8\n",
      "\ttesting poly 0\n",
      "\t []\n",
      "\ttesting poly 1\n",
      "\t [Point2D(0.149999883484035, 0.999999385127619), Point2D(0.149999883484035, 1.99999938512762)]\n",
      "\ttesting poly 2\n",
      "\t []\n",
      "\ttesting poly 3\n",
      "\t []\n",
      "\ttesting poly 4\n",
      "\t []\n",
      "testing line 9\n",
      "\ttesting poly 0\n",
      "\t []\n",
      "\ttesting poly 1\n",
      "\t []\n",
      "\ttesting poly 2\n",
      "\t []\n",
      "\ttesting poly 3\n",
      "\t []\n",
      "\ttesting poly 4\n",
      "\t [Point2D(0.899999973477940, 0.350000105757662)]\n",
      "testing line 10\n",
      "\ttesting poly 0\n",
      "\t []\n",
      "\ttesting poly 1\n",
      "\t []\n",
      "\ttesting poly 2\n",
      "\t []\n",
      "\ttesting poly 3\n",
      "\t []\n",
      "\ttesting poly 4\n",
      "\t [Point2D(1.89999997347794, -0.649999892341103), Point2D(1.89999997347794, 0.350000107658895)]\n"
     ]
    }
   ],
   "source": [
    "obj_poly_list = []\n",
    "for obj_ps in obj_points_list:\n",
    "    p1, p2, p3, p4 = map(Point, obj_ps)\n",
    "    poly = Polygon(p1, p2, p3, p4)\n",
    "    obj_poly_list.append(poly)\n",
    "\n",
    "lines_list = []\n",
    "for x_coord in line_x_coords:   \n",
    "    p1, p2 = map(Point, [(x_coord,2.5), (x_coord,-2.5)])\n",
    "    line = Line(p1,p2)\n",
    "    lines_list.append(line)\n",
    "\n",
    "i = 1\n",
    "lines_intersects = []\n",
    "for line in lines_list:\n",
    "    print(f'testing line {i}')\n",
    "    j = 0\n",
    "    y_intersects = []\n",
    "    for poly in obj_poly_list:\n",
    "        print(f'\\ttesting poly {j}')\n",
    "        intersects = poly.intersection(line)\n",
    "        try:\n",
    "            points = [p.evalf() for p in intersects]\n",
    "        except:\n",
    "            points = [s.points[0].evalf() for s in intersects]\n",
    "        print('\\t', points)\n",
    "        if len(points) == 1:\n",
    "            pass\n",
    "            #poly_ys = [p.evalf()[1] for p in poly.vertices] #to float\n",
    "            #max_y = max(poly_ys)\n",
    "            #min_y = min(poly_ys)\n",
    "            #y_intersects.append(max_y)\n",
    "            #y_intersects.append(min_y)\n",
    "        else:\n",
    "            for p in points:\n",
    "                y_intersects.append(p[1])\n",
    "        j += 1\n",
    "    lines_intersects.append(y_intersects)\n",
    "    i += 1"
   ]
  },
  {
   "cell_type": "code",
   "execution_count": 12,
   "metadata": {
    "tags": []
   },
   "outputs": [
    {
     "data": {
      "image/png": "[encoded data removed]",
      "text/plain": [
       "<Figure size 432x432 with 1 Axes>"
      ]
     },
     "metadata": {
      "needs_background": "light"
     },
     "output_type": "display_data"
    }
   ],
   "source": [
    "lines_intersects = [sorted(i) for i in lines_intersects]\n",
    "\n",
    "fig, ax = plt.subplots(figsize=(6,6))\n",
    "\n",
    "p = PatchCollection(obj_plot_polys, color='k')\n",
    "\n",
    "ax.add_collection(p)\n",
    "\n",
    "ax.set_xlim([-2.5,2.5])\n",
    "ax.set_ylim([-2.5,2.5])\n",
    "\n",
    "for x, ys in zip(line_x_coords, lines_intersects):\n",
    "    y_min = -2.5\n",
    "    for i in range(0, len(ys)-1, 2):\n",
    "        plt.vlines(x, y_min, float(ys[i]))\n",
    "        y_min = float(ys[i+1])\n",
    "    plt.vlines(x, y_min, 2.5)\n",
    "\n",
    "plt.show()"
   ]
  },
  {
   "cell_type": "code",
   "execution_count": 13,
   "metadata": {},
   "outputs": [
    {
     "data": {
      "text/plain": [
       "[[],\n",
       " [-1.72499954323281, -0.724999543232809],\n",
       " [-1.72499954366195,\n",
       "  -0.724999543661947,\n",
       "  3.64693784837833e-7,\n",
       "  0.500000364693785],\n",
       " [-1.72499954404817, -0.724999544048171],\n",
       " [],\n",
       " [0.999999386294524, 1.99999938629452],\n",
       " [-0.349999578263740, 0.150000421736260, 0.999999385233700, 1.99999938523370],\n",
       " [0.999999385127619, 1.99999938512762],\n",
       " [],\n",
       " [-0.649999892341103, 0.350000107658895]]"
      ]
     },
     "execution_count": 13,
     "metadata": {},
     "output_type": "execute_result"
    }
   ],
   "source": [
    "lines_intersects"
   ]
  },
  {
   "cell_type": "code",
   "execution_count": 14,
   "metadata": {},
   "outputs": [
    {
     "data": {
      "image/png": "[encoded data removed]",
      "text/plain": [
       "<Figure size 432x432 with 1 Axes>"
      ]
     },
     "metadata": {
      "needs_background": "light"
     },
     "output_type": "display_data"
    }
   ],
   "source": [
    "cells_points = []\n",
    "prev_x = -2.5\n",
    "for x, ys in zip(line_x_coords, lines_intersects):\n",
    "    x_min, x_max = prev_x, x\n",
    "    y_min, y_max = -2.5, 2.5\n",
    "    \n",
    "    if len(ys) > 0:\n",
    "        for i in range(0, len(ys)-1, 2):\n",
    "            y_max = ys[i]\n",
    "            cell = [[x_max, y_max], [x_min, y_max], [x_min, y_min], [x_max, y_min]]\n",
    "            cells_points.append(np.array(cell))\n",
    "            y_min = ys[i+1]\n",
    "            y_max = 2.5\n",
    "        cell = [[x_max, y_max], [x_min, y_max], [x_min, y_min], [x_max, y_min]]\n",
    "        cells_points.append(np.array(cell))\n",
    "    else:\n",
    "        cell = [[x_max, y_max], [x_min, y_max], [x_min, y_min], [x_max, y_min]]\n",
    "        cells_points.append(np.array(cell))\n",
    "    prev_x = x\n",
    "\n",
    "x_min, x_max = x, 2.5\n",
    "y_min, y_max = -2.5, 2.5\n",
    "cell = [[x_max, y_max], [x_min, y_max], [x_min, y_min], [x_max, y_min]]\n",
    "cells_points.append(np.array(cell))\n",
    "\n",
    "\n",
    "cells_plottable = []\n",
    "for cell in cells_points:\n",
    "    p = PlottablePoly(cell, facecolor = 'k')\n",
    "    cells_plottable.append(p)\n",
    "\n",
    "import matplotlib.colors\n",
    "colors = values = np.array([i%5 for i in range(len(cells_plottable))])\n",
    "cmap = matplotlib.colors.ListedColormap(['r', 'g', 'b', 'y', 'k'])\n",
    "p = PatchCollection(cells_plottable, cmap=cmap, alpha=0.9)\n",
    "p.set_array(colors)\n",
    "\n",
    "fig, ax = plt.subplots(figsize=(6,6))\n",
    "ax.add_collection(p)\n",
    "\n",
    "ax.set_xlim([-2.5,2.5])\n",
    "ax.set_ylim([-2.5,2.5])\n",
    "plt.show()\n",
    "plt.close(fig)"
   ]
  },
  {
   "cell_type": "code",
   "execution_count": 15,
   "metadata": {},
   "outputs": [
    {
     "data": {
      "image/png": "[encoded data removed]",
      "text/plain": [
       "<Figure size 432x432 with 1 Axes>"
      ]
     },
     "metadata": {
      "needs_background": "light"
     },
     "output_type": "display_data"
    }
   ],
   "source": [
    "fig, ax = plt.subplots(figsize=(6,6))\n",
    "p = PatchCollection(cells_plottable, alpha=0.4, color='b')\n",
    "\n",
    "errorCode, roboHandl = sim.simxGetObjectHandle(client_id, robot_name, sim.simx_opmode_blocking)\n",
    "error_pos, roboPos = sim.simxGetObjectPosition(client_id, roboHandl, -1, sim.simx_opmode_blocking)\n",
    "errorCode, goalHandl = sim.simxGetObjectHandle(client_id, './Goal', sim.simx_opmode_blocking)\n",
    "error_pos, goalPos = sim.simxGetObjectPosition(client_id, goalHandl, -1, sim.simx_opmode_blocking)\n",
    "\n",
    "ax.add_collection(p)\n",
    "plt.scatter(roboPos[0], roboPos[1], color='k')\n",
    "plt.scatter(goalPos[0], goalPos[1], color='r')\n",
    "\n",
    "ax.set_xlim([-2.5,2.5])\n",
    "ax.set_ylim([-2.5,2.5])\n",
    "plt.show()\n",
    "plt.close(fig)"
   ]
  },
  {
   "cell_type": "code",
   "execution_count": 16,
   "metadata": {},
   "outputs": [],
   "source": [
    "def square_from_array(obj_points):\n",
    "    p1, p2, p3, p4 = map(Point, obj_points)\n",
    "    poly = Polygon(p1, p2, p3, p4)\n",
    "    return poly\n",
    "\n",
    "cells_poly = []\n",
    "for cell in cells_points:\n",
    "    p = square_from_array(cell)\n",
    "    cells_poly.append(p)"
   ]
  },
  {
   "cell_type": "code",
   "execution_count": 17,
   "metadata": {},
   "outputs": [
    {
     "data": {
      "text/plain": [
       "(0, 17)"
      ]
     },
     "execution_count": 17,
     "metadata": {},
     "output_type": "execute_result"
    }
   ],
   "source": [
    "#get robot and goal cell\n",
    "robo_point = Point(roboPos[:2])\n",
    "goal_point = Point(goalPos[:2])\n",
    "\n",
    "robo_cell = -1\n",
    "goal_cell = -1\n",
    "for i, cell in zip(range(len(cells_poly)), cells_poly):\n",
    "    if cell.encloses_point(goal_point):\n",
    "        goal_cell = i\n",
    "    elif cell.encloses_point(robo_point):\n",
    "        robo_cell = i\n",
    "                   \n",
    "robo_cell, goal_cell"
   ]
  },
  {
   "cell_type": "code",
   "execution_count": 18,
   "metadata": {},
   "outputs": [
    {
     "name": "stdout",
     "output_type": "stream",
     "text": [
      "initiating graph\n"
     ]
    },
    {
     "name": "stderr",
     "output_type": "stream",
     "text": [
      "/tmp/ipykernel_16877/4042855749.py:6: UserWarning: Polygons may intersect producing erroneous output\n",
      "  distance = cells_poly[i].distance(cells_poly[j]).evalf()\n"
     ]
    },
    {
     "ename": "KeyboardInterrupt",
     "evalue": "",
     "output_type": "error",
     "traceback": [
      "\u001b[0;31m---------------------------------------------------------------------------\u001b[0m",
      "\u001b[0;31mKeyboardInterrupt\u001b[0m                         Traceback (most recent call last)",
      "\u001b[1;32m/home/mateus/Área de Trabalho/mobile_robotics/tests/simulation_tests/graph_path_planning.ipynb Cell 13'\u001b[0m in \u001b[0;36m<cell line: 3>\u001b[0;34m()\u001b[0m\n\u001b[1;32m      <a href='vscode-notebook-cell:/home/mateus/%C3%81rea%20de%20Trabalho/mobile_robotics/tests/simulation_tests/graph_path_planning.ipynb#ch0000012?line=2'>3</a>\u001b[0m \u001b[39mfor\u001b[39;00m i \u001b[39min\u001b[39;00m \u001b[39mrange\u001b[39m(\u001b[39mlen\u001b[39m(cells_poly)):\n\u001b[1;32m      <a href='vscode-notebook-cell:/home/mateus/%C3%81rea%20de%20Trabalho/mobile_robotics/tests/simulation_tests/graph_path_planning.ipynb#ch0000012?line=3'>4</a>\u001b[0m     \u001b[39m#print(f'testing cell {i}:')\u001b[39;00m\n\u001b[1;32m      <a href='vscode-notebook-cell:/home/mateus/%C3%81rea%20de%20Trabalho/mobile_robotics/tests/simulation_tests/graph_path_planning.ipynb#ch0000012?line=4'>5</a>\u001b[0m     \u001b[39mfor\u001b[39;00m j \u001b[39min\u001b[39;00m \u001b[39mrange\u001b[39m(i, \u001b[39mlen\u001b[39m(cells_poly)):\n\u001b[0;32m----> <a href='vscode-notebook-cell:/home/mateus/%C3%81rea%20de%20Trabalho/mobile_robotics/tests/simulation_tests/graph_path_planning.ipynb#ch0000012?line=5'>6</a>\u001b[0m         distance \u001b[39m=\u001b[39m cells_poly[i]\u001b[39m.\u001b[39;49mdistance(cells_poly[j])\u001b[39m.\u001b[39mevalf()\n\u001b[1;32m      <a href='vscode-notebook-cell:/home/mateus/%C3%81rea%20de%20Trabalho/mobile_robotics/tests/simulation_tests/graph_path_planning.ipynb#ch0000012?line=6'>7</a>\u001b[0m         \u001b[39mif\u001b[39;00m distance \u001b[39m<\u001b[39m \u001b[39m0.000001\u001b[39m:\n\u001b[1;32m      <a href='vscode-notebook-cell:/home/mateus/%C3%81rea%20de%20Trabalho/mobile_robotics/tests/simulation_tests/graph_path_planning.ipynb#ch0000012?line=7'>8</a>\u001b[0m             connections\u001b[39m.\u001b[39mappend((\u001b[39mf\u001b[39m\u001b[39m'\u001b[39m\u001b[39m{\u001b[39;00mi\u001b[39m}\u001b[39;00m\u001b[39m'\u001b[39m, \u001b[39mf\u001b[39m\u001b[39m'\u001b[39m\u001b[39m{\u001b[39;00mj\u001b[39m}\u001b[39;00m\u001b[39m'\u001b[39m))\n",
      "File \u001b[0;32m~/.local/lib/python3.8/site-packages/sympy/sympy/geometry/polygon.py:1082\u001b[0m, in \u001b[0;36mPolygon.distance\u001b[0;34m(self, o)\u001b[0m\n\u001b[1;32m   1080\u001b[0m     \u001b[39mreturn\u001b[39;00m dist\n\u001b[1;32m   1081\u001b[0m \u001b[39melif\u001b[39;00m \u001b[39misinstance\u001b[39m(o, Polygon) \u001b[39mand\u001b[39;00m \u001b[39mself\u001b[39m\u001b[39m.\u001b[39mis_convex() \u001b[39mand\u001b[39;00m o\u001b[39m.\u001b[39mis_convex():\n\u001b[0;32m-> 1082\u001b[0m     \u001b[39mreturn\u001b[39;00m \u001b[39mself\u001b[39;49m\u001b[39m.\u001b[39;49m_do_poly_distance(o)\n\u001b[1;32m   1083\u001b[0m \u001b[39mraise\u001b[39;00m \u001b[39mNotImplementedError\u001b[39;00m()\n",
      "File \u001b[0;32m~/.local/lib/python3.8/site-packages/sympy/sympy/geometry/polygon.py:1131\u001b[0m, in \u001b[0;36mPolygon._do_poly_distance\u001b[0;34m(self, e2)\u001b[0m\n\u001b[1;32m   1129\u001b[0m \u001b[39mfor\u001b[39;00m vertex \u001b[39min\u001b[39;00m e1\u001b[39m.\u001b[39mvertices:\n\u001b[1;32m   1130\u001b[0m     r \u001b[39m=\u001b[39m Point\u001b[39m.\u001b[39mdistance(e1_center, vertex)\n\u001b[0;32m-> 1131\u001b[0m     \u001b[39mif\u001b[39;00m e1_max_radius \u001b[39m<\u001b[39;49m r:\n\u001b[1;32m   1132\u001b[0m         e1_max_radius \u001b[39m=\u001b[39m r\n\u001b[1;32m   1133\u001b[0m \u001b[39mfor\u001b[39;00m vertex \u001b[39min\u001b[39;00m e2\u001b[39m.\u001b[39mvertices:\n",
      "File \u001b[0;32m~/.local/lib/python3.8/site-packages/sympy/sympy/core/decorators.py:236\u001b[0m, in \u001b[0;36m_SympifyWrapper.make_wrapped.<locals>._func\u001b[0;34m(self, other)\u001b[0m\n\u001b[1;32m    234\u001b[0m \u001b[39mif\u001b[39;00m \u001b[39mnot\u001b[39;00m \u001b[39misinstance\u001b[39m(other, expectedcls):\n\u001b[1;32m    235\u001b[0m     \u001b[39mreturn\u001b[39;00m retval\n\u001b[0;32m--> 236\u001b[0m \u001b[39mreturn\u001b[39;00m func(\u001b[39mself\u001b[39;49m, other)\n",
      "File \u001b[0;32m~/.local/lib/python3.8/site-packages/sympy/sympy/core/expr.py:376\u001b[0m, in \u001b[0;36mExpr.__lt__\u001b[0;34m(self, other)\u001b[0m\n\u001b[1;32m    373\u001b[0m \u001b[39m@sympify_return\u001b[39m([(\u001b[39m'\u001b[39m\u001b[39mother\u001b[39m\u001b[39m'\u001b[39m, \u001b[39m'\u001b[39m\u001b[39mExpr\u001b[39m\u001b[39m'\u001b[39m)], \u001b[39mNotImplemented\u001b[39m)\n\u001b[1;32m    374\u001b[0m \u001b[39mdef\u001b[39;00m \u001b[39m__lt__\u001b[39m(\u001b[39mself\u001b[39m, other):\n\u001b[1;32m    375\u001b[0m     \u001b[39mfrom\u001b[39;00m \u001b[39m.\u001b[39;00m\u001b[39mrelational\u001b[39;00m \u001b[39mimport\u001b[39;00m StrictLessThan\n\u001b[0;32m--> 376\u001b[0m     \u001b[39mreturn\u001b[39;00m StrictLessThan(\u001b[39mself\u001b[39;49m, other)\n",
      "File \u001b[0;32m~/.local/lib/python3.8/site-packages/sympy/sympy/core/relational.py:845\u001b[0m, in \u001b[0;36m_Inequality.__new__\u001b[0;34m(cls, lhs, rhs, **options)\u001b[0m\n\u001b[1;32m    836\u001b[0m             \u001b[39mraise\u001b[39;00m \u001b[39mTypeError\u001b[39;00m(\u001b[39m\"\u001b[39m\u001b[39mInvalid NaN comparison\u001b[39m\u001b[39m\"\u001b[39m)\n\u001b[1;32m    837\u001b[0m     \u001b[39m# First we invoke the appropriate inequality method of `lhs`\u001b[39;00m\n\u001b[1;32m    838\u001b[0m     \u001b[39m# (e.g., `lhs.__lt__`).  That method will try to reduce to\u001b[39;00m\n\u001b[1;32m    839\u001b[0m     \u001b[39m# boolean or raise an exception.  It may keep calling\u001b[39;00m\n\u001b[0;32m   (...)\u001b[0m\n\u001b[1;32m    843\u001b[0m     \u001b[39m# exception).  In that case, it must call us with\u001b[39;00m\n\u001b[1;32m    844\u001b[0m     \u001b[39m# `evaluate=False` to prevent infinite recursion.\u001b[39;00m\n\u001b[0;32m--> 845\u001b[0m     \u001b[39mreturn\u001b[39;00m \u001b[39mcls\u001b[39;49m\u001b[39m.\u001b[39;49m_eval_relation(lhs, rhs, \u001b[39m*\u001b[39;49m\u001b[39m*\u001b[39;49moptions)\n\u001b[1;32m    847\u001b[0m \u001b[39m# make a \"non-evaluated\" Expr for the inequality\u001b[39;00m\n\u001b[1;32m    848\u001b[0m \u001b[39mreturn\u001b[39;00m Relational\u001b[39m.\u001b[39m\u001b[39m__new__\u001b[39m(\u001b[39mcls\u001b[39m, lhs, rhs, \u001b[39m*\u001b[39m\u001b[39m*\u001b[39moptions)\n",
      "File \u001b[0;32m~/.local/lib/python3.8/site-packages/sympy/sympy/core/relational.py:852\u001b[0m, in \u001b[0;36m_Inequality._eval_relation\u001b[0;34m(cls, lhs, rhs, **options)\u001b[0m\n\u001b[1;32m    850\u001b[0m \u001b[39m@classmethod\u001b[39m\n\u001b[1;32m    851\u001b[0m \u001b[39mdef\u001b[39;00m \u001b[39m_eval_relation\u001b[39m(\u001b[39mcls\u001b[39m, lhs, rhs, \u001b[39m*\u001b[39m\u001b[39m*\u001b[39moptions):\n\u001b[0;32m--> 852\u001b[0m     val \u001b[39m=\u001b[39m \u001b[39mcls\u001b[39;49m\u001b[39m.\u001b[39;49m_eval_fuzzy_relation(lhs, rhs)\n\u001b[1;32m    853\u001b[0m     \u001b[39mif\u001b[39;00m val \u001b[39mis\u001b[39;00m \u001b[39mNone\u001b[39;00m:\n\u001b[1;32m    854\u001b[0m         \u001b[39mreturn\u001b[39;00m \u001b[39mcls\u001b[39m(lhs, rhs, evaluate\u001b[39m=\u001b[39m\u001b[39mFalse\u001b[39;00m)\n",
      "File \u001b[0;32m~/.local/lib/python3.8/site-packages/sympy/sympy/core/relational.py:1179\u001b[0m, in \u001b[0;36mStrictLessThan._eval_fuzzy_relation\u001b[0;34m(cls, lhs, rhs)\u001b[0m\n\u001b[1;32m   1177\u001b[0m \u001b[39m@classmethod\u001b[39m\n\u001b[1;32m   1178\u001b[0m \u001b[39mdef\u001b[39;00m \u001b[39m_eval_fuzzy_relation\u001b[39m(\u001b[39mcls\u001b[39m, lhs, rhs):\n\u001b[0;32m-> 1179\u001b[0m     \u001b[39mreturn\u001b[39;00m is_lt(lhs, rhs)\n",
      "File \u001b[0;32m~/.local/lib/python3.8/site-packages/sympy/sympy/core/relational.py:1258\u001b[0m, in \u001b[0;36mis_lt\u001b[0;34m(lhs, rhs, assumptions)\u001b[0m\n\u001b[1;32m   1253\u001b[0m \u001b[39mdef\u001b[39;00m \u001b[39mis_lt\u001b[39m(lhs, rhs, assumptions\u001b[39m=\u001b[39m\u001b[39mNone\u001b[39;00m):\n\u001b[1;32m   1254\u001b[0m     \u001b[39m\"\"\"Fuzzy bool for lhs is strictly less than rhs.\u001b[39;00m\n\u001b[1;32m   1255\u001b[0m \n\u001b[1;32m   1256\u001b[0m \u001b[39m    See the docstring for :func:`~.is_ge` for more.\u001b[39;00m\n\u001b[1;32m   1257\u001b[0m \u001b[39m    \"\"\"\u001b[39;00m\n\u001b[0;32m-> 1258\u001b[0m     \u001b[39mreturn\u001b[39;00m fuzzy_not(is_ge(lhs, rhs, assumptions))\n",
      "File \u001b[0;32m~/.local/lib/python3.8/site-packages/sympy/sympy/core/relational.py:1380\u001b[0m, in \u001b[0;36mis_ge\u001b[0;34m(lhs, rhs, assumptions)\u001b[0m\n\u001b[1;32m   1378\u001b[0m     \u001b[39mreturn\u001b[39;00m retval\n\u001b[1;32m   1379\u001b[0m \u001b[39melse\u001b[39;00m:\n\u001b[0;32m-> 1380\u001b[0m     n2 \u001b[39m=\u001b[39m _n2(lhs, rhs)\n\u001b[1;32m   1381\u001b[0m     \u001b[39mif\u001b[39;00m n2 \u001b[39mis\u001b[39;00m \u001b[39mnot\u001b[39;00m \u001b[39mNone\u001b[39;00m:\n\u001b[1;32m   1382\u001b[0m         \u001b[39m# use float comparison for infinity.\u001b[39;00m\n\u001b[1;32m   1383\u001b[0m         \u001b[39m# otherwise get stuck in infinite recursion\u001b[39;00m\n\u001b[1;32m   1384\u001b[0m         \u001b[39mif\u001b[39;00m n2 \u001b[39min\u001b[39;00m (S\u001b[39m.\u001b[39mInfinity, S\u001b[39m.\u001b[39mNegativeInfinity):\n",
      "File \u001b[0;32m~/.local/lib/python3.8/site-packages/sympy/sympy/core/relational.py:1214\u001b[0m, in \u001b[0;36m_n2\u001b[0;34m(a, b)\u001b[0m\n\u001b[1;32m   1209\u001b[0m \u001b[39m\"\"\"Return (a - b).evalf(2) if a and b are comparable, else None.\u001b[39;00m\n\u001b[1;32m   1210\u001b[0m \u001b[39mThis should only be used when a and b are already sympified.\u001b[39;00m\n\u001b[1;32m   1211\u001b[0m \u001b[39m\"\"\"\u001b[39;00m\n\u001b[1;32m   1212\u001b[0m \u001b[39m# /!\\ it is very important (see issue 8245) not to\u001b[39;00m\n\u001b[1;32m   1213\u001b[0m \u001b[39m# use a re-evaluated number in the calculation of dif\u001b[39;00m\n\u001b[0;32m-> 1214\u001b[0m \u001b[39mif\u001b[39;00m a\u001b[39m.\u001b[39mis_comparable \u001b[39mand\u001b[39;00m b\u001b[39m.\u001b[39;49mis_comparable:\n\u001b[1;32m   1215\u001b[0m     dif \u001b[39m=\u001b[39m (a \u001b[39m-\u001b[39m b)\u001b[39m.\u001b[39mevalf(\u001b[39m2\u001b[39m)\n\u001b[1;32m   1216\u001b[0m     \u001b[39mif\u001b[39;00m dif\u001b[39m.\u001b[39mis_comparable:\n",
      "File \u001b[0;32m~/.local/lib/python3.8/site-packages/sympy/sympy/core/basic.py:709\u001b[0m, in \u001b[0;36mBasic.is_comparable\u001b[0;34m(self)\u001b[0m\n\u001b[1;32m    706\u001b[0m     \u001b[39mreturn\u001b[39;00m \u001b[39mFalse\u001b[39;00m\n\u001b[1;32m    707\u001b[0m \u001b[39m# don't re-eval numbers that are already evaluated since\u001b[39;00m\n\u001b[1;32m    708\u001b[0m \u001b[39m# this will create spurious precision\u001b[39;00m\n\u001b[0;32m--> 709\u001b[0m n, i \u001b[39m=\u001b[39m [p\u001b[39m.\u001b[39mevalf(\u001b[39m2\u001b[39m) \u001b[39mif\u001b[39;00m \u001b[39mnot\u001b[39;00m p\u001b[39m.\u001b[39mis_Number \u001b[39melse\u001b[39;00m p\n\u001b[1;32m    710\u001b[0m     \u001b[39mfor\u001b[39;00m p \u001b[39min\u001b[39;00m \u001b[39mself\u001b[39m\u001b[39m.\u001b[39mas_real_imag()]\n\u001b[1;32m    711\u001b[0m \u001b[39mif\u001b[39;00m \u001b[39mnot\u001b[39;00m (i\u001b[39m.\u001b[39mis_Number \u001b[39mand\u001b[39;00m n\u001b[39m.\u001b[39mis_Number):\n\u001b[1;32m    712\u001b[0m     \u001b[39mreturn\u001b[39;00m \u001b[39mFalse\u001b[39;00m\n",
      "File \u001b[0;32m~/.local/lib/python3.8/site-packages/sympy/sympy/core/basic.py:709\u001b[0m, in \u001b[0;36m<listcomp>\u001b[0;34m(.0)\u001b[0m\n\u001b[1;32m    706\u001b[0m     \u001b[39mreturn\u001b[39;00m \u001b[39mFalse\u001b[39;00m\n\u001b[1;32m    707\u001b[0m \u001b[39m# don't re-eval numbers that are already evaluated since\u001b[39;00m\n\u001b[1;32m    708\u001b[0m \u001b[39m# this will create spurious precision\u001b[39;00m\n\u001b[0;32m--> 709\u001b[0m n, i \u001b[39m=\u001b[39m [p\u001b[39m.\u001b[39;49mevalf(\u001b[39m2\u001b[39;49m) \u001b[39mif\u001b[39;00m \u001b[39mnot\u001b[39;00m p\u001b[39m.\u001b[39mis_Number \u001b[39melse\u001b[39;00m p\n\u001b[1;32m    710\u001b[0m     \u001b[39mfor\u001b[39;00m p \u001b[39min\u001b[39;00m \u001b[39mself\u001b[39m\u001b[39m.\u001b[39mas_real_imag()]\n\u001b[1;32m    711\u001b[0m \u001b[39mif\u001b[39;00m \u001b[39mnot\u001b[39;00m (i\u001b[39m.\u001b[39mis_Number \u001b[39mand\u001b[39;00m n\u001b[39m.\u001b[39mis_Number):\n\u001b[1;32m    712\u001b[0m     \u001b[39mreturn\u001b[39;00m \u001b[39mFalse\u001b[39;00m\n",
      "File \u001b[0;32m~/.local/lib/python3.8/site-packages/sympy/sympy/core/evalf.py:1659\u001b[0m, in \u001b[0;36mEvalfMixin.evalf\u001b[0;34m(self, n, subs, maxn, chop, strict, quad, verbose)\u001b[0m\n\u001b[1;32m   1657\u001b[0m     options[\u001b[39m'\u001b[39m\u001b[39mquad\u001b[39m\u001b[39m'\u001b[39m] \u001b[39m=\u001b[39m quad\n\u001b[1;32m   1658\u001b[0m \u001b[39mtry\u001b[39;00m:\n\u001b[0;32m-> 1659\u001b[0m     result \u001b[39m=\u001b[39m evalf(\u001b[39mself\u001b[39;49m, prec \u001b[39m+\u001b[39;49m \u001b[39m4\u001b[39;49m, options)\n\u001b[1;32m   1660\u001b[0m \u001b[39mexcept\u001b[39;00m \u001b[39mNotImplementedError\u001b[39;00m:\n\u001b[1;32m   1661\u001b[0m     \u001b[39m# Fall back to the ordinary evalf\u001b[39;00m\n\u001b[1;32m   1662\u001b[0m     \u001b[39mif\u001b[39;00m \u001b[39mhasattr\u001b[39m(\u001b[39mself\u001b[39m, \u001b[39m'\u001b[39m\u001b[39msubs\u001b[39m\u001b[39m'\u001b[39m) \u001b[39mand\u001b[39;00m subs \u001b[39mis\u001b[39;00m \u001b[39mnot\u001b[39;00m \u001b[39mNone\u001b[39;00m:  \u001b[39m# issue 20291\u001b[39;00m\n",
      "File \u001b[0;32m~/.local/lib/python3.8/site-packages/sympy/sympy/core/evalf.py:1496\u001b[0m, in \u001b[0;36mevalf\u001b[0;34m(x, prec, options)\u001b[0m\n\u001b[1;32m   1494\u001b[0m \u001b[39mtry\u001b[39;00m:\n\u001b[1;32m   1495\u001b[0m     rf \u001b[39m=\u001b[39m evalf_table[\u001b[39mtype\u001b[39m(x)]\n\u001b[0;32m-> 1496\u001b[0m     r \u001b[39m=\u001b[39m rf(x, prec, options)\n\u001b[1;32m   1497\u001b[0m \u001b[39mexcept\u001b[39;00m \u001b[39mKeyError\u001b[39;00m:\n\u001b[1;32m   1498\u001b[0m     \u001b[39m# Fall back to ordinary evalf if possible\u001b[39;00m\n\u001b[1;32m   1499\u001b[0m     \u001b[39mif\u001b[39;00m \u001b[39m'\u001b[39m\u001b[39msubs\u001b[39m\u001b[39m'\u001b[39m \u001b[39min\u001b[39;00m options:\n",
      "File \u001b[0;32m~/.local/lib/python3.8/site-packages/sympy/sympy/core/evalf.py:698\u001b[0m, in \u001b[0;36mevalf_mul\u001b[0;34m(v, prec, options)\u001b[0m\n\u001b[1;32m    696\u001b[0m \u001b[39melif\u001b[39;00m i \u001b[39m==\u001b[39m last \u001b[39mand\u001b[39;00m arg \u001b[39mis\u001b[39;00m S\u001b[39m.\u001b[39mOne:\n\u001b[1;32m    697\u001b[0m     \u001b[39mcontinue\u001b[39;00m\n\u001b[0;32m--> 698\u001b[0m re, im, re_acc, im_acc \u001b[39m=\u001b[39m evalf(arg, working_prec, options)\n\u001b[1;32m    699\u001b[0m \u001b[39mif\u001b[39;00m re \u001b[39mand\u001b[39;00m im:\n\u001b[1;32m    700\u001b[0m     complex_factors\u001b[39m.\u001b[39mappend((re, im, re_acc, im_acc))\n",
      "File \u001b[0;32m~/.local/lib/python3.8/site-packages/sympy/sympy/core/evalf.py:1496\u001b[0m, in \u001b[0;36mevalf\u001b[0;34m(x, prec, options)\u001b[0m\n\u001b[1;32m   1494\u001b[0m \u001b[39mtry\u001b[39;00m:\n\u001b[1;32m   1495\u001b[0m     rf \u001b[39m=\u001b[39m evalf_table[\u001b[39mtype\u001b[39m(x)]\n\u001b[0;32m-> 1496\u001b[0m     r \u001b[39m=\u001b[39m rf(x, prec, options)\n\u001b[1;32m   1497\u001b[0m \u001b[39mexcept\u001b[39;00m \u001b[39mKeyError\u001b[39;00m:\n\u001b[1;32m   1498\u001b[0m     \u001b[39m# Fall back to ordinary evalf if possible\u001b[39;00m\n\u001b[1;32m   1499\u001b[0m     \u001b[39mif\u001b[39;00m \u001b[39m'\u001b[39m\u001b[39msubs\u001b[39m\u001b[39m'\u001b[39m \u001b[39min\u001b[39;00m options:\n",
      "File \u001b[0;32m~/.local/lib/python3.8/site-packages/sympy/sympy/core/evalf.py:488\u001b[0m, in \u001b[0;36mevalf_rational\u001b[0;34m(expr, prec, options)\u001b[0m\n\u001b[1;32m    487\u001b[0m \u001b[39mdef\u001b[39;00m \u001b[39mevalf_rational\u001b[39m(expr: \u001b[39m'\u001b[39m\u001b[39mRational\u001b[39m\u001b[39m'\u001b[39m, prec: \u001b[39mint\u001b[39m, options: OPT_DICT) \u001b[39m-\u001b[39m\u001b[39m>\u001b[39m TMP_RES:\n\u001b[0;32m--> 488\u001b[0m     \u001b[39mreturn\u001b[39;00m from_rational(expr\u001b[39m.\u001b[39;49mp, expr\u001b[39m.\u001b[39;49mq, prec), \u001b[39mNone\u001b[39;00m, prec, \u001b[39mNone\u001b[39;00m\n",
      "File \u001b[0;32m~/.pyenv/versions/3.10.2/lib/python3.10/site-packages/mpmath/libmp/libmpf.py:494\u001b[0m, in \u001b[0;36mfrom_rational\u001b[0;34m(p, q, prec, rnd)\u001b[0m\n\u001b[1;32m    491\u001b[0m \u001b[39mdef\u001b[39;00m \u001b[39mfrom_rational\u001b[39m(p, q, prec, rnd\u001b[39m=\u001b[39mround_fast):\n\u001b[1;32m    492\u001b[0m     \u001b[39m\"\"\"Create a raw mpf from a rational number p/q, round if\u001b[39;00m\n\u001b[1;32m    493\u001b[0m \u001b[39m    necessary.\"\"\"\u001b[39;00m\n\u001b[0;32m--> 494\u001b[0m     \u001b[39mreturn\u001b[39;00m mpf_div(from_int(p), from_int(q), prec, rnd)\n",
      "File \u001b[0;32m~/.pyenv/versions/3.10.2/lib/python3.10/site-packages/mpmath/libmp/libmpf.py:984\u001b[0m, in \u001b[0;36mmpf_div\u001b[0;34m(s, t, prec, rnd)\u001b[0m\n\u001b[1;32m    982\u001b[0m     quot \u001b[39m=\u001b[39m (quot\u001b[39m<<\u001b[39m\u001b[39m1\u001b[39m) \u001b[39m+\u001b[39m \u001b[39m1\u001b[39m\n\u001b[1;32m    983\u001b[0m     extra \u001b[39m+\u001b[39m\u001b[39m=\u001b[39m \u001b[39m1\u001b[39m\n\u001b[0;32m--> 984\u001b[0m     \u001b[39mreturn\u001b[39;00m normalize1(sign, quot, sexp\u001b[39m-\u001b[39;49mtexp\u001b[39m-\u001b[39;49mextra, bitcount(quot), prec, rnd)\n\u001b[1;32m    985\u001b[0m \u001b[39mreturn\u001b[39;00m normalize(sign, quot, sexp\u001b[39m-\u001b[39mtexp\u001b[39m-\u001b[39mextra, bitcount(quot), prec, rnd)\n",
      "File \u001b[0;32m~/.pyenv/versions/3.10.2/lib/python3.10/site-packages/mpmath/libmp/libmpf.py:214\u001b[0m, in \u001b[0;36m_normalize1\u001b[0;34m(sign, man, exp, bc, prec, rnd)\u001b[0m\n\u001b[1;32m    212\u001b[0m \u001b[39mif\u001b[39;00m \u001b[39mnot\u001b[39;00m man:\n\u001b[1;32m    213\u001b[0m     \u001b[39mreturn\u001b[39;00m fzero\n\u001b[0;32m--> 214\u001b[0m \u001b[39mif\u001b[39;00m bc \u001b[39m<\u001b[39m\u001b[39m=\u001b[39m prec:\n\u001b[1;32m    215\u001b[0m     \u001b[39mreturn\u001b[39;00m sign, man, exp, bc\n\u001b[1;32m    216\u001b[0m n \u001b[39m=\u001b[39m bc \u001b[39m-\u001b[39m prec\n",
      "\u001b[0;31mKeyboardInterrupt\u001b[0m: "
     ]
    }
   ],
   "source": [
    "connections = []\n",
    "print('initiating graph')\n",
    "for i in range(len(cells_poly)):\n",
    "    #print(f'testing cell {i}:')\n",
    "    for j in range(i, len(cells_poly)):\n",
    "        distance = cells_poly[i].distance(cells_poly[j]).evalf()\n",
    "        if distance < 0.000001:\n",
    "            connections.append((f'{i}', f'{j}'))\n",
    "            #print(f'\\t neighbour to {j}')\n",
    "connections"
   ]
  },
  {
   "cell_type": "code",
   "execution_count": null,
   "metadata": {},
   "outputs": [],
   "source": [
    "errorCode, roboHandl = sim.simxGetObjectHandle(client_id, robot_name, sim.simx_opmode_blocking)\n",
    "error_pos, roboPos = sim.simxGetObjectPosition(client_id, roboHandl, -1, sim.simx_opmode_blocking)\n",
    "errorCode, goalHandl = sim.simxGetObjectHandle(client_id, './Goal', sim.simx_opmode_blocking)\n",
    "error_pos, goalPos = sim.simxGetObjectPosition(client_id, goalHandl, -1, sim.simx_opmode_blocking)"
   ]
  },
  {
   "cell_type": "code",
   "execution_count": null,
   "metadata": {},
   "outputs": [
    {
     "data": {
      "image/png": "[encoded data removed]",
      "text/plain": [
       "<Figure size 432x432 with 1 Axes>"
      ]
     },
     "metadata": {
      "needs_background": "light"
     },
     "output_type": "display_data"
    }
   ],
   "source": [
    "fig, ax = plt.subplots(figsize=(6,6))\n",
    "\n",
    "p = PatchCollection(cells_plottable, alpha=0.4, color='b')\n",
    "ax.add_collection(p)\n",
    "\n",
    "plt.scatter(roboPos[0], roboPos[1], color='k')\n",
    "plt.scatter(goalPos[0], goalPos[1], color='r')\n",
    "\n",
    "i=0\n",
    "for cell in cells_poly:\n",
    "    centr = cell.centroid.evalf()\n",
    "    plt.text(centr[0] - 0.05, centr[1], f'{i}')\n",
    "    i += 1\n",
    "\n",
    "ax.set_xlim([-2.5,2.5])\n",
    "ax.set_ylim([-2.5,2.5])\n",
    "plt.show()\n",
    "plt.close(fig)"
   ]
  },
  {
   "cell_type": "markdown",
   "metadata": {},
   "source": [
    "# A* Algorithm\n",
    "\n",
    "Ok, so far we have the connectivity graph implemented as a list of tuples (variable `connections`). From this point on the A* algorithm will be implemented"
   ]
  },
  {
   "cell_type": "markdown",
   "metadata": {},
   "source": [
    "## Graph and its Weights\n",
    "\n",
    "Here we will compute the graph as a dict of lists. It will capture the connectivity of it.\n",
    "\n",
    "We will also compute `g(N)` or the weights associated with the arcs. This is calculated as the Euclidian distance between two cells' centroids.\n",
    "\n",
    "The heuristic function `h(N)`is estimated as the Euclidian distance between the cell's centroids and the target point.\n",
    "\n",
    "This approach has two effects:\n",
    "- `g(N)` and its local effect: it will make a path out of nearby cells. That is, the A* will tend to move between closer cells \n",
    "- `h(N)` and its global effect: it will make a path out of cells closer and closer to the target. That is, the A* will pull the path closer and closer to the target."
   ]
  },
  {
   "cell_type": "code",
   "execution_count": null,
   "metadata": {},
   "outputs": [
    {
     "name": "stdout",
     "output_type": "stream",
     "text": [
      "initializing graph as dict\n"
     ]
    },
    {
     "name": "stderr",
     "output_type": "stream",
     "text": [
      "/tmp/ipykernel_10462/2394723192.py:18: UserWarning: Polygons may intersect producing erroneous output\n",
      "  distance = cells_poly[i].distance(cells_poly[j]).evalf()\n"
     ]
    },
    {
     "data": {
      "text/plain": [
       "{0: [1, 2],\n",
       " 1: [0, 3],\n",
       " 2: [0, 4, 5],\n",
       " 3: [1, 6],\n",
       " 4: [2, 7],\n",
       " 5: [2, 7],\n",
       " 6: [3, 8],\n",
       " 7: [4, 5, 8],\n",
       " 8: [6, 7, 9, 10],\n",
       " 9: [8, 11, 12],\n",
       " 10: [8, 13],\n",
       " 11: [9, 14],\n",
       " 12: [9, 14],\n",
       " 13: [10, 15],\n",
       " 14: [11, 12, 16],\n",
       " 15: [13, 16],\n",
       " 16: [14, 15, 17, 18],\n",
       " 17: [16, 19],\n",
       " 18: [16, 19],\n",
       " 19: [17, 18]}"
      ]
     },
     "execution_count": 16,
     "metadata": {},
     "output_type": "execute_result"
    }
   ],
   "source": [
    "graph_connections = {}\n",
    "g_N = {}\n",
    "h_N = {}\n",
    "print('initializing graph as dict')\n",
    "for i in range(len(cells_poly)):\n",
    "    if i not in graph_connections.keys():\n",
    "        graph_connections[i] = []\n",
    "    if i not in g_N.keys():\n",
    "        g_N[i] = []\n",
    "    if i not in h_N.keys():\n",
    "        h_N[i] = cells_poly[i].centroid.distance(goal_point).evalf()\n",
    "    for j in range(i, len(cells_poly)):\n",
    "        if j not in graph_connections.keys():\n",
    "            #print(f'creating key {j}')\n",
    "            graph_connections[j] = []\n",
    "        if j not in g_N.keys():\n",
    "            g_N[j] = []\n",
    "        distance = cells_poly[i].distance(cells_poly[j]).evalf()\n",
    "        cost = cells_poly[i].centroid.distance(cells_poly[j].centroid).evalf()\n",
    "        if distance < 0.000001:\n",
    "            graph_connections[i].append(j)\n",
    "            graph_connections[j].append(i)\n",
    "            g_N[i].append(cost)\n",
    "            g_N[j].append(cost)\n",
    "            #print(f'\\t neighbour to {j}')\n",
    "\n",
    "graph_connections"
   ]
  },
  {
   "cell_type": "code",
   "execution_count": null,
   "metadata": {},
   "outputs": [
    {
     "data": {
      "text/plain": [
       "{0: [2.12874648238209, 0.925506867921434],\n",
       " 1: [2.12874648238209, 0.274999855609875],\n",
       " 2: [0.925506867921434, 1.27989236323822, 0.671402350994975],\n",
       " 3: [0.274999855609875, 0.475000144390125],\n",
       " 4: [1.27989236323822, 1.33720778821798],\n",
       " 5: [0.671402350994975, 0.775100856669511],\n",
       " 6: [0.475000144390125, 2.13548857267543],\n",
       " 7: [1.33720778821798, 0.775100856669511, 0.940910621837826],\n",
       " 8: [2.13548857267543, 0.940910621837826, 0.812500280502290, 2.27159742913515],\n",
       " 9: [0.812500280502290, 0.825378475456692, 1.40756910383814],\n",
       " 10: [2.27159742913515, 0.475000307147805],\n",
       " 11: [0.825378475456692, 0.728868412815973],\n",
       " 12: [1.40756910383814, 1.35323698178317],\n",
       " 13: [0.475000307147805, 0.274999692852195],\n",
       " 14: [0.728868412815973, 1.35323698178317, 0.850000147456694],\n",
       " 15: [0.274999692852195, 2.28527862807037],\n",
       " 16: [0.850000147456694, 2.28527862807037, 1.80173524256376, 1.67219922660301],\n",
       " 17: [1.80173524256376, 1.76652903398971],\n",
       " 18: [1.67219922660301, 1.63420475984010],\n",
       " 19: [1.76652903398971, 1.63420475984010]}"
      ]
     },
     "execution_count": 17,
     "metadata": {},
     "output_type": "execute_result"
    }
   ],
   "source": [
    "g_N"
   ]
  },
  {
   "cell_type": "code",
   "execution_count": null,
   "metadata": {},
   "outputs": [
    {
     "data": {
      "text/plain": [
       "{0: 3.96990595544044,\n",
       " 1: 3.35048927450348,\n",
       " 2: 4.21316728963726,\n",
       " 3: 3.07776777808019,\n",
       " 4: 3.33037612301059,\n",
       " 5: 4.42068979267718,\n",
       " 6: 2.60783032847146,\n",
       " 7: 3.65044918221667,\n",
       " 8: 2.83000077920951,\n",
       " 9: 2.16910074378636,\n",
       " 10: 4.40511010833129,\n",
       " 11: 1.50041604848963,\n",
       " 12: 2.71131829738443,\n",
       " 13: 4.21641072349717,\n",
       " 14: 1.53052227186592,\n",
       " 15: 4.12825573790036,\n",
       " 16: 1.87882925034165,\n",
       " 17: 0.145773709396658,\n",
       " 18: 3.12589974232980,\n",
       " 19: 1.91196873742705}"
      ]
     },
     "execution_count": 18,
     "metadata": {},
     "output_type": "execute_result"
    }
   ],
   "source": [
    "h_N"
   ]
  },
  {
   "cell_type": "markdown",
   "metadata": {},
   "source": [
    "## A* Algorithm"
   ]
  },
  {
   "cell_type": "code",
   "execution_count": null,
   "metadata": {},
   "outputs": [
    {
     "data": {
      "text/plain": [
       "(0, 17)"
      ]
     },
     "execution_count": 19,
     "metadata": {},
     "output_type": "execute_result"
    }
   ],
   "source": [
    "robo_cell, goal_cell"
   ]
  },
  {
   "cell_type": "code",
   "execution_count": null,
   "metadata": {},
   "outputs": [
    {
     "data": {
      "text/plain": [
       "[1, 2]"
      ]
     },
     "execution_count": 20,
     "metadata": {},
     "output_type": "execute_result"
    }
   ],
   "source": [
    "graph_connections[robo_cell]"
   ]
  },
  {
   "cell_type": "code",
   "execution_count": null,
   "metadata": {},
   "outputs": [
    {
     "data": {
      "text/latex": [
       "$\\displaystyle 3.96990595544044$"
      ],
      "text/plain": [
       "3.96990595544044"
      ]
     },
     "execution_count": 21,
     "metadata": {},
     "output_type": "execute_result"
    }
   ],
   "source": [
    "h_N[robo_cell]"
   ]
  },
  {
   "cell_type": "code",
   "execution_count": null,
   "metadata": {},
   "outputs": [
    {
     "data": {
      "text/plain": [
       "[2.12874648238209, 0.925506867921434]"
      ]
     },
     "execution_count": 22,
     "metadata": {},
     "output_type": "execute_result"
    }
   ],
   "source": [
    "g_N[robo_cell]"
   ]
  },
  {
   "cell_type": "code",
   "execution_count": null,
   "metadata": {},
   "outputs": [
    {
     "data": {
      "text/plain": [
       "sympy.geometry.polygon.Polygon"
      ]
     },
     "execution_count": 23,
     "metadata": {},
     "output_type": "execute_result"
    }
   ],
   "source": [
    "type(cells_poly[0])"
   ]
  },
  {
   "cell_type": "code",
   "execution_count": null,
   "metadata": {},
   "outputs": [
    {
     "name": "stdout",
     "output_type": "stream",
     "text": [
      "path found\n"
     ]
    },
    {
     "data": {
      "text/plain": [
       "[0, 2, 4, 7, 8, 9, 11, 14, 16, 17]"
      ]
     },
     "execution_count": 24,
     "metadata": {},
     "output_type": "execute_result"
    }
   ],
   "source": [
    "path = a_star(robo_cell, goal_cell, graph_connections, g_N, h_N,cells_poly)\n",
    "path"
   ]
  },
  {
   "cell_type": "markdown",
   "metadata": {},
   "source": [
    "# Trying to find an way of making the robot move"
   ]
  },
  {
   "cell_type": "code",
   "execution_count": null,
   "metadata": {},
   "outputs": [
    {
     "name": "stdout",
     "output_type": "stream",
     "text": [
      "Point2D(0.100000497866153, 2.24999969287313)\n"
     ]
    }
   ],
   "source": [
    "segmento_encontrado = find_shared_segment(cells_poly[13], cells_poly[15])\n",
    "if segmento_encontrado != -1:\n",
    "    print(segmento_encontrado.midpoint.evalf())\n",
    "else:\n",
    "    print('no segment found')"
   ]
  },
  {
   "cell_type": "code",
   "execution_count": null,
   "metadata": {},
   "outputs": [
    {
     "ename": "NameError",
     "evalue": "name 'path' is not defined",
     "output_type": "error",
     "traceback": [
      "\u001b[0;31m---------------------------------------------------------------------------\u001b[0m",
      "\u001b[0;31mNameError\u001b[0m                                 Traceback (most recent call last)",
      "\u001b[1;32m/home/mateus/Área de Trabalho/mobile_robotics/tests/simulation_tests/graph_path_planning.ipynb Cell 30'\u001b[0m in \u001b[0;36m<cell line: 1>\u001b[0;34m()\u001b[0m\n\u001b[0;32m----> <a href='vscode-notebook-cell:/home/mateus/%C3%81rea%20de%20Trabalho/mobile_robotics/tests/simulation_tests/graph_path_planning.ipynb#ch0000030?line=0'>1</a>\u001b[0m path\n",
      "\u001b[0;31mNameError\u001b[0m: name 'path' is not defined"
     ]
    }
   ],
   "source": [
    "path"
   ]
  }
 ],
 "metadata": {
  "kernelspec": {
   "display_name": "Python 3.10.2 64-bit ('3.10.2')",
   "language": "python",
   "name": "python3"
  },
  "language_info": {
   "codemirror_mode": {
    "name": "ipython",
    "version": 3
   },
   "file_extension": ".py",
   "mimetype": "text/x-python",
   "name": "python",
   "nbconvert_exporter": "python",
   "pygments_lexer": "ipython3",
   "version": "3.10.2"
  },
  "vscode": {
   "interpreter": {
    "hash": "06cb3b751f7e15a6f30ad54cb36c69467f5ed7dd559b12f0f90598c0f8af61e8"
   }
  }
 },
 "nbformat": 4,
 "nbformat_minor": 4
}
