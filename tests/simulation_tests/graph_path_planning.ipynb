{
 "cells": [
  {
   "cell_type": "code",
   "execution_count": 48,
   "metadata": {},
   "outputs": [],
   "source": [
    "file_name = \"graph_path_planning.ipynb\"\n",
    "import sys\n",
    "import os\n",
    "sys.path.insert(0, os.path.abspath(\n",
    "    os.path.join(os.path.dirname(file_name), '../../src/') ))\n",
    "\n",
    "from configuration_space_mapping import *\n",
    "from utils import *\n",
    "from graph import *\n",
    "\n",
    "import matplotlib.pyplot as plt\n",
    "from matplotlib.collections import PatchCollection\n",
    "from matplotlib.patches import Polygon as PlottablePoly\n",
    "from sympy import Polygon, Line, Point\n",
    "import numpy as np"
   ]
  },
  {
   "cell_type": "code",
   "execution_count": 56,
   "metadata": {},
   "outputs": [
    {
     "name": "stdout",
     "output_type": "stream",
     "text": [
      "Connected to remote API server\n",
      "Number of objects in the scene:  43\n"
     ]
    }
   ],
   "source": [
    "client_id = connect_2_sim()\n",
    "test_connection(client_id)"
   ]
  },
  {
   "cell_type": "code",
   "execution_count": 57,
   "metadata": {},
   "outputs": [],
   "source": [
    "scene_objects = ['Cuboid_0','Cuboid_1','Cuboid_2',\n",
    "                 'Cuboid_3','Cuboid_4']\n",
    "robot_name = './dr20'\n"
   ]
  },
  {
   "cell_type": "code",
   "execution_count": 17,
   "metadata": {},
   "outputs": [
    {
     "data": {
      "image/png": "[encoded data removed]",
      "text/plain": [
       "<Figure size 432x432 with 1 Axes>"
      ]
     },
     "metadata": {
      "needs_background": "light"
     },
     "output_type": "display_data"
    }
   ],
   "source": [
    "fig, ax = plt.subplots(figsize=(6,6))\n",
    "\n",
    "obj_points_list = []\n",
    "obj_plot_polys = []\n",
    "for obj in scene_objects:\n",
    "    \n",
    "    errorCode, objHandl = sim.simxGetObjectHandle(client_id, obj, sim.simx_opmode_blocking)\n",
    "    error_pos, objPos = sim.simxGetObjectPosition(client_id, objHandl, -1, sim.simx_opmode_streaming)\n",
    "    error_ang, objAng = sim.simxGetObjectOrientation(client_id, objHandl, -1, sim.simx_opmode_streaming)\n",
    "    \n",
    "    objAng = list(reversed(objAng))\n",
    "    \n",
    "    points_local = get_bounding_box_corners_local_coordinates(client_id, objHandl)\n",
    "     \n",
    "    points_global = map_local_coordinates_to_global_coordinates(points_local, objAng, objPos)\n",
    "    \n",
    "    points_poly = [p[:2] for p in points_global]\n",
    "\n",
    "    poly = np.array(points_poly)\n",
    "    p = PlottablePoly(poly, facecolor = 'k')\n",
    "    obj_plot_polys.append(p)\n",
    "    obj_points_list.append(points_poly)\n",
    "\n",
    "obj_points_list = np.array(obj_points_list)\n",
    "\n",
    "p = PatchCollection(obj_plot_polys, color='k')\n",
    "\n",
    "ax.add_collection(p)\n",
    "\n",
    "ax.set_xlim([-2.5,2.5])\n",
    "ax.set_ylim([-2.5,2.5])\n",
    "plt.show()\n",
    "plt.close(fig)"
   ]
  },
  {
   "cell_type": "code",
   "execution_count": 18,
   "metadata": {},
   "outputs": [
    {
     "data": {
      "text/plain": [
       "array([-2.0249995 , -1.9749998 , -1.4749998 , -1.0249995 , -0.85000013,\n",
       "       -0.3999995 ,  0.1000005 ,  0.14999987,  0.89999998,  1.89999998])"
      ]
     },
     "execution_count": 18,
     "metadata": {},
     "output_type": "execute_result"
    }
   ],
   "source": [
    "line_x_coords = np.sort(obj_points_list[:,:,0].flatten())\n",
    "line_x_coords = np.array([line_x_coords[i] for i in range(0,len(line_x_coords), 2)])\n",
    "line_x_coords"
   ]
  },
  {
   "cell_type": "code",
   "execution_count": 19,
   "metadata": {
    "scrolled": true,
    "tags": []
   },
   "outputs": [
    {
     "name": "stdout",
     "output_type": "stream",
     "text": [
      "testing line 1\n",
      "\ttesting poly 0\n",
      "\t []\n",
      "\ttesting poly 1\n",
      "\t []\n",
      "\ttesting poly 2\n",
      "\t [Point2D(-2.02499950380445, -1.72499954011317)]\n",
      "\ttesting poly 3\n",
      "\t []\n",
      "\ttesting poly 4\n",
      "\t []\n",
      "testing line 2\n",
      "\ttesting poly 0\n",
      "\t [Point2D(-1.97499979586041, 0.500000353009273)]\n",
      "\ttesting poly 1\n",
      "\t []\n",
      "\ttesting poly 2\n",
      "\t [Point2D(-1.97499979586041, -1.72499954050974), Point2D(-1.97499979586041, -0.724999540509735)]\n",
      "\ttesting poly 3\n",
      "\t []\n",
      "\ttesting poly 4\n",
      "\t []\n",
      "testing line 3\n",
      "\ttesting poly 0\n",
      "\t [Point2D(-1.47499979586041, 3.71057391854955e-7), Point2D(-1.47499979586041, 0.500000371057392)]\n",
      "\ttesting poly 1\n",
      "\t []\n",
      "\ttesting poly 2\n",
      "\t [Point2D(-1.47499979586041, -1.72499954447546), Point2D(-1.47499979586041, -0.724999544475455)]\n",
      "\ttesting poly 3\n",
      "\t []\n",
      "\ttesting poly 4\n",
      "\t []\n",
      "testing line 4\n",
      "\ttesting poly 0\n",
      "\t []\n",
      "\ttesting poly 1\n",
      "\t []\n",
      "\ttesting poly 2\n",
      "\t [Point2D(-1.02499950380445, -1.72499954804461), Point2D(-1.02499950380445, -0.724999548044606)]\n",
      "\ttesting poly 3\n",
      "\t []\n",
      "\ttesting poly 4\n",
      "\t []\n",
      "testing line 5\n",
      "\ttesting poly 0\n",
      "\t []\n",
      "\ttesting poly 1\n",
      "\t [Point2D(-0.850000128853590, 0.999999401998293)]\n",
      "\ttesting poly 2\n",
      "\t []\n",
      "\ttesting poly 3\n",
      "\t []\n",
      "\ttesting poly 4\n",
      "\t []\n",
      "testing line 6\n",
      "\ttesting poly 0\n",
      "\t []\n",
      "\ttesting poly 1\n",
      "\t [Point2D(-0.399999501166121, 0.999999395277564), Point2D(-0.399999501166121, 1.99999939527756)]\n",
      "\ttesting poly 2\n",
      "\t []\n",
      "\ttesting poly 3\n",
      "\t [Point2D(-0.399999501166121, 0.150000339695795)]\n",
      "\ttesting poly 4\n",
      "\t []\n",
      "testing line 7\n",
      "\ttesting poly 0\n",
      "\t []\n",
      "\ttesting poly 1\n",
      "\t [Point2D(0.100000498833879, 0.999999387810098), Point2D(0.100000498833879, 1.99999938781010)]\n",
      "\ttesting poly 2\n",
      "\t []\n",
      "\ttesting poly 3\n",
      "\t [Point2D(0.100000498833879, -0.349999650495671), Point2D(0.100000498833879, 0.150000349504329)]\n",
      "\ttesting poly 4\n",
      "\t []\n",
      "testing line 8\n",
      "\ttesting poly 0\n",
      "\t []\n",
      "\ttesting poly 1\n",
      "\t [Point2D(0.149999871146409, 0.999999387063361), Point2D(0.149999871146409, 1.99999938706336)]\n",
      "\ttesting poly 2\n",
      "\t []\n",
      "\ttesting poly 3\n",
      "\t []\n",
      "\ttesting poly 4\n",
      "\t []\n",
      "testing line 9\n",
      "\ttesting poly 0\n",
      "\t []\n",
      "\ttesting poly 1\n",
      "\t []\n",
      "\ttesting poly 2\n",
      "\t []\n",
      "\ttesting poly 3\n",
      "\t []\n",
      "\ttesting poly 4\n",
      "\t [Point2D(0.899999975837990, 0.350000172999990)]\n",
      "testing line 10\n",
      "\ttesting poly 0\n",
      "\t []\n",
      "\ttesting poly 1\n",
      "\t []\n",
      "\ttesting poly 2\n",
      "\t []\n",
      "\ttesting poly 3\n",
      "\t []\n",
      "\ttesting poly 4\n",
      "\t [Point2D(1.89999997583799, -0.649999819229839), Point2D(1.89999997583799, 0.350000180770160)]\n"
     ]
    }
   ],
   "source": [
    "obj_poly_list = []\n",
    "for obj_ps in obj_points_list:\n",
    "    p1, p2, p3, p4 = map(Point, obj_ps)\n",
    "    poly = Polygon(p1, p2, p3, p4)\n",
    "    obj_poly_list.append(poly)\n",
    "\n",
    "lines_list = []\n",
    "for x_coord in line_x_coords:   \n",
    "    p1, p2 = map(Point, [(x_coord,2.5), (x_coord,-2.5)])\n",
    "    line = Line(p1,p2)\n",
    "    lines_list.append(line)\n",
    "\n",
    "i = 1\n",
    "lines_intersects = []\n",
    "for line in lines_list:\n",
    "    print(f'testing line {i}')\n",
    "    j = 0\n",
    "    y_intersects = []\n",
    "    for poly in obj_poly_list:\n",
    "        print(f'\\ttesting poly {j}')\n",
    "        intersects = poly.intersection(line)\n",
    "        try:\n",
    "            points = [p.evalf() for p in intersects]\n",
    "        except:\n",
    "            points = [s.points[0].evalf() for s in intersects]\n",
    "        print('\\t', points)\n",
    "        if len(points) == 1:\n",
    "            pass\n",
    "            #poly_ys = [p.evalf()[1] for p in poly.vertices] #to float\n",
    "            #max_y = max(poly_ys)\n",
    "            #min_y = min(poly_ys)\n",
    "            #y_intersects.append(max_y)\n",
    "            #y_intersects.append(min_y)\n",
    "        else:\n",
    "            for p in points:\n",
    "                y_intersects.append(p[1])\n",
    "        j += 1\n",
    "    lines_intersects.append(y_intersects)\n",
    "    i += 1"
   ]
  },
  {
   "cell_type": "code",
   "execution_count": 20,
   "metadata": {
    "tags": []
   },
   "outputs": [
    {
     "data": {
      "image/png": "[encoded data removed]",
      "text/plain": [
       "<Figure size 432x432 with 1 Axes>"
      ]
     },
     "metadata": {
      "needs_background": "light"
     },
     "output_type": "display_data"
    }
   ],
   "source": [
    "lines_intersects = [sorted(i) for i in lines_intersects]\n",
    "\n",
    "fig, ax = plt.subplots(figsize=(6,6))\n",
    "\n",
    "p = PatchCollection(obj_plot_polys, color='k')\n",
    "\n",
    "ax.add_collection(p)\n",
    "\n",
    "ax.set_xlim([-2.5,2.5])\n",
    "ax.set_ylim([-2.5,2.5])\n",
    "\n",
    "for x, ys in zip(line_x_coords, lines_intersects):\n",
    "    y_min = -2.5\n",
    "    for i in range(0, len(ys)-1, 2):\n",
    "        plt.vlines(x, y_min, float(ys[i]))\n",
    "        y_min = float(ys[i+1])\n",
    "    plt.vlines(x, y_min, 2.5)\n",
    "\n",
    "plt.show()"
   ]
  },
  {
   "cell_type": "code",
   "execution_count": 21,
   "metadata": {},
   "outputs": [
    {
     "data": {
      "text/plain": [
       "[[],\n",
       " [-1.72499954050974, -0.724999540509735],\n",
       " [-1.72499954447546,\n",
       "  -0.724999544475455,\n",
       "  3.71057391854955e-7,\n",
       "  0.500000371057392],\n",
       " [-1.72499954804461, -0.724999548044606],\n",
       " [],\n",
       " [0.999999395277564, 1.99999939527756],\n",
       " [-0.349999650495671, 0.150000349504329, 0.999999387810098, 1.99999938781010],\n",
       " [0.999999387063361, 1.99999938706336],\n",
       " [],\n",
       " [-0.649999819229839, 0.350000180770160]]"
      ]
     },
     "execution_count": 21,
     "metadata": {},
     "output_type": "execute_result"
    }
   ],
   "source": [
    "lines_intersects"
   ]
  },
  {
   "cell_type": "code",
   "execution_count": 22,
   "metadata": {},
   "outputs": [
    {
     "data": {
      "image/png": "[encoded data removed]",
      "text/plain": [
       "<Figure size 432x432 with 1 Axes>"
      ]
     },
     "metadata": {
      "needs_background": "light"
     },
     "output_type": "display_data"
    }
   ],
   "source": [
    "cells_points = []\n",
    "prev_x = -2.5\n",
    "for x, ys in zip(line_x_coords, lines_intersects):\n",
    "    x_min, x_max = prev_x, x\n",
    "    y_min, y_max = -2.5, 2.5\n",
    "    \n",
    "    if len(ys) > 0:\n",
    "        for i in range(0, len(ys)-1, 2):\n",
    "            y_max = ys[i]\n",
    "            cell = [[x_max, y_max], [x_min, y_max], [x_min, y_min], [x_max, y_min]]\n",
    "            cells_points.append(np.array(cell))\n",
    "            y_min = ys[i+1]\n",
    "            y_max = 2.5\n",
    "        cell = [[x_max, y_max], [x_min, y_max], [x_min, y_min], [x_max, y_min]]\n",
    "        cells_points.append(np.array(cell))\n",
    "    else:\n",
    "        cell = [[x_max, y_max], [x_min, y_max], [x_min, y_min], [x_max, y_min]]\n",
    "        cells_points.append(np.array(cell))\n",
    "    prev_x = x\n",
    "\n",
    "x_min, x_max = x, 2.5\n",
    "y_min, y_max = -2.5, 2.5\n",
    "cell = [[x_max, y_max], [x_min, y_max], [x_min, y_min], [x_max, y_min]]\n",
    "cells_points.append(np.array(cell))\n",
    "\n",
    "\n",
    "cells_plottable = []\n",
    "for cell in cells_points:\n",
    "    p = PlottablePoly(cell, facecolor = 'k')\n",
    "    cells_plottable.append(p)\n",
    "\n",
    "import matplotlib.colors\n",
    "colors = values = np.array([i%5 for i in range(len(cells_plottable))])\n",
    "cmap = matplotlib.colors.ListedColormap(['r', 'g', 'b', 'y', 'k'])\n",
    "p = PatchCollection(cells_plottable, cmap=cmap, alpha=0.9)\n",
    "p.set_array(colors)\n",
    "\n",
    "fig, ax = plt.subplots(figsize=(6,6))\n",
    "ax.add_collection(p)\n",
    "\n",
    "ax.set_xlim([-2.5,2.5])\n",
    "ax.set_ylim([-2.5,2.5])\n",
    "plt.show()\n",
    "plt.close(fig)"
   ]
  },
  {
   "cell_type": "code",
   "execution_count": 23,
   "metadata": {},
   "outputs": [
    {
     "data": {
      "image/png": "[encoded data removed]",
      "text/plain": [
       "<Figure size 432x432 with 1 Axes>"
      ]
     },
     "metadata": {
      "needs_background": "light"
     },
     "output_type": "display_data"
    }
   ],
   "source": [
    "fig, ax = plt.subplots(figsize=(6,6))\n",
    "p = PatchCollection(cells_plottable, alpha=0.4, color='b')\n",
    "\n",
    "errorCode, roboHandl = sim.simxGetObjectHandle(client_id, robot_name, sim.simx_opmode_blocking)\n",
    "error_pos, roboPos = sim.simxGetObjectPosition(client_id, roboHandl, -1, sim.simx_opmode_streaming)\n",
    "errorCode, goalHandl = sim.simxGetObjectHandle(client_id, './Goal', sim.simx_opmode_blocking)\n",
    "error_pos, goalPos = sim.simxGetObjectPosition(client_id, goalHandl, -1, sim.simx_opmode_streaming)\n",
    "\n",
    "ax.add_collection(p)\n",
    "plt.scatter(roboPos[0], roboPos[1], color='k')\n",
    "plt.scatter(goalPos[0], goalPos[1], color='r')\n",
    "\n",
    "ax.set_xlim([-2.5,2.5])\n",
    "ax.set_ylim([-2.5,2.5])\n",
    "plt.show()\n",
    "plt.close(fig)"
   ]
  },
  {
   "cell_type": "code",
   "execution_count": 25,
   "metadata": {},
   "outputs": [],
   "source": [
    "def square_from_array(obj_points):\n",
    "    p1, p2, p3, p4 = map(Point, obj_points)\n",
    "    poly = Polygon(p1, p2, p3, p4)\n",
    "    return poly\n",
    "\n",
    "cells_poly = []\n",
    "for cell in cells_points:\n",
    "    p = square_from_array(cell)\n",
    "    cells_poly.append(p)"
   ]
  },
  {
   "cell_type": "code",
   "execution_count": 31,
   "metadata": {},
   "outputs": [
    {
     "data": {
      "text/plain": [
       "(0, 17)"
      ]
     },
     "execution_count": 31,
     "metadata": {},
     "output_type": "execute_result"
    }
   ],
   "source": [
    "#get robot and goal cell\n",
    "robo_point = Point(roboPos[:2])\n",
    "goal_point = Point(goalPos[:2])\n",
    "\n",
    "robo_cell = -1\n",
    "goal_cell = -1\n",
    "for i, cell in zip(range(len(cells_poly)), cells_poly):\n",
    "    if cell.encloses_point(goal_point):\n",
    "        goal_cell = i\n",
    "    elif cell.encloses_point(robo_point):\n",
    "        robo_cell = i\n",
    "                   \n",
    "robo_cell, goal_cell"
   ]
  },
  {
   "cell_type": "code",
   "execution_count": 50,
   "metadata": {},
   "outputs": [
    {
     "name": "stdout",
     "output_type": "stream",
     "text": [
      "initiating graph\n"
     ]
    },
    {
     "data": {
      "text/plain": [
       "[('0', '1'),\n",
       " ('0', '2'),\n",
       " ('1', '3'),\n",
       " ('2', '4'),\n",
       " ('2', '5'),\n",
       " ('3', '6'),\n",
       " ('4', '7'),\n",
       " ('5', '7'),\n",
       " ('6', '8'),\n",
       " ('7', '8'),\n",
       " ('8', '9'),\n",
       " ('8', '10'),\n",
       " ('9', '11'),\n",
       " ('9', '12'),\n",
       " ('10', '13'),\n",
       " ('11', '14'),\n",
       " ('12', '14'),\n",
       " ('13', '15'),\n",
       " ('14', '16'),\n",
       " ('15', '16'),\n",
       " ('16', '17'),\n",
       " ('16', '18'),\n",
       " ('17', '19'),\n",
       " ('18', '19')]"
      ]
     },
     "execution_count": 50,
     "metadata": {},
     "output_type": "execute_result"
    }
   ],
   "source": [
    "connections = []\n",
    "print('initiating graph')\n",
    "for i in range(len(cells_poly)):\n",
    "    #print(f'testing cell {i}:')\n",
    "    for j in range(i, len(cells_poly)):\n",
    "        distance = cells_poly[i].distance(cells_poly[j]).evalf()\n",
    "        if distance < 0.000001:\n",
    "            connections.append((f'{i}', f'{j}'))\n",
    "            #print(f'\\t neighbour to {j}')\n",
    "connections"
   ]
  },
  {
   "cell_type": "code",
   "execution_count": 81,
   "metadata": {
    "tags": []
   },
   "outputs": [],
   "source": []
  },
  {
   "cell_type": "code",
   "execution_count": 60,
   "metadata": {},
   "outputs": [],
   "source": [
    "errorCode, roboHandl = sim.simxGetObjectHandle(client_id, robot_name, sim.simx_opmode_blocking)\n",
    "error_pos, roboPos = sim.simxGetObjectPosition(client_id, roboHandl, -1, sim.simx_opmode_streaming)\n",
    "errorCode, goalHandl = sim.simxGetObjectHandle(client_id, './Goal', sim.simx_opmode_blocking)\n",
    "error_pos, goalPos = sim.simxGetObjectPosition(client_id, goalHandl, -1, sim.simx_opmode_streaming)"
   ]
  },
  {
   "cell_type": "code",
   "execution_count": 70,
   "metadata": {},
   "outputs": [
    {
     "data": {
      "image/png": "[encoded data removed]",
      "text/plain": [
       "<Figure size 432x432 with 1 Axes>"
      ]
     },
     "metadata": {
      "needs_background": "light"
     },
     "output_type": "display_data"
    }
   ],
   "source": [
    "fig, ax = plt.subplots(figsize=(6,6))\n",
    "\n",
    "p = PatchCollection(cells_plottable, alpha=0.4, color='b')\n",
    "ax.add_collection(p)\n",
    "\n",
    "plt.scatter(roboPos[0], roboPos[1], color='k')\n",
    "plt.scatter(goalPos[0], goalPos[1], color='r')\n",
    "\n",
    "i=0\n",
    "for cell in cells_poly:\n",
    "    centr = cell.centroid.evalf()\n",
    "    plt.text(centr[0] - 0.05, centr[1], f'{i}')\n",
    "    i += 1\n",
    "\n",
    "ax.set_xlim([-2.5,2.5])\n",
    "ax.set_ylim([-2.5,2.5])\n",
    "plt.show()\n",
    "plt.close(fig)"
   ]
  },
  {
   "cell_type": "code",
   "execution_count": 67,
   "metadata": {},
   "outputs": [
    {
     "ename": "AttributeError",
     "evalue": "'Point2D' object has no attribute 'to_list'",
     "output_type": "error",
     "traceback": [
      "\u001b[0;31m---------------------------------------------------------------------------\u001b[0m",
      "\u001b[0;31mAttributeError\u001b[0m                            Traceback (most recent call last)",
      "\u001b[0;32m<ipython-input-67-4cf91d053a18>\u001b[0m in \u001b[0;36m<module>\u001b[0;34m\u001b[0m\n\u001b[1;32m      1\u001b[0m \u001b[0;32mfor\u001b[0m \u001b[0mcell\u001b[0m \u001b[0;32min\u001b[0m \u001b[0mcells_poly\u001b[0m\u001b[0;34m:\u001b[0m\u001b[0;34m\u001b[0m\u001b[0;34m\u001b[0m\u001b[0m\n\u001b[0;32m----> 2\u001b[0;31m     \u001b[0mprint\u001b[0m\u001b[0;34m(\u001b[0m\u001b[0mcell\u001b[0m\u001b[0;34m.\u001b[0m\u001b[0mcentroid\u001b[0m\u001b[0;34m.\u001b[0m\u001b[0mevalf\u001b[0m\u001b[0;34m(\u001b[0m\u001b[0;34m)\u001b[0m\u001b[0;34m.\u001b[0m\u001b[0mto_list\u001b[0m\u001b[0;34m(\u001b[0m\u001b[0;34m)\u001b[0m\u001b[0;34m)\u001b[0m\u001b[0;34m\u001b[0m\u001b[0;34m\u001b[0m\u001b[0m\n\u001b[0m",
      "\u001b[0;31mAttributeError\u001b[0m: 'Point2D' object has no attribute 'to_list'"
     ]
    }
   ],
   "source": [
    "\n",
    "    "
   ]
  },
  {
   "cell_type": "code",
   "execution_count": null,
   "metadata": {},
   "outputs": [],
   "source": []
  }
 ],
 "metadata": {
  "kernelspec": {
   "display_name": "Python 3",
   "language": "python",
   "name": "python3"
  },
  "language_info": {
   "codemirror_mode": {
    "name": "ipython",
    "version": 3
   },
   "file_extension": ".py",
   "mimetype": "text/x-python",
   "name": "python",
   "nbconvert_exporter": "python",
   "pygments_lexer": "ipython3",
   "version": "3.8.5"
  }
 },
 "nbformat": 4,
 "nbformat_minor": 4
}
