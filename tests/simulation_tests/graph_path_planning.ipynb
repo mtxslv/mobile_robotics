{
 "cells": [
  {
   "cell_type": "code",
   "execution_count": 1,
   "metadata": {},
   "outputs": [],
   "source": [
    "file_name = \"graph_path_planning.ipynb\"\n",
    "import sys\n",
    "import os\n",
    "sys.path.insert(0, os.path.abspath(\n",
    "    os.path.join(os.path.dirname(file_name), '../../src/') ))\n",
    "\n",
    "from configuration_space_mapping import *\n",
    "from utils import *\n",
    "\n",
    "import matplotlib.pyplot as plt\n",
    "from matplotlib.collections import PatchCollection\n",
    "from matplotlib.patches import Polygon as PlottablePoly\n",
    "from sympy import Polygon, Line, Point\n",
    "import numpy as np"
   ]
  },
  {
   "cell_type": "code",
   "execution_count": 2,
   "metadata": {},
   "outputs": [
    {
     "name": "stdout",
     "output_type": "stream",
     "text": [
      "Connected to remote API server\n",
      "Number of objects in the scene:  42\n"
     ]
    }
   ],
   "source": [
    "client_id = connect_2_sim()\n",
    "test_connection(client_id)"
   ]
  },
  {
   "cell_type": "code",
   "execution_count": 3,
   "metadata": {},
   "outputs": [],
   "source": [
    "scene_objects = ['Cuboid_0','Cuboid_1','Cuboid_2',\n",
    "                 'Cuboid_3','Cuboid_4']\n",
    "robot_name = './dr20'\n"
   ]
  },
  {
   "cell_type": "code",
   "execution_count": 7,
   "metadata": {},
   "outputs": [
    {
     "data": {
      "image/png": "[encoded data removed]",
      "text/plain": [
       "<Figure size 432x432 with 1 Axes>"
      ]
     },
     "metadata": {
      "needs_background": "light"
     },
     "output_type": "display_data"
    }
   ],
   "source": [
    "fig, ax = plt.subplots(figsize=(6,6))\n",
    "\n",
    "obj_points_list = []\n",
    "obj_plot_polys = []\n",
    "for obj in scene_objects:\n",
    "    \n",
    "    errorCode, objHandl = sim.simxGetObjectHandle(client_id, obj, sim.simx_opmode_blocking)\n",
    "    error_pos, objPos = sim.simxGetObjectPosition(client_id, objHandl, -1, sim.simx_opmode_streaming)\n",
    "    error_ang, objAng = sim.simxGetObjectOrientation(client_id, objHandl, -1, sim.simx_opmode_streaming)\n",
    "    \n",
    "    objAng = list(reversed(objAng))\n",
    "    \n",
    "    points_local = get_bounding_box_corners_local_coordinates(client_id, objHandl)\n",
    "     \n",
    "    points_global = map_local_coordinates_to_global_coordinates(points_local, objAng, objPos)\n",
    "    \n",
    "    points_poly = [p[:2] for p in points_global]\n",
    "\n",
    "    poly = np.array(points_poly)\n",
    "    p = PlottablePoly(poly, facecolor = 'k')\n",
    "    obj_plot_polys.append(p)\n",
    "    obj_points_list.append(points_poly)\n",
    "\n",
    "obj_points_list = np.array(obj_points_list)\n",
    "\n",
    "p = PatchCollection(obj_plot_polys, color='k')\n",
    "\n",
    "ax.add_collection(p)\n",
    "\n",
    "ax.set_xlim([-2.5,2.5])\n",
    "ax.set_ylim([-2.5,2.5])\n",
    "plt.show()\n",
    "plt.close(fig)"
   ]
  },
  {
   "cell_type": "code",
   "execution_count": 8,
   "metadata": {},
   "outputs": [
    {
     "data": {
      "text/plain": [
       "array([-2.02499951, -1.97499979, -1.47499979, -1.02499951, -0.85297633,\n",
       "       -0.3999995 ,  0.1000005 ,  0.14702367,  0.89999996,  1.89999996])"
      ]
     },
     "execution_count": 8,
     "metadata": {},
     "output_type": "execute_result"
    }
   ],
   "source": [
    "line_x_coords = np.sort(obj_points_list[:,:,0].flatten())\n",
    "line_x_coords = np.array([line_x_coords[i] for i in range(0,len(line_x_coords), 2)])\n",
    "line_x_coords"
   ]
  },
  {
   "cell_type": "code",
   "execution_count": 9,
   "metadata": {
    "scrolled": true,
    "tags": []
   },
   "outputs": [
    {
     "name": "stdout",
     "output_type": "stream",
     "text": [
      "testing line 1\n",
      "\ttesting poly 0\n",
      "\t []\n",
      "\ttesting poly 1\n",
      "\t []\n",
      "\ttesting poly 2\n",
      "\t [Point2D(-2.02499951056441, -0.724999574344303)]\n",
      "\ttesting poly 3\n",
      "\t []\n",
      "\ttesting poly 4\n",
      "\t []\n",
      "testing line 2\n",
      "\ttesting poly 0\n",
      "\t [Point2D(-1.97499978649100, 0.500000342333275)]\n",
      "\ttesting poly 1\n",
      "\t []\n",
      "\ttesting poly 2\n",
      "\t [Point2D(-1.97499978649100, -1.72499957303106), Point2D(-1.97499978649100, -0.724999573031060)]\n",
      "\ttesting poly 3\n",
      "\t []\n",
      "\ttesting poly 4\n",
      "\t []\n",
      "testing line 3\n",
      "\ttesting poly 0\n",
      "\t [Point2D(-1.47499978649100, 3.54841562431209e-7), Point2D(-1.47499978649100, 0.500000354841562)]\n",
      "\ttesting poly 1\n",
      "\t []\n",
      "\ttesting poly 2\n",
      "\t [Point2D(-1.47499978649100, -1.72499955989856), Point2D(-1.47499978649100, -0.724999559898562)]\n",
      "\ttesting poly 3\n",
      "\t []\n",
      "\ttesting poly 4\n",
      "\t []\n",
      "testing line 4\n",
      "\ttesting poly 0\n",
      "\t []\n",
      "\ttesting poly 1\n",
      "\t []\n",
      "\ttesting poly 2\n",
      "\t [Point2D(-1.02499951056441, -1.72499954807931), Point2D(-1.02499951056441, -0.724999548079307)]\n",
      "\ttesting poly 3\n",
      "\t []\n",
      "\ttesting poly 4\n",
      "\t []\n",
      "testing line 5\n",
      "\ttesting poly 0\n",
      "\t []\n",
      "\ttesting poly 1\n",
      "\t [Point2D(-0.852976329292270, 1.99999937260594)]\n",
      "\ttesting poly 2\n",
      "\t []\n",
      "\ttesting poly 3\n",
      "\t []\n",
      "\ttesting poly 4\n",
      "\t []\n",
      "testing line 6\n",
      "\ttesting poly 0\n",
      "\t []\n",
      "\ttesting poly 1\n",
      "\t [Point2D(-0.399999498197813, 0.999999378938936), Point2D(-0.399999498197813, 1.99999937893894)]\n",
      "\ttesting poly 2\n",
      "\t []\n",
      "\ttesting poly 3\n",
      "\t [Point2D(-0.399999498197813, -0.349999232210321)]\n",
      "\ttesting poly 4\n",
      "\t []\n",
      "testing line 7\n",
      "\ttesting poly 0\n",
      "\t []\n",
      "\ttesting poly 1\n",
      "\t [Point2D(0.100000501802187, 0.999999385929355), Point2D(0.100000501802187, 1.99999938592936)]\n",
      "\ttesting poly 2\n",
      "\t []\n",
      "\ttesting poly 3\n",
      "\t [Point2D(0.100000501802187, -0.349999235978620), Point2D(0.100000501802187, 0.150000764021380)]\n",
      "\ttesting poly 4\n",
      "\t []\n",
      "testing line 8\n",
      "\ttesting poly 0\n",
      "\t []\n",
      "\ttesting poly 1\n",
      "\t [Point2D(0.147023670707730, 0.999999386586778), Point2D(0.147023670707730, 1.99999938658678)]\n",
      "\ttesting poly 2\n",
      "\t []\n",
      "\ttesting poly 3\n",
      "\t []\n",
      "\ttesting poly 4\n",
      "\t []\n",
      "testing line 9\n",
      "\ttesting poly 0\n",
      "\t []\n",
      "\ttesting poly 1\n",
      "\t []\n",
      "\ttesting poly 2\n",
      "\t []\n",
      "\ttesting poly 3\n",
      "\t []\n",
      "\ttesting poly 4\n",
      "\t [Point2D(0.899999960960733, 0.350000093269091)]\n",
      "testing line 10\n",
      "\ttesting poly 0\n",
      "\t []\n",
      "\ttesting poly 1\n",
      "\t []\n",
      "\ttesting poly 2\n",
      "\t []\n",
      "\ttesting poly 3\n",
      "\t []\n",
      "\ttesting poly 4\n",
      "\t [Point2D(1.89999996096073, -0.649999877316248), Point2D(1.89999996096073, 0.350000122683752)]\n"
     ]
    }
   ],
   "source": [
    "obj_poly_list = []\n",
    "for obj_ps in obj_points_list:\n",
    "    p1, p2, p3, p4 = map(Point, obj_ps)\n",
    "    poly = Polygon(p1, p2, p3, p4)\n",
    "    obj_poly_list.append(poly)\n",
    "\n",
    "lines_list = []\n",
    "for x_coord in line_x_coords:   \n",
    "    p1, p2 = map(Point, [(x_coord,2.5), (x_coord,-2.5)])\n",
    "    line = Line(p1,p2)\n",
    "    lines_list.append(line)\n",
    "\n",
    "i = 1\n",
    "lines_intersects = []\n",
    "for line in lines_list:\n",
    "    print(f'testing line {i}')\n",
    "    j = 0\n",
    "    y_intersects = []\n",
    "    for poly in obj_poly_list:\n",
    "        print(f'\\ttesting poly {j}')\n",
    "        intersects = poly.intersection(line)\n",
    "        points = [p.evalf() for p in intersects]\n",
    "        if len(points) == 1:\n",
    "            pass\n",
    "            #poly_ys = [p.evalf()[1] for p in poly.vertices] #to float\n",
    "            #max_y = max(poly_ys)\n",
    "            #min_y = min(poly_ys)\n",
    "            #y_intersects.append(max_y)\n",
    "            #y_intersects.append(min_y)\n",
    "        else:\n",
    "            for p in points:\n",
    "                y_intersects.append(p[1])\n",
    "        \n",
    "        print('\\t', points)\n",
    "        j += 1\n",
    "    lines_intersects.append(y_intersects)\n",
    "    i += 1"
   ]
  },
  {
   "cell_type": "code",
   "execution_count": 10,
   "metadata": {
    "tags": []
   },
   "outputs": [
    {
     "data": {
      "image/png": "[encoded data removed]",
      "text/plain": [
       "<Figure size 432x432 with 1 Axes>"
      ]
     },
     "metadata": {
      "needs_background": "light"
     },
     "output_type": "display_data"
    }
   ],
   "source": [
    "lines_intersects = [sorted(i) for i in lines_intersects]\n",
    "\n",
    "fig, ax = plt.subplots(figsize=(6,6))\n",
    "\n",
    "p = PatchCollection(obj_plot_polys, color='k')\n",
    "\n",
    "ax.add_collection(p)\n",
    "\n",
    "ax.set_xlim([-2.5,2.5])\n",
    "ax.set_ylim([-2.5,2.5])\n",
    "\n",
    "for x, ys in zip(line_x_coords, lines_intersects):\n",
    "    y_min = -2.5\n",
    "    for i in range(0, len(ys)-1, 2):\n",
    "        plt.vlines(x, y_min, float(ys[i]))\n",
    "        y_min = float(ys[i+1])\n",
    "    plt.vlines(x, y_min, 2.5)\n",
    "\n",
    "plt.show()"
   ]
  },
  {
   "cell_type": "code",
   "execution_count": 91,
   "metadata": {},
   "outputs": [
    {
     "data": {
      "image/png": "[encoded data removed]",
      "text/plain": [
       "<Figure size 432x432 with 1 Axes>"
      ]
     },
     "metadata": {
      "needs_background": "light"
     },
     "output_type": "display_data"
    }
   ],
   "source": [
    "cells_points = []\n",
    "prev_x = -2.5\n",
    "for x, ys in zip(line_x_coords, lines_intersects):\n",
    "    x_min, x_max = prev_x, x\n",
    "    y_min, y_max = -2.5, 2.5\n",
    "    \n",
    "    if len(ys) > 0:\n",
    "        for i in range(0, len(ys)-1, 2):\n",
    "            y_max = ys[i]\n",
    "            cell = [[x_max, y_max], [x_min, y_max], [x_min, y_min], [x_max, y_min]]\n",
    "            cells_points.append(np.array(cell))\n",
    "            y_min = ys[i+1]\n",
    "            y_max = 2.5\n",
    "        cell = [[x_max, y_max], [x_min, y_max], [x_min, y_min], [x_max, y_min]]\n",
    "        cells_points.append(np.array(cell))\n",
    "    else:\n",
    "        cell = [[x_max, y_max], [x_min, y_max], [x_min, y_min], [x_max, y_min]]\n",
    "        cells_points.append(np.array(cell))\n",
    "    prev_x = x\n",
    "\n",
    "x_min, x_max = x, 2.5\n",
    "y_min, y_max = -2.5, 2.5\n",
    "cell = [[x_max, y_max], [x_min, y_max], [x_min, y_min], [x_max, y_min]]\n",
    "cells_points.append(np.array(cell))\n",
    "\n",
    "fig, ax = plt.subplots(figsize=(6,6))\n",
    "\n",
    "cells_plottable = []\n",
    "for cell in cells_points:\n",
    "    p = PlottablePoly(cell, facecolor = 'k')\n",
    "    cells_plottable.append(p)\n",
    "\n",
    "import matplotlib.colors\n",
    "colors = values = np.array([i%5 for i in range(len(cells_plottable))])\n",
    "cmap = matplotlib.colors.ListedColormap(['r', 'g', 'b', 'y', 'k'])\n",
    "p = PatchCollection(cells_plottable, cmap=cmap, alpha=0.9)\n",
    "p.set_array(colors)\n",
    "\n",
    "ax.add_collection(p)\n",
    "\n",
    "ax.set_xlim([-2.5,2.5])\n",
    "ax.set_ylim([-2.5,2.5])\n",
    "plt.show()\n",
    "plt.close(fig)"
   ]
  },
  {
   "cell_type": "code",
   "execution_count": 90,
   "metadata": {},
   "outputs": [
    {
     "name": "stdout",
     "output_type": "stream",
     "text": [
      "initiating graph\n"
     ]
    },
    {
     "data": {
      "text/plain": [
       "{'0': [1, 2],\n",
       " '1': [0, 3],\n",
       " '2': [0, 4, 5],\n",
       " '3': [1, 6],\n",
       " '4': [2, 7],\n",
       " '5': [2, 7],\n",
       " '6': [3, 8],\n",
       " '7': [4, 5, 8],\n",
       " '8': [6, 7, 9, 10],\n",
       " '9': [8, 11, 12],\n",
       " '10': [8, 13],\n",
       " '11': [9, 14],\n",
       " '12': [9, 14],\n",
       " '13': [10, 15],\n",
       " '14': [11, 12, 16],\n",
       " '15': [13, 16],\n",
       " '16': [14, 15, 17, 18],\n",
       " '17': [16, 19],\n",
       " '18': [16, 19],\n",
       " '19': [17, 18]}"
      ]
     },
     "execution_count": 90,
     "metadata": {},
     "output_type": "execute_result"
    }
   ],
   "source": [
    "def square_from_array(obj_points):\n",
    "    p1, p2, p3, p4 = map(Point, obj_points)\n",
    "    poly = Polygon(p1, p2, p3, p4)\n",
    "    return poly\n",
    "\n",
    "cells_poly = []\n",
    "for cell in cells_points:\n",
    "    p = square_from_array(cell)\n",
    "    cells_poly.append(p)\n",
    "\n",
    "graph = {}\n",
    "print('initiating graph')\n",
    "for i in range(len(cells_poly)):\n",
    "    #print(f'testing cell {i}:')\n",
    "    vertices = []\n",
    "    for j in range(0, len(cells_poly)):\n",
    "        distance = cells_poly[i].distance(cells_poly[j]).evalf()\n",
    "        if distance < 0.000001:\n",
    "            vertices.append(j)\n",
    "            #print(f'\\t neighbour to {j}')\n",
    "    graph[f'{i}'] = vertices\n",
    "    \n",
    "graph"
   ]
  },
  {
   "cell_type": "code",
   "execution_count": null,
   "metadata": {},
   "outputs": [],
   "source": []
  }
 ],
 "metadata": {
  "kernelspec": {
   "display_name": "Python 3",
   "language": "python",
   "name": "python3"
  },
  "language_info": {
   "codemirror_mode": {
    "name": "ipython",
    "version": 3
   },
   "file_extension": ".py",
   "mimetype": "text/x-python",
   "name": "python",
   "nbconvert_exporter": "python",
   "pygments_lexer": "ipython3",
   "version": "3.8.5"
  }
 },
 "nbformat": 4,
 "nbformat_minor": 4
}
