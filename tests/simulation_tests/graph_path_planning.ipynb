{
 "cells": [
  {
   "cell_type": "code",
   "execution_count": 19,
   "metadata": {},
   "outputs": [],
   "source": [
    "file_name = \"graph_path_planning.ipynb\"\n",
    "import sys\n",
    "import os\n",
    "sys.path.insert(0, os.path.abspath(\n",
    "    os.path.join(os.path.dirname(file_name), '../../src/') ))\n",
    "\n",
    "from configuration_space_mapping import *\n",
    "from utils import *\n",
    "from a_star import a_star\n",
    "from graph import *\n",
    "from segment_operations import is_there_shared_point, find_shared_segment\n",
    "\n",
    "import matplotlib.pyplot as plt\n",
    "from matplotlib.collections import PatchCollection\n",
    "from matplotlib.patches import Polygon as PlottablePoly\n",
    "from sympy import Polygon, Line, Point\n",
    "import numpy as np"
   ]
  },
  {
   "cell_type": "code",
   "execution_count": 20,
   "metadata": {},
   "outputs": [
    {
     "name": "stdout",
     "output_type": "stream",
     "text": [
      "Connected to remote API server\n",
      "Number of objects in the scene:  43\n"
     ]
    }
   ],
   "source": [
    "client_id = connect_2_sim()\n",
    "test_connection(client_id)"
   ]
  },
  {
   "cell_type": "code",
   "execution_count": 21,
   "metadata": {},
   "outputs": [],
   "source": [
    "scene_objects = ['Cuboid_0','Cuboid_1','Cuboid_2',\n",
    "                 'Cuboid_3','Cuboid_4']\n",
    "robot_name = './dr20'\n"
   ]
  },
  {
   "cell_type": "code",
   "execution_count": 22,
   "metadata": {},
   "outputs": [
    {
     "data": {
      "image/png": "[encoded data removed]",
      "text/plain": [
       "<Figure size 432x432 with 1 Axes>"
      ]
     },
     "metadata": {
      "needs_background": "light"
     },
     "output_type": "display_data"
    }
   ],
   "source": [
    "fig, ax = plt.subplots(figsize=(6,6))\n",
    "\n",
    "obj_points_list = []\n",
    "obj_plot_polys = []\n",
    "for obj in scene_objects:\n",
    "    \n",
    "    errorCode, objHandl = sim.simxGetObjectHandle(client_id, obj, sim.simx_opmode_blocking)\n",
    "    error_pos, objPos = sim.simxGetObjectPosition(client_id, objHandl, -1, sim.simx_opmode_blocking)\n",
    "    error_ang, objAng = sim.simxGetObjectOrientation(client_id, objHandl, -1, sim.simx_opmode_blocking)\n",
    "    \n",
    "    objAng = list(reversed(objAng))\n",
    "    \n",
    "    points_local = get_bounding_box_corners_local_coordinates(client_id, objHandl)\n",
    "     \n",
    "    points_global = map_local_coordinates_to_global_coordinates(points_local, objAng, objPos)\n",
    "    \n",
    "    points_poly = [p[:2] for p in points_global]\n",
    "\n",
    "    poly = np.array(points_poly)\n",
    "    p = PlottablePoly(poly, facecolor = 'k')\n",
    "    obj_plot_polys.append(p)\n",
    "    obj_points_list.append(points_poly)\n",
    "\n",
    "obj_points_list = np.array(obj_points_list)\n",
    "\n",
    "p = PatchCollection(obj_plot_polys, color='k')\n",
    "\n",
    "ax.add_collection(p)\n",
    "\n",
    "ax.set_xlim([-2.5,2.5])\n",
    "ax.set_ylim([-2.5,2.5])\n",
    "plt.show()\n",
    "plt.close(fig)"
   ]
  },
  {
   "cell_type": "code",
   "execution_count": 23,
   "metadata": {},
   "outputs": [
    {
     "data": {
      "text/plain": [
       "array([-2.0249995 , -1.97499979, -1.47499979, -1.0249995 , -0.85000012,\n",
       "       -0.3999995 ,  0.1000005 ,  0.14999988,  0.89999997,  1.89999997])"
      ]
     },
     "execution_count": 23,
     "metadata": {},
     "output_type": "execute_result"
    }
   ],
   "source": [
    "line_x_coords = np.sort(obj_points_list[:,:,0].flatten())\n",
    "line_x_coords = np.array([line_x_coords[i] for i in range(0,len(line_x_coords), 2)])\n",
    "line_x_coords"
   ]
  },
  {
   "cell_type": "code",
   "execution_count": 24,
   "metadata": {
    "scrolled": true,
    "tags": []
   },
   "outputs": [
    {
     "name": "stdout",
     "output_type": "stream",
     "text": [
      "testing line 1\n",
      "\ttesting poly 0\n",
      "\t []\n",
      "\ttesting poly 1\n",
      "\t []\n",
      "\ttesting poly 2\n",
      "\t [Point2D(-2.02499950064851, -1.72499954422829)]\n",
      "\ttesting poly 3\n",
      "\t []\n",
      "\ttesting poly 4\n",
      "\t []\n",
      "testing line 2\n",
      "\ttesting poly 0\n",
      "\t [Point2D(-1.97499978704806, 3.64297474020336e-7)]\n",
      "\ttesting poly 1\n",
      "\t []\n",
      "\ttesting poly 2\n",
      "\t [Point2D(-1.97499978704806, -1.72499954427019), Point2D(-1.97499978704806, -0.724999544270194)]\n",
      "\ttesting poly 3\n",
      "\t []\n",
      "\ttesting poly 4\n",
      "\t []\n",
      "testing line 3\n",
      "\ttesting poly 0\n",
      "\t [Point2D(-1.47499978704806, 3.61475568644298e-7), Point2D(-1.47499978704806, 0.500000361475569)]\n",
      "\ttesting poly 1\n",
      "\t []\n",
      "\ttesting poly 2\n",
      "\t [Point2D(-1.47499978704806, -1.72499954468918), Point2D(-1.47499978704806, -0.724999544689183)]\n",
      "\ttesting poly 3\n",
      "\t []\n",
      "\ttesting poly 4\n",
      "\t []\n",
      "testing line 4\n",
      "\ttesting poly 0\n",
      "\t []\n",
      "\ttesting poly 1\n",
      "\t []\n",
      "\ttesting poly 2\n",
      "\t [Point2D(-1.02499950064851, -1.72499954506627), Point2D(-1.02499950064851, -0.724999545066273)]\n",
      "\ttesting poly 3\n",
      "\t []\n",
      "\ttesting poly 4\n",
      "\t []\n",
      "testing line 5\n",
      "\ttesting poly 0\n",
      "\t []\n",
      "\ttesting poly 1\n",
      "\t [Point2D(-0.850000116905762, 0.999999386209047)]\n",
      "\ttesting poly 2\n",
      "\t []\n",
      "\ttesting poly 3\n",
      "\t []\n",
      "\ttesting poly 4\n",
      "\t []\n",
      "testing line 6\n",
      "\ttesting poly 0\n",
      "\t []\n",
      "\ttesting poly 1\n",
      "\t [Point2D(-0.399999499007659, 0.999999384938867), Point2D(-0.399999499007659, 1.99999938493887)]\n",
      "\ttesting poly 2\n",
      "\t []\n",
      "\ttesting poly 3\n",
      "\t [Point2D(-0.399999499007659, 0.150000423207378)]\n",
      "\ttesting poly 4\n",
      "\t []\n",
      "testing line 7\n",
      "\ttesting poly 0\n",
      "\t []\n",
      "\ttesting poly 1\n",
      "\t [Point2D(0.100000500992341, 0.999999383527558), Point2D(0.100000500992341, 1.99999938352756)]\n",
      "\ttesting poly 2\n",
      "\t []\n",
      "\ttesting poly 3\n",
      "\t [Point2D(0.100000500992341, -0.349999575471842), Point2D(0.100000500992341, 0.150000424528157)]\n",
      "\ttesting poly 4\n",
      "\t []\n",
      "testing line 8\n",
      "\ttesting poly 0\n",
      "\t []\n",
      "\ttesting poly 1\n",
      "\t [Point2D(0.149999883094238, 0.999999383386429), Point2D(0.149999883094238, 1.99999938338643)]\n",
      "\ttesting poly 2\n",
      "\t []\n",
      "\ttesting poly 3\n",
      "\t []\n",
      "\ttesting poly 4\n",
      "\t []\n",
      "testing line 9\n",
      "\ttesting poly 0\n",
      "\t []\n",
      "\ttesting poly 1\n",
      "\t []\n",
      "\ttesting poly 2\n",
      "\t []\n",
      "\ttesting poly 3\n",
      "\t []\n",
      "\ttesting poly 4\n",
      "\t [Point2D(0.899999974260992, 0.350000102631860)]\n",
      "testing line 10\n",
      "\ttesting poly 0\n",
      "\t []\n",
      "\ttesting poly 1\n",
      "\t []\n",
      "\ttesting poly 2\n",
      "\t []\n",
      "\ttesting poly 3\n",
      "\t []\n",
      "\ttesting poly 4\n",
      "\t [Point2D(1.89999997426099, -0.649999896969689), Point2D(1.89999997426099, 0.350000103030310)]\n"
     ]
    }
   ],
   "source": [
    "obj_poly_list = []\n",
    "for obj_ps in obj_points_list:\n",
    "    p1, p2, p3, p4 = map(Point, obj_ps)\n",
    "    poly = Polygon(p1, p2, p3, p4)\n",
    "    obj_poly_list.append(poly)\n",
    "\n",
    "lines_list = []\n",
    "for x_coord in line_x_coords:   \n",
    "    p1, p2 = map(Point, [(x_coord,2.5), (x_coord,-2.5)])\n",
    "    line = Line(p1,p2)\n",
    "    lines_list.append(line)\n",
    "\n",
    "i = 1\n",
    "lines_intersects = []\n",
    "for line in lines_list:\n",
    "    print(f'testing line {i}')\n",
    "    j = 0\n",
    "    y_intersects = []\n",
    "    for poly in obj_poly_list:\n",
    "        print(f'\\ttesting poly {j}')\n",
    "        intersects = poly.intersection(line)\n",
    "        try:\n",
    "            points = [p.evalf() for p in intersects]\n",
    "        except:\n",
    "            points = [s.points[0].evalf() for s in intersects]\n",
    "        print('\\t', points)\n",
    "        if len(points) == 1:\n",
    "            pass\n",
    "            #poly_ys = [p.evalf()[1] for p in poly.vertices] #to float\n",
    "            #max_y = max(poly_ys)\n",
    "            #min_y = min(poly_ys)\n",
    "            #y_intersects.append(max_y)\n",
    "            #y_intersects.append(min_y)\n",
    "        else:\n",
    "            for p in points:\n",
    "                y_intersects.append(p[1])\n",
    "        j += 1\n",
    "    lines_intersects.append(y_intersects)\n",
    "    i += 1"
   ]
  },
  {
   "cell_type": "code",
   "execution_count": 25,
   "metadata": {
    "tags": []
   },
   "outputs": [
    {
     "data": {
      "image/png": "[encoded data removed]",
      "text/plain": [
       "<Figure size 432x432 with 1 Axes>"
      ]
     },
     "metadata": {
      "needs_background": "light"
     },
     "output_type": "display_data"
    }
   ],
   "source": [
    "lines_intersects = [sorted(i) for i in lines_intersects]\n",
    "\n",
    "fig, ax = plt.subplots(figsize=(6,6))\n",
    "\n",
    "p = PatchCollection(obj_plot_polys, color='k')\n",
    "\n",
    "ax.add_collection(p)\n",
    "\n",
    "ax.set_xlim([-2.5,2.5])\n",
    "ax.set_ylim([-2.5,2.5])\n",
    "\n",
    "for x, ys in zip(line_x_coords, lines_intersects):\n",
    "    y_min = -2.5\n",
    "    for i in range(0, len(ys)-1, 2):\n",
    "        plt.vlines(x, y_min, float(ys[i]))\n",
    "        y_min = float(ys[i+1])\n",
    "    plt.vlines(x, y_min, 2.5)\n",
    "\n",
    "plt.show()"
   ]
  },
  {
   "cell_type": "code",
   "execution_count": 26,
   "metadata": {},
   "outputs": [
    {
     "data": {
      "text/plain": [
       "[[],\n",
       " [-1.72499954427019, -0.724999544270194],\n",
       " [-1.72499954468918,\n",
       "  -0.724999544689183,\n",
       "  3.61475568644298e-7,\n",
       "  0.500000361475569],\n",
       " [-1.72499954506627, -0.724999545066273],\n",
       " [],\n",
       " [0.999999384938867, 1.99999938493887],\n",
       " [-0.349999575471842, 0.150000424528157, 0.999999383527558, 1.99999938352756],\n",
       " [0.999999383386429, 1.99999938338643],\n",
       " [],\n",
       " [-0.649999896969689, 0.350000103030310]]"
      ]
     },
     "execution_count": 26,
     "metadata": {},
     "output_type": "execute_result"
    }
   ],
   "source": [
    "lines_intersects"
   ]
  },
  {
   "cell_type": "code",
   "execution_count": 27,
   "metadata": {},
   "outputs": [
    {
     "data": {
      "image/png": "[encoded data removed]",
      "text/plain": [
       "<Figure size 432x432 with 1 Axes>"
      ]
     },
     "metadata": {
      "needs_background": "light"
     },
     "output_type": "display_data"
    }
   ],
   "source": [
    "cells_points = []\n",
    "prev_x = -2.5\n",
    "for x, ys in zip(line_x_coords, lines_intersects):\n",
    "    x_min, x_max = prev_x, x\n",
    "    y_min, y_max = -2.5, 2.5\n",
    "    \n",
    "    if len(ys) > 0:\n",
    "        for i in range(0, len(ys)-1, 2):\n",
    "            y_max = ys[i]\n",
    "            cell = [[x_max, y_max], [x_min, y_max], [x_min, y_min], [x_max, y_min]]\n",
    "            cells_points.append(np.array(cell))\n",
    "            y_min = ys[i+1]\n",
    "            y_max = 2.5\n",
    "        cell = [[x_max, y_max], [x_min, y_max], [x_min, y_min], [x_max, y_min]]\n",
    "        cells_points.append(np.array(cell))\n",
    "    else:\n",
    "        cell = [[x_max, y_max], [x_min, y_max], [x_min, y_min], [x_max, y_min]]\n",
    "        cells_points.append(np.array(cell))\n",
    "    prev_x = x\n",
    "\n",
    "x_min, x_max = x, 2.5\n",
    "y_min, y_max = -2.5, 2.5\n",
    "cell = [[x_max, y_max], [x_min, y_max], [x_min, y_min], [x_max, y_min]]\n",
    "cells_points.append(np.array(cell))\n",
    "\n",
    "\n",
    "cells_plottable = []\n",
    "for cell in cells_points:\n",
    "    p = PlottablePoly(cell, facecolor = 'k')\n",
    "    cells_plottable.append(p)\n",
    "\n",
    "import matplotlib.colors\n",
    "colors = values = np.array([i%5 for i in range(len(cells_plottable))])\n",
    "cmap = matplotlib.colors.ListedColormap(['r', 'g', 'b', 'y', 'k'])\n",
    "p = PatchCollection(cells_plottable, cmap=cmap, alpha=0.9)\n",
    "p.set_array(colors)\n",
    "\n",
    "fig, ax = plt.subplots(figsize=(6,6))\n",
    "ax.add_collection(p)\n",
    "\n",
    "ax.set_xlim([-2.5,2.5])\n",
    "ax.set_ylim([-2.5,2.5])\n",
    "plt.show()\n",
    "plt.close(fig)"
   ]
  },
  {
   "cell_type": "code",
   "execution_count": 28,
   "metadata": {},
   "outputs": [
    {
     "data": {
      "image/png": "[encoded data removed]",
      "text/plain": [
       "<Figure size 432x432 with 1 Axes>"
      ]
     },
     "metadata": {
      "needs_background": "light"
     },
     "output_type": "display_data"
    }
   ],
   "source": [
    "fig, ax = plt.subplots(figsize=(6,6))\n",
    "p = PatchCollection(cells_plottable, alpha=0.4, color='b')\n",
    "\n",
    "errorCode, roboHandl = sim.simxGetObjectHandle(client_id, robot_name, sim.simx_opmode_blocking)\n",
    "error_pos, roboPos = sim.simxGetObjectPosition(client_id, roboHandl, -1, sim.simx_opmode_blocking)\n",
    "errorCode, goalHandl = sim.simxGetObjectHandle(client_id, './Goal', sim.simx_opmode_blocking)\n",
    "error_pos, goalPos = sim.simxGetObjectPosition(client_id, goalHandl, -1, sim.simx_opmode_blocking)\n",
    "\n",
    "ax.add_collection(p)\n",
    "plt.scatter(roboPos[0], roboPos[1], color='k')\n",
    "plt.scatter(goalPos[0], goalPos[1], color='r')\n",
    "\n",
    "ax.set_xlim([-2.5,2.5])\n",
    "ax.set_ylim([-2.5,2.5])\n",
    "plt.show()\n",
    "plt.close(fig)"
   ]
  },
  {
   "cell_type": "code",
   "execution_count": 29,
   "metadata": {},
   "outputs": [],
   "source": [
    "def square_from_array(obj_points):\n",
    "    p1, p2, p3, p4 = map(Point, obj_points)\n",
    "    poly = Polygon(p1, p2, p3, p4)\n",
    "    return poly\n",
    "\n",
    "cells_poly = []\n",
    "for cell in cells_points:\n",
    "    p = square_from_array(cell)\n",
    "    cells_poly.append(p)"
   ]
  },
  {
   "cell_type": "code",
   "execution_count": 30,
   "metadata": {},
   "outputs": [
    {
     "data": {
      "text/plain": [
       "(0, 17)"
      ]
     },
     "execution_count": 30,
     "metadata": {},
     "output_type": "execute_result"
    }
   ],
   "source": [
    "#get robot and goal cell\n",
    "robo_point = Point(roboPos[:2])\n",
    "goal_point = Point(goalPos[:2])\n",
    "\n",
    "robo_cell = -1\n",
    "goal_cell = -1\n",
    "for i, cell in zip(range(len(cells_poly)), cells_poly):\n",
    "    if cell.encloses_point(goal_point):\n",
    "        goal_cell = i\n",
    "    elif cell.encloses_point(robo_point):\n",
    "        robo_cell = i\n",
    "                   \n",
    "robo_cell, goal_cell"
   ]
  },
  {
   "cell_type": "code",
   "execution_count": 31,
   "metadata": {},
   "outputs": [
    {
     "name": "stdout",
     "output_type": "stream",
     "text": [
      "initiating graph\n"
     ]
    },
    {
     "name": "stderr",
     "output_type": "stream",
     "text": [
      "/tmp/ipykernel_16877/4042855749.py:6: UserWarning: Polygons may intersect producing erroneous output\n",
      "  distance = cells_poly[i].distance(cells_poly[j]).evalf()\n"
     ]
    },
    {
     "data": {
      "text/plain": [
       "[('0', '1'),\n",
       " ('0', '2'),\n",
       " ('1', '3'),\n",
       " ('2', '4'),\n",
       " ('2', '5'),\n",
       " ('3', '6'),\n",
       " ('4', '7'),\n",
       " ('5', '7'),\n",
       " ('6', '8'),\n",
       " ('7', '8'),\n",
       " ('8', '9'),\n",
       " ('8', '10'),\n",
       " ('9', '11'),\n",
       " ('9', '12'),\n",
       " ('10', '13'),\n",
       " ('11', '14'),\n",
       " ('12', '14'),\n",
       " ('13', '15'),\n",
       " ('14', '16'),\n",
       " ('15', '16'),\n",
       " ('16', '17'),\n",
       " ('16', '18'),\n",
       " ('17', '19'),\n",
       " ('18', '19')]"
      ]
     },
     "execution_count": 31,
     "metadata": {},
     "output_type": "execute_result"
    }
   ],
   "source": [
    "connections = []\n",
    "print('initiating graph')\n",
    "for i in range(len(cells_poly)):\n",
    "    #print(f'testing cell {i}:')\n",
    "    for j in range(i, len(cells_poly)):\n",
    "        distance = cells_poly[i].distance(cells_poly[j]).evalf()\n",
    "        if distance < 0.000001:\n",
    "            connections.append((f'{i}', f'{j}'))\n",
    "            #print(f'\\t neighbour to {j}')\n",
    "connections"
   ]
  },
  {
   "cell_type": "code",
   "execution_count": 32,
   "metadata": {},
   "outputs": [],
   "source": [
    "errorCode, roboHandl = sim.simxGetObjectHandle(client_id, robot_name, sim.simx_opmode_blocking)\n",
    "error_pos, roboPos = sim.simxGetObjectPosition(client_id, roboHandl, -1, sim.simx_opmode_blocking)\n",
    "errorCode, goalHandl = sim.simxGetObjectHandle(client_id, './Goal', sim.simx_opmode_blocking)\n",
    "error_pos, goalPos = sim.simxGetObjectPosition(client_id, goalHandl, -1, sim.simx_opmode_blocking)"
   ]
  },
  {
   "cell_type": "code",
   "execution_count": 33,
   "metadata": {},
   "outputs": [
    {
     "data": {
      "image/png": "[encoded data removed]",
      "text/plain": [
       "<Figure size 432x432 with 1 Axes>"
      ]
     },
     "metadata": {
      "needs_background": "light"
     },
     "output_type": "display_data"
    }
   ],
   "source": [
    "fig, ax = plt.subplots(figsize=(6,6))\n",
    "\n",
    "p = PatchCollection(cells_plottable, alpha=0.4, color='b')\n",
    "ax.add_collection(p)\n",
    "\n",
    "plt.scatter(roboPos[0], roboPos[1], color='k')\n",
    "plt.scatter(goalPos[0], goalPos[1], color='r')\n",
    "\n",
    "i=0\n",
    "for cell in cells_poly:\n",
    "    centr = cell.centroid.evalf()\n",
    "    plt.text(centr[0] - 0.05, centr[1], f'{i}')\n",
    "    i += 1\n",
    "\n",
    "ax.set_xlim([-2.5,2.5])\n",
    "ax.set_ylim([-2.5,2.5])\n",
    "plt.show()\n",
    "plt.close(fig)"
   ]
  },
  {
   "cell_type": "markdown",
   "metadata": {},
   "source": [
    "# A* Algorithm\n",
    "\n",
    "Ok, so far we have the connectivity graph implemented as a list of tuples (variable `connections`). From this point on the A* algorithm will be implemented"
   ]
  },
  {
   "cell_type": "markdown",
   "metadata": {},
   "source": [
    "## Graph and its Weights\n",
    "\n",
    "Here we will compute the graph as a dict of lists. It will capture the connectivity of it.\n",
    "\n",
    "We will also compute `g(N)` or the weights associated with the arcs. This is calculated as the Euclidian distance between two cells' centroids.\n",
    "\n",
    "The heuristic function `h(N)`is estimated as the Euclidian distance between the cell's centroids and the target point.\n",
    "\n",
    "This approach has two effects:\n",
    "- `g(N)` and its local effect: it will make a path out of nearby cells. That is, the A* will tend to move between closer cells \n",
    "- `h(N)` and its global effect: it will make a path out of cells closer and closer to the target. That is, the A* will pull the path closer and closer to the target."
   ]
  },
  {
   "cell_type": "code",
   "execution_count": 34,
   "metadata": {},
   "outputs": [
    {
     "name": "stdout",
     "output_type": "stream",
     "text": [
      "initializing graph as dict\n"
     ]
    },
    {
     "name": "stderr",
     "output_type": "stream",
     "text": [
      "/tmp/ipykernel_16877/2394723192.py:18: UserWarning: Polygons may intersect producing erroneous output\n",
      "  distance = cells_poly[i].distance(cells_poly[j]).evalf()\n"
     ]
    },
    {
     "data": {
      "text/plain": [
       "{0: [1, 2],\n",
       " 1: [0, 3],\n",
       " 2: [0, 4, 5],\n",
       " 3: [1, 6],\n",
       " 4: [2, 7],\n",
       " 5: [2, 7],\n",
       " 6: [3, 8],\n",
       " 7: [4, 5, 8],\n",
       " 8: [6, 7, 9, 10],\n",
       " 9: [8, 11, 12],\n",
       " 10: [8, 13],\n",
       " 11: [9, 14],\n",
       " 12: [9, 14],\n",
       " 13: [10, 15],\n",
       " 14: [11, 12, 16],\n",
       " 15: [13, 16],\n",
       " 16: [14, 15, 17, 18],\n",
       " 17: [16, 19],\n",
       " 18: [16, 19],\n",
       " 19: [17, 18]}"
      ]
     },
     "execution_count": 34,
     "metadata": {},
     "output_type": "execute_result"
    }
   ],
   "source": [
    "graph_connections = {}\n",
    "g_N = {}\n",
    "h_N = {}\n",
    "print('initializing graph as dict')\n",
    "for i in range(len(cells_poly)):\n",
    "    if i not in graph_connections.keys():\n",
    "        graph_connections[i] = []\n",
    "    if i not in g_N.keys():\n",
    "        g_N[i] = []\n",
    "    if i not in h_N.keys():\n",
    "        h_N[i] = cells_poly[i].centroid.distance(goal_point).evalf()\n",
    "    for j in range(i, len(cells_poly)):\n",
    "        if j not in graph_connections.keys():\n",
    "            #print(f'creating key {j}')\n",
    "            graph_connections[j] = []\n",
    "        if j not in g_N.keys():\n",
    "            g_N[j] = []\n",
    "        distance = cells_poly[i].distance(cells_poly[j]).evalf()\n",
    "        cost = cells_poly[i].centroid.distance(cells_poly[j].centroid).evalf()\n",
    "        if distance < 0.000001:\n",
    "            graph_connections[i].append(j)\n",
    "            graph_connections[j].append(i)\n",
    "            g_N[i].append(cost)\n",
    "            g_N[j].append(cost)\n",
    "            #print(f'\\t neighbour to {j}')\n",
    "\n",
    "graph_connections"
   ]
  },
  {
   "cell_type": "code",
   "execution_count": 35,
   "metadata": {},
   "outputs": [
    {
     "data": {
      "text/plain": [
       "{0: [2.12874648400666, 0.925506866727714],\n",
       " 1: [2.12874648400666, 0.274999856800225],\n",
       " 2: [0.925506866727714, 1.27989236653691, 0.671402348453911],\n",
       " 3: [0.274999856800225, 0.475000143199775],\n",
       " 4: [1.27989236653691, 1.33720779377179],\n",
       " 5: [0.671402348453911, 0.775100850726334],\n",
       " 6: [0.475000143199775, 2.13548857076596],\n",
       " 7: [1.33720779377179, 0.775100850726334, 0.940910623105739],\n",
       " 8: [2.13548857076596, 0.940910623105739, 0.812500284189926, 2.27159742617950],\n",
       " 9: [0.812500284189926, 0.825378453667888, 1.40756912943257],\n",
       " 10: [2.27159742617950, 0.475000308949051],\n",
       " 11: [0.825378453667888, 0.728868388193452],\n",
       " 12: [1.40756912943257, 1.35323700539298],\n",
       " 13: [0.475000308949051, 0.274999691050949],\n",
       " 14: [0.728868388193452, 1.35323700539298, 0.850000148098695],\n",
       " 15: [0.274999691050949, 2.28527862676022],\n",
       " 16: [0.850000148098695, 2.28527862676022, 1.80173525177762, 1.67219921857089],\n",
       " 17: [1.80173525177762, 1.76652904259128],\n",
       " 18: [1.67219921857089, 1.63420475076087],\n",
       " 19: [1.76652904259128, 1.63420475076087]}"
      ]
     },
     "execution_count": 35,
     "metadata": {},
     "output_type": "execute_result"
    }
   ],
   "source": [
    "g_N"
   ]
  },
  {
   "cell_type": "code",
   "execution_count": 36,
   "metadata": {},
   "outputs": [
    {
     "data": {
      "text/plain": [
       "{0: 3.96990595567227,\n",
       " 1: 3.35048927401864,\n",
       " 2: 4.21316728816863,\n",
       " 3: 3.07776777620207,\n",
       " 4: 3.33037611943807,\n",
       " 5: 4.42068978788446,\n",
       " 6: 2.60783032752483,\n",
       " 7: 3.65044918298424,\n",
       " 8: 2.83000077960500,\n",
       " 9: 2.16910074117766,\n",
       " 10: 4.40511010484243,\n",
       " 11: 1.50041604993867,\n",
       " 12: 2.71131831523997,\n",
       " 13: 4.21641072112303,\n",
       " 14: 1.53052227009473,\n",
       " 15: 4.12825573638626,\n",
       " 16: 1.87882925013861,\n",
       " 17: 0.145773701548254,\n",
       " 18: 3.12589973235625,\n",
       " 19: 1.91196873775426}"
      ]
     },
     "execution_count": 36,
     "metadata": {},
     "output_type": "execute_result"
    }
   ],
   "source": [
    "h_N"
   ]
  },
  {
   "cell_type": "markdown",
   "metadata": {},
   "source": [
    "## A* Algorithm"
   ]
  },
  {
   "cell_type": "code",
   "execution_count": 37,
   "metadata": {},
   "outputs": [
    {
     "data": {
      "text/plain": [
       "(0, 17)"
      ]
     },
     "execution_count": 37,
     "metadata": {},
     "output_type": "execute_result"
    }
   ],
   "source": [
    "robo_cell, goal_cell"
   ]
  },
  {
   "cell_type": "code",
   "execution_count": 38,
   "metadata": {},
   "outputs": [
    {
     "data": {
      "text/plain": [
       "[1, 2]"
      ]
     },
     "execution_count": 38,
     "metadata": {},
     "output_type": "execute_result"
    }
   ],
   "source": [
    "graph_connections[robo_cell]"
   ]
  },
  {
   "cell_type": "code",
   "execution_count": 39,
   "metadata": {},
   "outputs": [
    {
     "data": {
      "text/latex": [
       "$\\displaystyle 3.96990595567227$"
      ],
      "text/plain": [
       "3.96990595567227"
      ]
     },
     "execution_count": 39,
     "metadata": {},
     "output_type": "execute_result"
    }
   ],
   "source": [
    "h_N[robo_cell]"
   ]
  },
  {
   "cell_type": "code",
   "execution_count": 40,
   "metadata": {},
   "outputs": [
    {
     "data": {
      "text/plain": [
       "[2.12874648400666, 0.925506866727714]"
      ]
     },
     "execution_count": 40,
     "metadata": {},
     "output_type": "execute_result"
    }
   ],
   "source": [
    "g_N[robo_cell]"
   ]
  },
  {
   "cell_type": "code",
   "execution_count": 41,
   "metadata": {},
   "outputs": [
    {
     "data": {
      "text/plain": [
       "sympy.geometry.polygon.Polygon"
      ]
     },
     "execution_count": 41,
     "metadata": {},
     "output_type": "execute_result"
    }
   ],
   "source": [
    "type(cells_poly[0])"
   ]
  },
  {
   "cell_type": "code",
   "execution_count": 42,
   "metadata": {},
   "outputs": [
    {
     "name": "stdout",
     "output_type": "stream",
     "text": [
      "path found\n"
     ]
    },
    {
     "data": {
      "text/plain": [
       "[0, 2, 4, 7, 8, 9, 11, 14, 16, 17]"
      ]
     },
     "execution_count": 42,
     "metadata": {},
     "output_type": "execute_result"
    }
   ],
   "source": [
    "path = a_star(robo_cell, goal_cell, graph_connections, g_N, h_N,cells_poly)\n",
    "path"
   ]
  },
  {
   "cell_type": "markdown",
   "metadata": {},
   "source": [
    "# Trying to find an way of making the robot move"
   ]
  },
  {
   "cell_type": "code",
   "execution_count": 43,
   "metadata": {},
   "outputs": [
    {
     "name": "stdout",
     "output_type": "stream",
     "text": [
      "Point2D(0.100000500992341, 2.24999969169322)\n"
     ]
    }
   ],
   "source": [
    "segmento_encontrado = find_shared_segment(cells_poly[13], cells_poly[15])\n",
    "if segmento_encontrado != -1:\n",
    "    print(segmento_encontrado.midpoint.evalf())\n",
    "else:\n",
    "    print('no segment found')"
   ]
  },
  {
   "cell_type": "code",
   "execution_count": 45,
   "metadata": {},
   "outputs": [
    {
     "data": {
      "text/plain": [
       "[0, 2, 4, 7, 8, 9, 11, 14, 16, 17]"
      ]
     },
     "execution_count": 45,
     "metadata": {},
     "output_type": "execute_result"
    }
   ],
   "source": [
    "path"
   ]
  },
  {
   "cell_type": "code",
   "execution_count": 61,
   "metadata": {},
   "outputs": [
    {
     "name": "stdout",
     "output_type": "stream",
     "text": [
      "cell 0 centroid added in channel\n",
      "point to go = [-2.02499950064851, 0.887500227864903], between cell 0 and cell 2 added in channel\n",
      "cell 2 centroid added in channel\n",
      "no segment found between cell 2 and cell 4\n",
      "cell 4 centroid added in channel\n",
      "no segment found between cell 4 and cell 7\n",
      "cell 7 centroid added in channel\n",
      "point to go = [-1.02499950064851, 0], between cell 7 and cell 8 added in channel\n",
      "cell 8 centroid added in channel\n",
      "point to go = [-0.850000116905762, -0.750000307530566], between cell 8 and cell 9 added in channel\n",
      "cell 9 centroid added in channel\n",
      "point to go = [-0.399999499007659, -1.42499978773592], between cell 9 and cell 11 added in channel\n",
      "cell 11 centroid added in channel\n",
      "point to go = [0.100000500992341, -0.750000308306786], between cell 11 and cell 14 added in channel\n",
      "cell 14 centroid added in channel\n",
      "point to go = [0.149999883094238, 0], between cell 14 and cell 16 added in channel\n",
      "cell 16 centroid added in channel\n",
      "point to go = [0.899999974260992, -1.57499994848484], between cell 16 and cell 17 added in channel\n"
     ]
    }
   ],
   "source": [
    "points_to_go_inside_channel = []\n",
    "\n",
    "for it in range(0,len(path)-1):\n",
    "    first_cell = path[it]\n",
    "    next_cell = path[it+1]\n",
    "\n",
    "    this_cell_centroid = list(cells_poly[first_cell].centroid.evalf())\n",
    "    print(f'cell {first_cell} centroid added in channel')\n",
    "    points_to_go_inside_channel.append(this_cell_centroid)\n",
    "\n",
    "    segment = find_shared_segment(cells_poly[first_cell], cells_poly[next_cell])\n",
    "    if segment != -1:\n",
    "        point = list(segment.midpoint.evalf())\n",
    "        print(f'point to go = {point}, between cell {first_cell} and cell {next_cell} added in channel')\n",
    "        points_to_go_inside_channel.append(point)\n",
    "    else:\n",
    "        print(f'no segment found between cell {first_cell} and cell {next_cell}') \n",
    "\n",
    "this_cell_centroid = list(cells_poly[path[-1]].centroid.evalf())\n",
    "print(f'cell {path[-1]} centroid added in channel')\n",
    "points_to_go_inside_channel.append(this_cell_centroid)"
   ]
  },
  {
   "cell_type": "code",
   "execution_count": 60,
   "metadata": {},
   "outputs": [
    {
     "data": {
      "text/plain": [
       "[[-2.26249975032426, 0],\n",
       " [-2.02499950064851, 0.887500227864903],\n",
       " [-1.99999964384828, 0.887500227864903],\n",
       " [-1.72499978704806, -0.362499591606807],\n",
       " [-1.24999964384828, 0.887500227466864],\n",
       " [-1.02499950064851, 0],\n",
       " [-0.937499808777136, 0],\n",
       " [-0.850000116905762, -0.750000307530566],\n",
       " [-0.624999807956711, -0.750000307530566],\n",
       " [-0.399999499007659, -1.42499978773592],\n",
       " [-0.149999499007659, -1.42499978773592],\n",
       " [0.100000500992341, -0.750000308306786],\n",
       " [0.125000192043289, -0.750000308306786],\n",
       " [0.149999883094238, 0],\n",
       " [0.524999928677615, 0],\n",
       " [0.899999974260992, -1.57499994848484]]"
      ]
     },
     "execution_count": 60,
     "metadata": {},
     "output_type": "execute_result"
    }
   ],
   "source": [
    "points_to_go_inside_channel"
   ]
  }
 ],
 "metadata": {
  "kernelspec": {
   "display_name": "Python 3",
   "language": "python",
   "name": "python3"
  },
  "language_info": {
   "codemirror_mode": {
    "name": "ipython",
    "version": 3
   },
   "file_extension": ".py",
   "mimetype": "text/x-python",
   "name": "python",
   "nbconvert_exporter": "python",
   "pygments_lexer": "ipython3",
   "version": "3.8.5"
  },
  "vscode": {
   "interpreter": {
    "hash": "06cb3b751f7e15a6f30ad54cb36c69467f5ed7dd559b12f0f90598c0f8af61e8"
   }
  }
 },
 "nbformat": 4,
 "nbformat_minor": 4
}
