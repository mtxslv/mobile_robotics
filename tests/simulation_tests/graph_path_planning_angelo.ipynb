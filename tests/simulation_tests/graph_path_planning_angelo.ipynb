{
 "cells": [
  {
   "cell_type": "code",
   "execution_count": 1,
   "metadata": {},
   "outputs": [],
   "source": [
    "file_name = \"graph_path_planning.ipynb\"\n",
    "import sys\n",
    "import os\n",
    "sys.path.insert(0, os.path.abspath(\n",
    "    os.path.join(os.path.dirname(file_name), '../../src/') ))\n",
    "\n",
    "from configuration_space_mapping import *\n",
    "from utils import *\n",
    "from a_star import a_star\n",
    "from graph import *\n",
    "from segment_operations import is_there_shared_point, find_shared_segment\n",
    "\n",
    "import matplotlib.pyplot as plt\n",
    "from matplotlib.collections import PatchCollection\n",
    "from matplotlib.patches import Polygon as PlottablePoly\n",
    "from sympy import Polygon, Line, Point\n",
    "import numpy as np"
   ]
  },
  {
   "cell_type": "code",
   "execution_count": 2,
   "metadata": {},
   "outputs": [
    {
     "name": "stdout",
     "output_type": "stream",
     "text": [
      "Connected to remote API server\n",
      "Number of objects in the scene:  43\n"
     ]
    }
   ],
   "source": [
    "client_id = connect_2_sim()\n",
    "test_connection(client_id)"
   ]
  },
  {
   "cell_type": "code",
   "execution_count": 3,
   "metadata": {},
   "outputs": [],
   "source": [
    "scene_objects = ['Cuboid_0','Cuboid_1','Cuboid_2',\n",
    "                 'Cuboid_3','Cuboid_4']\n",
    "robot_name = './dr20'\n"
   ]
  },
  {
   "cell_type": "code",
   "execution_count": 4,
   "metadata": {},
   "outputs": [
    {
     "data": {
      "image/png": "[encoded data removed]",
      "text/plain": [
       "<Figure size 432x432 with 1 Axes>"
      ]
     },
     "metadata": {
      "needs_background": "light"
     },
     "output_type": "display_data"
    }
   ],
   "source": [
    "fig, ax = plt.subplots(figsize=(6,6))\n",
    "\n",
    "obj_points_list = []\n",
    "obj_plot_polys = []\n",
    "for obj in scene_objects:\n",
    "    \n",
    "    errorCode, objHandl = sim.simxGetObjectHandle(client_id, obj, sim.simx_opmode_blocking)\n",
    "    error_pos, objPos = sim.simxGetObjectPosition(client_id, objHandl, -1, sim.simx_opmode_blocking)\n",
    "    error_ang, objAng = sim.simxGetObjectOrientation(client_id, objHandl, -1, sim.simx_opmode_blocking)\n",
    "    \n",
    "    objAng = list(reversed(objAng))\n",
    "    \n",
    "    points_local = get_bounding_box_corners_local_coordinates(client_id, objHandl)\n",
    "     \n",
    "    points_global = map_local_coordinates_to_global_coordinates(points_local, objAng, objPos)\n",
    "    \n",
    "    points_poly = [p[:2] for p in points_global]\n",
    "\n",
    "    poly = np.array(points_poly)\n",
    "    p = PlottablePoly(poly, facecolor = 'k')\n",
    "    obj_plot_polys.append(p)\n",
    "    obj_points_list.append(points_poly)\n",
    "\n",
    "obj_points_list = np.array(obj_points_list)\n",
    "\n",
    "p = PatchCollection(obj_plot_polys, color='k')\n",
    "\n",
    "ax.add_collection(p)\n",
    "\n",
    "ax.set_xlim([-2.5,2.5])\n",
    "ax.set_ylim([-2.5,2.5])\n",
    "plt.show()\n",
    "plt.close(fig)"
   ]
  },
  {
   "cell_type": "code",
   "execution_count": 5,
   "metadata": {},
   "outputs": [
    {
     "data": {
      "text/plain": [
       "array([-2.0249995 , -1.97499979, -1.47499979, -1.0249995 , -0.85000012,\n",
       "       -0.3999995 ,  0.1000005 ,  0.14999988,  0.89999997,  1.89999997])"
      ]
     },
     "execution_count": 5,
     "metadata": {},
     "output_type": "execute_result"
    }
   ],
   "source": [
    "line_x_coords = np.sort(obj_points_list[:,:,0].flatten())\n",
    "line_x_coords = np.array([line_x_coords[i] for i in range(0,len(line_x_coords), 2)])\n",
    "line_x_coords"
   ]
  },
  {
   "cell_type": "code",
   "execution_count": 6,
   "metadata": {
    "scrolled": true,
    "tags": []
   },
   "outputs": [
    {
     "name": "stdout",
     "output_type": "stream",
     "text": [
      "testing line 1\n",
      "\ttesting poly 0\n",
      "\t []\n",
      "\ttesting poly 1\n",
      "\t []\n",
      "\ttesting poly 2\n",
      "\t [Point2D(-2.02499950075732, -1.72499953880305)]\n",
      "\ttesting poly 3\n",
      "\t []\n",
      "\ttesting poly 4\n",
      "\t []\n",
      "testing line 2\n",
      "\ttesting poly 0\n",
      "\t [Point2D(-1.97499978701219, 0.500000361188073)]\n",
      "\ttesting poly 1\n",
      "\t []\n",
      "\ttesting poly 2\n",
      "\t [Point2D(-1.97499978701219, -1.72499953914350), Point2D(-1.97499978701219, -0.724999539143498)]\n",
      "\ttesting poly 3\n",
      "\t []\n",
      "\ttesting poly 4\n",
      "\t []\n",
      "testing line 3\n",
      "\ttesting poly 0\n",
      "\t [Point2D(-1.47499978701219, 3.64930070856112e-7), Point2D(-1.47499978701219, 0.500000364930071)]\n",
      "\ttesting poly 1\n",
      "\t []\n",
      "\ttesting poly 2\n",
      "\t [Point2D(-1.47499978701219, -1.72499954254801), Point2D(-1.47499978701219, -0.724999542548015)]\n",
      "\ttesting poly 3\n",
      "\t []\n",
      "\ttesting poly 4\n",
      "\t []\n",
      "testing line 4\n",
      "\ttesting poly 0\n",
      "\t []\n",
      "\ttesting poly 1\n",
      "\t []\n",
      "\ttesting poly 2\n",
      "\t [Point2D(-1.02499950075732, -1.72499954561208), Point2D(-1.02499950075732, -0.724999545612083)]\n",
      "\ttesting poly 3\n",
      "\t []\n",
      "\ttesting poly 4\n",
      "\t []\n",
      "testing line 5\n",
      "\ttesting poly 0\n",
      "\t []\n",
      "\ttesting poly 1\n",
      "\t [Point2D(-0.850000118019009, 0.999999401074545)]\n",
      "\ttesting poly 2\n",
      "\t []\n",
      "\ttesting poly 3\n",
      "\t []\n",
      "\ttesting poly 4\n",
      "\t []\n",
      "testing line 6\n",
      "\ttesting poly 0\n",
      "\t []\n",
      "\ttesting poly 1\n",
      "\t [Point2D(-0.399999502791271, 0.999999396106158), Point2D(-0.399999502791271, 1.99999939610616)]\n",
      "\ttesting poly 2\n",
      "\t []\n",
      "\ttesting poly 3\n",
      "\t [Point2D(-0.399999502791271, 0.150000376270897)]\n",
      "\ttesting poly 4\n",
      "\t []\n",
      "testing line 7\n",
      "\ttesting poly 0\n",
      "\t []\n",
      "\ttesting poly 1\n",
      "\t [Point2D(0.100000497208729, 0.999999390585735), Point2D(0.100000497208729, 1.99999939058574)]\n",
      "\ttesting poly 2\n",
      "\t []\n",
      "\ttesting poly 3\n",
      "\t [Point2D(0.100000497208729, -0.349999621636757), Point2D(0.100000497208729, 0.150000378363243)]\n",
      "\ttesting poly 4\n",
      "\t []\n",
      "testing line 8\n",
      "\ttesting poly 0\n",
      "\t []\n",
      "\ttesting poly 1\n",
      "\t [Point2D(0.149999881980991, 0.999999390033699), Point2D(0.149999881980991, 1.99999939003370)]\n",
      "\ttesting poly 2\n",
      "\t []\n",
      "\ttesting poly 3\n",
      "\t []\n",
      "\ttesting poly 4\n",
      "\t []\n",
      "testing line 9\n",
      "\ttesting poly 0\n",
      "\t []\n",
      "\ttesting poly 1\n",
      "\t []\n",
      "\ttesting poly 2\n",
      "\t []\n",
      "\ttesting poly 3\n",
      "\t []\n",
      "\ttesting poly 4\n",
      "\t [Point2D(0.899999970683028, 0.350000130628568)]\n",
      "testing line 10\n",
      "\ttesting poly 0\n",
      "\t []\n",
      "\ttesting poly 1\n",
      "\t []\n",
      "\ttesting poly 2\n",
      "\t []\n",
      "\ttesting poly 3\n",
      "\t []\n",
      "\ttesting poly 4\n",
      "\t [Point2D(1.89999997068303, -0.649999857338808), Point2D(1.89999997068303, 0.350000142661190)]\n"
     ]
    }
   ],
   "source": [
    "obj_poly_list = []\n",
    "for obj_ps in obj_points_list:\n",
    "    p1, p2, p3, p4 = map(Point, obj_ps)\n",
    "    poly = Polygon(p1, p2, p3, p4)\n",
    "    obj_poly_list.append(poly)\n",
    "\n",
    "lines_list = []\n",
    "for x_coord in line_x_coords:   \n",
    "    p1, p2 = map(Point, [(x_coord,2.5), (x_coord,-2.5)])\n",
    "    line = Line(p1,p2)\n",
    "    lines_list.append(line)\n",
    "\n",
    "i = 1\n",
    "lines_intersects = []\n",
    "for line in lines_list:\n",
    "    print(f'testing line {i}')\n",
    "    j = 0\n",
    "    y_intersects = []\n",
    "    for poly in obj_poly_list:\n",
    "        print(f'\\ttesting poly {j}')\n",
    "        intersects = poly.intersection(line)\n",
    "        try:\n",
    "            points = [p.evalf() for p in intersects]\n",
    "        except:\n",
    "            points = [s.points[0].evalf() for s in intersects]\n",
    "        print('\\t', points)\n",
    "        if len(points) == 1:\n",
    "            pass\n",
    "            #poly_ys = [p.evalf()[1] for p in poly.vertices] #to float\n",
    "            #max_y = max(poly_ys)\n",
    "            #min_y = min(poly_ys)\n",
    "            #y_intersects.append(max_y)\n",
    "            #y_intersects.append(min_y)\n",
    "        else:\n",
    "            for p in points:\n",
    "                y_intersects.append(p[1])\n",
    "        j += 1\n",
    "    lines_intersects.append(y_intersects)\n",
    "    i += 1"
   ]
  },
  {
   "cell_type": "code",
   "execution_count": 7,
   "metadata": {
    "tags": []
   },
   "outputs": [
    {
     "data": {
      "image/png": "[encoded data removed]",
      "text/plain": [
       "<Figure size 432x432 with 1 Axes>"
      ]
     },
     "metadata": {
      "needs_background": "light"
     },
     "output_type": "display_data"
    }
   ],
   "source": [
    "lines_intersects = [sorted(i) for i in lines_intersects]\n",
    "\n",
    "fig, ax = plt.subplots(figsize=(6,6))\n",
    "\n",
    "p = PatchCollection(obj_plot_polys, color='k')\n",
    "\n",
    "ax.add_collection(p)\n",
    "\n",
    "ax.set_xlim([-2.5,2.5])\n",
    "ax.set_ylim([-2.5,2.5])\n",
    "\n",
    "for x, ys in zip(line_x_coords, lines_intersects):\n",
    "    y_min = -2.5\n",
    "    for i in range(0, len(ys)-1, 2):\n",
    "        plt.vlines(x, y_min, float(ys[i]))\n",
    "        y_min = float(ys[i+1])\n",
    "    plt.vlines(x, y_min, 2.5)\n",
    "\n",
    "plt.show()"
   ]
  },
  {
   "cell_type": "code",
   "execution_count": 8,
   "metadata": {},
   "outputs": [
    {
     "data": {
      "text/plain": [
       "[[],\n",
       " [-1.72499953914350, -0.724999539143498],\n",
       " [-1.72499954254801,\n",
       "  -0.724999542548015,\n",
       "  3.64930070856112e-7,\n",
       "  0.500000364930071],\n",
       " [-1.72499954561208, -0.724999545612083],\n",
       " [],\n",
       " [0.999999396106158, 1.99999939610616],\n",
       " [-0.349999621636757, 0.150000378363243, 0.999999390585735, 1.99999939058574],\n",
       " [0.999999390033699, 1.99999939003370],\n",
       " [],\n",
       " [-0.649999857338808, 0.350000142661190]]"
      ]
     },
     "execution_count": 8,
     "metadata": {},
     "output_type": "execute_result"
    }
   ],
   "source": [
    "lines_intersects"
   ]
  },
  {
   "cell_type": "code",
   "execution_count": 9,
   "metadata": {},
   "outputs": [
    {
     "data": {
      "image/png": "[encoded data removed]",
      "text/plain": [
       "<Figure size 432x432 with 1 Axes>"
      ]
     },
     "metadata": {
      "needs_background": "light"
     },
     "output_type": "display_data"
    }
   ],
   "source": [
    "cells_points = []\n",
    "prev_x = -2.5\n",
    "for x, ys in zip(line_x_coords, lines_intersects):\n",
    "    x_min, x_max = prev_x, x\n",
    "    y_min, y_max = -2.5, 2.5\n",
    "    \n",
    "    if len(ys) > 0:\n",
    "        for i in range(0, len(ys)-1, 2):\n",
    "            y_max = ys[i]\n",
    "            cell = [[x_max, y_max], [x_min, y_max], [x_min, y_min], [x_max, y_min]]\n",
    "            cells_points.append(np.array(cell))\n",
    "            y_min = ys[i+1]\n",
    "            y_max = 2.5\n",
    "        cell = [[x_max, y_max], [x_min, y_max], [x_min, y_min], [x_max, y_min]]\n",
    "        cells_points.append(np.array(cell))\n",
    "    else:\n",
    "        cell = [[x_max, y_max], [x_min, y_max], [x_min, y_min], [x_max, y_min]]\n",
    "        cells_points.append(np.array(cell))\n",
    "    prev_x = x\n",
    "\n",
    "x_min, x_max = x, 2.5\n",
    "y_min, y_max = -2.5, 2.5\n",
    "cell = [[x_max, y_max], [x_min, y_max], [x_min, y_min], [x_max, y_min]]\n",
    "cells_points.append(np.array(cell))\n",
    "\n",
    "\n",
    "cells_plottable = []\n",
    "for cell in cells_points:\n",
    "    p = PlottablePoly(cell, facecolor = 'k')\n",
    "    cells_plottable.append(p)\n",
    "\n",
    "import matplotlib.colors\n",
    "colors = values = np.array([i%5 for i in range(len(cells_plottable))])\n",
    "cmap = matplotlib.colors.ListedColormap(['r', 'g', 'b', 'y', 'k'])\n",
    "p = PatchCollection(cells_plottable, cmap=cmap, alpha=0.9)\n",
    "p.set_array(colors)\n",
    "\n",
    "fig, ax = plt.subplots(figsize=(6,6))\n",
    "ax.add_collection(p)\n",
    "\n",
    "ax.set_xlim([-2.5,2.5])\n",
    "ax.set_ylim([-2.5,2.5])\n",
    "plt.show()\n",
    "plt.close(fig)"
   ]
  },
  {
   "cell_type": "code",
   "execution_count": 10,
   "metadata": {},
   "outputs": [
    {
     "data": {
      "image/png": "[encoded data removed]",
      "text/plain": [
       "<Figure size 432x432 with 1 Axes>"
      ]
     },
     "metadata": {
      "needs_background": "light"
     },
     "output_type": "display_data"
    }
   ],
   "source": [
    "fig, ax = plt.subplots(figsize=(6,6))\n",
    "p = PatchCollection(cells_plottable, alpha=0.4, color='b')\n",
    "\n",
    "errorCode, roboHandl = sim.simxGetObjectHandle(client_id, robot_name, sim.simx_opmode_blocking)\n",
    "error_pos, roboPos = sim.simxGetObjectPosition(client_id, roboHandl, -1, sim.simx_opmode_blocking)\n",
    "errorCode, goalHandl = sim.simxGetObjectHandle(client_id, './Goal', sim.simx_opmode_blocking)\n",
    "error_pos, goalPos = sim.simxGetObjectPosition(client_id, goalHandl, -1, sim.simx_opmode_blocking)\n",
    "\n",
    "ax.add_collection(p)\n",
    "plt.scatter(roboPos[0], roboPos[1], color='k')\n",
    "plt.scatter(goalPos[0], goalPos[1], color='r')\n",
    "\n",
    "ax.set_xlim([-2.5,2.5])\n",
    "ax.set_ylim([-2.5,2.5])\n",
    "plt.show()\n",
    "plt.close(fig)"
   ]
  },
  {
   "cell_type": "code",
   "execution_count": 11,
   "metadata": {},
   "outputs": [],
   "source": [
    "def square_from_array(obj_points):\n",
    "    p1, p2, p3, p4 = map(Point, obj_points)\n",
    "    poly = Polygon(p1, p2, p3, p4)\n",
    "    return poly\n",
    "\n",
    "cells_poly = []\n",
    "for cell in cells_points:\n",
    "    p = square_from_array(cell)\n",
    "    cells_poly.append(p)"
   ]
  },
  {
   "cell_type": "code",
   "execution_count": 12,
   "metadata": {},
   "outputs": [
    {
     "data": {
      "text/plain": [
       "(0, 17)"
      ]
     },
     "execution_count": 12,
     "metadata": {},
     "output_type": "execute_result"
    }
   ],
   "source": [
    "#get robot and goal cell\n",
    "robo_point = Point(roboPos[:2])\n",
    "goal_point = Point(goalPos[:2])\n",
    "\n",
    "robo_cell = -1\n",
    "goal_cell = -1\n",
    "for i, cell in zip(range(len(cells_poly)), cells_poly):\n",
    "    if cell.encloses_point(goal_point):\n",
    "        goal_cell = i\n",
    "    elif cell.encloses_point(robo_point):\n",
    "        robo_cell = i\n",
    "                   \n",
    "robo_cell, goal_cell"
   ]
  },
  {
   "cell_type": "code",
   "execution_count": 13,
   "metadata": {},
   "outputs": [
    {
     "name": "stdout",
     "output_type": "stream",
     "text": [
      "initiating graph\n"
     ]
    },
    {
     "name": "stderr",
     "output_type": "stream",
     "text": [
      "/home/pudimi/anaconda3/lib/python3.8/site-packages/sympy/geometry/polygon.py:1136: UserWarning: Polygons may intersect producing erroneous output\n",
      "  warnings.warn(\"Polygons may intersect producing erroneous output\")\n"
     ]
    },
    {
     "data": {
      "text/plain": [
       "[('0', '1'),\n",
       " ('0', '2'),\n",
       " ('1', '3'),\n",
       " ('2', '4'),\n",
       " ('2', '5'),\n",
       " ('3', '6'),\n",
       " ('4', '7'),\n",
       " ('5', '7'),\n",
       " ('6', '8'),\n",
       " ('7', '8'),\n",
       " ('8', '9'),\n",
       " ('8', '10'),\n",
       " ('9', '11'),\n",
       " ('9', '12'),\n",
       " ('10', '13'),\n",
       " ('11', '14'),\n",
       " ('12', '14'),\n",
       " ('13', '15'),\n",
       " ('14', '16'),\n",
       " ('15', '16'),\n",
       " ('16', '17'),\n",
       " ('16', '18'),\n",
       " ('17', '19'),\n",
       " ('18', '19')]"
      ]
     },
     "execution_count": 13,
     "metadata": {},
     "output_type": "execute_result"
    }
   ],
   "source": [
    "connections = []\n",
    "print('initiating graph')\n",
    "for i in range(len(cells_poly)):\n",
    "    #print(f'testing cell {i}:')\n",
    "    for j in range(i, len(cells_poly)):\n",
    "        distance = cells_poly[i].distance(cells_poly[j]).evalf()\n",
    "        if distance < 0.000001:\n",
    "            connections.append((f'{i}', f'{j}'))\n",
    "            #print(f'\\t neighbour to {j}')\n",
    "connections"
   ]
  },
  {
   "cell_type": "code",
   "execution_count": 14,
   "metadata": {},
   "outputs": [],
   "source": [
    "errorCode, roboHandl = sim.simxGetObjectHandle(client_id, robot_name, sim.simx_opmode_blocking)\n",
    "error_pos, roboPos = sim.simxGetObjectPosition(client_id, roboHandl, -1, sim.simx_opmode_blocking)\n",
    "errorCode, goalHandl = sim.simxGetObjectHandle(client_id, './Goal', sim.simx_opmode_blocking)\n",
    "error_pos, goalPos = sim.simxGetObjectPosition(client_id, goalHandl, -1, sim.simx_opmode_blocking)"
   ]
  },
  {
   "cell_type": "code",
   "execution_count": 15,
   "metadata": {},
   "outputs": [
    {
     "data": {
      "image/png": "[encoded data removed]",
      "text/plain": [
       "<Figure size 432x432 with 1 Axes>"
      ]
     },
     "metadata": {
      "needs_background": "light"
     },
     "output_type": "display_data"
    }
   ],
   "source": [
    "fig, ax = plt.subplots(figsize=(6,6))\n",
    "\n",
    "p = PatchCollection(cells_plottable, alpha=0.4, color='b')\n",
    "ax.add_collection(p)\n",
    "\n",
    "plt.scatter(roboPos[0], roboPos[1], color='k')\n",
    "plt.scatter(goalPos[0], goalPos[1], color='r')\n",
    "\n",
    "i=0\n",
    "for cell in cells_poly:\n",
    "    centr = cell.centroid.evalf()\n",
    "    plt.text(centr[0] - 0.05, centr[1], f'{i}')\n",
    "    i += 1\n",
    "\n",
    "ax.set_xlim([-2.5,2.5])\n",
    "ax.set_ylim([-2.5,2.5])\n",
    "plt.show()\n",
    "plt.close(fig)"
   ]
  },
  {
   "cell_type": "markdown",
   "metadata": {},
   "source": [
    "# A* Algorithm\n",
    "\n",
    "Ok, so far we have the connectivity graph implemented as a list of tuples (variable `connections`). From this point on the A* algorithm will be implemented"
   ]
  },
  {
   "cell_type": "markdown",
   "metadata": {},
   "source": [
    "## Graph and its Weights\n",
    "\n",
    "Here we will compute the graph as a dict of lists. It will capture the connectivity of it.\n",
    "\n",
    "We will also compute `g(N)` or the weights associated with the arcs. This is calculated as the Euclidian distance between two cells' centroids.\n",
    "\n",
    "The heuristic function `h(N)`is estimated as the Euclidian distance between the cell's centroids and the target point.\n",
    "\n",
    "This approach has two effects:\n",
    "- `g(N)` and its local effect: it will make a path out of nearby cells. That is, the A* will tend to move between closer cells \n",
    "- `h(N)` and its global effect: it will make a path out of cells closer and closer to the target. That is, the A* will pull the path closer and closer to the target."
   ]
  },
  {
   "cell_type": "code",
   "execution_count": 16,
   "metadata": {
    "collapsed": true,
    "jupyter": {
     "outputs_hidden": true,
     "source_hidden": true
    },
    "tags": []
   },
   "outputs": [
    {
     "name": "stdout",
     "output_type": "stream",
     "text": [
      "initializing graph as dict\n"
     ]
    },
    {
     "data": {
      "text/plain": [
       "{0: [1, 2],\n",
       " 1: [0, 3],\n",
       " 2: [0, 4, 5],\n",
       " 3: [1, 6],\n",
       " 4: [2, 7],\n",
       " 5: [2, 7],\n",
       " 6: [3, 8],\n",
       " 7: [4, 5, 8],\n",
       " 8: [6, 7, 9, 10],\n",
       " 9: [8, 11, 12],\n",
       " 10: [8, 13],\n",
       " 11: [9, 14],\n",
       " 12: [9, 14],\n",
       " 13: [10, 15],\n",
       " 14: [11, 12, 16],\n",
       " 15: [13, 16],\n",
       " 16: [14, 15, 17, 18],\n",
       " 17: [16, 19],\n",
       " 18: [16, 19],\n",
       " 19: [17, 18]}"
      ]
     },
     "execution_count": 16,
     "metadata": {},
     "output_type": "execute_result"
    }
   ],
   "source": [
    "graph_connections = {}\n",
    "g_N = {}\n",
    "h_N = {}\n",
    "print('initializing graph as dict')\n",
    "for i in range(len(cells_poly)):\n",
    "    if i not in graph_connections.keys():\n",
    "        graph_connections[i] = []\n",
    "    if i not in g_N.keys():\n",
    "        g_N[i] = []\n",
    "    if i not in h_N.keys():\n",
    "        h_N[i] = cells_poly[i].centroid.distance(goal_point).evalf()\n",
    "    for j in range(i, len(cells_poly)):\n",
    "        if j not in graph_connections.keys():\n",
    "            #print(f'creating key {j}')\n",
    "            graph_connections[j] = []\n",
    "        if j not in g_N.keys():\n",
    "            g_N[j] = []\n",
    "        distance = cells_poly[i].distance(cells_poly[j]).evalf()\n",
    "        cost = cells_poly[i].centroid.distance(cells_poly[j].centroid).evalf()\n",
    "        if distance < 0.000001:\n",
    "            graph_connections[i].append(j)\n",
    "            graph_connections[j].append(i)\n",
    "            g_N[i].append(cost)\n",
    "            g_N[j].append(cost)\n",
    "            #print(f'\\t neighbour to {j}')\n",
    "\n",
    "graph_connections"
   ]
  },
  {
   "cell_type": "code",
   "execution_count": 17,
   "metadata": {
    "collapsed": true,
    "jupyter": {
     "outputs_hidden": true
    },
    "tags": []
   },
   "outputs": [
    {
     "data": {
      "text/plain": [
       "{0: [2.12874648146509, 0.925506869190883],\n",
       " 1: [2.12874648146509, 0.274999856872565],\n",
       " 2: [0.925506869190883, 1.27989236632344, 0.671402347720794],\n",
       " 3: [0.274999856872565, 0.475000143127435],\n",
       " 4: [1.27989236632344, 1.33720779087562],\n",
       " 5: [0.671402347720794, 0.775100852262565],\n",
       " 6: [0.475000143127435, 2.13548857095185],\n",
       " 7: [1.33720779087562, 0.775100852262565, 0.940910622657500],\n",
       " 8: [2.13548857095185, 0.940910622657500, 0.812500278329099, 2.27159743145729],\n",
       " 9: [0.812500278329099, 0.825378476342810, 1.40756910531954],\n",
       " 10: [2.27159743145729, 0.475000307613869],\n",
       " 11: [0.825378476342810, 0.728868413151694],\n",
       " 12: [1.40756910531954, 1.35323698326466],\n",
       " 13: [0.475000307613869, 0.274999692386131],\n",
       " 14: [0.728868413151694, 1.35323698326466, 0.850000145214463],\n",
       " 15: [0.274999692386131, 2.28527863005055],\n",
       " 16: [0.850000145214463, 2.28527863005055, 1.80173523385733, 1.67219923481219],\n",
       " 17: [1.80173523385733, 1.76652902573442],\n",
       " 18: [1.67219923481219, 1.63420476891538],\n",
       " 19: [1.76652902573442, 1.63420476891538]}"
      ]
     },
     "execution_count": 17,
     "metadata": {},
     "output_type": "execute_result"
    }
   ],
   "source": [
    "g_N"
   ]
  },
  {
   "cell_type": "code",
   "execution_count": 18,
   "metadata": {
    "collapsed": true,
    "jupyter": {
     "outputs_hidden": true
    },
    "tags": []
   },
   "outputs": [
    {
     "data": {
      "text/plain": [
       "{0: 3.96990595572144,\n",
       " 1: 3.35048927373924,\n",
       " 2: 4.21316728977168,\n",
       " 3: 3.07776777602303,\n",
       " 4: 3.33037612052884,\n",
       " 5: 4.42068978911002,\n",
       " 6: 2.60783032760401,\n",
       " 7: 3.65044918281652,\n",
       " 8: 2.83000078009350,\n",
       " 9: 2.16910074582423,\n",
       " 10: 4.40511011093305,\n",
       " 11: 1.50041604942758,\n",
       " 12: 2.71131830089157,\n",
       " 13: 4.21641072575273,\n",
       " 14: 1.53052227407740,\n",
       " 15: 4.12825574027809,\n",
       " 16: 1.87882925113736,\n",
       " 17: 0.145773716698999,\n",
       " 18: 3.12589975208014,\n",
       " 19: 1.91196873693555}"
      ]
     },
     "execution_count": 18,
     "metadata": {},
     "output_type": "execute_result"
    }
   ],
   "source": [
    "h_N"
   ]
  },
  {
   "cell_type": "markdown",
   "metadata": {},
   "source": [
    "## A* Algorithm"
   ]
  },
  {
   "cell_type": "code",
   "execution_count": 19,
   "metadata": {},
   "outputs": [
    {
     "data": {
      "text/plain": [
       "(0, 17)"
      ]
     },
     "execution_count": 19,
     "metadata": {},
     "output_type": "execute_result"
    }
   ],
   "source": [
    "robo_cell, goal_cell"
   ]
  },
  {
   "cell_type": "code",
   "execution_count": 20,
   "metadata": {},
   "outputs": [
    {
     "data": {
      "text/plain": [
       "[1, 2]"
      ]
     },
     "execution_count": 20,
     "metadata": {},
     "output_type": "execute_result"
    }
   ],
   "source": [
    "graph_connections[robo_cell]"
   ]
  },
  {
   "cell_type": "code",
   "execution_count": 21,
   "metadata": {},
   "outputs": [
    {
     "data": {
      "text/latex": [
       "$\\displaystyle 3.96990595572144$"
      ],
      "text/plain": [
       "3.96990595572144"
      ]
     },
     "execution_count": 21,
     "metadata": {},
     "output_type": "execute_result"
    }
   ],
   "source": [
    "h_N[robo_cell]"
   ]
  },
  {
   "cell_type": "code",
   "execution_count": 22,
   "metadata": {},
   "outputs": [
    {
     "data": {
      "text/plain": [
       "[2.12874648146509, 0.925506869190883]"
      ]
     },
     "execution_count": 22,
     "metadata": {},
     "output_type": "execute_result"
    }
   ],
   "source": [
    "g_N[robo_cell]"
   ]
  },
  {
   "cell_type": "code",
   "execution_count": 23,
   "metadata": {},
   "outputs": [
    {
     "data": {
      "text/plain": [
       "sympy.geometry.polygon.Polygon"
      ]
     },
     "execution_count": 23,
     "metadata": {},
     "output_type": "execute_result"
    }
   ],
   "source": [
    "type(cells_poly[0])"
   ]
  },
  {
   "cell_type": "code",
   "execution_count": 79,
   "metadata": {},
   "outputs": [
    {
     "name": "stdout",
     "output_type": "stream",
     "text": [
      "path found\n"
     ]
    },
    {
     "data": {
      "text/plain": [
       "[0, 2, 5, 7, 8, 9, 11, 14, 16, 17]"
      ]
     },
     "execution_count": 79,
     "metadata": {},
     "output_type": "execute_result"
    }
   ],
   "source": [
    "path = a_star(robo_cell, goal_cell, graph_connections, g_N, h_N,cells_poly)\n",
    "path[2] = 5\n",
    "path"
   ]
  },
  {
   "cell_type": "markdown",
   "metadata": {},
   "source": [
    "# Trying to find an way of making the robot move"
   ]
  },
  {
   "cell_type": "code",
   "execution_count": 25,
   "metadata": {},
   "outputs": [
    {
     "name": "stdout",
     "output_type": "stream",
     "text": [
      "Point2D(0.100000497208729, 2.24999969501685)\n"
     ]
    }
   ],
   "source": [
    "segmento_encontrado = find_shared_segment(cells_poly[13], cells_poly[15])\n",
    "if segmento_encontrado != -1:\n",
    "    print(segmento_encontrado.midpoint.evalf())\n",
    "else:\n",
    "    print('no segment found')"
   ]
  },
  {
   "cell_type": "code",
   "execution_count": 26,
   "metadata": {},
   "outputs": [
    {
     "data": {
      "text/plain": [
       "[0, 2, 4, 7, 8, 9, 11, 14, 16, 17]"
      ]
     },
     "execution_count": 26,
     "metadata": {},
     "output_type": "execute_result"
    }
   ],
   "source": [
    "path"
   ]
  },
  {
   "cell_type": "code",
   "execution_count": 30,
   "metadata": {},
   "outputs": [
    {
     "data": {
      "text/plain": [
       "[-2.199040651321411, 1.7671772241592407, 0.15101270377635956]"
      ]
     },
     "execution_count": 30,
     "metadata": {},
     "output_type": "execute_result"
    }
   ],
   "source": [
    "roboPos"
   ]
  },
  {
   "cell_type": "code",
   "execution_count": 51,
   "metadata": {},
   "outputs": [
    {
     "data": {
      "text/latex": [
       "$\\displaystyle Point2D\\left(-1.19904065132141, 1.76717722415924\\right)$"
      ],
      "text/plain": [
       "Point2D(-1.19904065132141, 1.76717722415924)"
      ]
     },
     "execution_count": 51,
     "metadata": {},
     "output_type": "execute_result"
    }
   ],
   "source": [
    "()"
   ]
  },
  {
   "cell_type": "code",
   "execution_count": 93,
   "metadata": {},
   "outputs": [],
   "source": [
    "point = Point(roboPos[0], roboPos[1])\n",
    "points_to_go = []\n",
    "\n",
    "for i in path[1:]:\n",
    "    point_center = cells_poly[i].centroid\n",
    "    line = Line(point, point_center)\n",
    "    cell_intersect = cells_poly[i].intersect(line)\n",
    "    point = cell_intersect.args[0].evalf()\n",
    "    \n",
    "    points_to_go.append([point[0], point[1]])\n",
    "    \n",
    "points_to_go.append([goalPos[0], goalPos[1]])"
   ]
  },
  {
   "cell_type": "code",
   "execution_count": 94,
   "metadata": {},
   "outputs": [
    {
     "data": {
      "text/plain": [
       "[[-2.02499950075732, 0.997989014727446],\n",
       " [-1.97499978701219, 1.08165714350794],\n",
       " [-1.47499978701219, 0.947755848346502],\n",
       " [-1.02499950075732, 0.154285298001702],\n",
       " [-0.850000118019009, -0.241338562783844],\n",
       " [-0.399999502791271, -1.00226402234716],\n",
       " [0.100000497208729, -0.762012722182138],\n",
       " [0.149999881980991, -0.672365149298713],\n",
       " [0.899999970683028, -1.21394604254210],\n",
       " [1.3249999284744263, -1.6999998092651367]]"
      ]
     },
     "execution_count": 94,
     "metadata": {},
     "output_type": "execute_result"
    }
   ],
   "source": [
    "points_to_go"
   ]
  },
  {
   "cell_type": "code",
   "execution_count": 86,
   "metadata": {},
   "outputs": [
    {
     "data": {
      "image/svg+xml": [
       "<svg xmlns=\"http://www.w3.org/2000/svg\"\n",
       "            xmlns:xlink=\"http://www.w3.org/1999/xlink\"\n",
       "            width=\"100.0\" height=\"100.0\" viewBox=\"-2.34749945467167 -1.04749949305785 0.694999621573829 3.86999944697220\"\n",
       "            preserveAspectRatio=\"xMinYMin meet\">\n",
       "            <defs>\n",
       "                <marker id=\"markerCircle\" markerWidth=\"8\" markerHeight=\"8\"\n",
       "                    refx=\"5\" refy=\"5\" markerUnits=\"strokeWidth\">\n",
       "                    <circle cx=\"5\" cy=\"5\" r=\"1.5\" style=\"stroke: none; fill:#000000;\"/>\n",
       "                </marker>\n",
       "                <marker id=\"markerArrow\" markerWidth=\"13\" markerHeight=\"13\" refx=\"2\" refy=\"4\"\n",
       "                       orient=\"auto\" markerUnits=\"strokeWidth\">\n",
       "                    <path d=\"M2,2 L2,6 L6,4\" style=\"fill: #000000;\" />\n",
       "                </marker>\n",
       "                <marker id=\"markerReverseArrow\" markerWidth=\"13\" markerHeight=\"13\" refx=\"6\" refy=\"4\"\n",
       "                       orient=\"auto\" markerUnits=\"strokeWidth\">\n",
       "                    <path d=\"M6,2 L6,6 L2,4\" style=\"fill: #000000;\" />\n",
       "                </marker>\n",
       "            </defs><g transform=\"matrix(1,0,0,-1,0,1.77500046085650)\"><path fill-rule=\"evenodd\" fill=\"#66cc99\" stroke=\"#555555\" stroke-width=\"0.0773999889394440\" opacity=\"0.6\" d=\"M -1.97499978701219,2.50000000000000 L -2.02499950075732,2.50000000000000 L -2.02499950075732,-0.724999539143498 L -1.97499978701219,-0.724999539143498 z\" /></g></svg>"
      ],
      "text/latex": [
       "$\\displaystyle Polygon\\left(Point2D\\left(- \\frac{197499978701219}{100000000000000}, \\frac{5}{2}\\right), Point2D\\left(- \\frac{50624987518933}{25000000000000}, \\frac{5}{2}\\right), Point2D\\left(- \\frac{50624987518933}{25000000000000}, - \\frac{362499769571749}{500000000000000}\\right), Point2D\\left(- \\frac{197499978701219}{100000000000000}, - \\frac{362499769571749}{500000000000000}\\right)\\right)$"
      ],
      "text/plain": [
       "Polygon(Point2D(-197499978701219/100000000000000, 5/2), Point2D(-50624987518933/25000000000000, 5/2), Point2D(-50624987518933/25000000000000, -362499769571749/500000000000000), Point2D(-197499978701219/100000000000000, -362499769571749/500000000000000))"
      ]
     },
     "execution_count": 86,
     "metadata": {},
     "output_type": "execute_result"
    }
   ],
   "source": [
    "cells_poly[2]"
   ]
  },
  {
   "cell_type": "code",
   "execution_count": null,
   "metadata": {},
   "outputs": [],
   "source": []
  }
 ],
 "metadata": {
  "kernelspec": {
   "display_name": "Python 3",
   "language": "python",
   "name": "python3"
  },
  "language_info": {
   "codemirror_mode": {
    "name": "ipython",
    "version": 3
   },
   "file_extension": ".py",
   "mimetype": "text/x-python",
   "name": "python",
   "nbconvert_exporter": "python",
   "pygments_lexer": "ipython3",
   "version": "3.8.5"
  },
  "vscode": {
   "interpreter": {
    "hash": "06cb3b751f7e15a6f30ad54cb36c69467f5ed7dd559b12f0f90598c0f8af61e8"
   }
  }
 },
 "nbformat": 4,
 "nbformat_minor": 4
}
